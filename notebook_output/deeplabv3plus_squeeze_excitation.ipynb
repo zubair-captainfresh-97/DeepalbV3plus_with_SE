{
 "cells": [
  {
   "cell_type": "code",
   "execution_count": 1,
   "id": "3600adbf",
   "metadata": {
    "execution": {
     "iopub.execute_input": "2023-03-26T15:33:36.260464Z",
     "iopub.status.busy": "2023-03-26T15:33:36.260134Z",
     "iopub.status.idle": "2023-03-26T15:33:39.177900Z",
     "shell.execute_reply": "2023-03-26T15:33:39.176980Z"
    },
    "papermill": {
     "duration": 2.927315,
     "end_time": "2023-03-26T15:33:39.179880",
     "exception": false,
     "start_time": "2023-03-26T15:33:36.252565",
     "status": "completed"
    },
    "tags": []
   },
   "outputs": [],
   "source": [
    "import os\n",
    "import numpy as np\n",
    "import glob\n",
    "from skimage.io import imread,imsave\n",
    "import numpy as np\n",
    "from matplotlib import pyplot as plt\n",
    "import tensorflow as tf\n",
    "import random\n",
    "import tqdm\n",
    "import keras\n",
    "from tqdm.notebook import tqdm_notebook\n",
    "import yaml\n",
    "from functools import partial\n",
    "from dvclive.keras import DVCLiveCallback\n",
    "from loss import tversky_loss, focal_tversky,sdice_loss, dice_loss,log_cosh_dice_loss\n",
    "from keras.callbacks import ModelCheckpoint, EarlyStopping, CSVLogger,LearningRateScheduler,TensorBoard\n",
    "from tensorflow import keras\n",
    "from tensorflow.keras.layers import AveragePooling2D, Conv2DTranspose, Concatenate, Input, GlobalAveragePooling2D, Dense, Multiply\n",
    "from keras.applications.resnet import ResNet50\n",
    "from tensorflow.keras.models import Model\n",
    "from tensorflow.keras.layers import Conv2D, BatchNormalization, Activation, UpSampling2D\n",
    "from clr_callback import *"
   ]
  },
  {
   "cell_type": "code",
   "execution_count": 2,
   "id": "9a4c60e1",
   "metadata": {
    "execution": {
     "iopub.execute_input": "2023-03-26T15:33:39.192629Z",
     "iopub.status.busy": "2023-03-26T15:33:39.192355Z",
     "iopub.status.idle": "2023-03-26T15:33:39.414566Z",
     "shell.execute_reply": "2023-03-26T15:33:39.413849Z"
    },
    "papermill": {
     "duration": 0.230174,
     "end_time": "2023-03-26T15:33:39.416104",
     "exception": false,
     "start_time": "2023-03-26T15:33:39.185930",
     "status": "completed"
    },
    "tags": []
   },
   "outputs": [],
   "source": [
    "tf.config.list_physical_devices('GPU')\n",
    "params = yaml.safe_load(open(\"params.yaml\"))['model_params']"
   ]
  },
  {
   "cell_type": "code",
   "execution_count": 3,
   "id": "6cbc137b",
   "metadata": {
    "execution": {
     "iopub.execute_input": "2023-03-26T15:33:39.429454Z",
     "iopub.status.busy": "2023-03-26T15:33:39.429188Z",
     "iopub.status.idle": "2023-03-26T15:33:39.432771Z",
     "shell.execute_reply": "2023-03-26T15:33:39.432160Z"
    },
    "id": "71DORHQ1C-sX",
    "papermill": {
     "duration": 0.012315,
     "end_time": "2023-03-26T15:33:39.434268",
     "exception": false,
     "start_time": "2023-03-26T15:33:39.421953",
     "status": "completed"
    },
    "tags": []
   },
   "outputs": [],
   "source": [
    "# Specify the size of patches and number of classes expected by the model.\n",
    "image_size = params['Image_patch_size']\n",
    "mask_size = params['Mask_patch_size']\n",
    "num_class = params['Number_of_classes']\n",
    "lr = params['Learning_rate']\n",
    "batchsize = params['Batch_size']\n",
    "optimizer = params['Optimizer']\n",
    "epochs = params['Epochs']"
   ]
  },
  {
   "cell_type": "code",
   "execution_count": 4,
   "id": "d82c93c4",
   "metadata": {
    "execution": {
     "iopub.execute_input": "2023-03-26T15:33:39.470941Z",
     "iopub.status.busy": "2023-03-26T15:33:39.470670Z",
     "iopub.status.idle": "2023-03-26T15:33:39.473644Z",
     "shell.execute_reply": "2023-03-26T15:33:39.473036Z"
    },
    "id": "f2DlIuBLSI2L",
    "papermill": {
     "duration": 0.035666,
     "end_time": "2023-03-26T15:33:39.475239",
     "exception": false,
     "start_time": "2023-03-26T15:33:39.439573",
     "status": "completed"
    },
    "tags": []
   },
   "outputs": [],
   "source": [
    "AUTOTUNE = tf.data.AUTOTUNE\n",
    "PATH = 'tfrecords/'\n",
    "BATCH_SIZE = batchsize"
   ]
  },
  {
   "cell_type": "code",
   "execution_count": 5,
   "id": "8507ccd6",
   "metadata": {
    "colab": {
     "base_uri": "https://localhost:8080/"
    },
    "execution": {
     "iopub.execute_input": "2023-03-26T15:33:39.486933Z",
     "iopub.status.busy": "2023-03-26T15:33:39.486676Z",
     "iopub.status.idle": "2023-03-26T15:33:39.493842Z",
     "shell.execute_reply": "2023-03-26T15:33:39.493148Z"
    },
    "id": "fKmXnf0TSPD1",
    "outputId": "a3f2429d-899a-4f25-b123-1bd8bea35422",
    "papermill": {
     "duration": 0.014785,
     "end_time": "2023-03-26T15:33:39.495332",
     "exception": false,
     "start_time": "2023-03-26T15:33:39.480547",
     "status": "completed"
    },
    "tags": []
   },
   "outputs": [
    {
     "name": "stdout",
     "output_type": "stream",
     "text": [
      "Train TFRecord Files: 10\n",
      "Validation TFRecord Files: 5\n"
     ]
    }
   ],
   "source": [
    "FILENAMES = tf.io.gfile.glob(PATH +\"*large_images.tfrecords\")\n",
    "split_ind = int(0.7 * len(FILENAMES))\n",
    "TRAINING_FILENAMES, VALID_FILENAMES = FILENAMES[:split_ind], FILENAMES[split_ind:]\n",
    "print(\"Train TFRecord Files:\", len(TRAINING_FILENAMES))\n",
    "print(\"Validation TFRecord Files:\", len(VALID_FILENAMES))"
   ]
  },
  {
   "cell_type": "code",
   "execution_count": 6,
   "id": "c823fc45",
   "metadata": {
    "execution": {
     "iopub.execute_input": "2023-03-26T15:33:39.507182Z",
     "iopub.status.busy": "2023-03-26T15:33:39.506925Z",
     "iopub.status.idle": "2023-03-26T15:33:39.511229Z",
     "shell.execute_reply": "2023-03-26T15:33:39.510578Z"
    },
    "id": "_JTcORzKSups",
    "papermill": {
     "duration": 0.011926,
     "end_time": "2023-03-26T15:33:39.512709",
     "exception": false,
     "start_time": "2023-03-26T15:33:39.500783",
     "status": "completed"
    },
    "tags": []
   },
   "outputs": [],
   "source": [
    "def read_tfrecord(example):\n",
    "    tfrecord_format = (\n",
    "        {\n",
    "         \"image\":tf.io.FixedLenFeature(shape=[*image_size], dtype=tf.float32),\n",
    "         \"mask\":tf.io.FixedLenFeature(shape=[*mask_size], dtype=tf.float32)\n",
    "        }\n",
    "    )\n",
    "    example = tf.io.parse_single_example(example, tfrecord_format)\n",
    "    image = example[\"image\"]\n",
    "    mask = example[\"mask\"]\n",
    "    mask = tf.one_hot(tf.cast(mask, tf.uint8), 2)\n",
    "    return image,mask"
   ]
  },
  {
   "cell_type": "code",
   "execution_count": 7,
   "id": "9cbce13d",
   "metadata": {
    "execution": {
     "iopub.execute_input": "2023-03-26T15:33:39.524688Z",
     "iopub.status.busy": "2023-03-26T15:33:39.524428Z",
     "iopub.status.idle": "2023-03-26T15:33:39.528211Z",
     "shell.execute_reply": "2023-03-26T15:33:39.527534Z"
    },
    "id": "gTmCexY_SymR",
    "papermill": {
     "duration": 0.011446,
     "end_time": "2023-03-26T15:33:39.529647",
     "exception": false,
     "start_time": "2023-03-26T15:33:39.518201",
     "status": "completed"
    },
    "tags": []
   },
   "outputs": [],
   "source": [
    "def load_dataset(filenames):\n",
    "    ignore_order = tf.data.Options()\n",
    "    ignore_order.experimental_deterministic = False  # disable order, increase speed\n",
    "    dataset = tf.data.TFRecordDataset(\n",
    "        filenames\n",
    "    )  # automatically interleaves reads from multiple files\n",
    "    dataset = dataset.with_options(\n",
    "        ignore_order\n",
    "    )  # uses data as soon as it streams in, rather than in its original order\n",
    "    dataset = dataset.map(\n",
    "        partial(read_tfrecord), num_parallel_calls=AUTOTUNE\n",
    "    )\n",
    "    # returns a dataset of (image, label) pairs if labeled=True or just images if labeled=False\n",
    "    return dataset"
   ]
  },
  {
   "cell_type": "code",
   "execution_count": 8,
   "id": "2d1782b6",
   "metadata": {
    "execution": {
     "iopub.execute_input": "2023-03-26T15:33:39.541835Z",
     "iopub.status.busy": "2023-03-26T15:33:39.541550Z",
     "iopub.status.idle": "2023-03-26T15:33:39.544428Z",
     "shell.execute_reply": "2023-03-26T15:33:39.543797Z"
    },
    "id": "fazLXuJG52Dh",
    "papermill": {
     "duration": 0.010531,
     "end_time": "2023-03-26T15:33:39.545932",
     "exception": false,
     "start_time": "2023-03-26T15:33:39.535401",
     "status": "completed"
    },
    "tags": []
   },
   "outputs": [],
   "source": [
    "seed=42"
   ]
  },
  {
   "cell_type": "code",
   "execution_count": 9,
   "id": "101a81a5",
   "metadata": {
    "execution": {
     "iopub.execute_input": "2023-03-26T15:33:39.558011Z",
     "iopub.status.busy": "2023-03-26T15:33:39.557717Z",
     "iopub.status.idle": "2023-03-26T15:33:39.561119Z",
     "shell.execute_reply": "2023-03-26T15:33:39.560482Z"
    },
    "id": "jVfdUWD95PyJ",
    "papermill": {
     "duration": 0.011191,
     "end_time": "2023-03-26T15:33:39.562634",
     "exception": false,
     "start_time": "2023-03-26T15:33:39.551443",
     "status": "completed"
    },
    "tags": []
   },
   "outputs": [],
   "source": [
    "def augmentation(image, mask):\n",
    "    # both use the same seed, so they'll make the same random changes\n",
    "    flip_image = tf.image.random_flip_left_right(image,seed=seed)\n",
    "    flip_mask = tf.image.random_flip_left_right(mask,seed=seed)\n",
    "    # Other transformations...\n",
    "    return flip_image, flip_mask"
   ]
  },
  {
   "cell_type": "code",
   "execution_count": 10,
   "id": "23718a0d",
   "metadata": {
    "execution": {
     "iopub.execute_input": "2023-03-26T15:33:39.574873Z",
     "iopub.status.busy": "2023-03-26T15:33:39.574618Z",
     "iopub.status.idle": "2023-03-26T15:33:39.578494Z",
     "shell.execute_reply": "2023-03-26T15:33:39.577792Z"
    },
    "papermill": {
     "duration": 0.011668,
     "end_time": "2023-03-26T15:33:39.579921",
     "exception": false,
     "start_time": "2023-03-26T15:33:39.568253",
     "status": "completed"
    },
    "tags": []
   },
   "outputs": [],
   "source": [
    "def get_dataset(filenames):\n",
    "    dataset = tf.data.Dataset.range(10)\n",
    "    dataset = load_dataset(filenames).cache().repeat()\n",
    "    # to avoid data loss error\n",
    "    dataset = dataset.apply(tf.data.experimental.ignore_errors())\n",
    "    dataset = dataset.shuffle(2048)\n",
    "    dataset = dataset.prefetch(buffer_size=AUTOTUNE)\n",
    "    dataset = dataset.batch(BATCH_SIZE)\n",
    "    return dataset"
   ]
  },
  {
   "cell_type": "code",
   "execution_count": 11,
   "id": "5decde1d",
   "metadata": {
    "execution": {
     "iopub.execute_input": "2023-03-26T15:33:39.592203Z",
     "iopub.status.busy": "2023-03-26T15:33:39.591944Z",
     "iopub.status.idle": "2023-03-26T15:33:42.794966Z",
     "shell.execute_reply": "2023-03-26T15:33:42.794216Z"
    },
    "id": "v4NbzbiYTAzq",
    "papermill": {
     "duration": 3.21098,
     "end_time": "2023-03-26T15:33:42.796564",
     "exception": false,
     "start_time": "2023-03-26T15:33:39.585584",
     "status": "completed"
    },
    "tags": []
   },
   "outputs": [],
   "source": [
    "train_dataset = get_dataset(TRAINING_FILENAMES)\n",
    "valid_dataset = get_dataset(VALID_FILENAMES)"
   ]
  },
  {
   "cell_type": "code",
   "execution_count": 12,
   "id": "32cb2b1b",
   "metadata": {
    "colab": {
     "base_uri": "https://localhost:8080/",
     "height": 1000
    },
    "execution": {
     "iopub.execute_input": "2023-03-26T15:33:42.809503Z",
     "iopub.status.busy": "2023-03-26T15:33:42.809237Z",
     "iopub.status.idle": "2023-03-26T15:33:44.291151Z",
     "shell.execute_reply": "2023-03-26T15:33:44.290428Z"
    },
    "id": "90jtcWNxUtf5",
    "outputId": "1b8ccdbb-357c-449f-b5d3-864a417caf1d",
    "papermill": {
     "duration": 1.490832,
     "end_time": "2023-03-26T15:33:44.293640",
     "exception": false,
     "start_time": "2023-03-26T15:33:42.802808",
     "status": "completed"
    },
    "tags": []
   },
   "outputs": [
    {
     "data": {
      "application/vnd.jupyter.widget-view+json": {
       "model_id": "1a71ea7d018545469b43fe33d2dcc480",
       "version_major": 2,
       "version_minor": 0
      },
      "text/plain": [
       "  0%|          | 0/3 [00:00<?, ?it/s]"
      ]
     },
     "metadata": {},
     "output_type": "display_data"
    },
    {
     "data": {
      "image/png": "[encoded data removed]",
      "text/plain": [
       "<Figure size 360x360 with 2 Axes>"
      ]
     },
     "metadata": {
      "needs_background": "light"
     },
     "output_type": "display_data"
    },
    {
     "data": {
      "image/png": "[encoded data removed]",
      "text/plain": [
       "<Figure size 360x360 with 2 Axes>"
      ]
     },
     "metadata": {
      "needs_background": "light"
     },
     "output_type": "display_data"
    },
    {
     "data": {
      "image/png": "[encoded data removed]",
      "text/plain": [
       "<Figure size 360x360 with 2 Axes>"
      ]
     },
     "metadata": {
      "needs_background": "light"
     },
     "output_type": "display_data"
    }
   ],
   "source": [
    "image_batch, label_batch = next(iter(train_dataset))\n",
    "for i in tqdm_notebook(range(3)):\n",
    "    image = image_batch[i]\n",
    "    mask = label_batch[i]\n",
    "    #Convert categorical to integer for visualization\n",
    "    mask = np.argmax(mask, axis=2)\n",
    "    plt.figure(figsize=(5,5))\n",
    "    plt.subplot(1,2,1)\n",
    "    plt.imshow(image[:,:,0:3])\n",
    "    plt.axis('off')\n",
    "    plt.subplot(1,2,2)\n",
    "    plt.imshow(mask, cmap='gray')\n",
    "    plt.axis('off')\n",
    "    plt.show()"
   ]
  },
  {
   "cell_type": "code",
   "execution_count": 13,
   "id": "94a16eab",
   "metadata": {
    "colab": {
     "base_uri": "https://localhost:8080/",
     "height": 1000
    },
    "execution": {
     "iopub.execute_input": "2023-03-26T15:33:44.308823Z",
     "iopub.status.busy": "2023-03-26T15:33:44.308547Z",
     "iopub.status.idle": "2023-03-26T15:33:45.806194Z",
     "shell.execute_reply": "2023-03-26T15:33:45.805453Z"
    },
    "id": "5CD6Z1M224mJ",
    "outputId": "d5cd949a-9b79-44f4-81a1-baba917ee41b",
    "papermill": {
     "duration": 1.507809,
     "end_time": "2023-03-26T15:33:45.808838",
     "exception": false,
     "start_time": "2023-03-26T15:33:44.301029",
     "status": "completed"
    },
    "tags": []
   },
   "outputs": [
    {
     "data": {
      "application/vnd.jupyter.widget-view+json": {
       "model_id": "a7fa3601e31b4d43945fbee6d49e4e77",
       "version_major": 2,
       "version_minor": 0
      },
      "text/plain": [
       "  0%|          | 0/3 [00:00<?, ?it/s]"
      ]
     },
     "metadata": {},
     "output_type": "display_data"
    },
    {
     "data": {
      "image/png": "[encoded data removed]",
      "text/plain": [
       "<Figure size 360x360 with 2 Axes>"
      ]
     },
     "metadata": {
      "needs_background": "light"
     },
     "output_type": "display_data"
    },
    {
     "data": {
      "image/png": "[encoded data removed]",
      "text/plain": [
       "<Figure size 360x360 with 2 Axes>"
      ]
     },
     "metadata": {
      "needs_background": "light"
     },
     "output_type": "display_data"
    },
    {
     "data": {
      "image/png": "[encoded data removed]",
      "text/plain": [
       "<Figure size 360x360 with 2 Axes>"
      ]
     },
     "metadata": {
      "needs_background": "light"
     },
     "output_type": "display_data"
    }
   ],
   "source": [
    "testimage_batch, label_batch = next(iter(valid_dataset))\n",
    "for i in tqdm_notebook(range(3)):\n",
    "    image = testimage_batch[i]\n",
    "    mask = label_batch[i]\n",
    "    #Convert categorical to integer for visualization\n",
    "    mask = np.argmax(mask, axis=2)\n",
    "    plt.figure(figsize=(5,5))\n",
    "    plt.subplot(1,2,1)\n",
    "    plt.imshow(image[:,:,0:3])\n",
    "    plt.axis('off')\n",
    "    plt.subplot(1,2,2)\n",
    "    plt.imshow(mask, cmap='gray')\n",
    "    plt.axis('off')\n",
    "    plt.show()"
   ]
  },
  {
   "cell_type": "code",
   "execution_count": 14,
   "id": "2e8ff508",
   "metadata": {
    "execution": {
     "iopub.execute_input": "2023-03-26T15:33:45.826373Z",
     "iopub.status.busy": "2023-03-26T15:33:45.826092Z",
     "iopub.status.idle": "2023-03-26T15:33:45.828810Z",
     "shell.execute_reply": "2023-03-26T15:33:45.828170Z"
    },
    "papermill": {
     "duration": 0.012804,
     "end_time": "2023-03-26T15:33:45.830319",
     "exception": false,
     "start_time": "2023-03-26T15:33:45.817515",
     "status": "completed"
    },
    "tags": []
   },
   "outputs": [],
   "source": [
    "# GPUS = [\"GPU:0\",\"GPU:1\",\"GPU:2\",\"GPU:3\"]\n",
    "# strategy = tf.distribute.MirroredStrategy( GPUS )\n",
    "# print('Number of devices: %d' % strategy.num_replicas_in_sync)"
   ]
  },
  {
   "cell_type": "code",
   "execution_count": 15,
   "id": "ea79091c",
   "metadata": {
    "execution": {
     "iopub.execute_input": "2023-03-26T15:33:45.846734Z",
     "iopub.status.busy": "2023-03-26T15:33:45.846467Z",
     "iopub.status.idle": "2023-03-26T15:33:46.787754Z",
     "shell.execute_reply": "2023-03-26T15:33:46.787031Z"
    },
    "papermill": {
     "duration": 0.951206,
     "end_time": "2023-03-26T15:33:46.789302",
     "exception": false,
     "start_time": "2023-03-26T15:33:45.838096",
     "status": "completed"
    },
    "tags": []
   },
   "outputs": [
    {
     "name": "stdout",
     "output_type": "stream",
     "text": [
      "INFO:tensorflow:Using MirroredStrategy with devices ('/job:localhost/replica:0/task:0/device:GPU:0', '/job:localhost/replica:0/task:0/device:GPU:1', '/job:localhost/replica:0/task:0/device:GPU:2', '/job:localhost/replica:0/task:0/device:GPU:3')\n"
     ]
    },
    {
     "name": "stderr",
     "output_type": "stream",
     "text": [
      "INFO:tensorflow:Using MirroredStrategy with devices ('/job:localhost/replica:0/task:0/device:GPU:0', '/job:localhost/replica:0/task:0/device:GPU:1', '/job:localhost/replica:0/task:0/device:GPU:2', '/job:localhost/replica:0/task:0/device:GPU:3')\n"
     ]
    },
    {
     "name": "stdout",
     "output_type": "stream",
     "text": [
      "Number of devices: 4\n"
     ]
    }
   ],
   "source": [
    "strategy = tf.distribute.MirroredStrategy()\n",
    "print('Number of devices: {}'.format(strategy.num_replicas_in_sync))"
   ]
  },
  {
   "cell_type": "code",
   "execution_count": 16,
   "id": "166785fc",
   "metadata": {
    "execution": {
     "iopub.execute_input": "2023-03-26T15:33:46.807005Z",
     "iopub.status.busy": "2023-03-26T15:33:46.806722Z",
     "iopub.status.idle": "2023-03-26T15:33:46.810130Z",
     "shell.execute_reply": "2023-03-26T15:33:46.809404Z"
    },
    "id": "Z1B8LaT766mK",
    "papermill": {
     "duration": 0.013586,
     "end_time": "2023-03-26T15:33:46.811639",
     "exception": false,
     "start_time": "2023-03-26T15:33:46.798053",
     "status": "completed"
    },
    "tags": []
   },
   "outputs": [],
   "source": [
    "# input dimensions, no. of channels, and no. of classes for the model\n",
    "IMG_HEIGHT = image_batch.shape[1]\n",
    "IMG_WIDTH  = image_batch.shape[2]\n",
    "IMG_CHANNELS = image_batch.shape[3]\n",
    "n_classes=num_class"
   ]
  },
  {
   "cell_type": "code",
   "execution_count": 17,
   "id": "37579d01",
   "metadata": {
    "execution": {
     "iopub.execute_input": "2023-03-26T15:33:46.828667Z",
     "iopub.status.busy": "2023-03-26T15:33:46.828402Z",
     "iopub.status.idle": "2023-03-26T15:33:46.839851Z",
     "shell.execute_reply": "2023-03-26T15:33:46.839178Z"
    },
    "papermill": {
     "duration": 0.021625,
     "end_time": "2023-03-26T15:33:46.841339",
     "exception": false,
     "start_time": "2023-03-26T15:33:46.819714",
     "status": "completed"
    },
    "tags": []
   },
   "outputs": [],
   "source": [
    "def SqueezeAndExcitation(inputs, ratio=8):\n",
    "    \n",
    "    b, h, w, c = inputs.shape\n",
    "    \n",
    "    x = GlobalAveragePooling2D()(inputs)\n",
    "    x = Dense(c//ratio, activation='relu', use_bias=False)(x)\n",
    "    x = Dense(c, activation='sigmoid', use_bias=False)(x)\n",
    "    \n",
    "    x = Multiply()([inputs, x])\n",
    "    \n",
    "    return x\n",
    "\n",
    "\n",
    "def ASPP(image_features):\n",
    "\n",
    "    shape = image_features.shape\n",
    "\n",
    "    y_pool = AveragePooling2D(pool_size=(shape[1], shape[2]))(image_features)\n",
    "    y_pool = Conv2D(filters=128, kernel_size=1, padding='same', use_bias=False)(y_pool)\n",
    "    y_pool = BatchNormalization(name=f'bn_1')(y_pool)\n",
    "    y_pool = Activation('relu', name=f'relu_1')(y_pool)\n",
    "    y_pool = UpSampling2D((shape[1], shape[2]), interpolation=\"bilinear\")(y_pool)\n",
    "\n",
    "    y_1 = Conv2D(filters=128, kernel_size=1, padding='same', use_bias=False)(image_features)\n",
    "    y_1 = BatchNormalization(name=f'bn_2')(y_1)\n",
    "    y_1 = Activation('relu', name=f'relu_2')(y_1)\n",
    "\n",
    "    y_6 = Conv2D(filters=128, kernel_size=3, padding='same', dilation_rate = 6,use_bias=False)(image_features)\n",
    "    y_6 = BatchNormalization(name=f'bn_3')(y_6)\n",
    "    y_6 = Activation('relu', name=f'relu_3')(y_6)\n",
    "\n",
    "    y_12 = Conv2D(filters=128, kernel_size=1, padding='same', dilation_rate = 12,use_bias=False)(image_features)\n",
    "    y_12 = BatchNormalization(name=f'bn_4')(y_12)\n",
    "    y_12 = Activation('relu', name=f'relu_4')(y_12)\n",
    "\n",
    "    y_18 = Conv2D(filters=128, kernel_size=3, padding='same', dilation_rate = 6,use_bias=False)(image_features)\n",
    "    y_18 = BatchNormalization(name=f'bn_5')(y_18)\n",
    "    y_18 = Activation('relu', name=f'relu_5')(y_18)\n",
    "\n",
    "    y_c = Concatenate()([y_pool, y_1, y_6, y_12, y_18])\n",
    "\n",
    "    y = Conv2D(filters=128, kernel_size=1, padding='same', use_bias=False)(y_c)\n",
    "    y = BatchNormalization(name=f'bn_6')(y)\n",
    "    y = Activation('relu', name=f'relu_6')(y)\n",
    "\n",
    "    return y"
   ]
  },
  {
   "cell_type": "code",
   "execution_count": 18,
   "id": "e0956eb1",
   "metadata": {
    "execution": {
     "iopub.execute_input": "2023-03-26T15:33:46.858430Z",
     "iopub.status.busy": "2023-03-26T15:33:46.858163Z",
     "iopub.status.idle": "2023-03-26T15:33:46.865981Z",
     "shell.execute_reply": "2023-03-26T15:33:46.865324Z"
    },
    "papermill": {
     "duration": 0.018038,
     "end_time": "2023-03-26T15:33:46.867470",
     "exception": false,
     "start_time": "2023-03-26T15:33:46.849432",
     "status": "completed"
    },
    "tags": []
   },
   "outputs": [],
   "source": [
    "def DeepLabV3PlusSE(inputs, classes=1):\n",
    "\n",
    "    inputs = Input(inputs)\n",
    "\n",
    "    base_model = ResNet50(weights='imagenet', include_top=False, input_tensor=inputs)\n",
    "    high_level_image_features = base_model.get_layer('conv4_block6_add').output\n",
    "    high_level_image_features = SqueezeAndExcitation(high_level_image_features, ratio=16)\n",
    "    \n",
    "    x_a = ASPP(high_level_image_features)\n",
    "    x_a = SqueezeAndExcitation(x_a, ratio=16)\n",
    "    x_a = UpSampling2D(size=4, interpolation='bilinear')(x_a)\n",
    "\n",
    "    low_level_image_features = base_model.get_layer('conv2_block3_add').output\n",
    "    low_level_image_features = SqueezeAndExcitation(low_level_image_features, ratio=16)\n",
    "\n",
    "    x_b = Conv2D(filters=256, kernel_size=1, padding='same', use_bias=False)(low_level_image_features)\n",
    "    x_b = BatchNormalization(name=f'bn_7')(x_b)\n",
    "    x_b = Activation('relu', name=f'relu_7')(x_b)\n",
    "\n",
    "    x = Concatenate()([x_a, x_b])\n",
    "\n",
    "    x = Conv2D(filters=256, kernel_size=3, padding='same', use_bias=False)(x)\n",
    "    x = BatchNormalization(name=f'bn_8')(x)\n",
    "    x = Activation('relu', name=f'relu_8')(x)\n",
    "\n",
    "    x = Conv2D(filters=256, kernel_size=3, padding='same', use_bias=False)(x)\n",
    "    x = BatchNormalization(name=f'bn_9')(x)\n",
    "    x = Activation('relu', name=f'relu_9')(x)\n",
    "\n",
    "    x = UpSampling2D(size=4, interpolation='bilinear')(x)\n",
    "\n",
    "    \"\"\" Outputs \"\"\"\n",
    "    x = Conv2D(classes, (1, 1), name='output_layer')(x)\n",
    "    \n",
    "    if classes == 1:\n",
    "      x = Activation('sigmoid')(x)\n",
    "    else:\n",
    "      x = Activation('softmax')(x)\n",
    "\n",
    "    model = Model(inputs=inputs, outputs=x)\n",
    "    \n",
    "    return model"
   ]
  },
  {
   "cell_type": "code",
   "execution_count": 19,
   "id": "4e88359c",
   "metadata": {
    "execution": {
     "iopub.execute_input": "2023-03-26T15:33:46.884667Z",
     "iopub.status.busy": "2023-03-26T15:33:46.884394Z",
     "iopub.status.idle": "2023-03-26T15:33:46.888252Z",
     "shell.execute_reply": "2023-03-26T15:33:46.887579Z"
    },
    "papermill": {
     "duration": 0.014006,
     "end_time": "2023-03-26T15:33:46.889700",
     "exception": false,
     "start_time": "2023-03-26T15:33:46.875694",
     "status": "completed"
    },
    "tags": []
   },
   "outputs": [],
   "source": [
    "# calculation of steps per epoch for traning and validation\n",
    "filespershard = 500\n",
    "number_of_shards = len(glob.glob(PATH+'*.tfrecords'))\n",
    "steps_per_epoch = (number_of_shards*filespershard*0.7)// BATCH_SIZE\n",
    "val_steps_per_epoch = (number_of_shards*filespershard*0.3)//BATCH_SIZE"
   ]
  },
  {
   "cell_type": "code",
   "execution_count": 20,
   "id": "3f124509",
   "metadata": {
    "execution": {
     "iopub.execute_input": "2023-03-26T15:33:46.907011Z",
     "iopub.status.busy": "2023-03-26T15:33:46.906747Z",
     "iopub.status.idle": "2023-03-26T15:33:46.911925Z",
     "shell.execute_reply": "2023-03-26T15:33:46.911258Z"
    },
    "papermill": {
     "duration": 0.015337,
     "end_time": "2023-03-26T15:33:46.913404",
     "exception": false,
     "start_time": "2023-03-26T15:33:46.898067",
     "status": "completed"
    },
    "tags": []
   },
   "outputs": [],
   "source": [
    "\n",
    "import math\n",
    "epochs=epochs\n",
    "learning_rate = lr\n",
    "scheduler = params['Scheduler']\n",
    "\n",
    "if scheduler == 'Exponential':\n",
    "    decay_rate = learning_rate / epochs\n",
    "    def exp_decay(epoch):\n",
    "        lrate = learning_rate * np.exp(-decay_rate*epoch)\n",
    "        return lrate\n",
    "    lr_rate = LearningRateScheduler(exp_decay)\n",
    "elif scheduler == 'Step_decay':\n",
    "    def step_decay(epoch):\n",
    "        initial_lrate = 0.1\n",
    "        drop = 0.5\n",
    "        epochs_drop = 10.0\n",
    "        lrate = initial_lrate * math.pow(drop,  \n",
    "                math.floor((1+epoch)/epochs_drop))\n",
    "        return lrate\n",
    "    lr_rate = LearningRateScheduler(step_decay)\n",
    "elif scheduler == 'Cycliclearning_rate':\n",
    "    clr_triangular = CyclicLR(mode='triangular')\n",
    "    clr_triangular._reset(new_base_lr=0.00009, new_max_lr=0.0001)\n",
    "    lr_rate = clr_triangular"
   ]
  },
  {
   "cell_type": "code",
   "execution_count": 21,
   "id": "9a75f2a2",
   "metadata": {
    "execution": {
     "iopub.execute_input": "2023-03-26T15:33:46.930668Z",
     "iopub.status.busy": "2023-03-26T15:33:46.930400Z",
     "iopub.status.idle": "2023-03-26T15:33:52.070284Z",
     "shell.execute_reply": "2023-03-26T15:33:52.069460Z"
    },
    "papermill": {
     "duration": 5.150524,
     "end_time": "2023-03-26T15:33:52.072110",
     "exception": false,
     "start_time": "2023-03-26T15:33:46.921586",
     "status": "completed"
    },
    "tags": []
   },
   "outputs": [
    {
     "name": "stdout",
     "output_type": "stream",
     "text": [
      "INFO:tensorflow:Reduce to /job:localhost/replica:0/task:0/device:CPU:0 then broadcast to ('/job:localhost/replica:0/task:0/device:CPU:0',).\n"
     ]
    },
    {
     "name": "stderr",
     "output_type": "stream",
     "text": [
      "INFO:tensorflow:Reduce to /job:localhost/replica:0/task:0/device:CPU:0 then broadcast to ('/job:localhost/replica:0/task:0/device:CPU:0',).\n"
     ]
    },
    {
     "name": "stdout",
     "output_type": "stream",
     "text": [
      "INFO:tensorflow:Reduce to /job:localhost/replica:0/task:0/device:CPU:0 then broadcast to ('/job:localhost/replica:0/task:0/device:CPU:0',).\n"
     ]
    },
    {
     "name": "stderr",
     "output_type": "stream",
     "text": [
      "INFO:tensorflow:Reduce to /job:localhost/replica:0/task:0/device:CPU:0 then broadcast to ('/job:localhost/replica:0/task:0/device:CPU:0',).\n"
     ]
    },
    {
     "name": "stdout",
     "output_type": "stream",
     "text": [
      "INFO:tensorflow:Reduce to /job:localhost/replica:0/task:0/device:CPU:0 then broadcast to ('/job:localhost/replica:0/task:0/device:CPU:0',).\n"
     ]
    },
    {
     "name": "stderr",
     "output_type": "stream",
     "text": [
      "INFO:tensorflow:Reduce to /job:localhost/replica:0/task:0/device:CPU:0 then broadcast to ('/job:localhost/replica:0/task:0/device:CPU:0',).\n"
     ]
    },
    {
     "name": "stdout",
     "output_type": "stream",
     "text": [
      "INFO:tensorflow:Reduce to /job:localhost/replica:0/task:0/device:CPU:0 then broadcast to ('/job:localhost/replica:0/task:0/device:CPU:0',).\n"
     ]
    },
    {
     "name": "stderr",
     "output_type": "stream",
     "text": [
      "INFO:tensorflow:Reduce to /job:localhost/replica:0/task:0/device:CPU:0 then broadcast to ('/job:localhost/replica:0/task:0/device:CPU:0',).\n"
     ]
    },
    {
     "name": "stdout",
     "output_type": "stream",
     "text": [
      "INFO:tensorflow:Reduce to /job:localhost/replica:0/task:0/device:CPU:0 then broadcast to ('/job:localhost/replica:0/task:0/device:CPU:0',).\n"
     ]
    },
    {
     "name": "stderr",
     "output_type": "stream",
     "text": [
      "INFO:tensorflow:Reduce to /job:localhost/replica:0/task:0/device:CPU:0 then broadcast to ('/job:localhost/replica:0/task:0/device:CPU:0',).\n"
     ]
    },
    {
     "name": "stdout",
     "output_type": "stream",
     "text": [
      "INFO:tensorflow:Reduce to /job:localhost/replica:0/task:0/device:CPU:0 then broadcast to ('/job:localhost/replica:0/task:0/device:CPU:0',).\n"
     ]
    },
    {
     "name": "stderr",
     "output_type": "stream",
     "text": [
      "INFO:tensorflow:Reduce to /job:localhost/replica:0/task:0/device:CPU:0 then broadcast to ('/job:localhost/replica:0/task:0/device:CPU:0',).\n"
     ]
    },
    {
     "name": "stdout",
     "output_type": "stream",
     "text": [
      "INFO:tensorflow:Reduce to /job:localhost/replica:0/task:0/device:CPU:0 then broadcast to ('/job:localhost/replica:0/task:0/device:CPU:0',).\n"
     ]
    },
    {
     "name": "stderr",
     "output_type": "stream",
     "text": [
      "INFO:tensorflow:Reduce to /job:localhost/replica:0/task:0/device:CPU:0 then broadcast to ('/job:localhost/replica:0/task:0/device:CPU:0',).\n"
     ]
    },
    {
     "name": "stdout",
     "output_type": "stream",
     "text": [
      "INFO:tensorflow:Reduce to /job:localhost/replica:0/task:0/device:CPU:0 then broadcast to ('/job:localhost/replica:0/task:0/device:CPU:0',).\n"
     ]
    },
    {
     "name": "stderr",
     "output_type": "stream",
     "text": [
      "INFO:tensorflow:Reduce to /job:localhost/replica:0/task:0/device:CPU:0 then broadcast to ('/job:localhost/replica:0/task:0/device:CPU:0',).\n"
     ]
    },
    {
     "name": "stdout",
     "output_type": "stream",
     "text": [
      "INFO:tensorflow:Reduce to /job:localhost/replica:0/task:0/device:CPU:0 then broadcast to ('/job:localhost/replica:0/task:0/device:CPU:0',).\n"
     ]
    },
    {
     "name": "stderr",
     "output_type": "stream",
     "text": [
      "INFO:tensorflow:Reduce to /job:localhost/replica:0/task:0/device:CPU:0 then broadcast to ('/job:localhost/replica:0/task:0/device:CPU:0',).\n"
     ]
    },
    {
     "name": "stdout",
     "output_type": "stream",
     "text": [
      "INFO:tensorflow:Reduce to /job:localhost/replica:0/task:0/device:CPU:0 then broadcast to ('/job:localhost/replica:0/task:0/device:CPU:0',).\n"
     ]
    },
    {
     "name": "stderr",
     "output_type": "stream",
     "text": [
      "INFO:tensorflow:Reduce to /job:localhost/replica:0/task:0/device:CPU:0 then broadcast to ('/job:localhost/replica:0/task:0/device:CPU:0',).\n"
     ]
    }
   ],
   "source": [
    "loss = params['Loss']\n",
    "if loss == 'sdice_loss':\n",
    "    with strategy.scope():\n",
    "        model = DeepLabV3PlusSE((IMG_HEIGHT,IMG_WIDTH,IMG_CHANNELS),n_classes)\n",
    "        model.compile(\n",
    "        optimizer=optimizer,\n",
    "        loss=sdice_loss,\n",
    "        metrics=[[tf.keras.metrics.OneHotIoU(num_classes=2,target_class_ids=[0,1]),tf.keras.metrics.Precision()\\\n",
    "            ,tf.keras.metrics.Recall()]]\n",
    "        )\n",
    "elif loss == 'focal_tversky':\n",
    "    with strategy.scope():\n",
    "        model = DeepLabV3PlusSE((IMG_HEIGHT,IMG_WIDTH,IMG_CHANNELS),n_classes)\n",
    "        model.compile(\n",
    "        optimizer=optimizer,\n",
    "        loss=focal_tversky,\n",
    "        metrics=[[tf.keras.metrics.OneHotIoU(num_classes=2,target_class_ids=[0,1]),tf.keras.metrics.Precision()\\\n",
    "            ,tf.keras.metrics.Recall()]]\n",
    "        )\n",
    "elif loss == 'tversky_loss':\n",
    "    with strategy.scope():\n",
    "        model = DeepLabV3PlusSE((IMG_HEIGHT,IMG_WIDTH,IMG_CHANNELS),n_classes)\n",
    "        model.compile(\n",
    "        optimizer=optimizer,\n",
    "        loss=tversky_loss,\n",
    "        metrics=[[tf.keras.metrics.OneHotIoU(num_classes=2,target_class_ids=[0,1]),tf.keras.metrics.Precision()\\\n",
    "            ,tf.keras.metrics.Recall()]]\n",
    "        )\n",
    "elif loss == 'log_cosh_dice_loss':\n",
    "    with strategy.scope():\n",
    "        model = DeepLabV3PlusSE((IMG_HEIGHT,IMG_WIDTH,IMG_CHANNELS),n_classes)\n",
    "        model.compile(\n",
    "        optimizer=optimizer,\n",
    "        loss=log_cosh_dice_loss,\n",
    "        metrics=[[tf.keras.metrics.OneHotIoU(num_classes=2,target_class_ids=[0,1]),tf.keras.metrics.Precision()\\\n",
    "            ,tf.keras.metrics.Recall()]]\n",
    "        )"
   ]
  },
  {
   "cell_type": "code",
   "execution_count": 22,
   "id": "7a863f58",
   "metadata": {
    "execution": {
     "iopub.execute_input": "2023-03-26T15:33:52.092094Z",
     "iopub.status.busy": "2023-03-26T15:33:52.091817Z",
     "iopub.status.idle": "2023-03-26T15:33:52.095646Z",
     "shell.execute_reply": "2023-03-26T15:33:52.094964Z"
    },
    "id": "2v05oGM_xBM_",
    "papermill": {
     "duration": 0.015122,
     "end_time": "2023-03-26T15:33:52.097148",
     "exception": false,
     "start_time": "2023-03-26T15:33:52.082026",
     "status": "completed"
    },
    "tags": []
   },
   "outputs": [],
   "source": [
    "#ModelCheckpoint callback saves a model at some interval. \n",
    "checkpoint_path = 'model_checkpoint/'\n",
    "os.makedirs(checkpoint_path, exist_ok=True)\n",
    "filepath=checkpoint_path+\"resenet50_deeplabv3plus_SE_v5_sdice_loss.hdf5\"\n",
    "checkpoint = ModelCheckpoint(filepath, monitor='val_one_hot_io_u', verbose=1, save_best_only=True, mode='max')"
   ]
  },
  {
   "cell_type": "code",
   "execution_count": 23,
   "id": "263dd38e",
   "metadata": {
    "execution": {
     "iopub.execute_input": "2023-03-26T15:33:52.116281Z",
     "iopub.status.busy": "2023-03-26T15:33:52.116012Z",
     "iopub.status.idle": "2023-03-26T15:33:52.119108Z",
     "shell.execute_reply": "2023-03-26T15:33:52.118454Z"
    },
    "id": "Zq3n9QwIxESq",
    "papermill": {
     "duration": 0.014235,
     "end_time": "2023-03-26T15:33:52.120559",
     "exception": false,
     "start_time": "2023-03-26T15:33:52.106324",
     "status": "completed"
    },
    "tags": []
   },
   "outputs": [],
   "source": [
    "# earlystop for stopping the model when there is no improvement\n",
    "early_stop = EarlyStopping(monitor='val_loss', patience=20, verbose=1)\n",
    "# log_csv = CSVLogger('/home/ubuntu/Notebooks for Unet_training/models for deeplab+SE v5/tversky-logs/sdice_lossv1.csv', separator=',', append=False)"
   ]
  },
  {
   "cell_type": "code",
   "execution_count": 24,
   "id": "100dfed1",
   "metadata": {
    "execution": {
     "iopub.execute_input": "2023-03-26T15:33:52.139826Z",
     "iopub.status.busy": "2023-03-26T15:33:52.139559Z",
     "iopub.status.idle": "2023-03-26T15:33:52.147581Z",
     "shell.execute_reply": "2023-03-26T15:33:52.146927Z"
    },
    "papermill": {
     "duration": 0.01923,
     "end_time": "2023-03-26T15:33:52.149074",
     "exception": false,
     "start_time": "2023-03-26T15:33:52.129844",
     "status": "completed"
    },
    "tags": []
   },
   "outputs": [],
   "source": [
    "from IPython.display import clear_output\n",
    "def create_mask(pred_mask):\n",
    "    pred_mask = tf.math.argmax(pred_mask, axis=3)\n",
    "    return pred_mask[0]\n",
    "import matplotlib.pyplot as plt\n",
    "\n",
    "\n",
    "def display(display_list):\n",
    "    plt.figure(figsize=(15, 15))\n",
    "\n",
    "    title = [\"Input Image\", \"True Mask\", \"Predicted Mask\"]\n",
    "\n",
    "    for i in range(len(display_list)):\n",
    "        plt.subplot(1, len(display_list), i + 1)\n",
    "        plt.title(title[i])\n",
    "        plt.imshow(display_list[i])\n",
    "        plt.axis(\"off\")\n",
    "    plt.show()\n",
    "\n",
    "def show_predictions(dataset=None, num=1):\n",
    "    if dataset:\n",
    "        for sample in dataset.take(num):\n",
    "            images, masks = sample\n",
    "            masks = tf.math.argmax(masks[0], axis=2)\n",
    "            pred_masks = model.predict(images)\n",
    "            display([images[0], masks, create_mask(pred_masks)])\n",
    "    else:\n",
    "        display(\n",
    "            [\n",
    "                testimage_batch, tf.math.argmax(label_batch, axis=2),\n",
    "                create_mask(model.predict(testimage_batch)),\n",
    "            ]\n",
    "        )\n",
    "\n",
    "\n",
    "class DisplayCallback(tf.keras.callbacks.Callback):\n",
    "    def __init__(self, dataset, **kwargs):\n",
    "        super().__init__(**kwargs)\n",
    "        self.dataset = dataset\n",
    "\n",
    "    def on_epoch_end(self, epoch, logs=None):\n",
    "        clear_output(wait=True)\n",
    "        show_predictions(self.dataset)\n",
    "        print(\"\\nSample Prediction after epoch {}\\n\".format(epoch + 1))"
   ]
  },
  {
   "cell_type": "code",
   "execution_count": 25,
   "id": "a54e21ea",
   "metadata": {
    "execution": {
     "iopub.execute_input": "2023-03-26T15:33:52.168257Z",
     "iopub.status.busy": "2023-03-26T15:33:52.167989Z",
     "iopub.status.idle": "2023-03-26T15:33:52.337175Z",
     "shell.execute_reply": "2023-03-26T15:33:52.336451Z"
    },
    "id": "6B6QNDK3xNH5",
    "papermill": {
     "duration": 0.180539,
     "end_time": "2023-03-26T15:33:52.338816",
     "exception": false,
     "start_time": "2023-03-26T15:33:52.158277",
     "status": "completed"
    },
    "tags": []
   },
   "outputs": [
    {
     "name": "stderr",
     "output_type": "stream",
     "text": [
      "WARNING:dvclive:Ignoring `_save_dvc_exp` because `dvc exp run` is running\n"
     ]
    }
   ],
   "source": [
    "callbacks_list = [checkpoint,early_stop,lr_rate,DVCLiveCallback(dir='evaluation',save_dvc_exp=True),DisplayCallback(valid_dataset)]"
   ]
  },
  {
   "cell_type": "code",
   "execution_count": 26,
   "id": "cffbd634",
   "metadata": {
    "execution": {
     "iopub.execute_input": "2023-03-26T15:33:52.359141Z",
     "iopub.status.busy": "2023-03-26T15:33:52.358853Z",
     "iopub.status.idle": "2023-03-26T16:29:51.157667Z",
     "shell.execute_reply": "2023-03-26T16:29:51.156917Z"
    },
    "id": "UV7p9-ZU7GYl",
    "papermill": {
     "duration": 3358.810462,
     "end_time": "2023-03-26T16:29:51.159273",
     "exception": false,
     "start_time": "2023-03-26T15:33:52.348811",
     "status": "completed"
    },
    "tags": []
   },
   "outputs": [
    {
     "name": "stdout",
     "output_type": "stream",
     "text": [
      "\r",
      "1/1 [==============================] - ETA: 0s"
     ]
    },
    {
     "name": "stdout",
     "output_type": "stream",
     "text": [
      "\b\b\b\b\b\b\b\b\b\b\b\b\b\b\b\b\b\b\b\b\b\b\b\b\b\b\b\b\b\b\b\b\b\b\b\b\b\b\b\b\b\b\b\b\b\b\r",
      "1/1 [==============================] - 0s 227ms/step\n"
     ]
    },
    {
     "data": {
      "image/png": "[encoded data removed]",
      "text/plain": [
       "<Figure size 1080x1080 with 3 Axes>"
      ]
     },
     "metadata": {
      "needs_background": "light"
     },
     "output_type": "display_data"
    },
    {
     "name": "stdout",
     "output_type": "stream",
     "text": [
      "\n",
      "Sample Prediction after epoch 85\n"
     ]
    },
    {
     "name": "stdout",
     "output_type": "stream",
     "text": [
      "\n"
     ]
    },
    {
     "name": "stdout",
     "output_type": "stream",
     "text": [
      "\b\b\b\b\b\b\b\b\b\b\b\b\b\b\b\b\b\b\b\b\b\b\b\b\b\b\b\b\b\b\b\b\b\b\b\b\b\b\b\b\b\b\b\b\b\b\b\b\b\b\b\b\b\b\b\b\b\b\b\b\b\b\b\b\b\b\b\b\b\b\b\b\b\b\b\b\b\b\b\b\b\b\b\b\b\b\b\b\b\b\b\b\b\b\b\b\b\b\b\b\b\b\b\b\b\b\b\b\b\b\b\b\b\b\b\b\b\b\b\b\b\b\b\b\b\r",
      "328/328 [==============================] - 38s 115ms/step - loss: 0.0075 - one_hot_io_u: 0.9786 - precision: 0.9897 - recall: 0.9897 - val_loss: 0.0458 - val_one_hot_io_u: 0.8932 - val_precision: 0.9458 - val_recall: 0.9458 - lr: 9.9998e-05\n"
     ]
    },
    {
     "name": "stdout",
     "output_type": "stream",
     "text": [
      "Epoch 85: early stopping\n"
     ]
    },
    {
     "name": "stdout",
     "output_type": "stream",
     "text": [
      "CPU times: user 3h 30min 24s, sys: 20min 58s, total: 3h 51min 22s"
     ]
    },
    {
     "name": "stdout",
     "output_type": "stream",
     "text": [
      "\n"
     ]
    },
    {
     "name": "stdout",
     "output_type": "stream",
     "text": [
      "Wall time: 55min 58s"
     ]
    },
    {
     "name": "stdout",
     "output_type": "stream",
     "text": [
      "\n"
     ]
    }
   ],
   "source": [
    "%%time\n",
    "history=model.fit(train_dataset,\n",
    "          steps_per_epoch=steps_per_epoch,\n",
    "          epochs=epochs,\n",
    "          verbose=1,\n",
    "          validation_data=valid_dataset,\n",
    "          validation_steps=val_steps_per_epoch,\n",
    "          callbacks=callbacks_list,\n",
    "          )"
   ]
  },
  {
   "cell_type": "code",
   "execution_count": 27,
   "id": "c14d41ca",
   "metadata": {
    "colab": {
     "base_uri": "https://localhost:8080/",
     "height": 295
    },
    "execution": {
     "iopub.execute_input": "2023-03-26T16:29:51.183807Z",
     "iopub.status.busy": "2023-03-26T16:29:51.183463Z",
     "iopub.status.idle": "2023-03-26T16:29:51.401000Z",
     "shell.execute_reply": "2023-03-26T16:29:51.400277Z"
    },
    "id": "_lPE5Nl-7eGC",
    "outputId": "43efaba9-c517-4676-8f54-f8af49e9d41a",
    "papermill": {
     "duration": 0.231445,
     "end_time": "2023-03-26T16:29:51.402674",
     "exception": false,
     "start_time": "2023-03-26T16:29:51.171229",
     "status": "completed"
    },
    "tags": []
   },
   "outputs": [
    {
     "data": {
      "image/png": "[encoded data removed]",
      "text/plain": [
       "<Figure size 1080x720 with 1 Axes>"
      ]
     },
     "metadata": {
      "needs_background": "light"
     },
     "output_type": "display_data"
    }
   ],
   "source": [
    "loss = history.history['loss']\n",
    "val_loss = history.history['val_loss']\n",
    "epochs = range(1, len(loss) + 1)\n",
    "plt.figure(figsize=(15,10))\n",
    "plt.plot(epochs, loss, 'green', label='Training loss', marker = 'o')\n",
    "plt.plot(epochs, val_loss, 'r', label='Validation loss', marker = 'o')\n",
    "plt.title('Training and validation loss')\n",
    "plt.xlabel('Epochs')\n",
    "plt.ylabel('Loss')\n",
    "plt.legend()\n",
    "# plt.savefig('loss_graph.png')\n",
    "plt.show()"
   ]
  },
  {
   "cell_type": "code",
   "execution_count": 28,
   "id": "ee18f561",
   "metadata": {
    "execution": {
     "iopub.execute_input": "2023-03-26T16:29:51.429386Z",
     "iopub.status.busy": "2023-03-26T16:29:51.429072Z",
     "iopub.status.idle": "2023-03-26T16:29:51.432445Z",
     "shell.execute_reply": "2023-03-26T16:29:51.431753Z"
    },
    "id": "32hBQoO01avw",
    "papermill": {
     "duration": 0.018478,
     "end_time": "2023-03-26T16:29:51.433986",
     "exception": false,
     "start_time": "2023-03-26T16:29:51.415508",
     "status": "completed"
    },
    "tags": []
   },
   "outputs": [],
   "source": [
    "acc = history.history['one_hot_io_u']\n",
    "val_acc = history.history['val_one_hot_io_u']"
   ]
  },
  {
   "cell_type": "code",
   "execution_count": 29,
   "id": "427c4f8f",
   "metadata": {
    "colab": {
     "base_uri": "https://localhost:8080/",
     "height": 295
    },
    "execution": {
     "iopub.execute_input": "2023-03-26T16:29:51.458700Z",
     "iopub.status.busy": "2023-03-26T16:29:51.458381Z",
     "iopub.status.idle": "2023-03-26T16:29:51.672025Z",
     "shell.execute_reply": "2023-03-26T16:29:51.671253Z"
    },
    "id": "R4PB98zH1eDI",
    "outputId": "c9e5885c-be9e-4100-ed98-b1d0d0117265",
    "papermill": {
     "duration": 0.227891,
     "end_time": "2023-03-26T16:29:51.673574",
     "exception": false,
     "start_time": "2023-03-26T16:29:51.445683",
     "status": "completed"
    },
    "tags": []
   },
   "outputs": [
    {
     "data": {
      "image/png": "[encoded data removed]",
      "text/plain": [
       "<Figure size 1080x720 with 1 Axes>"
      ]
     },
     "metadata": {
      "needs_background": "light"
     },
     "output_type": "display_data"
    }
   ],
   "source": [
    "plt.figure(figsize=(15,10))\n",
    "plt.plot(epochs, acc, 'green', label='Training IoU', marker = 'o')\n",
    "plt.plot(epochs, val_acc, 'r', label='Validation IoU', marker = 'o')\n",
    "plt.title('Training and validation IoU')\n",
    "plt.xlabel('Epochs')\n",
    "plt.ylabel('IoU')\n",
    "plt.legend()\n",
    "# plt.savefig('auccuracy_graph.png')\n",
    "plt.show()"
   ]
  },
  {
   "cell_type": "code",
   "execution_count": 30,
   "id": "1c1d76af",
   "metadata": {
    "execution": {
     "iopub.execute_input": "2023-03-26T16:29:51.700825Z",
     "iopub.status.busy": "2023-03-26T16:29:51.700486Z",
     "iopub.status.idle": "2023-03-26T16:29:53.286331Z",
     "shell.execute_reply": "2023-03-26T16:29:53.285483Z"
    },
    "id": "Y2F4qSYw1oTf",
    "papermill": {
     "duration": 1.601348,
     "end_time": "2023-03-26T16:29:53.288207",
     "exception": false,
     "start_time": "2023-03-26T16:29:51.686859",
     "status": "completed"
    },
    "tags": []
   },
   "outputs": [],
   "source": [
    "from keras.models import load_model\n",
    "\n",
    "model = load_model(filepath, compile=False)"
   ]
  },
  {
   "cell_type": "code",
   "execution_count": 31,
   "id": "91ab16c4",
   "metadata": {
    "execution": {
     "iopub.execute_input": "2023-03-26T16:29:53.315834Z",
     "iopub.status.busy": "2023-03-26T16:29:53.315557Z",
     "iopub.status.idle": "2023-03-26T16:29:53.319315Z",
     "shell.execute_reply": "2023-03-26T16:29:53.318612Z"
    },
    "id": "H8skGm-s2HYC",
    "papermill": {
     "duration": 0.019279,
     "end_time": "2023-03-26T16:29:53.320779",
     "exception": false,
     "start_time": "2023-03-26T16:29:53.301500",
     "status": "completed"
    },
    "tags": []
   },
   "outputs": [],
   "source": [
    "from tensorflow.keras.metrics import MeanIoU"
   ]
  },
  {
   "cell_type": "code",
   "execution_count": 32,
   "id": "ede633d7",
   "metadata": {
    "colab": {
     "base_uri": "https://localhost:8080/"
    },
    "execution": {
     "iopub.execute_input": "2023-03-26T16:29:53.345917Z",
     "iopub.status.busy": "2023-03-26T16:29:53.345625Z",
     "iopub.status.idle": "2023-03-26T16:29:55.057522Z",
     "shell.execute_reply": "2023-03-26T16:29:55.056769Z"
    },
    "id": "V4Nv3Uro1hsA",
    "outputId": "40480f0b-b6ef-420c-99d6-f319c314a252",
    "papermill": {
     "duration": 1.726223,
     "end_time": "2023-03-26T16:29:55.059096",
     "exception": false,
     "start_time": "2023-03-26T16:29:53.332873",
     "status": "completed"
    },
    "tags": []
   },
   "outputs": [
    {
     "name": "stdout",
     "output_type": "stream",
     "text": [
      "\r",
      "1/1 [==============================] - ETA: 0s"
     ]
    },
    {
     "name": "stdout",
     "output_type": "stream",
     "text": [
      "\b\b\b\b\b\b\b\b\b\b\b\b\b\b\b\b\b\b\b\b\b\b\b\b\b\b\b\b\b\b\b\b\b\b\b\b\b\b\b\b\b\b\b\b\b\b\r",
      "1/1 [==============================] - 2s 2s/step\n"
     ]
    },
    {
     "name": "stdout",
     "output_type": "stream",
     "text": [
      "Mean IoU ="
     ]
    },
    {
     "name": "stdout",
     "output_type": "stream",
     "text": [
      " "
     ]
    },
    {
     "name": "stdout",
     "output_type": "stream",
     "text": [
      "0.8902007"
     ]
    },
    {
     "name": "stdout",
     "output_type": "stream",
     "text": [
      "\n"
     ]
    }
   ],
   "source": [
    "test_image_batch, test_mask_batch = next(iter(valid_dataset))\n",
    "\n",
    "#Convert categorical to integer for visualization and IoU calculation\n",
    "test_mask_batch_argmax = np.argmax(test_mask_batch, axis=3) \n",
    "test_pred_batch = model.predict(test_image_batch)\n",
    "test_pred_batch_argmax = np.argmax(test_pred_batch, axis=3)\n",
    "n_classes = 2\n",
    "IOU_keras = MeanIoU(num_classes=n_classes)  \n",
    "IOU_keras.update_state(test_pred_batch_argmax, test_mask_batch_argmax)\n",
    "print(\"Mean IoU =\", IOU_keras.result().numpy())"
   ]
  },
  {
   "cell_type": "code",
   "execution_count": 33,
   "id": "0d9ac0a6",
   "metadata": {
    "colab": {
     "base_uri": "https://localhost:8080/",
     "height": 392
    },
    "execution": {
     "iopub.execute_input": "2023-03-26T16:29:55.085995Z",
     "iopub.status.busy": "2023-03-26T16:29:55.085679Z",
     "iopub.status.idle": "2023-03-26T16:29:55.576125Z",
     "shell.execute_reply": "2023-03-26T16:29:55.575386Z"
    },
    "id": "9D_aW4b81-vs",
    "outputId": "a0d585dc-8738-4710-9e43-6be4f77d43c8",
    "papermill": {
     "duration": 0.505309,
     "end_time": "2023-03-26T16:29:55.577748",
     "exception": false,
     "start_time": "2023-03-26T16:29:55.072439",
     "status": "completed"
    },
    "tags": []
   },
   "outputs": [
    {
     "data": {
      "image/png": "[encoded data removed]",
      "text/plain": [
       "<Figure size 1440x1440 with 3 Axes>"
      ]
     },
     "metadata": {
      "needs_background": "light"
     },
     "output_type": "display_data"
    }
   ],
   "source": [
    "img_num = random.randint(0, test_image_batch.shape[0]-1)\n",
    "image = test_image_batch[img_num]\n",
    "plt.figure(figsize=(20,20))\n",
    "plt.subplot(231)\n",
    "plt.title('Testing Image')\n",
    "plt.imshow(image[:,:,0:3])\n",
    "plt.subplot(232)\n",
    "plt.title('Testing Label')\n",
    "plt.imshow(test_mask_batch_argmax[img_num], cmap='gray')\n",
    "plt.subplot(233)\n",
    "plt.title('Prediction on test image')\n",
    "plt.imshow(test_pred_batch_argmax[img_num], cmap='gray')\n",
    "plt.show()"
   ]
  },
  {
   "cell_type": "code",
   "execution_count": 34,
   "id": "59d364dc",
   "metadata": {
    "execution": {
     "iopub.execute_input": "2023-03-26T16:29:55.606162Z",
     "iopub.status.busy": "2023-03-26T16:29:55.605871Z",
     "iopub.status.idle": "2023-03-26T16:29:55.609081Z",
     "shell.execute_reply": "2023-03-26T16:29:55.608425Z"
    },
    "papermill": {
     "duration": 0.018863,
     "end_time": "2023-03-26T16:29:55.610618",
     "exception": false,
     "start_time": "2023-03-26T16:29:55.591755",
     "status": "completed"
    },
    "tags": []
   },
   "outputs": [],
   "source": [
    "No_of_valid_data = int(number_of_shards*filespershard*0.3)"
   ]
  },
  {
   "cell_type": "code",
   "execution_count": 35,
   "id": "51e4cb26",
   "metadata": {
    "execution": {
     "iopub.execute_input": "2023-03-26T16:29:55.637997Z",
     "iopub.status.busy": "2023-03-26T16:29:55.637693Z",
     "iopub.status.idle": "2023-03-26T16:29:55.897562Z",
     "shell.execute_reply": "2023-03-26T16:29:55.896793Z"
    },
    "papermill": {
     "duration": 0.275568,
     "end_time": "2023-03-26T16:29:55.899444",
     "exception": false,
     "start_time": "2023-03-26T16:29:55.623876",
     "status": "completed"
    },
    "tags": []
   },
   "outputs": [],
   "source": [
    "from sklearn.metrics import confusion_matrix\n",
    "from sklearn.metrics import ConfusionMatrixDisplay,classification_report"
   ]
  },
  {
   "cell_type": "code",
   "execution_count": 36,
   "id": "74091ea0",
   "metadata": {
    "execution": {
     "iopub.execute_input": "2023-03-26T16:29:55.927898Z",
     "iopub.status.busy": "2023-03-26T16:29:55.927623Z",
     "iopub.status.idle": "2023-03-26T16:30:06.893735Z",
     "shell.execute_reply": "2023-03-26T16:30:06.892888Z"
    },
    "papermill": {
     "duration": 10.982074,
     "end_time": "2023-03-26T16:30:06.895708",
     "exception": false,
     "start_time": "2023-03-26T16:29:55.913634",
     "status": "completed"
    },
    "tags": []
   },
   "outputs": [
    {
     "name": "stdout",
     "output_type": "stream",
     "text": [
      "\r",
      " 1/71 [..............................] - ETA: 1:02"
     ]
    },
    {
     "name": "stdout",
     "output_type": "stream",
     "text": [
      "\b\b\b\b\b\b\b\b\b\b\b\b\b\b\b\b\b\b\b\b\b\b\b\b\b\b\b\b\b\b\b\b\b\b\b\b\b\b\b\b\b\b\b\b\b\b\b\b\b\b\r",
      " 3/71 [>.............................] - ETA: 2s  "
     ]
    },
    {
     "name": "stdout",
     "output_type": "stream",
     "text": [
      "\b\b\b\b\b\b\b\b\b\b\b\b\b\b\b\b\b\b\b\b\b\b\b\b\b\b\b\b\b\b\b\b\b\b\b\b\b\b\b\b\b\b\b\b\b\b\b\b\r",
      " 4/71 [>.............................] - ETA: 3s"
     ]
    },
    {
     "name": "stdout",
     "output_type": "stream",
     "text": [
      "\b\b\b\b\b\b\b\b\b\b\b\b\b\b\b\b\b\b\b\b\b\b\b\b\b\b\b\b\b\b\b\b\b\b\b\b\b\b\b\b\b\b\b\b\b\b\b\b\r",
      " 5/71 [=>............................] - ETA: 3s"
     ]
    },
    {
     "name": "stdout",
     "output_type": "stream",
     "text": [
      "\b\b\b\b\b\b\b\b\b\b\b\b\b\b\b\b\b\b\b\b\b\b\b\b\b\b\b\b\b\b\b\b\b\b\b\b\b\b\b\b\b\b\b\b\b\b\b\b\r",
      " 6/71 [=>............................] - ETA: 3s"
     ]
    },
    {
     "name": "stdout",
     "output_type": "stream",
     "text": [
      "\b\b\b\b\b\b\b\b\b\b\b\b\b\b\b\b\b\b\b\b\b\b\b\b\b\b\b\b\b\b\b\b\b\b\b\b\b\b\b\b\b\b\b\b\b\b\b\b\r",
      " 7/71 [=>............................] - ETA: 3s"
     ]
    },
    {
     "name": "stdout",
     "output_type": "stream",
     "text": [
      "\b\b\b\b\b\b\b\b\b\b\b\b\b\b\b\b\b\b\b\b\b\b\b\b\b\b\b\b\b\b\b\b\b\b\b\b\b\b\b\b\b\b\b\b\b\b\b\b\r",
      " 8/71 [==>...........................] - ETA: 3s"
     ]
    },
    {
     "name": "stdout",
     "output_type": "stream",
     "text": [
      "\b\b\b\b\b\b\b\b\b\b\b\b\b\b\b\b\b\b\b\b\b\b\b\b\b\b\b\b\b\b\b\b\b\b\b\b\b\b\b\b\b\b\b\b\b\b\b\b\r",
      " 9/71 [==>...........................] - ETA: 3s"
     ]
    },
    {
     "name": "stdout",
     "output_type": "stream",
     "text": [
      "\b\b\b\b\b\b\b\b\b\b\b\b\b\b\b\b\b\b\b\b\b\b\b\b\b\b\b\b\b\b\b\b\b\b\b\b\b\b\b\b\b\b\b\b\b\b\b\b\r",
      "10/71 [===>..........................] - ETA: 3s"
     ]
    },
    {
     "name": "stdout",
     "output_type": "stream",
     "text": [
      "\b\b\b\b\b\b\b\b\b\b\b\b\b\b\b\b\b\b\b\b\b\b\b\b\b\b\b\b\b\b\b\b\b\b\b\b\b\b\b\b\b\b\b\b\b\b\b\b\r",
      "11/71 [===>..........................] - ETA: 3s"
     ]
    },
    {
     "name": "stdout",
     "output_type": "stream",
     "text": [
      "\b\b\b\b\b\b\b\b\b\b\b\b\b\b\b\b\b\b\b\b\b\b\b\b\b\b\b\b\b\b\b\b\b\b\b\b\b\b\b\b\b\b\b\b\b\b\b\b\r",
      "12/71 [====>.........................] - ETA: 3s"
     ]
    },
    {
     "name": "stdout",
     "output_type": "stream",
     "text": [
      "\b\b\b\b\b\b\b\b\b\b\b\b\b\b\b\b\b\b\b\b\b\b\b\b\b\b\b\b\b\b\b\b\b\b\b\b\b\b\b\b\b\b\b\b\b\b\b\b\r",
      "13/71 [====>.........................] - ETA: 3s"
     ]
    },
    {
     "name": "stdout",
     "output_type": "stream",
     "text": [
      "\b\b\b\b\b\b\b\b\b\b\b\b\b\b\b\b\b\b\b\b\b\b\b\b\b\b\b\b\b\b\b\b\b\b\b\b\b\b\b\b\b\b\b\b\b\b\b\b\r",
      "14/71 [====>.........................] - ETA: 3s"
     ]
    },
    {
     "name": "stdout",
     "output_type": "stream",
     "text": [
      "\b\b\b\b\b\b\b\b\b\b\b\b\b\b\b\b\b\b\b\b\b\b\b\b\b\b\b\b\b\b\b\b\b\b\b\b\b\b\b\b\b\b\b\b\b\b\b\b\r",
      "15/71 [=====>........................] - ETA: 3s"
     ]
    },
    {
     "name": "stdout",
     "output_type": "stream",
     "text": [
      "\b\b\b\b\b\b\b\b\b\b\b\b\b\b\b\b\b\b\b\b\b\b\b\b\b\b\b\b\b\b\b\b\b\b\b\b\b\b\b\b\b\b\b\b\b\b\b\b\r",
      "16/71 [=====>........................] - ETA: 3s"
     ]
    },
    {
     "name": "stdout",
     "output_type": "stream",
     "text": [
      "\b\b\b\b\b\b\b\b\b\b\b\b\b\b\b\b\b\b\b\b\b\b\b\b\b\b\b\b\b\b\b\b\b\b\b\b\b\b\b\b\b\b\b\b\b\b\b\b\r",
      "17/71 [======>.......................] - ETA: 3s"
     ]
    },
    {
     "name": "stdout",
     "output_type": "stream",
     "text": [
      "\b\b\b\b\b\b\b\b\b\b\b\b\b\b\b\b\b\b\b\b\b\b\b\b\b\b\b\b\b\b\b\b\b\b\b\b\b\b\b\b\b\b\b\b\b\b\b\b\r",
      "18/71 [======>.......................] - ETA: 3s"
     ]
    },
    {
     "name": "stdout",
     "output_type": "stream",
     "text": [
      "\b\b\b\b\b\b\b\b\b\b\b\b\b\b\b\b\b\b\b\b\b\b\b\b\b\b\b\b\b\b\b\b\b\b\b\b\b\b\b\b\b\b\b\b\b\b\b\b\r",
      "19/71 [=======>......................] - ETA: 3s"
     ]
    },
    {
     "name": "stdout",
     "output_type": "stream",
     "text": [
      "\b\b\b\b\b\b\b\b\b\b\b\b\b\b\b\b\b\b\b\b\b\b\b\b\b\b\b\b\b\b\b\b\b\b\b\b\b\b\b\b\b\b\b\b\b\b\b\b\r",
      "20/71 [=======>......................] - ETA: 3s"
     ]
    },
    {
     "name": "stdout",
     "output_type": "stream",
     "text": [
      "\b\b\b\b\b\b\b\b\b\b\b\b\b\b\b\b\b\b\b\b\b\b\b\b\b\b\b\b\b\b\b\b\b\b\b\b\b\b\b\b\b\b\b\b\b\b\b\b\r",
      "21/71 [=======>......................] - ETA: 3s"
     ]
    },
    {
     "name": "stdout",
     "output_type": "stream",
     "text": [
      "\b\b\b\b\b\b\b\b\b\b\b\b\b\b\b\b\b\b\b\b\b\b\b\b\b\b\b\b\b\b\b\b\b\b\b\b\b\b\b\b\b\b\b\b\b\b\b\b\r",
      "22/71 [========>.....................] - ETA: 3s"
     ]
    },
    {
     "name": "stdout",
     "output_type": "stream",
     "text": [
      "\b\b\b\b\b\b\b\b\b\b\b\b\b\b\b\b\b\b\b\b\b\b\b\b\b\b\b\b\b\b\b\b\b\b\b\b\b\b\b\b\b\b\b\b\b\b\b\b\r",
      "23/71 [========>.....................] - ETA: 2s"
     ]
    },
    {
     "name": "stdout",
     "output_type": "stream",
     "text": [
      "\b\b\b\b\b\b\b\b\b\b\b\b\b\b\b\b\b\b\b\b\b\b\b\b\b\b\b\b\b\b\b\b\b\b\b\b\b\b\b\b\b\b\b\b\b\b\b\b\r",
      "24/71 [=========>....................] - ETA: 2s"
     ]
    },
    {
     "name": "stdout",
     "output_type": "stream",
     "text": [
      "\b\b\b\b\b\b\b\b\b\b\b\b\b\b\b\b\b\b\b\b\b\b\b\b\b\b\b\b\b\b\b\b\b\b\b\b\b\b\b\b\b\b\b\b\b\b\b\b\r",
      "25/71 [=========>....................] - ETA: 2s"
     ]
    },
    {
     "name": "stdout",
     "output_type": "stream",
     "text": [
      "\b\b\b\b\b\b\b\b\b\b\b\b\b\b\b\b\b\b\b\b\b\b\b\b\b\b\b\b\b\b\b\b\b\b\b\b\b\b\b\b\b\b\b\b\b\b\b\b\r",
      "26/71 [=========>....................] - ETA: 2s"
     ]
    },
    {
     "name": "stdout",
     "output_type": "stream",
     "text": [
      "\b\b\b\b\b\b\b\b\b\b\b\b\b\b\b\b\b\b\b\b\b\b\b\b\b\b\b\b\b\b\b\b\b\b\b\b\b\b\b\b\b\b\b\b\b\b\b\b\r",
      "27/71 [==========>...................] - ETA: 2s"
     ]
    },
    {
     "name": "stdout",
     "output_type": "stream",
     "text": [
      "\b\b\b\b\b\b\b\b\b\b\b\b\b\b\b\b\b\b\b\b\b\b\b\b\b\b\b\b\b\b\b\b\b\b\b\b\b\b\b\b\b\b\b\b\b\b\b\b\r",
      "28/71 [==========>...................] - ETA: 2s"
     ]
    },
    {
     "name": "stdout",
     "output_type": "stream",
     "text": [
      "\b\b\b\b\b\b\b\b\b\b\b\b\b\b\b\b\b\b\b\b\b\b\b\b\b\b\b\b\b\b\b\b\b\b\b\b\b\b\b\b\b\b\b\b\b\b\b\b\r",
      "29/71 [===========>..................] - ETA: 2s"
     ]
    },
    {
     "name": "stdout",
     "output_type": "stream",
     "text": [
      "\b\b\b\b\b\b\b\b\b\b\b\b\b\b\b\b\b\b\b\b\b\b\b\b\b\b\b\b\b\b\b\b\b\b\b\b\b\b\b\b\b\b\b\b\b\b\b\b\r",
      "30/71 [===========>..................] - ETA: 2s"
     ]
    },
    {
     "name": "stdout",
     "output_type": "stream",
     "text": [
      "\b\b\b\b\b\b\b\b\b\b\b\b\b\b\b\b\b\b\b\b\b\b\b\b\b\b\b\b\b\b\b\b\b\b\b\b\b\b\b\b\b\b\b\b\b\b\b\b\r",
      "31/71 [============>.................] - ETA: 2s"
     ]
    },
    {
     "name": "stdout",
     "output_type": "stream",
     "text": [
      "\b\b\b\b\b\b\b\b\b\b\b\b\b\b\b\b\b\b\b\b\b\b\b\b\b\b\b\b\b\b\b\b\b\b\b\b\b\b\b\b\b\b\b\b\b\b\b\b\r",
      "32/71 [============>.................] - ETA: 2s"
     ]
    },
    {
     "name": "stdout",
     "output_type": "stream",
     "text": [
      "\b\b\b\b\b\b\b\b\b\b\b\b\b\b\b\b\b\b\b\b\b\b\b\b\b\b\b\b\b\b\b\b\b\b\b\b\b\b\b\b\b\b\b\b\b\b\b\b\r",
      "33/71 [============>.................] - ETA: 2s"
     ]
    },
    {
     "name": "stdout",
     "output_type": "stream",
     "text": [
      "\b\b\b\b\b\b\b\b\b\b\b\b\b\b\b\b\b\b\b\b\b\b\b\b\b\b\b\b\b\b\b\b\b\b\b\b\b\b\b\b\b\b\b\b\b\b\b\b\r",
      "34/71 [=============>................] - ETA: 2s"
     ]
    },
    {
     "name": "stdout",
     "output_type": "stream",
     "text": [
      "\b\b\b\b\b\b\b\b\b\b\b\b\b\b\b\b\b\b\b\b\b\b\b\b\b\b\b\b\b\b\b\b\b\b\b\b\b\b\b\b\b\b\b\b\b\b\b\b\r",
      "35/71 [=============>................] - ETA: 2s"
     ]
    },
    {
     "name": "stdout",
     "output_type": "stream",
     "text": [
      "\b\b\b\b\b\b\b\b\b\b\b\b\b\b\b\b\b\b\b\b\b\b\b\b\b\b\b\b\b\b\b\b\b\b\b\b\b\b\b\b\b\b\b\b\b\b\b\b\r",
      "36/71 [==============>...............] - ETA: 2s"
     ]
    },
    {
     "name": "stdout",
     "output_type": "stream",
     "text": [
      "\b\b\b\b\b\b\b\b\b\b\b\b\b\b\b\b\b\b\b\b\b\b\b\b\b\b\b\b\b\b\b\b\b\b\b\b\b\b\b\b\b\b\b\b\b\b\b\b\r",
      "37/71 [==============>...............] - ETA: 2s"
     ]
    },
    {
     "name": "stdout",
     "output_type": "stream",
     "text": [
      "\b\b\b\b\b\b\b\b\b\b\b\b\b\b\b\b\b\b\b\b\b\b\b\b\b\b\b\b\b\b\b\b\b\b\b\b\b\b\b\b\b\b\b\b\b\b\b\b\r",
      "38/71 [===============>..............] - ETA: 2s"
     ]
    },
    {
     "name": "stdout",
     "output_type": "stream",
     "text": [
      "\b\b\b\b\b\b\b\b\b\b\b\b\b\b\b\b\b\b\b\b\b\b\b\b\b\b\b\b\b\b\b\b\b\b\b\b\b\b\b\b\b\b\b\b\b\b\b\b\r",
      "39/71 [===============>..............] - ETA: 2s"
     ]
    },
    {
     "name": "stdout",
     "output_type": "stream",
     "text": [
      "\b\b\b\b\b\b\b\b\b\b\b\b\b\b\b\b\b\b\b\b\b\b\b\b\b\b\b\b\b\b\b\b\b\b\b\b\b\b\b\b\b\b\b\b\b\b\b\b\r",
      "40/71 [===============>..............] - ETA: 1s"
     ]
    },
    {
     "name": "stdout",
     "output_type": "stream",
     "text": [
      "\b\b\b\b\b\b\b\b\b\b\b\b\b\b\b\b\b\b\b\b\b\b\b\b\b\b\b\b\b\b\b\b\b\b\b\b\b\b\b\b\b\b\b\b\b\b\b\b\r",
      "41/71 [================>.............] - ETA: 1s"
     ]
    },
    {
     "name": "stdout",
     "output_type": "stream",
     "text": [
      "\b\b\b\b\b\b\b\b\b\b\b\b\b\b\b\b\b\b\b\b\b\b\b\b\b\b\b\b\b\b\b\b\b\b\b\b\b\b\b\b\b\b\b\b\b\b\b\b\r",
      "42/71 [================>.............] - ETA: 1s"
     ]
    },
    {
     "name": "stdout",
     "output_type": "stream",
     "text": [
      "\b\b\b\b\b\b\b\b\b\b\b\b\b\b\b\b\b\b\b\b\b\b\b\b\b\b\b\b\b\b\b\b\b\b\b\b\b\b\b\b\b\b\b\b\b\b\b\b\r",
      "43/71 [=================>............] - ETA: 1s"
     ]
    },
    {
     "name": "stdout",
     "output_type": "stream",
     "text": [
      "\b\b\b\b\b\b\b\b\b\b\b\b\b\b\b\b\b\b\b\b\b\b\b\b\b\b\b\b\b\b\b\b\b\b\b\b\b\b\b\b\b\b\b\b\b\b\b\b\r",
      "44/71 [=================>............] - ETA: 1s"
     ]
    },
    {
     "name": "stdout",
     "output_type": "stream",
     "text": [
      "\b\b\b\b\b\b\b\b\b\b\b\b\b\b\b\b\b\b\b\b\b\b\b\b\b\b\b\b\b\b\b\b\b\b\b\b\b\b\b\b\b\b\b\b\b\b\b\b\r",
      "45/71 [==================>...........] - ETA: 1s"
     ]
    },
    {
     "name": "stdout",
     "output_type": "stream",
     "text": [
      "\b\b\b\b\b\b\b\b\b\b\b\b\b\b\b\b\b\b\b\b\b\b\b\b\b\b\b\b\b\b\b\b\b\b\b\b\b\b\b\b\b\b\b\b\b\b\b\b\r",
      "46/71 [==================>...........] - ETA: 1s"
     ]
    },
    {
     "name": "stdout",
     "output_type": "stream",
     "text": [
      "\b\b\b\b\b\b\b\b\b\b\b\b\b\b\b\b\b\b\b\b\b\b\b\b\b\b\b\b\b\b\b\b\b\b\b\b\b\b\b\b\b\b\b\b\b\b\b\b\r",
      "47/71 [==================>...........] - ETA: 1s"
     ]
    },
    {
     "name": "stdout",
     "output_type": "stream",
     "text": [
      "\b\b\b\b\b\b\b\b\b\b\b\b\b\b\b\b\b\b\b\b\b\b\b\b\b\b\b\b\b\b\b\b\b\b\b\b\b\b\b\b\b\b\b\b\b\b\b\b\r",
      "48/71 [===================>..........] - ETA: 1s"
     ]
    },
    {
     "name": "stdout",
     "output_type": "stream",
     "text": [
      "\b\b\b\b\b\b\b\b\b\b\b\b\b\b\b\b\b\b\b\b\b\b\b\b\b\b\b\b\b\b\b\b\b\b\b\b\b\b\b\b\b\b\b\b\b\b\b\b\r",
      "49/71 [===================>..........] - ETA: 1s"
     ]
    },
    {
     "name": "stdout",
     "output_type": "stream",
     "text": [
      "\b\b\b\b\b\b\b\b\b\b\b\b\b\b\b\b\b\b\b\b\b\b\b\b\b\b\b\b\b\b\b\b\b\b\b\b\b\b\b\b\b\b\b\b\b\b\b\b\r",
      "50/71 [====================>.........] - ETA: 1s"
     ]
    },
    {
     "name": "stdout",
     "output_type": "stream",
     "text": [
      "\b\b\b\b\b\b\b\b\b\b\b\b\b\b\b\b\b\b\b\b\b\b\b\b\b\b\b\b\b\b\b\b\b\b\b\b\b\b\b\b\b\b\b\b\b\b\b\b\r",
      "51/71 [====================>.........] - ETA: 1s"
     ]
    },
    {
     "name": "stdout",
     "output_type": "stream",
     "text": [
      "\b\b\b\b\b\b\b\b\b\b\b\b\b\b\b\b\b\b\b\b\b\b\b\b\b\b\b\b\b\b\b\b\b\b\b\b\b\b\b\b\b\b\b\b\b\b\b\b\r",
      "52/71 [====================>.........] - ETA: 1s"
     ]
    },
    {
     "name": "stdout",
     "output_type": "stream",
     "text": [
      "\b\b\b\b\b\b\b\b\b\b\b\b\b\b\b\b\b\b\b\b\b\b\b\b\b\b\b\b\b\b\b\b\b\b\b\b\b\b\b\b\b\b\b\b\b\b\b\b\r",
      "53/71 [=====================>........] - ETA: 1s"
     ]
    },
    {
     "name": "stdout",
     "output_type": "stream",
     "text": [
      "\b\b\b\b\b\b\b\b\b\b\b\b\b\b\b\b\b\b\b\b\b\b\b\b\b\b\b\b\b\b\b\b\b\b\b\b\b\b\b\b\b\b\b\b\b\b\b\b\r",
      "54/71 [=====================>........] - ETA: 1s"
     ]
    },
    {
     "name": "stdout",
     "output_type": "stream",
     "text": [
      "\b\b\b\b\b\b\b\b\b\b\b\b\b\b\b\b\b\b\b\b\b\b\b\b\b\b\b\b\b\b\b\b\b\b\b\b\b\b\b\b\b\b\b\b\b\b\b\b\r",
      "55/71 [======================>.......] - ETA: 1s"
     ]
    },
    {
     "name": "stdout",
     "output_type": "stream",
     "text": [
      "\b\b\b\b\b\b\b\b\b\b\b\b\b\b\b\b\b\b\b\b\b\b\b\b\b\b\b\b\b\b\b\b\b\b\b\b\b\b\b\b\b\b\b\b\b\b\b\b\r",
      "56/71 [======================>.......] - ETA: 0s"
     ]
    },
    {
     "name": "stdout",
     "output_type": "stream",
     "text": [
      "\b\b\b\b\b\b\b\b\b\b\b\b\b\b\b\b\b\b\b\b\b\b\b\b\b\b\b\b\b\b\b\b\b\b\b\b\b\b\b\b\b\b\b\b\b\b\b\b\r",
      "57/71 [=======================>......] - ETA: 0s"
     ]
    },
    {
     "name": "stdout",
     "output_type": "stream",
     "text": [
      "\b\b\b\b\b\b\b\b\b\b\b\b\b\b\b\b\b\b\b\b\b\b\b\b\b\b\b\b\b\b\b\b\b\b\b\b\b\b\b\b\b\b\b\b\b\b\b\b\r",
      "58/71 [=======================>......] - ETA: 0s"
     ]
    },
    {
     "name": "stdout",
     "output_type": "stream",
     "text": [
      "\b\b\b\b\b\b\b\b\b\b\b\b\b\b\b\b\b\b\b\b\b\b\b\b\b\b\b\b\b\b\b\b\b\b\b\b\b\b\b\b\b\b\b\b\b\b\b\b\r",
      "59/71 [=======================>......] - ETA: 0s"
     ]
    },
    {
     "name": "stdout",
     "output_type": "stream",
     "text": [
      "\b\b\b\b\b\b\b\b\b\b\b\b\b\b\b\b\b\b\b\b\b\b\b\b\b\b\b\b\b\b\b\b\b\b\b\b\b\b\b\b\b\b\b\b\b\b\b\b\r",
      "60/71 [========================>.....] - ETA: 0s"
     ]
    },
    {
     "name": "stdout",
     "output_type": "stream",
     "text": [
      "\b\b\b\b\b\b\b\b\b\b\b\b\b\b\b\b\b\b\b\b\b\b\b\b\b\b\b\b\b\b\b\b\b\b\b\b\b\b\b\b\b\b\b\b\b\b\b\b\r",
      "61/71 [========================>.....] - ETA: 0s"
     ]
    },
    {
     "name": "stdout",
     "output_type": "stream",
     "text": [
      "\b\b\b\b\b\b\b\b\b\b\b\b\b\b\b\b\b\b\b\b\b\b\b\b\b\b\b\b\b\b\b\b\b\b\b\b\b\b\b\b\b\b\b\b\b\b\b\b\r",
      "62/71 [=========================>....] - ETA: 0s"
     ]
    },
    {
     "name": "stdout",
     "output_type": "stream",
     "text": [
      "\b\b\b\b\b\b\b\b\b\b\b\b\b\b\b\b\b\b\b\b\b\b\b\b\b\b\b\b\b\b\b\b\b\b\b\b\b\b\b\b\b\b\b\b\b\b\b\b\r",
      "63/71 [=========================>....] - ETA: 0s"
     ]
    },
    {
     "name": "stdout",
     "output_type": "stream",
     "text": [
      "\b\b\b\b\b\b\b\b\b\b\b\b\b\b\b\b\b\b\b\b\b\b\b\b\b\b\b\b\b\b\b\b\b\b\b\b\b\b\b\b\b\b\b\b\b\b\b\b\r",
      "64/71 [==========================>...] - ETA: 0s"
     ]
    },
    {
     "name": "stdout",
     "output_type": "stream",
     "text": [
      "\b\b\b\b\b\b\b\b\b\b\b\b\b\b\b\b\b\b\b\b\b\b\b\b\b\b\b\b\b\b\b\b\b\b\b\b\b\b\b\b\b\b\b\b\b\b\b\b\r",
      "65/71 [==========================>...] - ETA: 0s"
     ]
    },
    {
     "name": "stdout",
     "output_type": "stream",
     "text": [
      "\b\b\b\b\b\b\b\b\b\b\b\b\b\b\b\b\b\b\b\b\b\b\b\b\b\b\b\b\b\b\b\b\b\b\b\b\b\b\b\b\b\b\b\b\b\b\b\b\r",
      "66/71 [==========================>...] - ETA: 0s"
     ]
    },
    {
     "name": "stdout",
     "output_type": "stream",
     "text": [
      "\b\b\b\b\b\b\b\b\b\b\b\b\b\b\b\b\b\b\b\b\b\b\b\b\b\b\b\b\b\b\b\b\b\b\b\b\b\b\b\b\b\b\b\b\b\b\b\b\r",
      "67/71 [===========================>..] - ETA: 0s"
     ]
    },
    {
     "name": "stdout",
     "output_type": "stream",
     "text": [
      "\b\b\b\b\b\b\b\b\b\b\b\b\b\b\b\b\b\b\b\b\b\b\b\b\b\b\b\b\b\b\b\b\b\b\b\b\b\b\b\b\b\b\b\b\b\b\b\b\r",
      "68/71 [===========================>..] - ETA: 0s"
     ]
    },
    {
     "name": "stdout",
     "output_type": "stream",
     "text": [
      "\b\b\b\b\b\b\b\b\b\b\b\b\b\b\b\b\b\b\b\b\b\b\b\b\b\b\b\b\b\b\b\b\b\b\b\b\b\b\b\b\b\b\b\b\b\b\b\b\r",
      "69/71 [============================>.] - ETA: 0s"
     ]
    },
    {
     "name": "stdout",
     "output_type": "stream",
     "text": [
      "\b\b\b\b\b\b\b\b\b\b\b\b\b\b\b\b\b\b\b\b\b\b\b\b\b\b\b\b\b\b\b\b\b\b\b\b\b\b\b\b\b\b\b\b\b\b\b\b\r",
      "70/71 [============================>.] - ETA: 0s"
     ]
    },
    {
     "name": "stdout",
     "output_type": "stream",
     "text": [
      "\b\b\b\b\b\b\b\b\b\b\b\b\b\b\b\b\b\b\b\b\b\b\b\b\b\b\b\b\b\b\b\b\b\b\b\b\b\b\b\b\b\b\b\b\b\b\b\b\r",
      "71/71 [==============================] - ETA: 0s"
     ]
    },
    {
     "name": "stdout",
     "output_type": "stream",
     "text": [
      "\b\b\b\b\b\b\b\b\b\b\b\b\b\b\b\b\b\b\b\b\b\b\b\b\b\b\b\b\b\b\b\b\b\b\b\b\b\b\b\b\b\b\b\b\b\b\b\b\r",
      "71/71 [==============================] - 6s 70ms/step\n"
     ]
    }
   ],
   "source": [
    "test_image_batch, test_mask_batch = next(iter(valid_dataset.unbatch().batch(No_of_valid_data)))\n",
    "test_mask_batch_argmax = np.argmax(test_mask_batch, axis=3) \n",
    "test_pred_batch = model.predict(test_image_batch)\n",
    "test_pred_batch_argmax = np.argmax(test_pred_batch, axis=3)"
   ]
  },
  {
   "cell_type": "code",
   "execution_count": 37,
   "id": "d36d4677",
   "metadata": {
    "execution": {
     "iopub.execute_input": "2023-03-26T16:30:06.930645Z",
     "iopub.status.busy": "2023-03-26T16:30:06.930370Z",
     "iopub.status.idle": "2023-03-26T16:30:37.637687Z",
     "shell.execute_reply": "2023-03-26T16:30:37.636878Z"
    },
    "papermill": {
     "duration": 30.726262,
     "end_time": "2023-03-26T16:30:37.639585",
     "exception": false,
     "start_time": "2023-03-26T16:30:06.913323",
     "status": "completed"
    },
    "tags": []
   },
   "outputs": [],
   "source": [
    "cm = confusion_matrix(test_mask_batch_argmax.flatten(),test_pred_batch_argmax.flatten())\n",
    "disp = ConfusionMatrixDisplay(confusion_matrix=cm, display_labels=['non_ponds','ponds'])"
   ]
  },
  {
   "cell_type": "code",
   "execution_count": 38,
   "id": "0d7762ce",
   "metadata": {
    "execution": {
     "iopub.execute_input": "2023-03-26T16:30:37.675380Z",
     "iopub.status.busy": "2023-03-26T16:30:37.675098Z",
     "iopub.status.idle": "2023-03-26T16:30:37.916604Z",
     "shell.execute_reply": "2023-03-26T16:30:37.915874Z"
    },
    "papermill": {
     "duration": 0.260833,
     "end_time": "2023-03-26T16:30:37.918190",
     "exception": false,
     "start_time": "2023-03-26T16:30:37.657357",
     "status": "completed"
    },
    "tags": []
   },
   "outputs": [
    {
     "data": {
      "image/png": "[encoded data removed]",
      "text/plain": [
       "<Figure size 432x288 with 2 Axes>"
      ]
     },
     "metadata": {
      "needs_background": "light"
     },
     "output_type": "display_data"
    }
   ],
   "source": [
    "disp.plot(cmap=plt.cm.Reds)\n",
    "plt.savefig('confusion_matrix.png')\n",
    "plt.show()"
   ]
  }
 ],
 "metadata": {
  "accelerator": "GPU",
  "colab": {
   "provenance": []
  },
  "gpuClass": "standard",
  "kernelspec": {
   "display_name": "Python 3",
   "language": "python",
   "name": "python3"
  },
  "language_info": {
   "codemirror_mode": {
    "name": "ipython",
    "version": 3
   },
   "file_extension": ".py",
   "mimetype": "text/x-python",
   "name": "python",
   "nbconvert_exporter": "python",
   "pygments_lexer": "ipython3",
   "version": "3.9.15"
  },
  "papermill": {
   "default_parameters": {},
   "duration": 3427.348591,
   "end_time": "2023-03-26T16:30:42.328888",
   "environment_variables": {},
   "exception": null,
   "input_path": "notebooks/deeplabv3plus_squeeze_excitation.ipynb",
   "output_path": "notebook_output/deeplabv3plus_squeeze_excitation.ipynb",
   "parameters": {},
   "start_time": "2023-03-26T15:33:34.980297",
   "version": "2.4.0"
  },
  "vscode": {
   "interpreter": {
    "hash": "a7e3d68acf3053187c5b77579300c0651533903882d6ac7cf345b8b37dbd4fd7"
   }
  },
  "widgets": {
   "application/vnd.jupyter.widget-state+json": {
    "state": {
     "05d10c0f20d9431eb77a6f7ac9f95ea8": {
      "model_module": "@jupyter-widgets/base",
      "model_module_version": "2.0.0",
      "model_name": "LayoutModel",
      "state": {
       "_model_module": "@jupyter-widgets/base",
       "_model_module_version": "2.0.0",
       "_model_name": "LayoutModel",
       "_view_count": null,
       "_view_module": "@jupyter-widgets/base",
       "_view_module_version": "2.0.0",
       "_view_name": "LayoutView",
       "align_content": null,
       "align_items": null,
       "align_self": null,
       "border_bottom": null,
       "border_left": null,
       "border_right": null,
       "border_top": null,
       "bottom": null,
       "display": null,
       "flex": null,
       "flex_flow": null,
       "grid_area": null,
       "grid_auto_columns": null,
       "grid_auto_flow": null,
       "grid_auto_rows": null,
       "grid_column": null,
       "grid_gap": null,
       "grid_row": null,
       "grid_template_areas": null,
       "grid_template_columns": null,
       "grid_template_rows": null,
       "height": null,
       "justify_content": null,
       "justify_items": null,
       "left": null,
       "margin": null,
       "max_height": null,
       "max_width": null,
       "min_height": null,
       "min_width": null,
       "object_fit": null,
       "object_position": null,
       "order": null,
       "overflow": null,
       "padding": null,
       "right": null,
       "top": null,
       "visibility": null,
       "width": null
      }
     },
     "10dae74158614b32bc846afdc7bc4f2b": {
      "model_module": "@jupyter-widgets/controls",
      "model_module_version": "2.0.0",
      "model_name": "FloatProgressModel",
      "state": {
       "_dom_classes": [],
       "_model_module": "@jupyter-widgets/controls",
       "_model_module_version": "2.0.0",
       "_model_name": "FloatProgressModel",
       "_view_count": null,
       "_view_module": "@jupyter-widgets/controls",
       "_view_module_version": "2.0.0",
       "_view_name": "ProgressView",
       "bar_style": "success",
       "description": "",
       "description_allow_html": false,
       "layout": "IPY_MODEL_c23dbb1b46f64110a12ce4d909a6998c",
       "max": 3.0,
       "min": 0.0,
       "orientation": "horizontal",
       "style": "IPY_MODEL_3f47253e2ba845ea80a551229091846f",
       "tabbable": null,
       "tooltip": null,
       "value": 3.0
      }
     },
     "1a71ea7d018545469b43fe33d2dcc480": {
      "model_module": "@jupyter-widgets/controls",
      "model_module_version": "2.0.0",
      "model_name": "HBoxModel",
      "state": {
       "_dom_classes": [],
       "_model_module": "@jupyter-widgets/controls",
       "_model_module_version": "2.0.0",
       "_model_name": "HBoxModel",
       "_view_count": null,
       "_view_module": "@jupyter-widgets/controls",
       "_view_module_version": "2.0.0",
       "_view_name": "HBoxView",
       "box_style": "",
       "children": [
        "IPY_MODEL_3ad79c9b78dc43b9873e3979f60ad6a1",
        "IPY_MODEL_4f9417e7eba847a78234d5a01321fde5",
        "IPY_MODEL_91bfeb6cb722483d8e518297fdf8c4cf"
       ],
       "layout": "IPY_MODEL_b43dcf2838554a60bce3dfe0bb9a16de",
       "tabbable": null,
       "tooltip": null
      }
     },
     "2853f0ec6f4f441490c5e84d12b7456d": {
      "model_module": "@jupyter-widgets/controls",
      "model_module_version": "2.0.0",
      "model_name": "HTMLStyleModel",
      "state": {
       "_model_module": "@jupyter-widgets/controls",
       "_model_module_version": "2.0.0",
       "_model_name": "HTMLStyleModel",
       "_view_count": null,
       "_view_module": "@jupyter-widgets/base",
       "_view_module_version": "2.0.0",
       "_view_name": "StyleView",
       "background": null,
       "description_width": "",
       "font_size": null,
       "text_color": null
      }
     },
     "3ad79c9b78dc43b9873e3979f60ad6a1": {
      "model_module": "@jupyter-widgets/controls",
      "model_module_version": "2.0.0",
      "model_name": "HTMLModel",
      "state": {
       "_dom_classes": [],
       "_model_module": "@jupyter-widgets/controls",
       "_model_module_version": "2.0.0",
       "_model_name": "HTMLModel",
       "_view_count": null,
       "_view_module": "@jupyter-widgets/controls",
       "_view_module_version": "2.0.0",
       "_view_name": "HTMLView",
       "description": "",
       "description_allow_html": false,
       "layout": "IPY_MODEL_bda323a8b3c84710a380774b309b7211",
       "placeholder": "​",
       "style": "IPY_MODEL_f73d25a61b6c489faac3a05c6a5a726e",
       "tabbable": null,
       "tooltip": null,
       "value": "100%"
      }
     },
     "3f47253e2ba845ea80a551229091846f": {
      "model_module": "@jupyter-widgets/controls",
      "model_module_version": "2.0.0",
      "model_name": "ProgressStyleModel",
      "state": {
       "_model_module": "@jupyter-widgets/controls",
       "_model_module_version": "2.0.0",
       "_model_name": "ProgressStyleModel",
       "_view_count": null,
       "_view_module": "@jupyter-widgets/base",
       "_view_module_version": "2.0.0",
       "_view_name": "StyleView",
       "bar_color": null,
       "description_width": ""
      }
     },
     "4994d7ba9cb14215a879e17b712837f0": {
      "model_module": "@jupyter-widgets/base",
      "model_module_version": "2.0.0",
      "model_name": "LayoutModel",
      "state": {
       "_model_module": "@jupyter-widgets/base",
       "_model_module_version": "2.0.0",
       "_model_name": "LayoutModel",
       "_view_count": null,
       "_view_module": "@jupyter-widgets/base",
       "_view_module_version": "2.0.0",
       "_view_name": "LayoutView",
       "align_content": null,
       "align_items": null,
       "align_self": null,
       "border_bottom": null,
       "border_left": null,
       "border_right": null,
       "border_top": null,
       "bottom": null,
       "display": null,
       "flex": null,
       "flex_flow": null,
       "grid_area": null,
       "grid_auto_columns": null,
       "grid_auto_flow": null,
       "grid_auto_rows": null,
       "grid_column": null,
       "grid_gap": null,
       "grid_row": null,
       "grid_template_areas": null,
       "grid_template_columns": null,
       "grid_template_rows": null,
       "height": null,
       "justify_content": null,
       "justify_items": null,
       "left": null,
       "margin": null,
       "max_height": null,
       "max_width": null,
       "min_height": null,
       "min_width": null,
       "object_fit": null,
       "object_position": null,
       "order": null,
       "overflow": null,
       "padding": null,
       "right": null,
       "top": null,
       "visibility": null,
       "width": null
      }
     },
     "4f9417e7eba847a78234d5a01321fde5": {
      "model_module": "@jupyter-widgets/controls",
      "model_module_version": "2.0.0",
      "model_name": "FloatProgressModel",
      "state": {
       "_dom_classes": [],
       "_model_module": "@jupyter-widgets/controls",
       "_model_module_version": "2.0.0",
       "_model_name": "FloatProgressModel",
       "_view_count": null,
       "_view_module": "@jupyter-widgets/controls",
       "_view_module_version": "2.0.0",
       "_view_name": "ProgressView",
       "bar_style": "success",
       "description": "",
       "description_allow_html": false,
       "layout": "IPY_MODEL_cdff2a92c80f48bc92e1c426d79797f3",
       "max": 3.0,
       "min": 0.0,
       "orientation": "horizontal",
       "style": "IPY_MODEL_6dcc27be7ace452793c76f97620867f0",
       "tabbable": null,
       "tooltip": null,
       "value": 3.0
      }
     },
     "6dcc27be7ace452793c76f97620867f0": {
      "model_module": "@jupyter-widgets/controls",
      "model_module_version": "2.0.0",
      "model_name": "ProgressStyleModel",
      "state": {
       "_model_module": "@jupyter-widgets/controls",
       "_model_module_version": "2.0.0",
       "_model_name": "ProgressStyleModel",
       "_view_count": null,
       "_view_module": "@jupyter-widgets/base",
       "_view_module_version": "2.0.0",
       "_view_name": "StyleView",
       "bar_color": null,
       "description_width": ""
      }
     },
     "899b5c7fdbb04b228d169c82f0f7db83": {
      "model_module": "@jupyter-widgets/controls",
      "model_module_version": "2.0.0",
      "model_name": "HTMLModel",
      "state": {
       "_dom_classes": [],
       "_model_module": "@jupyter-widgets/controls",
       "_model_module_version": "2.0.0",
       "_model_name": "HTMLModel",
       "_view_count": null,
       "_view_module": "@jupyter-widgets/controls",
       "_view_module_version": "2.0.0",
       "_view_name": "HTMLView",
       "description": "",
       "description_allow_html": false,
       "layout": "IPY_MODEL_c94e69283fe9448aad7d8d5ea4ad36f8",
       "placeholder": "​",
       "style": "IPY_MODEL_2853f0ec6f4f441490c5e84d12b7456d",
       "tabbable": null,
       "tooltip": null,
       "value": "100%"
      }
     },
     "8c0bbbda386145c6bf75c835571164db": {
      "model_module": "@jupyter-widgets/base",
      "model_module_version": "2.0.0",
      "model_name": "LayoutModel",
      "state": {
       "_model_module": "@jupyter-widgets/base",
       "_model_module_version": "2.0.0",
       "_model_name": "LayoutModel",
       "_view_count": null,
       "_view_module": "@jupyter-widgets/base",
       "_view_module_version": "2.0.0",
       "_view_name": "LayoutView",
       "align_content": null,
       "align_items": null,
       "align_self": null,
       "border_bottom": null,
       "border_left": null,
       "border_right": null,
       "border_top": null,
       "bottom": null,
       "display": null,
       "flex": null,
       "flex_flow": null,
       "grid_area": null,
       "grid_auto_columns": null,
       "grid_auto_flow": null,
       "grid_auto_rows": null,
       "grid_column": null,
       "grid_gap": null,
       "grid_row": null,
       "grid_template_areas": null,
       "grid_template_columns": null,
       "grid_template_rows": null,
       "height": null,
       "justify_content": null,
       "justify_items": null,
       "left": null,
       "margin": null,
       "max_height": null,
       "max_width": null,
       "min_height": null,
       "min_width": null,
       "object_fit": null,
       "object_position": null,
       "order": null,
       "overflow": null,
       "padding": null,
       "right": null,
       "top": null,
       "visibility": null,
       "width": null
      }
     },
     "91bfeb6cb722483d8e518297fdf8c4cf": {
      "model_module": "@jupyter-widgets/controls",
      "model_module_version": "2.0.0",
      "model_name": "HTMLModel",
      "state": {
       "_dom_classes": [],
       "_model_module": "@jupyter-widgets/controls",
       "_model_module_version": "2.0.0",
       "_model_name": "HTMLModel",
       "_view_count": null,
       "_view_module": "@jupyter-widgets/controls",
       "_view_module_version": "2.0.0",
       "_view_name": "HTMLView",
       "description": "",
       "description_allow_html": false,
       "layout": "IPY_MODEL_4994d7ba9cb14215a879e17b712837f0",
       "placeholder": "​",
       "style": "IPY_MODEL_c2bfb146e36a453c975087aaa27c6648",
       "tabbable": null,
       "tooltip": null,
       "value": " 3/3 [00:00&lt;00:00,  6.49it/s]"
      }
     },
     "a7fa3601e31b4d43945fbee6d49e4e77": {
      "model_module": "@jupyter-widgets/controls",
      "model_module_version": "2.0.0",
      "model_name": "HBoxModel",
      "state": {
       "_dom_classes": [],
       "_model_module": "@jupyter-widgets/controls",
       "_model_module_version": "2.0.0",
       "_model_name": "HBoxModel",
       "_view_count": null,
       "_view_module": "@jupyter-widgets/controls",
       "_view_module_version": "2.0.0",
       "_view_name": "HBoxView",
       "box_style": "",
       "children": [
        "IPY_MODEL_899b5c7fdbb04b228d169c82f0f7db83",
        "IPY_MODEL_10dae74158614b32bc846afdc7bc4f2b",
        "IPY_MODEL_b58d383c6ede4370a70c640108d73765"
       ],
       "layout": "IPY_MODEL_8c0bbbda386145c6bf75c835571164db",
       "tabbable": null,
       "tooltip": null
      }
     },
     "b43dcf2838554a60bce3dfe0bb9a16de": {
      "model_module": "@jupyter-widgets/base",
      "model_module_version": "2.0.0",
      "model_name": "LayoutModel",
      "state": {
       "_model_module": "@jupyter-widgets/base",
       "_model_module_version": "2.0.0",
       "_model_name": "LayoutModel",
       "_view_count": null,
       "_view_module": "@jupyter-widgets/base",
       "_view_module_version": "2.0.0",
       "_view_name": "LayoutView",
       "align_content": null,
       "align_items": null,
       "align_self": null,
       "border_bottom": null,
       "border_left": null,
       "border_right": null,
       "border_top": null,
       "bottom": null,
       "display": null,
       "flex": null,
       "flex_flow": null,
       "grid_area": null,
       "grid_auto_columns": null,
       "grid_auto_flow": null,
       "grid_auto_rows": null,
       "grid_column": null,
       "grid_gap": null,
       "grid_row": null,
       "grid_template_areas": null,
       "grid_template_columns": null,
       "grid_template_rows": null,
       "height": null,
       "justify_content": null,
       "justify_items": null,
       "left": null,
       "margin": null,
       "max_height": null,
       "max_width": null,
       "min_height": null,
       "min_width": null,
       "object_fit": null,
       "object_position": null,
       "order": null,
       "overflow": null,
       "padding": null,
       "right": null,
       "top": null,
       "visibility": null,
       "width": null
      }
     },
     "b58d383c6ede4370a70c640108d73765": {
      "model_module": "@jupyter-widgets/controls",
      "model_module_version": "2.0.0",
      "model_name": "HTMLModel",
      "state": {
       "_dom_classes": [],
       "_model_module": "@jupyter-widgets/controls",
       "_model_module_version": "2.0.0",
       "_model_name": "HTMLModel",
       "_view_count": null,
       "_view_module": "@jupyter-widgets/controls",
       "_view_module_version": "2.0.0",
       "_view_name": "HTMLView",
       "description": "",
       "description_allow_html": false,
       "layout": "IPY_MODEL_05d10c0f20d9431eb77a6f7ac9f95ea8",
       "placeholder": "​",
       "style": "IPY_MODEL_da3879fc495c433da01de03d62f49a5a",
       "tabbable": null,
       "tooltip": null,
       "value": " 3/3 [00:00&lt;00:00,  7.21it/s]"
      }
     },
     "bda323a8b3c84710a380774b309b7211": {
      "model_module": "@jupyter-widgets/base",
      "model_module_version": "2.0.0",
      "model_name": "LayoutModel",
      "state": {
       "_model_module": "@jupyter-widgets/base",
       "_model_module_version": "2.0.0",
       "_model_name": "LayoutModel",
       "_view_count": null,
       "_view_module": "@jupyter-widgets/base",
       "_view_module_version": "2.0.0",
       "_view_name": "LayoutView",
       "align_content": null,
       "align_items": null,
       "align_self": null,
       "border_bottom": null,
       "border_left": null,
       "border_right": null,
       "border_top": null,
       "bottom": null,
       "display": null,
       "flex": null,
       "flex_flow": null,
       "grid_area": null,
       "grid_auto_columns": null,
       "grid_auto_flow": null,
       "grid_auto_rows": null,
       "grid_column": null,
       "grid_gap": null,
       "grid_row": null,
       "grid_template_areas": null,
       "grid_template_columns": null,
       "grid_template_rows": null,
       "height": null,
       "justify_content": null,
       "justify_items": null,
       "left": null,
       "margin": null,
       "max_height": null,
       "max_width": null,
       "min_height": null,
       "min_width": null,
       "object_fit": null,
       "object_position": null,
       "order": null,
       "overflow": null,
       "padding": null,
       "right": null,
       "top": null,
       "visibility": null,
       "width": null
      }
     },
     "c23dbb1b46f64110a12ce4d909a6998c": {
      "model_module": "@jupyter-widgets/base",
      "model_module_version": "2.0.0",
      "model_name": "LayoutModel",
      "state": {
       "_model_module": "@jupyter-widgets/base",
       "_model_module_version": "2.0.0",
       "_model_name": "LayoutModel",
       "_view_count": null,
       "_view_module": "@jupyter-widgets/base",
       "_view_module_version": "2.0.0",
       "_view_name": "LayoutView",
       "align_content": null,
       "align_items": null,
       "align_self": null,
       "border_bottom": null,
       "border_left": null,
       "border_right": null,
       "border_top": null,
       "bottom": null,
       "display": null,
       "flex": null,
       "flex_flow": null,
       "grid_area": null,
       "grid_auto_columns": null,
       "grid_auto_flow": null,
       "grid_auto_rows": null,
       "grid_column": null,
       "grid_gap": null,
       "grid_row": null,
       "grid_template_areas": null,
       "grid_template_columns": null,
       "grid_template_rows": null,
       "height": null,
       "justify_content": null,
       "justify_items": null,
       "left": null,
       "margin": null,
       "max_height": null,
       "max_width": null,
       "min_height": null,
       "min_width": null,
       "object_fit": null,
       "object_position": null,
       "order": null,
       "overflow": null,
       "padding": null,
       "right": null,
       "top": null,
       "visibility": null,
       "width": null
      }
     },
     "c2bfb146e36a453c975087aaa27c6648": {
      "model_module": "@jupyter-widgets/controls",
      "model_module_version": "2.0.0",
      "model_name": "HTMLStyleModel",
      "state": {
       "_model_module": "@jupyter-widgets/controls",
       "_model_module_version": "2.0.0",
       "_model_name": "HTMLStyleModel",
       "_view_count": null,
       "_view_module": "@jupyter-widgets/base",
       "_view_module_version": "2.0.0",
       "_view_name": "StyleView",
       "background": null,
       "description_width": "",
       "font_size": null,
       "text_color": null
      }
     },
     "c94e69283fe9448aad7d8d5ea4ad36f8": {
      "model_module": "@jupyter-widgets/base",
      "model_module_version": "2.0.0",
      "model_name": "LayoutModel",
      "state": {
       "_model_module": "@jupyter-widgets/base",
       "_model_module_version": "2.0.0",
       "_model_name": "LayoutModel",
       "_view_count": null,
       "_view_module": "@jupyter-widgets/base",
       "_view_module_version": "2.0.0",
       "_view_name": "LayoutView",
       "align_content": null,
       "align_items": null,
       "align_self": null,
       "border_bottom": null,
       "border_left": null,
       "border_right": null,
       "border_top": null,
       "bottom": null,
       "display": null,
       "flex": null,
       "flex_flow": null,
       "grid_area": null,
       "grid_auto_columns": null,
       "grid_auto_flow": null,
       "grid_auto_rows": null,
       "grid_column": null,
       "grid_gap": null,
       "grid_row": null,
       "grid_template_areas": null,
       "grid_template_columns": null,
       "grid_template_rows": null,
       "height": null,
       "justify_content": null,
       "justify_items": null,
       "left": null,
       "margin": null,
       "max_height": null,
       "max_width": null,
       "min_height": null,
       "min_width": null,
       "object_fit": null,
       "object_position": null,
       "order": null,
       "overflow": null,
       "padding": null,
       "right": null,
       "top": null,
       "visibility": null,
       "width": null
      }
     },
     "cdff2a92c80f48bc92e1c426d79797f3": {
      "model_module": "@jupyter-widgets/base",
      "model_module_version": "2.0.0",
      "model_name": "LayoutModel",
      "state": {
       "_model_module": "@jupyter-widgets/base",
       "_model_module_version": "2.0.0",
       "_model_name": "LayoutModel",
       "_view_count": null,
       "_view_module": "@jupyter-widgets/base",
       "_view_module_version": "2.0.0",
       "_view_name": "LayoutView",
       "align_content": null,
       "align_items": null,
       "align_self": null,
       "border_bottom": null,
       "border_left": null,
       "border_right": null,
       "border_top": null,
       "bottom": null,
       "display": null,
       "flex": null,
       "flex_flow": null,
       "grid_area": null,
       "grid_auto_columns": null,
       "grid_auto_flow": null,
       "grid_auto_rows": null,
       "grid_column": null,
       "grid_gap": null,
       "grid_row": null,
       "grid_template_areas": null,
       "grid_template_columns": null,
       "grid_template_rows": null,
       "height": null,
       "justify_content": null,
       "justify_items": null,
       "left": null,
       "margin": null,
       "max_height": null,
       "max_width": null,
       "min_height": null,
       "min_width": null,
       "object_fit": null,
       "object_position": null,
       "order": null,
       "overflow": null,
       "padding": null,
       "right": null,
       "top": null,
       "visibility": null,
       "width": null
      }
     },
     "da3879fc495c433da01de03d62f49a5a": {
      "model_module": "@jupyter-widgets/controls",
      "model_module_version": "2.0.0",
      "model_name": "HTMLStyleModel",
      "state": {
       "_model_module": "@jupyter-widgets/controls",
       "_model_module_version": "2.0.0",
       "_model_name": "HTMLStyleModel",
       "_view_count": null,
       "_view_module": "@jupyter-widgets/base",
       "_view_module_version": "2.0.0",
       "_view_name": "StyleView",
       "background": null,
       "description_width": "",
       "font_size": null,
       "text_color": null
      }
     },
     "f73d25a61b6c489faac3a05c6a5a726e": {
      "model_module": "@jupyter-widgets/controls",
      "model_module_version": "2.0.0",
      "model_name": "HTMLStyleModel",
      "state": {
       "_model_module": "@jupyter-widgets/controls",
       "_model_module_version": "2.0.0",
       "_model_name": "HTMLStyleModel",
       "_view_count": null,
       "_view_module": "@jupyter-widgets/base",
       "_view_module_version": "2.0.0",
       "_view_name": "StyleView",
       "background": null,
       "description_width": "",
       "font_size": null,
       "text_color": null
      }
     }
    },
    "version_major": 2,
    "version_minor": 0
   }
  }
 },
 "nbformat": 4,
 "nbformat_minor": 5
}