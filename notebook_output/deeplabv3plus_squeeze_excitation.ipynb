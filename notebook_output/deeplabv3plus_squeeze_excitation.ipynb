{
 "cells": [
  {
   "cell_type": "code",
   "execution_count": 1,
   "id": "1b0bcdc7",
   "metadata": {
    "execution": {
     "iopub.execute_input": "2023-03-26T17:47:49.367863Z",
     "iopub.status.busy": "2023-03-26T17:47:49.367544Z",
     "iopub.status.idle": "2023-03-26T17:47:52.275154Z",
     "shell.execute_reply": "2023-03-26T17:47:52.274239Z"
    },
    "papermill": {
     "duration": 2.917261,
     "end_time": "2023-03-26T17:47:52.277255",
     "exception": false,
     "start_time": "2023-03-26T17:47:49.359994",
     "status": "completed"
    },
    "tags": []
   },
   "outputs": [],
   "source": [
    "import os\n",
    "import numpy as np\n",
    "import glob\n",
    "from skimage.io import imread,imsave\n",
    "import numpy as np\n",
    "from matplotlib import pyplot as plt\n",
    "import tensorflow as tf\n",
    "import random\n",
    "import tqdm\n",
    "import keras\n",
    "from tqdm.notebook import tqdm_notebook\n",
    "import yaml\n",
    "from functools import partial\n",
    "from dvclive.keras import DVCLiveCallback\n",
    "from loss import tversky_loss, focal_tversky,sdice_loss, dice_loss,log_cosh_dice_loss\n",
    "from keras.callbacks import ModelCheckpoint, EarlyStopping, CSVLogger,LearningRateScheduler,TensorBoard\n",
    "from tensorflow import keras\n",
    "from tensorflow.keras.layers import AveragePooling2D, Conv2DTranspose, Concatenate, Input, GlobalAveragePooling2D, Dense, Multiply\n",
    "from keras.applications.resnet import ResNet50\n",
    "from tensorflow.keras.models import Model\n",
    "from tensorflow.keras.layers import Conv2D, BatchNormalization, Activation, UpSampling2D\n",
    "from clr_callback import *"
   ]
  },
  {
   "cell_type": "code",
   "execution_count": 2,
   "id": "9beb1bf3",
   "metadata": {
    "execution": {
     "iopub.execute_input": "2023-03-26T17:47:52.290178Z",
     "iopub.status.busy": "2023-03-26T17:47:52.289907Z",
     "iopub.status.idle": "2023-03-26T17:47:52.504133Z",
     "shell.execute_reply": "2023-03-26T17:47:52.503443Z"
    },
    "papermill": {
     "duration": 0.222391,
     "end_time": "2023-03-26T17:47:52.505696",
     "exception": false,
     "start_time": "2023-03-26T17:47:52.283305",
     "status": "completed"
    },
    "tags": []
   },
   "outputs": [],
   "source": [
    "tf.config.list_physical_devices('GPU')\n",
    "params = yaml.safe_load(open(\"params.yaml\"))['model_params']"
   ]
  },
  {
   "cell_type": "code",
   "execution_count": 3,
   "id": "d8a992e3",
   "metadata": {
    "execution": {
     "iopub.execute_input": "2023-03-26T17:47:52.519296Z",
     "iopub.status.busy": "2023-03-26T17:47:52.519032Z",
     "iopub.status.idle": "2023-03-26T17:47:52.522568Z",
     "shell.execute_reply": "2023-03-26T17:47:52.521942Z"
    },
    "id": "71DORHQ1C-sX",
    "papermill": {
     "duration": 0.012466,
     "end_time": "2023-03-26T17:47:52.524079",
     "exception": false,
     "start_time": "2023-03-26T17:47:52.511613",
     "status": "completed"
    },
    "tags": []
   },
   "outputs": [],
   "source": [
    "image_size = params['Image_patch_size']\n",
    "mask_size = params['Mask_patch_size']\n",
    "num_class = params['Number_of_classes']\n",
    "lr = params['Learning_rate']\n",
    "batchsize = params['Batch_size']\n",
    "optimizer = params['Optimizer']\n",
    "epochs = params['Epochs']"
   ]
  },
  {
   "cell_type": "code",
   "execution_count": 4,
   "id": "3d9d00cd",
   "metadata": {
    "execution": {
     "iopub.execute_input": "2023-03-26T17:47:52.562922Z",
     "iopub.status.busy": "2023-03-26T17:47:52.562622Z",
     "iopub.status.idle": "2023-03-26T17:47:52.565679Z",
     "shell.execute_reply": "2023-03-26T17:47:52.565054Z"
    },
    "id": "f2DlIuBLSI2L",
    "papermill": {
     "duration": 0.037761,
     "end_time": "2023-03-26T17:47:52.567232",
     "exception": false,
     "start_time": "2023-03-26T17:47:52.529471",
     "status": "completed"
    },
    "tags": []
   },
   "outputs": [],
   "source": [
    "AUTOTUNE = tf.data.AUTOTUNE\n",
    "PATH = 'tfrecords/'\n",
    "BATCH_SIZE = batchsize"
   ]
  },
  {
   "cell_type": "code",
   "execution_count": 5,
   "id": "d4aca2db",
   "metadata": {
    "colab": {
     "base_uri": "https://localhost:8080/"
    },
    "execution": {
     "iopub.execute_input": "2023-03-26T17:47:52.579170Z",
     "iopub.status.busy": "2023-03-26T17:47:52.578913Z",
     "iopub.status.idle": "2023-03-26T17:47:52.585914Z",
     "shell.execute_reply": "2023-03-26T17:47:52.585266Z"
    },
    "id": "fKmXnf0TSPD1",
    "outputId": "a3f2429d-899a-4f25-b123-1bd8bea35422",
    "papermill": {
     "duration": 0.01472,
     "end_time": "2023-03-26T17:47:52.587413",
     "exception": false,
     "start_time": "2023-03-26T17:47:52.572693",
     "status": "completed"
    },
    "tags": []
   },
   "outputs": [
    {
     "name": "stdout",
     "output_type": "stream",
     "text": [
      "Train TFRecord Files: 10\n",
      "Validation TFRecord Files: 5\n"
     ]
    }
   ],
   "source": [
    "FILENAMES = tf.io.gfile.glob(PATH +\"*large_images.tfrecords\")\n",
    "split_ind = int(0.7 * len(FILENAMES))\n",
    "TRAINING_FILENAMES, VALID_FILENAMES = FILENAMES[:split_ind], FILENAMES[split_ind:]\n",
    "print(\"Train TFRecord Files:\", len(TRAINING_FILENAMES))\n",
    "print(\"Validation TFRecord Files:\", len(VALID_FILENAMES))"
   ]
  },
  {
   "cell_type": "code",
   "execution_count": 6,
   "id": "7f9a0ee1",
   "metadata": {
    "execution": {
     "iopub.execute_input": "2023-03-26T17:47:52.599506Z",
     "iopub.status.busy": "2023-03-26T17:47:52.599251Z",
     "iopub.status.idle": "2023-03-26T17:47:52.603421Z",
     "shell.execute_reply": "2023-03-26T17:47:52.602819Z"
    },
    "id": "_JTcORzKSups",
    "papermill": {
     "duration": 0.01198,
     "end_time": "2023-03-26T17:47:52.604949",
     "exception": false,
     "start_time": "2023-03-26T17:47:52.592969",
     "status": "completed"
    },
    "tags": []
   },
   "outputs": [],
   "source": [
    "def read_tfrecord(example):\n",
    "    tfrecord_format = (\n",
    "        {\n",
    "         \"image\":tf.io.FixedLenFeature(shape=[*image_size], dtype=tf.float32),\n",
    "         \"mask\":tf.io.FixedLenFeature(shape=[*mask_size], dtype=tf.float32)\n",
    "        }\n",
    "    )\n",
    "    example = tf.io.parse_single_example(example, tfrecord_format)\n",
    "    image = example[\"image\"]\n",
    "    mask = example[\"mask\"]\n",
    "    mask = tf.one_hot(tf.cast(mask, tf.uint8), 2)\n",
    "    return image,mask"
   ]
  },
  {
   "cell_type": "code",
   "execution_count": 7,
   "id": "717f5839",
   "metadata": {
    "execution": {
     "iopub.execute_input": "2023-03-26T17:47:52.617138Z",
     "iopub.status.busy": "2023-03-26T17:47:52.616884Z",
     "iopub.status.idle": "2023-03-26T17:47:52.620525Z",
     "shell.execute_reply": "2023-03-26T17:47:52.619892Z"
    },
    "id": "gTmCexY_SymR",
    "papermill": {
     "duration": 0.011595,
     "end_time": "2023-03-26T17:47:52.622058",
     "exception": false,
     "start_time": "2023-03-26T17:47:52.610463",
     "status": "completed"
    },
    "tags": []
   },
   "outputs": [],
   "source": [
    "def load_dataset(filenames):\n",
    "    ignore_order = tf.data.Options()\n",
    "    ignore_order.experimental_deterministic = False  # disable order, increase speed\n",
    "    dataset = tf.data.TFRecordDataset(\n",
    "        filenames\n",
    "    )  # automatically interleaves reads from multiple files\n",
    "    dataset = dataset.with_options(\n",
    "        ignore_order\n",
    "    )  # uses data as soon as it streams in, rather than in its original order\n",
    "    dataset = dataset.map(\n",
    "        partial(read_tfrecord), num_parallel_calls=AUTOTUNE\n",
    "    )\n",
    "    # returns a dataset of (image, label) pairs if labeled=True or just images if labeled=False\n",
    "    return dataset"
   ]
  },
  {
   "cell_type": "code",
   "execution_count": 8,
   "id": "6efd5737",
   "metadata": {
    "execution": {
     "iopub.execute_input": "2023-03-26T17:47:52.634422Z",
     "iopub.status.busy": "2023-03-26T17:47:52.634168Z",
     "iopub.status.idle": "2023-03-26T17:47:52.636985Z",
     "shell.execute_reply": "2023-03-26T17:47:52.636340Z"
    },
    "id": "fazLXuJG52Dh",
    "papermill": {
     "duration": 0.01068,
     "end_time": "2023-03-26T17:47:52.638484",
     "exception": false,
     "start_time": "2023-03-26T17:47:52.627804",
     "status": "completed"
    },
    "tags": []
   },
   "outputs": [],
   "source": [
    "seed=42"
   ]
  },
  {
   "cell_type": "code",
   "execution_count": 9,
   "id": "dccef702",
   "metadata": {
    "execution": {
     "iopub.execute_input": "2023-03-26T17:47:52.650684Z",
     "iopub.status.busy": "2023-03-26T17:47:52.650429Z",
     "iopub.status.idle": "2023-03-26T17:47:52.653719Z",
     "shell.execute_reply": "2023-03-26T17:47:52.653116Z"
    },
    "id": "jVfdUWD95PyJ",
    "papermill": {
     "duration": 0.011189,
     "end_time": "2023-03-26T17:47:52.655253",
     "exception": false,
     "start_time": "2023-03-26T17:47:52.644064",
     "status": "completed"
    },
    "tags": []
   },
   "outputs": [],
   "source": [
    "def augmentation(image, mask):\n",
    "    # both use the same seed, so they'll make the same random changes\n",
    "    flip_image = tf.image.random_flip_left_right(image,seed=seed)\n",
    "    flip_mask = tf.image.random_flip_left_right(mask,seed=seed)\n",
    "    # Other transformations...\n",
    "    return flip_image, flip_mask"
   ]
  },
  {
   "cell_type": "code",
   "execution_count": 10,
   "id": "b27231f1",
   "metadata": {
    "execution": {
     "iopub.execute_input": "2023-03-26T17:47:52.667643Z",
     "iopub.status.busy": "2023-03-26T17:47:52.667389Z",
     "iopub.status.idle": "2023-03-26T17:47:52.671168Z",
     "shell.execute_reply": "2023-03-26T17:47:52.670555Z"
    },
    "papermill": {
     "duration": 0.01182,
     "end_time": "2023-03-26T17:47:52.672730",
     "exception": false,
     "start_time": "2023-03-26T17:47:52.660910",
     "status": "completed"
    },
    "tags": []
   },
   "outputs": [],
   "source": [
    "def get_dataset(filenames):\n",
    "    dataset = tf.data.Dataset.range(10)\n",
    "    dataset = load_dataset(filenames).cache().repeat()\n",
    "    # to avoid data loss error\n",
    "    dataset = dataset.apply(tf.data.experimental.ignore_errors())\n",
    "    dataset = dataset.shuffle(2048)\n",
    "    dataset = dataset.prefetch(buffer_size=AUTOTUNE)\n",
    "    dataset = dataset.batch(BATCH_SIZE)\n",
    "    return dataset"
   ]
  },
  {
   "cell_type": "code",
   "execution_count": 11,
   "id": "fe288fca",
   "metadata": {
    "execution": {
     "iopub.execute_input": "2023-03-26T17:47:52.685076Z",
     "iopub.status.busy": "2023-03-26T17:47:52.684821Z",
     "iopub.status.idle": "2023-03-26T17:47:55.962606Z",
     "shell.execute_reply": "2023-03-26T17:47:55.961896Z"
    },
    "id": "v4NbzbiYTAzq",
    "papermill": {
     "duration": 3.286164,
     "end_time": "2023-03-26T17:47:55.964533",
     "exception": false,
     "start_time": "2023-03-26T17:47:52.678369",
     "status": "completed"
    },
    "tags": []
   },
   "outputs": [],
   "source": [
    "train_dataset = get_dataset(TRAINING_FILENAMES)\n",
    "valid_dataset = get_dataset(VALID_FILENAMES)"
   ]
  },
  {
   "cell_type": "code",
   "execution_count": 12,
   "id": "5d2937d6",
   "metadata": {
    "colab": {
     "base_uri": "https://localhost:8080/",
     "height": 1000
    },
    "execution": {
     "iopub.execute_input": "2023-03-26T17:47:55.977760Z",
     "iopub.status.busy": "2023-03-26T17:47:55.977495Z",
     "iopub.status.idle": "2023-03-26T17:47:57.492315Z",
     "shell.execute_reply": "2023-03-26T17:47:57.491626Z"
    },
    "id": "90jtcWNxUtf5",
    "outputId": "1b8ccdbb-357c-449f-b5d3-864a417caf1d",
    "papermill": {
     "duration": 1.524288,
     "end_time": "2023-03-26T17:47:57.495109",
     "exception": false,
     "start_time": "2023-03-26T17:47:55.970821",
     "status": "completed"
    },
    "tags": []
   },
   "outputs": [
    {
     "data": {
      "application/vnd.jupyter.widget-view+json": {
       "model_id": "919b50ac4b01497e89dd2d275db4b11c",
       "version_major": 2,
       "version_minor": 0
      },
      "text/plain": [
       "  0%|          | 0/3 [00:00<?, ?it/s]"
      ]
     },
     "metadata": {},
     "output_type": "display_data"
    },
    {
     "data": {
      "image/png": "[encoded data removed]",
      "text/plain": [
       "<Figure size 360x360 with 2 Axes>"
      ]
     },
     "metadata": {
      "needs_background": "light"
     },
     "output_type": "display_data"
    },
    {
     "data": {
      "image/png": "[encoded data removed]",
      "text/plain": [
       "<Figure size 360x360 with 2 Axes>"
      ]
     },
     "metadata": {
      "needs_background": "light"
     },
     "output_type": "display_data"
    },
    {
     "data": {
      "image/png": "[encoded data removed]",
      "text/plain": [
       "<Figure size 360x360 with 2 Axes>"
      ]
     },
     "metadata": {
      "needs_background": "light"
     },
     "output_type": "display_data"
    }
   ],
   "source": [
    "image_batch, label_batch = next(iter(train_dataset))\n",
    "for i in tqdm_notebook(range(3)):\n",
    "    image = image_batch[i]\n",
    "    mask = label_batch[i]\n",
    "    #Convert categorical to integer for visualization\n",
    "    mask = np.argmax(mask, axis=2)\n",
    "    plt.figure(figsize=(5,5))\n",
    "    plt.subplot(1,2,1)\n",
    "    plt.imshow(image[:,:,0:3])\n",
    "    plt.axis('off')\n",
    "    plt.subplot(1,2,2)\n",
    "    plt.imshow(mask, cmap='gray')\n",
    "    plt.axis('off')\n",
    "    plt.show()"
   ]
  },
  {
   "cell_type": "code",
   "execution_count": 13,
   "id": "4f7eb5fa",
   "metadata": {
    "colab": {
     "base_uri": "https://localhost:8080/",
     "height": 1000
    },
    "execution": {
     "iopub.execute_input": "2023-03-26T17:47:57.510551Z",
     "iopub.status.busy": "2023-03-26T17:47:57.510256Z",
     "iopub.status.idle": "2023-03-26T17:47:59.126049Z",
     "shell.execute_reply": "2023-03-26T17:47:59.125345Z"
    },
    "id": "5CD6Z1M224mJ",
    "outputId": "d5cd949a-9b79-44f4-81a1-baba917ee41b",
    "papermill": {
     "duration": 1.62643,
     "end_time": "2023-03-26T17:47:59.129012",
     "exception": false,
     "start_time": "2023-03-26T17:47:57.502582",
     "status": "completed"
    },
    "tags": []
   },
   "outputs": [
    {
     "data": {
      "application/vnd.jupyter.widget-view+json": {
       "model_id": "e9491355d20d48e9831704f9bdd8b801",
       "version_major": 2,
       "version_minor": 0
      },
      "text/plain": [
       "  0%|          | 0/3 [00:00<?, ?it/s]"
      ]
     },
     "metadata": {},
     "output_type": "display_data"
    },
    {
     "data": {
      "image/png": "[encoded data removed]",
      "text/plain": [
       "<Figure size 360x360 with 2 Axes>"
      ]
     },
     "metadata": {
      "needs_background": "light"
     },
     "output_type": "display_data"
    },
    {
     "data": {
      "image/png": "[encoded data removed]",
      "text/plain": [
       "<Figure size 360x360 with 2 Axes>"
      ]
     },
     "metadata": {
      "needs_background": "light"
     },
     "output_type": "display_data"
    },
    {
     "data": {
      "image/png": "[encoded data removed]",
      "text/plain": [
       "<Figure size 360x360 with 2 Axes>"
      ]
     },
     "metadata": {
      "needs_background": "light"
     },
     "output_type": "display_data"
    }
   ],
   "source": [
    "testimage_batch, label_batch = next(iter(valid_dataset))\n",
    "for i in tqdm_notebook(range(3)):\n",
    "    image = testimage_batch[i]\n",
    "    mask = label_batch[i]\n",
    "    #Convert categorical to integer for visualization\n",
    "    mask = np.argmax(mask, axis=2)\n",
    "    plt.figure(figsize=(5,5))\n",
    "    plt.subplot(1,2,1)\n",
    "    plt.imshow(image[:,:,0:3])\n",
    "    plt.axis('off')\n",
    "    plt.subplot(1,2,2)\n",
    "    plt.imshow(mask, cmap='gray')\n",
    "    plt.axis('off')\n",
    "    plt.show()"
   ]
  },
  {
   "cell_type": "code",
   "execution_count": 14,
   "id": "de8afb62",
   "metadata": {
    "execution": {
     "iopub.execute_input": "2023-03-26T17:47:59.147306Z",
     "iopub.status.busy": "2023-03-26T17:47:59.147033Z",
     "iopub.status.idle": "2023-03-26T17:47:59.149736Z",
     "shell.execute_reply": "2023-03-26T17:47:59.149108Z"
    },
    "papermill": {
     "duration": 0.013107,
     "end_time": "2023-03-26T17:47:59.151221",
     "exception": false,
     "start_time": "2023-03-26T17:47:59.138114",
     "status": "completed"
    },
    "tags": []
   },
   "outputs": [],
   "source": [
    "# GPUS = [\"GPU:0\",\"GPU:1\",\"GPU:2\",\"GPU:3\"]\n",
    "# strategy = tf.distribute.MirroredStrategy( GPUS )\n",
    "# print('Number of devices: %d' % strategy.num_replicas_in_sync)"
   ]
  },
  {
   "cell_type": "code",
   "execution_count": 15,
   "id": "79d197c4",
   "metadata": {
    "execution": {
     "iopub.execute_input": "2023-03-26T17:47:59.168382Z",
     "iopub.status.busy": "2023-03-26T17:47:59.168113Z",
     "iopub.status.idle": "2023-03-26T17:48:00.123015Z",
     "shell.execute_reply": "2023-03-26T17:48:00.122328Z"
    },
    "papermill": {
     "duration": 0.965261,
     "end_time": "2023-03-26T17:48:00.124659",
     "exception": false,
     "start_time": "2023-03-26T17:47:59.159398",
     "status": "completed"
    },
    "tags": []
   },
   "outputs": [
    {
     "name": "stdout",
     "output_type": "stream",
     "text": [
      "INFO:tensorflow:Using MirroredStrategy with devices ('/job:localhost/replica:0/task:0/device:GPU:0', '/job:localhost/replica:0/task:0/device:GPU:1', '/job:localhost/replica:0/task:0/device:GPU:2', '/job:localhost/replica:0/task:0/device:GPU:3')\n"
     ]
    },
    {
     "name": "stderr",
     "output_type": "stream",
     "text": [
      "INFO:tensorflow:Using MirroredStrategy with devices ('/job:localhost/replica:0/task:0/device:GPU:0', '/job:localhost/replica:0/task:0/device:GPU:1', '/job:localhost/replica:0/task:0/device:GPU:2', '/job:localhost/replica:0/task:0/device:GPU:3')\n"
     ]
    },
    {
     "name": "stdout",
     "output_type": "stream",
     "text": [
      "Number of devices: 4\n"
     ]
    }
   ],
   "source": [
    "strategy = tf.distribute.MirroredStrategy()\n",
    "print('Number of devices: {}'.format(strategy.num_replicas_in_sync))"
   ]
  },
  {
   "cell_type": "code",
   "execution_count": 16,
   "id": "272bc09f",
   "metadata": {
    "execution": {
     "iopub.execute_input": "2023-03-26T17:48:00.143487Z",
     "iopub.status.busy": "2023-03-26T17:48:00.143167Z",
     "iopub.status.idle": "2023-03-26T17:48:00.146728Z",
     "shell.execute_reply": "2023-03-26T17:48:00.146081Z"
    },
    "id": "Z1B8LaT766mK",
    "papermill": {
     "duration": 0.014462,
     "end_time": "2023-03-26T17:48:00.148217",
     "exception": false,
     "start_time": "2023-03-26T17:48:00.133755",
     "status": "completed"
    },
    "tags": []
   },
   "outputs": [],
   "source": [
    "# input dimensions, no. of channels, and no. of classes for the model\n",
    "IMG_HEIGHT = image_batch.shape[1]\n",
    "IMG_WIDTH  = image_batch.shape[2]\n",
    "IMG_CHANNELS = image_batch.shape[3]\n",
    "n_classes=num_class"
   ]
  },
  {
   "cell_type": "code",
   "execution_count": 17,
   "id": "3e2ac4e7",
   "metadata": {
    "execution": {
     "iopub.execute_input": "2023-03-26T17:48:00.166575Z",
     "iopub.status.busy": "2023-03-26T17:48:00.166263Z",
     "iopub.status.idle": "2023-03-26T17:48:00.177966Z",
     "shell.execute_reply": "2023-03-26T17:48:00.177310Z"
    },
    "papermill": {
     "duration": 0.022557,
     "end_time": "2023-03-26T17:48:00.179467",
     "exception": false,
     "start_time": "2023-03-26T17:48:00.156910",
     "status": "completed"
    },
    "tags": []
   },
   "outputs": [],
   "source": [
    "def SqueezeAndExcitation(inputs, ratio=8):\n",
    "    \n",
    "    b, h, w, c = inputs.shape\n",
    "    \n",
    "    x = GlobalAveragePooling2D()(inputs)\n",
    "    x = Dense(c//ratio, activation='relu', use_bias=False)(x)\n",
    "    x = Dense(c, activation='sigmoid', use_bias=False)(x)\n",
    "    \n",
    "    x = Multiply()([inputs, x])\n",
    "    \n",
    "    return x\n",
    "\n",
    "\n",
    "def ASPP(image_features):\n",
    "\n",
    "    shape = image_features.shape\n",
    "\n",
    "    y_pool = AveragePooling2D(pool_size=(shape[1], shape[2]))(image_features)\n",
    "    y_pool = Conv2D(filters=128, kernel_size=1, padding='same', use_bias=False)(y_pool)\n",
    "    y_pool = BatchNormalization(name=f'bn_1')(y_pool)\n",
    "    y_pool = Activation('relu', name=f'relu_1')(y_pool)\n",
    "    y_pool = UpSampling2D((shape[1], shape[2]), interpolation=\"bilinear\")(y_pool)\n",
    "\n",
    "    y_1 = Conv2D(filters=128, kernel_size=1, padding='same', use_bias=False)(image_features)\n",
    "    y_1 = BatchNormalization(name=f'bn_2')(y_1)\n",
    "    y_1 = Activation('relu', name=f'relu_2')(y_1)\n",
    "\n",
    "    y_6 = Conv2D(filters=128, kernel_size=3, padding='same', dilation_rate = 6,use_bias=False)(image_features)\n",
    "    y_6 = BatchNormalization(name=f'bn_3')(y_6)\n",
    "    y_6 = Activation('relu', name=f'relu_3')(y_6)\n",
    "\n",
    "    y_12 = Conv2D(filters=128, kernel_size=1, padding='same', dilation_rate = 12,use_bias=False)(image_features)\n",
    "    y_12 = BatchNormalization(name=f'bn_4')(y_12)\n",
    "    y_12 = Activation('relu', name=f'relu_4')(y_12)\n",
    "\n",
    "    y_18 = Conv2D(filters=128, kernel_size=3, padding='same', dilation_rate = 6,use_bias=False)(image_features)\n",
    "    y_18 = BatchNormalization(name=f'bn_5')(y_18)\n",
    "    y_18 = Activation('relu', name=f'relu_5')(y_18)\n",
    "\n",
    "    y_c = Concatenate()([y_pool, y_1, y_6, y_12, y_18])\n",
    "\n",
    "    y = Conv2D(filters=128, kernel_size=1, padding='same', use_bias=False)(y_c)\n",
    "    y = BatchNormalization(name=f'bn_6')(y)\n",
    "    y = Activation('relu', name=f'relu_6')(y)\n",
    "\n",
    "    return y"
   ]
  },
  {
   "cell_type": "code",
   "execution_count": 18,
   "id": "7030c9f4",
   "metadata": {
    "execution": {
     "iopub.execute_input": "2023-03-26T17:48:00.197994Z",
     "iopub.status.busy": "2023-03-26T17:48:00.197686Z",
     "iopub.status.idle": "2023-03-26T17:48:00.205843Z",
     "shell.execute_reply": "2023-03-26T17:48:00.205166Z"
    },
    "papermill": {
     "duration": 0.019031,
     "end_time": "2023-03-26T17:48:00.207312",
     "exception": false,
     "start_time": "2023-03-26T17:48:00.188281",
     "status": "completed"
    },
    "tags": []
   },
   "outputs": [],
   "source": [
    "def DeepLabV3PlusSE(inputs, classes=1):\n",
    "\n",
    "    inputs = Input(inputs)\n",
    "\n",
    "    base_model = ResNet50(weights='imagenet', include_top=False, input_tensor=inputs)\n",
    "    high_level_image_features = base_model.get_layer('conv4_block6_add').output\n",
    "    high_level_image_features = SqueezeAndExcitation(high_level_image_features, ratio=16)\n",
    "    \n",
    "    x_a = ASPP(high_level_image_features)\n",
    "    x_a = SqueezeAndExcitation(x_a, ratio=16)\n",
    "    x_a = UpSampling2D(size=4, interpolation='bilinear')(x_a)\n",
    "\n",
    "    low_level_image_features = base_model.get_layer('conv2_block3_add').output\n",
    "    low_level_image_features = SqueezeAndExcitation(low_level_image_features, ratio=16)\n",
    "\n",
    "    x_b = Conv2D(filters=256, kernel_size=1, padding='same', use_bias=False)(low_level_image_features)\n",
    "    x_b = BatchNormalization(name=f'bn_7')(x_b)\n",
    "    x_b = Activation('relu', name=f'relu_7')(x_b)\n",
    "\n",
    "    x = Concatenate()([x_a, x_b])\n",
    "\n",
    "    x = Conv2D(filters=256, kernel_size=3, padding='same', use_bias=False)(x)\n",
    "    x = BatchNormalization(name=f'bn_8')(x)\n",
    "    x = Activation('relu', name=f'relu_8')(x)\n",
    "\n",
    "    x = Conv2D(filters=256, kernel_size=3, padding='same', use_bias=False)(x)\n",
    "    x = BatchNormalization(name=f'bn_9')(x)\n",
    "    x = Activation('relu', name=f'relu_9')(x)\n",
    "\n",
    "    x = UpSampling2D(size=4, interpolation='bilinear')(x)\n",
    "\n",
    "    \"\"\" Outputs \"\"\"\n",
    "    x = Conv2D(classes, (1, 1), name='output_layer')(x)\n",
    "    \n",
    "    if classes == 1:\n",
    "      x = Activation('sigmoid')(x)\n",
    "    else:\n",
    "      x = Activation('softmax')(x)\n",
    "\n",
    "    model = Model(inputs=inputs, outputs=x)\n",
    "    \n",
    "    return model"
   ]
  },
  {
   "cell_type": "code",
   "execution_count": 19,
   "id": "e6198a10",
   "metadata": {
    "execution": {
     "iopub.execute_input": "2023-03-26T17:48:00.225723Z",
     "iopub.status.busy": "2023-03-26T17:48:00.225412Z",
     "iopub.status.idle": "2023-03-26T17:48:00.229471Z",
     "shell.execute_reply": "2023-03-26T17:48:00.228833Z"
    },
    "papermill": {
     "duration": 0.015041,
     "end_time": "2023-03-26T17:48:00.230993",
     "exception": false,
     "start_time": "2023-03-26T17:48:00.215952",
     "status": "completed"
    },
    "tags": []
   },
   "outputs": [],
   "source": [
    "# calculation of steps per epoch for traning and validation\n",
    "filespershard = 500\n",
    "number_of_shards = len(glob.glob(PATH+'*.tfrecords'))\n",
    "steps_per_epoch = (number_of_shards*filespershard*0.7)// BATCH_SIZE\n",
    "val_steps_per_epoch = (number_of_shards*filespershard*0.3)//BATCH_SIZE"
   ]
  },
  {
   "cell_type": "code",
   "execution_count": 20,
   "id": "7dfbf90a",
   "metadata": {
    "execution": {
     "iopub.execute_input": "2023-03-26T17:48:00.249771Z",
     "iopub.status.busy": "2023-03-26T17:48:00.249465Z",
     "iopub.status.idle": "2023-03-26T17:48:00.254874Z",
     "shell.execute_reply": "2023-03-26T17:48:00.254216Z"
    },
    "papermill": {
     "duration": 0.016488,
     "end_time": "2023-03-26T17:48:00.256491",
     "exception": false,
     "start_time": "2023-03-26T17:48:00.240003",
     "status": "completed"
    },
    "tags": []
   },
   "outputs": [],
   "source": [
    "\n",
    "import math\n",
    "epochs=epochs\n",
    "learning_rate = lr\n",
    "scheduler = params['Scheduler']\n",
    "\n",
    "if scheduler == 'Exponential':\n",
    "    decay_rate = learning_rate / epochs\n",
    "    def exp_decay(epoch):\n",
    "        lrate = learning_rate * np.exp(-decay_rate*epoch)\n",
    "        return lrate\n",
    "    lr_rate = LearningRateScheduler(exp_decay)\n",
    "elif scheduler == 'Step_decay':\n",
    "    def step_decay(epoch):\n",
    "        initial_lrate = learning_rate\n",
    "        drop = 0.5\n",
    "        epochs_drop = 10.0\n",
    "        lrate = initial_lrate * math.pow(drop,  \n",
    "                math.floor((1+epoch)/epochs_drop))\n",
    "        return lrate\n",
    "    lr_rate = LearningRateScheduler(step_decay)\n",
    "elif scheduler == 'Cycliclearning_rate':\n",
    "    clr_triangular = CyclicLR(mode='triangular')\n",
    "    clr_triangular._reset(new_base_lr=0.00009, new_max_lr=0.0001)\n",
    "    lr_rate = clr_triangular"
   ]
  },
  {
   "cell_type": "code",
   "execution_count": 21,
   "id": "73ff55f0",
   "metadata": {
    "execution": {
     "iopub.execute_input": "2023-03-26T17:48:00.275059Z",
     "iopub.status.busy": "2023-03-26T17:48:00.274749Z",
     "iopub.status.idle": "2023-03-26T17:48:05.436681Z",
     "shell.execute_reply": "2023-03-26T17:48:05.435874Z"
    },
    "papermill": {
     "duration": 5.173329,
     "end_time": "2023-03-26T17:48:05.438566",
     "exception": false,
     "start_time": "2023-03-26T17:48:00.265237",
     "status": "completed"
    },
    "tags": []
   },
   "outputs": [
    {
     "name": "stdout",
     "output_type": "stream",
     "text": [
      "INFO:tensorflow:Reduce to /job:localhost/replica:0/task:0/device:CPU:0 then broadcast to ('/job:localhost/replica:0/task:0/device:CPU:0',).\n"
     ]
    },
    {
     "name": "stderr",
     "output_type": "stream",
     "text": [
      "INFO:tensorflow:Reduce to /job:localhost/replica:0/task:0/device:CPU:0 then broadcast to ('/job:localhost/replica:0/task:0/device:CPU:0',).\n"
     ]
    },
    {
     "name": "stdout",
     "output_type": "stream",
     "text": [
      "INFO:tensorflow:Reduce to /job:localhost/replica:0/task:0/device:CPU:0 then broadcast to ('/job:localhost/replica:0/task:0/device:CPU:0',).\n"
     ]
    },
    {
     "name": "stderr",
     "output_type": "stream",
     "text": [
      "INFO:tensorflow:Reduce to /job:localhost/replica:0/task:0/device:CPU:0 then broadcast to ('/job:localhost/replica:0/task:0/device:CPU:0',).\n"
     ]
    },
    {
     "name": "stdout",
     "output_type": "stream",
     "text": [
      "INFO:tensorflow:Reduce to /job:localhost/replica:0/task:0/device:CPU:0 then broadcast to ('/job:localhost/replica:0/task:0/device:CPU:0',).\n"
     ]
    },
    {
     "name": "stderr",
     "output_type": "stream",
     "text": [
      "INFO:tensorflow:Reduce to /job:localhost/replica:0/task:0/device:CPU:0 then broadcast to ('/job:localhost/replica:0/task:0/device:CPU:0',).\n"
     ]
    },
    {
     "name": "stdout",
     "output_type": "stream",
     "text": [
      "INFO:tensorflow:Reduce to /job:localhost/replica:0/task:0/device:CPU:0 then broadcast to ('/job:localhost/replica:0/task:0/device:CPU:0',).\n"
     ]
    },
    {
     "name": "stderr",
     "output_type": "stream",
     "text": [
      "INFO:tensorflow:Reduce to /job:localhost/replica:0/task:0/device:CPU:0 then broadcast to ('/job:localhost/replica:0/task:0/device:CPU:0',).\n"
     ]
    },
    {
     "name": "stdout",
     "output_type": "stream",
     "text": [
      "INFO:tensorflow:Reduce to /job:localhost/replica:0/task:0/device:CPU:0 then broadcast to ('/job:localhost/replica:0/task:0/device:CPU:0',).\n"
     ]
    },
    {
     "name": "stderr",
     "output_type": "stream",
     "text": [
      "INFO:tensorflow:Reduce to /job:localhost/replica:0/task:0/device:CPU:0 then broadcast to ('/job:localhost/replica:0/task:0/device:CPU:0',).\n"
     ]
    },
    {
     "name": "stdout",
     "output_type": "stream",
     "text": [
      "INFO:tensorflow:Reduce to /job:localhost/replica:0/task:0/device:CPU:0 then broadcast to ('/job:localhost/replica:0/task:0/device:CPU:0',).\n"
     ]
    },
    {
     "name": "stderr",
     "output_type": "stream",
     "text": [
      "INFO:tensorflow:Reduce to /job:localhost/replica:0/task:0/device:CPU:0 then broadcast to ('/job:localhost/replica:0/task:0/device:CPU:0',).\n"
     ]
    },
    {
     "name": "stdout",
     "output_type": "stream",
     "text": [
      "INFO:tensorflow:Reduce to /job:localhost/replica:0/task:0/device:CPU:0 then broadcast to ('/job:localhost/replica:0/task:0/device:CPU:0',).\n"
     ]
    },
    {
     "name": "stderr",
     "output_type": "stream",
     "text": [
      "INFO:tensorflow:Reduce to /job:localhost/replica:0/task:0/device:CPU:0 then broadcast to ('/job:localhost/replica:0/task:0/device:CPU:0',).\n"
     ]
    },
    {
     "name": "stdout",
     "output_type": "stream",
     "text": [
      "INFO:tensorflow:Reduce to /job:localhost/replica:0/task:0/device:CPU:0 then broadcast to ('/job:localhost/replica:0/task:0/device:CPU:0',).\n"
     ]
    },
    {
     "name": "stderr",
     "output_type": "stream",
     "text": [
      "INFO:tensorflow:Reduce to /job:localhost/replica:0/task:0/device:CPU:0 then broadcast to ('/job:localhost/replica:0/task:0/device:CPU:0',).\n"
     ]
    },
    {
     "name": "stdout",
     "output_type": "stream",
     "text": [
      "INFO:tensorflow:Reduce to /job:localhost/replica:0/task:0/device:CPU:0 then broadcast to ('/job:localhost/replica:0/task:0/device:CPU:0',).\n"
     ]
    },
    {
     "name": "stderr",
     "output_type": "stream",
     "text": [
      "INFO:tensorflow:Reduce to /job:localhost/replica:0/task:0/device:CPU:0 then broadcast to ('/job:localhost/replica:0/task:0/device:CPU:0',).\n"
     ]
    },
    {
     "name": "stdout",
     "output_type": "stream",
     "text": [
      "INFO:tensorflow:Reduce to /job:localhost/replica:0/task:0/device:CPU:0 then broadcast to ('/job:localhost/replica:0/task:0/device:CPU:0',).\n"
     ]
    },
    {
     "name": "stderr",
     "output_type": "stream",
     "text": [
      "INFO:tensorflow:Reduce to /job:localhost/replica:0/task:0/device:CPU:0 then broadcast to ('/job:localhost/replica:0/task:0/device:CPU:0',).\n"
     ]
    }
   ],
   "source": [
    "loss = params['Loss']\n",
    "if loss == 'sdice_loss':\n",
    "    with strategy.scope():\n",
    "        model = DeepLabV3PlusSE((IMG_HEIGHT,IMG_WIDTH,IMG_CHANNELS),n_classes)\n",
    "        model.compile(\n",
    "        optimizer=optimizer,\n",
    "        loss=sdice_loss,\n",
    "        metrics=[[tf.keras.metrics.OneHotIoU(num_classes=2,target_class_ids=[0,1]),tf.keras.metrics.Precision()\\\n",
    "            ,tf.keras.metrics.Recall()]]\n",
    "        )\n",
    "elif loss == 'focal_tversky':\n",
    "    with strategy.scope():\n",
    "        model = DeepLabV3PlusSE((IMG_HEIGHT,IMG_WIDTH,IMG_CHANNELS),n_classes)\n",
    "        model.compile(\n",
    "        optimizer=optimizer,\n",
    "        loss=focal_tversky,\n",
    "        metrics=[[tf.keras.metrics.OneHotIoU(num_classes=2,target_class_ids=[0,1]),tf.keras.metrics.Precision()\\\n",
    "            ,tf.keras.metrics.Recall()]]\n",
    "        )\n",
    "elif loss == 'tversky_loss':\n",
    "    with strategy.scope():\n",
    "        model = DeepLabV3PlusSE((IMG_HEIGHT,IMG_WIDTH,IMG_CHANNELS),n_classes)\n",
    "        model.compile(\n",
    "        optimizer=optimizer,\n",
    "        loss=tversky_loss,\n",
    "        metrics=[[tf.keras.metrics.OneHotIoU(num_classes=2,target_class_ids=[0,1]),tf.keras.metrics.Precision()\\\n",
    "            ,tf.keras.metrics.Recall()]]\n",
    "        )\n",
    "elif loss == 'log_cosh_dice_loss':\n",
    "    with strategy.scope():\n",
    "        model = DeepLabV3PlusSE((IMG_HEIGHT,IMG_WIDTH,IMG_CHANNELS),n_classes)\n",
    "        model.compile(\n",
    "        optimizer=optimizer,\n",
    "        loss=log_cosh_dice_loss,\n",
    "        metrics=[[tf.keras.metrics.OneHotIoU(num_classes=2,target_class_ids=[0,1]),tf.keras.metrics.Precision()\\\n",
    "            ,tf.keras.metrics.Recall()]]\n",
    "        )"
   ]
  },
  {
   "cell_type": "code",
   "execution_count": 22,
   "id": "9e9c8d97",
   "metadata": {
    "execution": {
     "iopub.execute_input": "2023-03-26T17:48:05.459614Z",
     "iopub.status.busy": "2023-03-26T17:48:05.459307Z",
     "iopub.status.idle": "2023-03-26T17:48:05.463107Z",
     "shell.execute_reply": "2023-03-26T17:48:05.462460Z"
    },
    "id": "2v05oGM_xBM_",
    "papermill": {
     "duration": 0.015642,
     "end_time": "2023-03-26T17:48:05.464612",
     "exception": false,
     "start_time": "2023-03-26T17:48:05.448970",
     "status": "completed"
    },
    "tags": []
   },
   "outputs": [],
   "source": [
    "#ModelCheckpoint callback saves a model at some interval. \n",
    "checkpoint_path = 'model_checkpoint/'\n",
    "os.makedirs(checkpoint_path, exist_ok=True)\n",
    "filepath=checkpoint_path+\"resenet50_deeplabv3plus_SE_v5_sdice_loss.hdf5\"\n",
    "checkpoint = ModelCheckpoint(filepath, monitor='val_one_hot_io_u', verbose=1, save_best_only=True, mode='max')"
   ]
  },
  {
   "cell_type": "code",
   "execution_count": 23,
   "id": "f0a2a7df",
   "metadata": {
    "execution": {
     "iopub.execute_input": "2023-03-26T17:48:05.484591Z",
     "iopub.status.busy": "2023-03-26T17:48:05.484295Z",
     "iopub.status.idle": "2023-03-26T17:48:05.487291Z",
     "shell.execute_reply": "2023-03-26T17:48:05.486662Z"
    },
    "id": "Zq3n9QwIxESq",
    "papermill": {
     "duration": 0.01465,
     "end_time": "2023-03-26T17:48:05.488864",
     "exception": false,
     "start_time": "2023-03-26T17:48:05.474214",
     "status": "completed"
    },
    "tags": []
   },
   "outputs": [],
   "source": [
    "# earlystop for stopping the model when there is no improvement\n",
    "early_stop = EarlyStopping(monitor='val_loss', patience=20, verbose=1)\n",
    "# log_csv = CSVLogger('/home/ubuntu/Notebooks for Unet_training/models for deeplab+SE v5/tversky-logs/sdice_lossv1.csv', separator=',', append=False)"
   ]
  },
  {
   "cell_type": "code",
   "execution_count": 24,
   "id": "83647016",
   "metadata": {
    "execution": {
     "iopub.execute_input": "2023-03-26T17:48:05.508810Z",
     "iopub.status.busy": "2023-03-26T17:48:05.508543Z",
     "iopub.status.idle": "2023-03-26T17:48:05.516578Z",
     "shell.execute_reply": "2023-03-26T17:48:05.515933Z"
    },
    "papermill": {
     "duration": 0.019716,
     "end_time": "2023-03-26T17:48:05.518105",
     "exception": false,
     "start_time": "2023-03-26T17:48:05.498389",
     "status": "completed"
    },
    "tags": []
   },
   "outputs": [],
   "source": [
    "from IPython.display import clear_output\n",
    "def create_mask(pred_mask):\n",
    "    pred_mask = tf.math.argmax(pred_mask, axis=3)\n",
    "    return pred_mask[0]\n",
    "import matplotlib.pyplot as plt\n",
    "\n",
    "\n",
    "def display(display_list):\n",
    "    plt.figure(figsize=(15, 15))\n",
    "\n",
    "    title = [\"Input Image\", \"True Mask\", \"Predicted Mask\"]\n",
    "\n",
    "    for i in range(len(display_list)):\n",
    "        plt.subplot(1, len(display_list), i + 1)\n",
    "        plt.title(title[i])\n",
    "        plt.imshow(display_list[i])\n",
    "        plt.axis(\"off\")\n",
    "    plt.show()\n",
    "\n",
    "def show_predictions(dataset=None, num=1):\n",
    "    if dataset:\n",
    "        for sample in dataset.take(num):\n",
    "            images, masks = sample\n",
    "            masks = tf.math.argmax(masks[0], axis=2)\n",
    "            pred_masks = model.predict(images)\n",
    "            display([images[0], masks, create_mask(pred_masks)])\n",
    "    else:\n",
    "        display(\n",
    "            [\n",
    "                testimage_batch[0], tf.math.argmax(label_batch[0], axis=2),\n",
    "                create_mask(model.predict(testimage_batch)),\n",
    "            ]\n",
    "        )\n",
    "\n",
    "\n",
    "class DisplayCallback(tf.keras.callbacks.Callback):\n",
    "    def __init__(self, dataset, **kwargs):\n",
    "        super().__init__(**kwargs)\n",
    "        self.dataset = dataset\n",
    "\n",
    "    def on_epoch_end(self, epoch, logs=None):\n",
    "        clear_output(wait=True)\n",
    "        show_predictions(self.dataset)\n",
    "        print(\"\\nSample Prediction after epoch {}\\n\".format(epoch + 1))"
   ]
  },
  {
   "cell_type": "code",
   "execution_count": 25,
   "id": "cfec15fa",
   "metadata": {
    "execution": {
     "iopub.execute_input": "2023-03-26T17:48:05.538135Z",
     "iopub.status.busy": "2023-03-26T17:48:05.537869Z",
     "iopub.status.idle": "2023-03-26T17:48:05.702413Z",
     "shell.execute_reply": "2023-03-26T17:48:05.701744Z"
    },
    "id": "6B6QNDK3xNH5",
    "papermill": {
     "duration": 0.176274,
     "end_time": "2023-03-26T17:48:05.704011",
     "exception": false,
     "start_time": "2023-03-26T17:48:05.527737",
     "status": "completed"
    },
    "tags": []
   },
   "outputs": [
    {
     "name": "stderr",
     "output_type": "stream",
     "text": [
      "WARNING:dvclive:Ignoring `_save_dvc_exp` because `dvc exp run` is running\n"
     ]
    }
   ],
   "source": [
    "callbacks_list = [checkpoint,early_stop,lr_rate,DVCLiveCallback(dir='evaluation',save_dvc_exp=True),DisplayCallback(valid_dataset)]"
   ]
  },
  {
   "cell_type": "code",
   "execution_count": 26,
   "id": "a107126f",
   "metadata": {
    "execution": {
     "iopub.execute_input": "2023-03-26T17:48:05.725122Z",
     "iopub.status.busy": "2023-03-26T17:48:05.724844Z",
     "iopub.status.idle": "2023-03-26T18:30:11.295649Z",
     "shell.execute_reply": "2023-03-26T18:30:11.294892Z"
    },
    "id": "UV7p9-ZU7GYl",
    "papermill": {
     "duration": 2525.583066,
     "end_time": "2023-03-26T18:30:11.297333",
     "exception": false,
     "start_time": "2023-03-26T17:48:05.714267",
     "status": "completed"
    },
    "tags": []
   },
   "outputs": [
    {
     "name": "stdout",
     "output_type": "stream",
     "text": [
      "\r",
      "1/1 [==============================] - ETA: 0s"
     ]
    },
    {
     "name": "stdout",
     "output_type": "stream",
     "text": [
      "\b\b\b\b\b\b\b\b\b\b\b\b\b\b\b\b\b\b\b\b\b\b\b\b\b\b\b\b\b\b\b\b\b\b\b\b\b\b\b\b\b\b\b\b\b\b\r",
      "1/1 [==============================] - 0s 216ms/step\n"
     ]
    },
    {
     "data": {
      "image/png": "[encoded data removed]",
      "text/plain": [
       "<Figure size 1080x1080 with 3 Axes>"
      ]
     },
     "metadata": {
      "needs_background": "light"
     },
     "output_type": "display_data"
    },
    {
     "name": "stdout",
     "output_type": "stream",
     "text": [
      "\n",
      "Sample Prediction after epoch 64\n"
     ]
    },
    {
     "name": "stdout",
     "output_type": "stream",
     "text": [
      "\n"
     ]
    },
    {
     "name": "stdout",
     "output_type": "stream",
     "text": [
      "\b\b\b\b\b\b\b\b\b\b\b\b\b\b\b\b\b\b\b\b\b\b\b\b\b\b\b\b\b\b\b\b\b\b\b\b\b\b\b\b\b\b\b\b\b\b\b\b\b\b\b\b\b\b\b\b\b\b\b\b\b\b\b\b\b\b\b\b\b\b\b\b\b\b\b\b\b\b\b\b\b\b\b\b\b\b\b\b\b\b\b\b\b\b\b\b\b\b\b\b\b\b\b\b\b\b\b\b\b\b\b\b\b\b\b\b\b\b\b\b\b\b\b\b\b\r",
      "328/328 [==============================] - 37s 113ms/step - loss: 0.0139 - one_hot_io_u: 0.9620 - precision: 0.9815 - recall: 0.9815 - val_loss: 0.0466 - val_one_hot_io_u: 0.8875 - val_precision: 0.9426 - val_recall: 0.9426 - lr: 1.5625e-06\n"
     ]
    },
    {
     "name": "stdout",
     "output_type": "stream",
     "text": [
      "Epoch 64: early stopping\n"
     ]
    },
    {
     "name": "stdout",
     "output_type": "stream",
     "text": [
      "CPU times: user 2h 39min 28s, sys: 10min 36s, total: 2h 50min 5s"
     ]
    },
    {
     "name": "stdout",
     "output_type": "stream",
     "text": [
      "\n"
     ]
    },
    {
     "name": "stdout",
     "output_type": "stream",
     "text": [
      "Wall time: 42min 5s"
     ]
    },
    {
     "name": "stdout",
     "output_type": "stream",
     "text": [
      "\n"
     ]
    }
   ],
   "source": [
    "%%time\n",
    "history=model.fit(train_dataset,\n",
    "          steps_per_epoch=steps_per_epoch,\n",
    "          epochs=epochs,\n",
    "          verbose=1,\n",
    "          validation_data=valid_dataset,\n",
    "          validation_steps=val_steps_per_epoch,\n",
    "          callbacks=callbacks_list,\n",
    "          )"
   ]
  },
  {
   "cell_type": "code",
   "execution_count": 27,
   "id": "b4e08413",
   "metadata": {
    "colab": {
     "base_uri": "https://localhost:8080/",
     "height": 295
    },
    "execution": {
     "iopub.execute_input": "2023-03-26T18:30:11.321880Z",
     "iopub.status.busy": "2023-03-26T18:30:11.321587Z",
     "iopub.status.idle": "2023-03-26T18:30:11.532384Z",
     "shell.execute_reply": "2023-03-26T18:30:11.531664Z"
    },
    "id": "_lPE5Nl-7eGC",
    "outputId": "43efaba9-c517-4676-8f54-f8af49e9d41a",
    "papermill": {
     "duration": 0.224731,
     "end_time": "2023-03-26T18:30:11.534009",
     "exception": false,
     "start_time": "2023-03-26T18:30:11.309278",
     "status": "completed"
    },
    "tags": []
   },
   "outputs": [
    {
     "data": {
      "image/png": "[encoded data removed]",
      "text/plain": [
       "<Figure size 1080x720 with 1 Axes>"
      ]
     },
     "metadata": {
      "needs_background": "light"
     },
     "output_type": "display_data"
    }
   ],
   "source": [
    "loss = history.history['loss']\n",
    "val_loss = history.history['val_loss']\n",
    "epochs = range(1, len(loss) + 1)\n",
    "plt.figure(figsize=(15,10))\n",
    "plt.plot(epochs, loss, 'green', label='Training loss', marker = 'o')\n",
    "plt.plot(epochs, val_loss, 'r', label='Validation loss', marker = 'o')\n",
    "plt.title('Training and validation loss')\n",
    "plt.xlabel('Epochs')\n",
    "plt.ylabel('Loss')\n",
    "plt.legend()\n",
    "# plt.savefig('loss_graph.png')\n",
    "plt.show()"
   ]
  },
  {
   "cell_type": "code",
   "execution_count": 28,
   "id": "69537088",
   "metadata": {
    "execution": {
     "iopub.execute_input": "2023-03-26T18:30:11.559120Z",
     "iopub.status.busy": "2023-03-26T18:30:11.558833Z",
     "iopub.status.idle": "2023-03-26T18:30:11.562043Z",
     "shell.execute_reply": "2023-03-26T18:30:11.561376Z"
    },
    "id": "32hBQoO01avw",
    "papermill": {
     "duration": 0.017304,
     "end_time": "2023-03-26T18:30:11.563740",
     "exception": false,
     "start_time": "2023-03-26T18:30:11.546436",
     "status": "completed"
    },
    "tags": []
   },
   "outputs": [],
   "source": [
    "acc = history.history['one_hot_io_u']\n",
    "val_acc = history.history['val_one_hot_io_u']"
   ]
  },
  {
   "cell_type": "code",
   "execution_count": 29,
   "id": "e9e2a432",
   "metadata": {
    "colab": {
     "base_uri": "https://localhost:8080/",
     "height": 295
    },
    "execution": {
     "iopub.execute_input": "2023-03-26T18:30:11.588429Z",
     "iopub.status.busy": "2023-03-26T18:30:11.588116Z",
     "iopub.status.idle": "2023-03-26T18:30:11.816602Z",
     "shell.execute_reply": "2023-03-26T18:30:11.815867Z"
    },
    "id": "R4PB98zH1eDI",
    "outputId": "c9e5885c-be9e-4100-ed98-b1d0d0117265",
    "papermill": {
     "duration": 0.242626,
     "end_time": "2023-03-26T18:30:11.818159",
     "exception": false,
     "start_time": "2023-03-26T18:30:11.575533",
     "status": "completed"
    },
    "tags": []
   },
   "outputs": [
    {
     "data": {
      "image/png": "[encoded data removed]",
      "text/plain": [
       "<Figure size 1080x720 with 1 Axes>"
      ]
     },
     "metadata": {
      "needs_background": "light"
     },
     "output_type": "display_data"
    }
   ],
   "source": [
    "plt.figure(figsize=(15,10))\n",
    "plt.plot(epochs, acc, 'green', label='Training IoU', marker = 'o')\n",
    "plt.plot(epochs, val_acc, 'r', label='Validation IoU', marker = 'o')\n",
    "plt.title('Training and validation IoU')\n",
    "plt.xlabel('Epochs')\n",
    "plt.ylabel('IoU')\n",
    "plt.legend()\n",
    "# plt.savefig('auccuracy_graph.png')\n",
    "plt.show()"
   ]
  },
  {
   "cell_type": "code",
   "execution_count": 30,
   "id": "43c10bbe",
   "metadata": {
    "execution": {
     "iopub.execute_input": "2023-03-26T18:30:11.844417Z",
     "iopub.status.busy": "2023-03-26T18:30:11.844103Z",
     "iopub.status.idle": "2023-03-26T18:30:13.459372Z",
     "shell.execute_reply": "2023-03-26T18:30:13.458573Z"
    },
    "id": "Y2F4qSYw1oTf",
    "papermill": {
     "duration": 1.630301,
     "end_time": "2023-03-26T18:30:13.461349",
     "exception": false,
     "start_time": "2023-03-26T18:30:11.831048",
     "status": "completed"
    },
    "tags": []
   },
   "outputs": [],
   "source": [
    "from keras.models import load_model\n",
    "\n",
    "model = load_model(filepath, compile=False)"
   ]
  },
  {
   "cell_type": "code",
   "execution_count": 31,
   "id": "fb305bcb",
   "metadata": {
    "execution": {
     "iopub.execute_input": "2023-03-26T18:30:13.489158Z",
     "iopub.status.busy": "2023-03-26T18:30:13.488817Z",
     "iopub.status.idle": "2023-03-26T18:30:13.492764Z",
     "shell.execute_reply": "2023-03-26T18:30:13.492055Z"
    },
    "id": "H8skGm-s2HYC",
    "papermill": {
     "duration": 0.019533,
     "end_time": "2023-03-26T18:30:13.494369",
     "exception": false,
     "start_time": "2023-03-26T18:30:13.474836",
     "status": "completed"
    },
    "tags": []
   },
   "outputs": [],
   "source": [
    "from tensorflow.keras.metrics import MeanIoU"
   ]
  },
  {
   "cell_type": "code",
   "execution_count": 32,
   "id": "6dd38cee",
   "metadata": {
    "colab": {
     "base_uri": "https://localhost:8080/"
    },
    "execution": {
     "iopub.execute_input": "2023-03-26T18:30:13.521024Z",
     "iopub.status.busy": "2023-03-26T18:30:13.520686Z",
     "iopub.status.idle": "2023-03-26T18:30:15.241163Z",
     "shell.execute_reply": "2023-03-26T18:30:15.240372Z"
    },
    "id": "V4Nv3Uro1hsA",
    "outputId": "40480f0b-b6ef-420c-99d6-f319c314a252",
    "papermill": {
     "duration": 1.73566,
     "end_time": "2023-03-26T18:30:15.242783",
     "exception": false,
     "start_time": "2023-03-26T18:30:13.507123",
     "status": "completed"
    },
    "tags": []
   },
   "outputs": [
    {
     "name": "stdout",
     "output_type": "stream",
     "text": [
      "\r",
      "1/1 [==============================] - ETA: 0s"
     ]
    },
    {
     "name": "stdout",
     "output_type": "stream",
     "text": [
      "\b\b\b\b\b\b\b\b\b\b\b\b\b\b\b\b\b\b\b\b\b\b\b\b\b\b\b\b\b\b\b\b\b\b\b\b\b\b\b\b\b\b\b\b\b\b\r",
      "1/1 [==============================] - 2s 2s/step\n"
     ]
    },
    {
     "name": "stdout",
     "output_type": "stream",
     "text": [
      "Mean IoU ="
     ]
    },
    {
     "name": "stdout",
     "output_type": "stream",
     "text": [
      " "
     ]
    },
    {
     "name": "stdout",
     "output_type": "stream",
     "text": [
      "0.93906224"
     ]
    },
    {
     "name": "stdout",
     "output_type": "stream",
     "text": [
      "\n"
     ]
    }
   ],
   "source": [
    "test_image_batch, test_mask_batch = next(iter(valid_dataset))\n",
    "\n",
    "#Convert categorical to integer for visualization and IoU calculation\n",
    "test_mask_batch_argmax = np.argmax(test_mask_batch, axis=3) \n",
    "test_pred_batch = model.predict(test_image_batch)\n",
    "test_pred_batch_argmax = np.argmax(test_pred_batch, axis=3)\n",
    "n_classes = 2\n",
    "IOU_keras = MeanIoU(num_classes=n_classes)  \n",
    "IOU_keras.update_state(test_pred_batch_argmax, test_mask_batch_argmax)\n",
    "print(\"Mean IoU =\", IOU_keras.result().numpy())"
   ]
  },
  {
   "cell_type": "code",
   "execution_count": 33,
   "id": "1df627e2",
   "metadata": {
    "colab": {
     "base_uri": "https://localhost:8080/",
     "height": 392
    },
    "execution": {
     "iopub.execute_input": "2023-03-26T18:30:15.269545Z",
     "iopub.status.busy": "2023-03-26T18:30:15.269273Z",
     "iopub.status.idle": "2023-03-26T18:30:15.781007Z",
     "shell.execute_reply": "2023-03-26T18:30:15.780239Z"
    },
    "id": "9D_aW4b81-vs",
    "outputId": "a0d585dc-8738-4710-9e43-6be4f77d43c8",
    "papermill": {
     "duration": 0.526854,
     "end_time": "2023-03-26T18:30:15.782926",
     "exception": false,
     "start_time": "2023-03-26T18:30:15.256072",
     "status": "completed"
    },
    "tags": []
   },
   "outputs": [
    {
     "data": {
      "image/png": "[encoded data removed]",
      "text/plain": [
       "<Figure size 1440x1440 with 3 Axes>"
      ]
     },
     "metadata": {
      "needs_background": "light"
     },
     "output_type": "display_data"
    }
   ],
   "source": [
    "img_num = random.randint(0, test_image_batch.shape[0]-1)\n",
    "image = test_image_batch[img_num]\n",
    "plt.figure(figsize=(20,20))\n",
    "plt.subplot(231)\n",
    "plt.title('Testing Image')\n",
    "plt.imshow(image[:,:,0:3])\n",
    "plt.subplot(232)\n",
    "plt.title('Testing Label')\n",
    "plt.imshow(test_mask_batch_argmax[img_num], cmap='gray')\n",
    "plt.subplot(233)\n",
    "plt.title('Prediction on test image')\n",
    "plt.imshow(test_pred_batch_argmax[img_num], cmap='gray')\n",
    "plt.show()"
   ]
  },
  {
   "cell_type": "code",
   "execution_count": 34,
   "id": "742518fa",
   "metadata": {
    "execution": {
     "iopub.execute_input": "2023-03-26T18:30:15.812839Z",
     "iopub.status.busy": "2023-03-26T18:30:15.812516Z",
     "iopub.status.idle": "2023-03-26T18:30:15.815790Z",
     "shell.execute_reply": "2023-03-26T18:30:15.815113Z"
    },
    "papermill": {
     "duration": 0.019653,
     "end_time": "2023-03-26T18:30:15.817380",
     "exception": false,
     "start_time": "2023-03-26T18:30:15.797727",
     "status": "completed"
    },
    "tags": []
   },
   "outputs": [],
   "source": [
    "No_of_valid_data = int(number_of_shards*filespershard*0.3)"
   ]
  },
  {
   "cell_type": "code",
   "execution_count": 35,
   "id": "f0814139",
   "metadata": {
    "execution": {
     "iopub.execute_input": "2023-03-26T18:30:15.845710Z",
     "iopub.status.busy": "2023-03-26T18:30:15.845434Z",
     "iopub.status.idle": "2023-03-26T18:30:17.492207Z",
     "shell.execute_reply": "2023-03-26T18:30:17.491458Z"
    },
    "papermill": {
     "duration": 1.662973,
     "end_time": "2023-03-26T18:30:17.494112",
     "exception": false,
     "start_time": "2023-03-26T18:30:15.831139",
     "status": "completed"
    },
    "tags": []
   },
   "outputs": [],
   "source": [
    "from sklearn.metrics import confusion_matrix\n",
    "from sklearn.metrics import ConfusionMatrixDisplay,classification_report"
   ]
  },
  {
   "cell_type": "code",
   "execution_count": 36,
   "id": "c235dc0f",
   "metadata": {
    "execution": {
     "iopub.execute_input": "2023-03-26T18:30:17.523835Z",
     "iopub.status.busy": "2023-03-26T18:30:17.523517Z",
     "iopub.status.idle": "2023-03-26T18:30:29.475181Z",
     "shell.execute_reply": "2023-03-26T18:30:29.474427Z"
    },
    "papermill": {
     "duration": 11.968406,
     "end_time": "2023-03-26T18:30:29.477135",
     "exception": false,
     "start_time": "2023-03-26T18:30:17.508729",
     "status": "completed"
    },
    "tags": []
   },
   "outputs": [
    {
     "name": "stdout",
     "output_type": "stream",
     "text": [
      "\r",
      " 1/71 [..............................] - ETA: 1:02"
     ]
    },
    {
     "name": "stdout",
     "output_type": "stream",
     "text": [
      "\b\b\b\b\b\b\b\b\b\b\b\b\b\b\b\b\b\b\b\b\b\b\b\b\b\b\b\b\b\b\b\b\b\b\b\b\b\b\b\b\b\b\b\b\b\b\b\b\b\b\r",
      " 3/71 [>.............................] - ETA: 2s  "
     ]
    },
    {
     "name": "stdout",
     "output_type": "stream",
     "text": [
      "\b\b\b\b\b\b\b\b\b\b\b\b\b\b\b\b\b\b\b\b\b\b\b\b\b\b\b\b\b\b\b\b\b\b\b\b\b\b\b\b\b\b\b\b\b\b\b\b\r",
      " 4/71 [>.............................] - ETA: 3s"
     ]
    },
    {
     "name": "stdout",
     "output_type": "stream",
     "text": [
      "\b\b\b\b\b\b\b\b\b\b\b\b\b\b\b\b\b\b\b\b\b\b\b\b\b\b\b\b\b\b\b\b\b\b\b\b\b\b\b\b\b\b\b\b\b\b\b\b\r",
      " 5/71 [=>............................] - ETA: 3s"
     ]
    },
    {
     "name": "stdout",
     "output_type": "stream",
     "text": [
      "\b\b\b\b\b\b\b\b\b\b\b\b\b\b\b\b\b\b\b\b\b\b\b\b\b\b\b\b\b\b\b\b\b\b\b\b\b\b\b\b\b\b\b\b\b\b\b\b\r",
      " 6/71 [=>............................] - ETA: 3s"
     ]
    },
    {
     "name": "stdout",
     "output_type": "stream",
     "text": [
      "\b\b\b\b\b\b\b\b\b\b\b\b\b\b\b\b\b\b\b\b\b\b\b\b\b\b\b\b\b\b\b\b\b\b\b\b\b\b\b\b\b\b\b\b\b\b\b\b\r",
      " 7/71 [=>............................] - ETA: 3s"
     ]
    },
    {
     "name": "stdout",
     "output_type": "stream",
     "text": [
      "\b\b\b\b\b\b\b\b\b\b\b\b\b\b\b\b\b\b\b\b\b\b\b\b\b\b\b\b\b\b\b\b\b\b\b\b\b\b\b\b\b\b\b\b\b\b\b\b\r",
      " 8/71 [==>...........................] - ETA: 3s"
     ]
    },
    {
     "name": "stdout",
     "output_type": "stream",
     "text": [
      "\b\b\b\b\b\b\b\b\b\b\b\b\b\b\b\b\b\b\b\b\b\b\b\b\b\b\b\b\b\b\b\b\b\b\b\b\b\b\b\b\b\b\b\b\b\b\b\b\r",
      " 9/71 [==>...........................] - ETA: 3s"
     ]
    },
    {
     "name": "stdout",
     "output_type": "stream",
     "text": [
      "\b\b\b\b\b\b\b\b\b\b\b\b\b\b\b\b\b\b\b\b\b\b\b\b\b\b\b\b\b\b\b\b\b\b\b\b\b\b\b\b\b\b\b\b\b\b\b\b\r",
      "10/71 [===>..........................] - ETA: 3s"
     ]
    },
    {
     "name": "stdout",
     "output_type": "stream",
     "text": [
      "\b\b\b\b\b\b\b\b\b\b\b\b\b\b\b\b\b\b\b\b\b\b\b\b\b\b\b\b\b\b\b\b\b\b\b\b\b\b\b\b\b\b\b\b\b\b\b\b\r",
      "11/71 [===>..........................] - ETA: 3s"
     ]
    },
    {
     "name": "stdout",
     "output_type": "stream",
     "text": [
      "\b\b\b\b\b\b\b\b\b\b\b\b\b\b\b\b\b\b\b\b\b\b\b\b\b\b\b\b\b\b\b\b\b\b\b\b\b\b\b\b\b\b\b\b\b\b\b\b\r",
      "12/71 [====>.........................] - ETA: 3s"
     ]
    },
    {
     "name": "stdout",
     "output_type": "stream",
     "text": [
      "\b\b\b\b\b\b\b\b\b\b\b\b\b\b\b\b\b\b\b\b\b\b\b\b\b\b\b\b\b\b\b\b\b\b\b\b\b\b\b\b\b\b\b\b\b\b\b\b\r",
      "13/71 [====>.........................] - ETA: 3s"
     ]
    },
    {
     "name": "stdout",
     "output_type": "stream",
     "text": [
      "\b\b\b\b\b\b\b\b\b\b\b\b\b\b\b\b\b\b\b\b\b\b\b\b\b\b\b\b\b\b\b\b\b\b\b\b\b\b\b\b\b\b\b\b\b\b\b\b\r",
      "14/71 [====>.........................] - ETA: 3s"
     ]
    },
    {
     "name": "stdout",
     "output_type": "stream",
     "text": [
      "\b\b\b\b\b\b\b\b\b\b\b\b\b\b\b\b\b\b\b\b\b\b\b\b\b\b\b\b\b\b\b\b\b\b\b\b\b\b\b\b\b\b\b\b\b\b\b\b\r",
      "15/71 [=====>........................] - ETA: 3s"
     ]
    },
    {
     "name": "stdout",
     "output_type": "stream",
     "text": [
      "\b\b\b\b\b\b\b\b\b\b\b\b\b\b\b\b\b\b\b\b\b\b\b\b\b\b\b\b\b\b\b\b\b\b\b\b\b\b\b\b\b\b\b\b\b\b\b\b\r",
      "16/71 [=====>........................] - ETA: 3s"
     ]
    },
    {
     "name": "stdout",
     "output_type": "stream",
     "text": [
      "\b\b\b\b\b\b\b\b\b\b\b\b\b\b\b\b\b\b\b\b\b\b\b\b\b\b\b\b\b\b\b\b\b\b\b\b\b\b\b\b\b\b\b\b\b\b\b\b\r",
      "17/71 [======>.......................] - ETA: 3s"
     ]
    },
    {
     "name": "stdout",
     "output_type": "stream",
     "text": [
      "\b\b\b\b\b\b\b\b\b\b\b\b\b\b\b\b\b\b\b\b\b\b\b\b\b\b\b\b\b\b\b\b\b\b\b\b\b\b\b\b\b\b\b\b\b\b\b\b\r",
      "18/71 [======>.......................] - ETA: 3s"
     ]
    },
    {
     "name": "stdout",
     "output_type": "stream",
     "text": [
      "\b\b\b\b\b\b\b\b\b\b\b\b\b\b\b\b\b\b\b\b\b\b\b\b\b\b\b\b\b\b\b\b\b\b\b\b\b\b\b\b\b\b\b\b\b\b\b\b\r",
      "19/71 [=======>......................] - ETA: 3s"
     ]
    },
    {
     "name": "stdout",
     "output_type": "stream",
     "text": [
      "\b\b\b\b\b\b\b\b\b\b\b\b\b\b\b\b\b\b\b\b\b\b\b\b\b\b\b\b\b\b\b\b\b\b\b\b\b\b\b\b\b\b\b\b\b\b\b\b\r",
      "20/71 [=======>......................] - ETA: 3s"
     ]
    },
    {
     "name": "stdout",
     "output_type": "stream",
     "text": [
      "\b\b\b\b\b\b\b\b\b\b\b\b\b\b\b\b\b\b\b\b\b\b\b\b\b\b\b\b\b\b\b\b\b\b\b\b\b\b\b\b\b\b\b\b\b\b\b\b\r",
      "21/71 [=======>......................] - ETA: 3s"
     ]
    },
    {
     "name": "stdout",
     "output_type": "stream",
     "text": [
      "\b\b\b\b\b\b\b\b\b\b\b\b\b\b\b\b\b\b\b\b\b\b\b\b\b\b\b\b\b\b\b\b\b\b\b\b\b\b\b\b\b\b\b\b\b\b\b\b\r",
      "22/71 [========>.....................] - ETA: 3s"
     ]
    },
    {
     "name": "stdout",
     "output_type": "stream",
     "text": [
      "\b\b\b\b\b\b\b\b\b\b\b\b\b\b\b\b\b\b\b\b\b\b\b\b\b\b\b\b\b\b\b\b\b\b\b\b\b\b\b\b\b\b\b\b\b\b\b\b\r",
      "23/71 [========>.....................] - ETA: 2s"
     ]
    },
    {
     "name": "stdout",
     "output_type": "stream",
     "text": [
      "\b\b\b\b\b\b\b\b\b\b\b\b\b\b\b\b\b\b\b\b\b\b\b\b\b\b\b\b\b\b\b\b\b\b\b\b\b\b\b\b\b\b\b\b\b\b\b\b\r",
      "24/71 [=========>....................] - ETA: 2s"
     ]
    },
    {
     "name": "stdout",
     "output_type": "stream",
     "text": [
      "\b\b\b\b\b\b\b\b\b\b\b\b\b\b\b\b\b\b\b\b\b\b\b\b\b\b\b\b\b\b\b\b\b\b\b\b\b\b\b\b\b\b\b\b\b\b\b\b\r",
      "25/71 [=========>....................] - ETA: 2s"
     ]
    },
    {
     "name": "stdout",
     "output_type": "stream",
     "text": [
      "\b\b\b\b\b\b\b\b\b\b\b\b\b\b\b\b\b\b\b\b\b\b\b\b\b\b\b\b\b\b\b\b\b\b\b\b\b\b\b\b\b\b\b\b\b\b\b\b\r",
      "26/71 [=========>....................] - ETA: 2s"
     ]
    },
    {
     "name": "stdout",
     "output_type": "stream",
     "text": [
      "\b\b\b\b\b\b\b\b\b\b\b\b\b\b\b\b\b\b\b\b\b\b\b\b\b\b\b\b\b\b\b\b\b\b\b\b\b\b\b\b\b\b\b\b\b\b\b\b\r",
      "27/71 [==========>...................] - ETA: 2s"
     ]
    },
    {
     "name": "stdout",
     "output_type": "stream",
     "text": [
      "\b\b\b\b\b\b\b\b\b\b\b\b\b\b\b\b\b\b\b\b\b\b\b\b\b\b\b\b\b\b\b\b\b\b\b\b\b\b\b\b\b\b\b\b\b\b\b\b\r",
      "28/71 [==========>...................] - ETA: 2s"
     ]
    },
    {
     "name": "stdout",
     "output_type": "stream",
     "text": [
      "\b\b\b\b\b\b\b\b\b\b\b\b\b\b\b\b\b\b\b\b\b\b\b\b\b\b\b\b\b\b\b\b\b\b\b\b\b\b\b\b\b\b\b\b\b\b\b\b\r",
      "29/71 [===========>..................] - ETA: 2s"
     ]
    },
    {
     "name": "stdout",
     "output_type": "stream",
     "text": [
      "\b\b\b\b\b\b\b\b\b\b\b\b\b\b\b\b\b\b\b\b\b\b\b\b\b\b\b\b\b\b\b\b\b\b\b\b\b\b\b\b\b\b\b\b\b\b\b\b\r",
      "30/71 [===========>..................] - ETA: 2s"
     ]
    },
    {
     "name": "stdout",
     "output_type": "stream",
     "text": [
      "\b\b\b\b\b\b\b\b\b\b\b\b\b\b\b\b\b\b\b\b\b\b\b\b\b\b\b\b\b\b\b\b\b\b\b\b\b\b\b\b\b\b\b\b\b\b\b\b\r",
      "31/71 [============>.................] - ETA: 2s"
     ]
    },
    {
     "name": "stdout",
     "output_type": "stream",
     "text": [
      "\b\b\b\b\b\b\b\b\b\b\b\b\b\b\b\b\b\b\b\b\b\b\b\b\b\b\b\b\b\b\b\b\b\b\b\b\b\b\b\b\b\b\b\b\b\b\b\b\r",
      "32/71 [============>.................] - ETA: 2s"
     ]
    },
    {
     "name": "stdout",
     "output_type": "stream",
     "text": [
      "\b\b\b\b\b\b\b\b\b\b\b\b\b\b\b\b\b\b\b\b\b\b\b\b\b\b\b\b\b\b\b\b\b\b\b\b\b\b\b\b\b\b\b\b\b\b\b\b\r",
      "33/71 [============>.................] - ETA: 2s"
     ]
    },
    {
     "name": "stdout",
     "output_type": "stream",
     "text": [
      "\b\b\b\b\b\b\b\b\b\b\b\b\b\b\b\b\b\b\b\b\b\b\b\b\b\b\b\b\b\b\b\b\b\b\b\b\b\b\b\b\b\b\b\b\b\b\b\b\r",
      "34/71 [=============>................] - ETA: 2s"
     ]
    },
    {
     "name": "stdout",
     "output_type": "stream",
     "text": [
      "\b\b\b\b\b\b\b\b\b\b\b\b\b\b\b\b\b\b\b\b\b\b\b\b\b\b\b\b\b\b\b\b\b\b\b\b\b\b\b\b\b\b\b\b\b\b\b\b\r",
      "35/71 [=============>................] - ETA: 2s"
     ]
    },
    {
     "name": "stdout",
     "output_type": "stream",
     "text": [
      "\b\b\b\b\b\b\b\b\b\b\b\b\b\b\b\b\b\b\b\b\b\b\b\b\b\b\b\b\b\b\b\b\b\b\b\b\b\b\b\b\b\b\b\b\b\b\b\b\r",
      "36/71 [==============>...............] - ETA: 2s"
     ]
    },
    {
     "name": "stdout",
     "output_type": "stream",
     "text": [
      "\b\b\b\b\b\b\b\b\b\b\b\b\b\b\b\b\b\b\b\b\b\b\b\b\b\b\b\b\b\b\b\b\b\b\b\b\b\b\b\b\b\b\b\b\b\b\b\b\r",
      "37/71 [==============>...............] - ETA: 2s"
     ]
    },
    {
     "name": "stdout",
     "output_type": "stream",
     "text": [
      "\b\b\b\b\b\b\b\b\b\b\b\b\b\b\b\b\b\b\b\b\b\b\b\b\b\b\b\b\b\b\b\b\b\b\b\b\b\b\b\b\b\b\b\b\b\b\b\b\r",
      "38/71 [===============>..............] - ETA: 2s"
     ]
    },
    {
     "name": "stdout",
     "output_type": "stream",
     "text": [
      "\b\b\b\b\b\b\b\b\b\b\b\b\b\b\b\b\b\b\b\b\b\b\b\b\b\b\b\b\b\b\b\b\b\b\b\b\b\b\b\b\b\b\b\b\b\b\b\b\r",
      "39/71 [===============>..............] - ETA: 2s"
     ]
    },
    {
     "name": "stdout",
     "output_type": "stream",
     "text": [
      "\b\b\b\b\b\b\b\b\b\b\b\b\b\b\b\b\b\b\b\b\b\b\b\b\b\b\b\b\b\b\b\b\b\b\b\b\b\b\b\b\b\b\b\b\b\b\b\b\r",
      "40/71 [===============>..............] - ETA: 1s"
     ]
    },
    {
     "name": "stdout",
     "output_type": "stream",
     "text": [
      "\b\b\b\b\b\b\b\b\b\b\b\b\b\b\b\b\b\b\b\b\b\b\b\b\b\b\b\b\b\b\b\b\b\b\b\b\b\b\b\b\b\b\b\b\b\b\b\b\r",
      "41/71 [================>.............] - ETA: 1s"
     ]
    },
    {
     "name": "stdout",
     "output_type": "stream",
     "text": [
      "\b\b\b\b\b\b\b\b\b\b\b\b\b\b\b\b\b\b\b\b\b\b\b\b\b\b\b\b\b\b\b\b\b\b\b\b\b\b\b\b\b\b\b\b\b\b\b\b\r",
      "42/71 [================>.............] - ETA: 1s"
     ]
    },
    {
     "name": "stdout",
     "output_type": "stream",
     "text": [
      "\b\b\b\b\b\b\b\b\b\b\b\b\b\b\b\b\b\b\b\b\b\b\b\b\b\b\b\b\b\b\b\b\b\b\b\b\b\b\b\b\b\b\b\b\b\b\b\b\r",
      "43/71 [=================>............] - ETA: 1s"
     ]
    },
    {
     "name": "stdout",
     "output_type": "stream",
     "text": [
      "\b\b\b\b\b\b\b\b\b\b\b\b\b\b\b\b\b\b\b\b\b\b\b\b\b\b\b\b\b\b\b\b\b\b\b\b\b\b\b\b\b\b\b\b\b\b\b\b\r",
      "44/71 [=================>............] - ETA: 1s"
     ]
    },
    {
     "name": "stdout",
     "output_type": "stream",
     "text": [
      "\b\b\b\b\b\b\b\b\b\b\b\b\b\b\b\b\b\b\b\b\b\b\b\b\b\b\b\b\b\b\b\b\b\b\b\b\b\b\b\b\b\b\b\b\b\b\b\b\r",
      "45/71 [==================>...........] - ETA: 1s"
     ]
    },
    {
     "name": "stdout",
     "output_type": "stream",
     "text": [
      "\b\b\b\b\b\b\b\b\b\b\b\b\b\b\b\b\b\b\b\b\b\b\b\b\b\b\b\b\b\b\b\b\b\b\b\b\b\b\b\b\b\b\b\b\b\b\b\b\r",
      "46/71 [==================>...........] - ETA: 1s"
     ]
    },
    {
     "name": "stdout",
     "output_type": "stream",
     "text": [
      "\b\b\b\b\b\b\b\b\b\b\b\b\b\b\b\b\b\b\b\b\b\b\b\b\b\b\b\b\b\b\b\b\b\b\b\b\b\b\b\b\b\b\b\b\b\b\b\b\r",
      "47/71 [==================>...........] - ETA: 1s"
     ]
    },
    {
     "name": "stdout",
     "output_type": "stream",
     "text": [
      "\b\b\b\b\b\b\b\b\b\b\b\b\b\b\b\b\b\b\b\b\b\b\b\b\b\b\b\b\b\b\b\b\b\b\b\b\b\b\b\b\b\b\b\b\b\b\b\b\r",
      "48/71 [===================>..........] - ETA: 1s"
     ]
    },
    {
     "name": "stdout",
     "output_type": "stream",
     "text": [
      "\b\b\b\b\b\b\b\b\b\b\b\b\b\b\b\b\b\b\b\b\b\b\b\b\b\b\b\b\b\b\b\b\b\b\b\b\b\b\b\b\b\b\b\b\b\b\b\b\r",
      "49/71 [===================>..........] - ETA: 1s"
     ]
    },
    {
     "name": "stdout",
     "output_type": "stream",
     "text": [
      "\b\b\b\b\b\b\b\b\b\b\b\b\b\b\b\b\b\b\b\b\b\b\b\b\b\b\b\b\b\b\b\b\b\b\b\b\b\b\b\b\b\b\b\b\b\b\b\b\r",
      "50/71 [====================>.........] - ETA: 1s"
     ]
    },
    {
     "name": "stdout",
     "output_type": "stream",
     "text": [
      "\b\b\b\b\b\b\b\b\b\b\b\b\b\b\b\b\b\b\b\b\b\b\b\b\b\b\b\b\b\b\b\b\b\b\b\b\b\b\b\b\b\b\b\b\b\b\b\b\r",
      "51/71 [====================>.........] - ETA: 1s"
     ]
    },
    {
     "name": "stdout",
     "output_type": "stream",
     "text": [
      "\b\b\b\b\b\b\b\b\b\b\b\b\b\b\b\b\b\b\b\b\b\b\b\b\b\b\b\b\b\b\b\b\b\b\b\b\b\b\b\b\b\b\b\b\b\b\b\b\r",
      "52/71 [====================>.........] - ETA: 1s"
     ]
    },
    {
     "name": "stdout",
     "output_type": "stream",
     "text": [
      "\b\b\b\b\b\b\b\b\b\b\b\b\b\b\b\b\b\b\b\b\b\b\b\b\b\b\b\b\b\b\b\b\b\b\b\b\b\b\b\b\b\b\b\b\b\b\b\b\r",
      "53/71 [=====================>........] - ETA: 1s"
     ]
    },
    {
     "name": "stdout",
     "output_type": "stream",
     "text": [
      "\b\b\b\b\b\b\b\b\b\b\b\b\b\b\b\b\b\b\b\b\b\b\b\b\b\b\b\b\b\b\b\b\b\b\b\b\b\b\b\b\b\b\b\b\b\b\b\b\r",
      "54/71 [=====================>........] - ETA: 1s"
     ]
    },
    {
     "name": "stdout",
     "output_type": "stream",
     "text": [
      "\b\b\b\b\b\b\b\b\b\b\b\b\b\b\b\b\b\b\b\b\b\b\b\b\b\b\b\b\b\b\b\b\b\b\b\b\b\b\b\b\b\b\b\b\b\b\b\b\r",
      "55/71 [======================>.......] - ETA: 1s"
     ]
    },
    {
     "name": "stdout",
     "output_type": "stream",
     "text": [
      "\b\b\b\b\b\b\b\b\b\b\b\b\b\b\b\b\b\b\b\b\b\b\b\b\b\b\b\b\b\b\b\b\b\b\b\b\b\b\b\b\b\b\b\b\b\b\b\b\r",
      "56/71 [======================>.......] - ETA: 0s"
     ]
    },
    {
     "name": "stdout",
     "output_type": "stream",
     "text": [
      "\b\b\b\b\b\b\b\b\b\b\b\b\b\b\b\b\b\b\b\b\b\b\b\b\b\b\b\b\b\b\b\b\b\b\b\b\b\b\b\b\b\b\b\b\b\b\b\b\r",
      "57/71 [=======================>......] - ETA: 0s"
     ]
    },
    {
     "name": "stdout",
     "output_type": "stream",
     "text": [
      "\b\b\b\b\b\b\b\b\b\b\b\b\b\b\b\b\b\b\b\b\b\b\b\b\b\b\b\b\b\b\b\b\b\b\b\b\b\b\b\b\b\b\b\b\b\b\b\b\r",
      "58/71 [=======================>......] - ETA: 0s"
     ]
    },
    {
     "name": "stdout",
     "output_type": "stream",
     "text": [
      "\b\b\b\b\b\b\b\b\b\b\b\b\b\b\b\b\b\b\b\b\b\b\b\b\b\b\b\b\b\b\b\b\b\b\b\b\b\b\b\b\b\b\b\b\b\b\b\b\r",
      "59/71 [=======================>......] - ETA: 0s"
     ]
    },
    {
     "name": "stdout",
     "output_type": "stream",
     "text": [
      "\b\b\b\b\b\b\b\b\b\b\b\b\b\b\b\b\b\b\b\b\b\b\b\b\b\b\b\b\b\b\b\b\b\b\b\b\b\b\b\b\b\b\b\b\b\b\b\b\r",
      "60/71 [========================>.....] - ETA: 0s"
     ]
    },
    {
     "name": "stdout",
     "output_type": "stream",
     "text": [
      "\b\b\b\b\b\b\b\b\b\b\b\b\b\b\b\b\b\b\b\b\b\b\b\b\b\b\b\b\b\b\b\b\b\b\b\b\b\b\b\b\b\b\b\b\b\b\b\b\r",
      "61/71 [========================>.....] - ETA: 0s"
     ]
    },
    {
     "name": "stdout",
     "output_type": "stream",
     "text": [
      "\b\b\b\b\b\b\b\b\b\b\b\b\b\b\b\b\b\b\b\b\b\b\b\b\b\b\b\b\b\b\b\b\b\b\b\b\b\b\b\b\b\b\b\b\b\b\b\b\r",
      "62/71 [=========================>....] - ETA: 0s"
     ]
    },
    {
     "name": "stdout",
     "output_type": "stream",
     "text": [
      "\b\b\b\b\b\b\b\b\b\b\b\b\b\b\b\b\b\b\b\b\b\b\b\b\b\b\b\b\b\b\b\b\b\b\b\b\b\b\b\b\b\b\b\b\b\b\b\b\r",
      "63/71 [=========================>....] - ETA: 0s"
     ]
    },
    {
     "name": "stdout",
     "output_type": "stream",
     "text": [
      "\b\b\b\b\b\b\b\b\b\b\b\b\b\b\b\b\b\b\b\b\b\b\b\b\b\b\b\b\b\b\b\b\b\b\b\b\b\b\b\b\b\b\b\b\b\b\b\b\r",
      "64/71 [==========================>...] - ETA: 0s"
     ]
    },
    {
     "name": "stdout",
     "output_type": "stream",
     "text": [
      "\b\b\b\b\b\b\b\b\b\b\b\b\b\b\b\b\b\b\b\b\b\b\b\b\b\b\b\b\b\b\b\b\b\b\b\b\b\b\b\b\b\b\b\b\b\b\b\b\r",
      "65/71 [==========================>...] - ETA: 0s"
     ]
    },
    {
     "name": "stdout",
     "output_type": "stream",
     "text": [
      "\b\b\b\b\b\b\b\b\b\b\b\b\b\b\b\b\b\b\b\b\b\b\b\b\b\b\b\b\b\b\b\b\b\b\b\b\b\b\b\b\b\b\b\b\b\b\b\b\r",
      "66/71 [==========================>...] - ETA: 0s"
     ]
    },
    {
     "name": "stdout",
     "output_type": "stream",
     "text": [
      "\b\b\b\b\b\b\b\b\b\b\b\b\b\b\b\b\b\b\b\b\b\b\b\b\b\b\b\b\b\b\b\b\b\b\b\b\b\b\b\b\b\b\b\b\b\b\b\b\r",
      "67/71 [===========================>..] - ETA: 0s"
     ]
    },
    {
     "name": "stdout",
     "output_type": "stream",
     "text": [
      "\b\b\b\b\b\b\b\b\b\b\b\b\b\b\b\b\b\b\b\b\b\b\b\b\b\b\b\b\b\b\b\b\b\b\b\b\b\b\b\b\b\b\b\b\b\b\b\b\r",
      "68/71 [===========================>..] - ETA: 0s"
     ]
    },
    {
     "name": "stdout",
     "output_type": "stream",
     "text": [
      "\b\b\b\b\b\b\b\b\b\b\b\b\b\b\b\b\b\b\b\b\b\b\b\b\b\b\b\b\b\b\b\b\b\b\b\b\b\b\b\b\b\b\b\b\b\b\b\b\r",
      "69/71 [============================>.] - ETA: 0s"
     ]
    },
    {
     "name": "stdout",
     "output_type": "stream",
     "text": [
      "\b\b\b\b\b\b\b\b\b\b\b\b\b\b\b\b\b\b\b\b\b\b\b\b\b\b\b\b\b\b\b\b\b\b\b\b\b\b\b\b\b\b\b\b\b\b\b\b\r",
      "70/71 [============================>.] - ETA: 0s"
     ]
    },
    {
     "name": "stdout",
     "output_type": "stream",
     "text": [
      "\b\b\b\b\b\b\b\b\b\b\b\b\b\b\b\b\b\b\b\b\b\b\b\b\b\b\b\b\b\b\b\b\b\b\b\b\b\b\b\b\b\b\b\b\b\b\b\b\r",
      "71/71 [==============================] - ETA: 0s"
     ]
    },
    {
     "name": "stdout",
     "output_type": "stream",
     "text": [
      "\b\b\b\b\b\b\b\b\b\b\b\b\b\b\b\b\b\b\b\b\b\b\b\b\b\b\b\b\b\b\b\b\b\b\b\b\b\b\b\b\b\b\b\b\b\b\b\b\r",
      "71/71 [==============================] - 6s 70ms/step\n"
     ]
    }
   ],
   "source": [
    "test_image_batch, test_mask_batch = next(iter(valid_dataset.unbatch().batch(No_of_valid_data)))\n",
    "test_mask_batch_argmax = np.argmax(test_mask_batch, axis=3) \n",
    "test_pred_batch = model.predict(test_image_batch)\n",
    "test_pred_batch_argmax = np.argmax(test_pred_batch, axis=3)"
   ]
  },
  {
   "cell_type": "code",
   "execution_count": 37,
   "id": "31258e5f",
   "metadata": {
    "execution": {
     "iopub.execute_input": "2023-03-26T18:30:29.512983Z",
     "iopub.status.busy": "2023-03-26T18:30:29.512713Z",
     "iopub.status.idle": "2023-03-26T18:31:01.172867Z",
     "shell.execute_reply": "2023-03-26T18:31:01.172040Z"
    },
    "papermill": {
     "duration": 31.679939,
     "end_time": "2023-03-26T18:31:01.175077",
     "exception": false,
     "start_time": "2023-03-26T18:30:29.495138",
     "status": "completed"
    },
    "tags": []
   },
   "outputs": [],
   "source": [
    "cm = confusion_matrix(test_mask_batch_argmax.flatten(),test_pred_batch_argmax.flatten())\n",
    "disp = ConfusionMatrixDisplay(confusion_matrix=cm, display_labels=['non_ponds','ponds'])"
   ]
  },
  {
   "cell_type": "code",
   "execution_count": 38,
   "id": "456a9050",
   "metadata": {
    "execution": {
     "iopub.execute_input": "2023-03-26T18:31:01.211075Z",
     "iopub.status.busy": "2023-03-26T18:31:01.210803Z",
     "iopub.status.idle": "2023-03-26T18:31:01.453713Z",
     "shell.execute_reply": "2023-03-26T18:31:01.453002Z"
    },
    "papermill": {
     "duration": 0.262084,
     "end_time": "2023-03-26T18:31:01.455350",
     "exception": false,
     "start_time": "2023-03-26T18:31:01.193266",
     "status": "completed"
    },
    "tags": []
   },
   "outputs": [
    {
     "data": {
      "image/png": "[encoded data removed]",
      "text/plain": [
       "<Figure size 432x288 with 2 Axes>"
      ]
     },
     "metadata": {
      "needs_background": "light"
     },
     "output_type": "display_data"
    }
   ],
   "source": [
    "disp.plot(cmap=plt.cm.Reds)\n",
    "plt.savefig('confusion_matrix.png')\n",
    "plt.show()"
   ]
  }
 ],
 "metadata": {
  "accelerator": "GPU",
  "colab": {
   "provenance": []
  },
  "gpuClass": "standard",
  "kernelspec": {
   "display_name": "Python 3",
   "language": "python",
   "name": "python3"
  },
  "language_info": {
   "codemirror_mode": {
    "name": "ipython",
    "version": 3
   },
   "file_extension": ".py",
   "mimetype": "text/x-python",
   "name": "python",
   "nbconvert_exporter": "python",
   "pygments_lexer": "ipython3",
   "version": "3.9.15"
  },
  "papermill": {
   "default_parameters": {},
   "duration": 2598.088091,
   "end_time": "2023-03-26T18:31:06.181922",
   "environment_variables": {},
   "exception": null,
   "input_path": "notebooks/deeplabv3plus_squeeze_excitation.ipynb",
   "output_path": "notebook_output/deeplabv3plus_squeeze_excitation.ipynb",
   "parameters": {},
   "start_time": "2023-03-26T17:47:48.093831",
   "version": "2.4.0"
  },
  "vscode": {
   "interpreter": {
    "hash": "a7e3d68acf3053187c5b77579300c0651533903882d6ac7cf345b8b37dbd4fd7"
   }
  },
  "widgets": {
   "application/vnd.jupyter.widget-state+json": {
    "state": {
     "0788156d537f41d7bca378c23608f841": {
      "model_module": "@jupyter-widgets/controls",
      "model_module_version": "2.0.0",
      "model_name": "ProgressStyleModel",
      "state": {
       "_model_module": "@jupyter-widgets/controls",
       "_model_module_version": "2.0.0",
       "_model_name": "ProgressStyleModel",
       "_view_count": null,
       "_view_module": "@jupyter-widgets/base",
       "_view_module_version": "2.0.0",
       "_view_name": "StyleView",
       "bar_color": null,
       "description_width": ""
      }
     },
     "07ea3cbc1b834f0aa7ad2992efff45c8": {
      "model_module": "@jupyter-widgets/base",
      "model_module_version": "2.0.0",
      "model_name": "LayoutModel",
      "state": {
       "_model_module": "@jupyter-widgets/base",
       "_model_module_version": "2.0.0",
       "_model_name": "LayoutModel",
       "_view_count": null,
       "_view_module": "@jupyter-widgets/base",
       "_view_module_version": "2.0.0",
       "_view_name": "LayoutView",
       "align_content": null,
       "align_items": null,
       "align_self": null,
       "border_bottom": null,
       "border_left": null,
       "border_right": null,
       "border_top": null,
       "bottom": null,
       "display": null,
       "flex": null,
       "flex_flow": null,
       "grid_area": null,
       "grid_auto_columns": null,
       "grid_auto_flow": null,
       "grid_auto_rows": null,
       "grid_column": null,
       "grid_gap": null,
       "grid_row": null,
       "grid_template_areas": null,
       "grid_template_columns": null,
       "grid_template_rows": null,
       "height": null,
       "justify_content": null,
       "justify_items": null,
       "left": null,
       "margin": null,
       "max_height": null,
       "max_width": null,
       "min_height": null,
       "min_width": null,
       "object_fit": null,
       "object_position": null,
       "order": null,
       "overflow": null,
       "padding": null,
       "right": null,
       "top": null,
       "visibility": null,
       "width": null
      }
     },
     "1d07404cbd6b466ea1633dee44d35149": {
      "model_module": "@jupyter-widgets/base",
      "model_module_version": "2.0.0",
      "model_name": "LayoutModel",
      "state": {
       "_model_module": "@jupyter-widgets/base",
       "_model_module_version": "2.0.0",
       "_model_name": "LayoutModel",
       "_view_count": null,
       "_view_module": "@jupyter-widgets/base",
       "_view_module_version": "2.0.0",
       "_view_name": "LayoutView",
       "align_content": null,
       "align_items": null,
       "align_self": null,
       "border_bottom": null,
       "border_left": null,
       "border_right": null,
       "border_top": null,
       "bottom": null,
       "display": null,
       "flex": null,
       "flex_flow": null,
       "grid_area": null,
       "grid_auto_columns": null,
       "grid_auto_flow": null,
       "grid_auto_rows": null,
       "grid_column": null,
       "grid_gap": null,
       "grid_row": null,
       "grid_template_areas": null,
       "grid_template_columns": null,
       "grid_template_rows": null,
       "height": null,
       "justify_content": null,
       "justify_items": null,
       "left": null,
       "margin": null,
       "max_height": null,
       "max_width": null,
       "min_height": null,
       "min_width": null,
       "object_fit": null,
       "object_position": null,
       "order": null,
       "overflow": null,
       "padding": null,
       "right": null,
       "top": null,
       "visibility": null,
       "width": null
      }
     },
     "4975a5b3ca874c3b8dfbb40de60799e8": {
      "model_module": "@jupyter-widgets/controls",
      "model_module_version": "2.0.0",
      "model_name": "HTMLModel",
      "state": {
       "_dom_classes": [],
       "_model_module": "@jupyter-widgets/controls",
       "_model_module_version": "2.0.0",
       "_model_name": "HTMLModel",
       "_view_count": null,
       "_view_module": "@jupyter-widgets/controls",
       "_view_module_version": "2.0.0",
       "_view_name": "HTMLView",
       "description": "",
       "description_allow_html": false,
       "layout": "IPY_MODEL_b4d29d9f993d41abb8bd7cf5e6c574e4",
       "placeholder": "​",
       "style": "IPY_MODEL_cab95779823347d99b91b56b1351a467",
       "tabbable": null,
       "tooltip": null,
       "value": "100%"
      }
     },
     "5b396a18cb96498f8031d91e855e976c": {
      "model_module": "@jupyter-widgets/base",
      "model_module_version": "2.0.0",
      "model_name": "LayoutModel",
      "state": {
       "_model_module": "@jupyter-widgets/base",
       "_model_module_version": "2.0.0",
       "_model_name": "LayoutModel",
       "_view_count": null,
       "_view_module": "@jupyter-widgets/base",
       "_view_module_version": "2.0.0",
       "_view_name": "LayoutView",
       "align_content": null,
       "align_items": null,
       "align_self": null,
       "border_bottom": null,
       "border_left": null,
       "border_right": null,
       "border_top": null,
       "bottom": null,
       "display": null,
       "flex": null,
       "flex_flow": null,
       "grid_area": null,
       "grid_auto_columns": null,
       "grid_auto_flow": null,
       "grid_auto_rows": null,
       "grid_column": null,
       "grid_gap": null,
       "grid_row": null,
       "grid_template_areas": null,
       "grid_template_columns": null,
       "grid_template_rows": null,
       "height": null,
       "justify_content": null,
       "justify_items": null,
       "left": null,
       "margin": null,
       "max_height": null,
       "max_width": null,
       "min_height": null,
       "min_width": null,
       "object_fit": null,
       "object_position": null,
       "order": null,
       "overflow": null,
       "padding": null,
       "right": null,
       "top": null,
       "visibility": null,
       "width": null
      }
     },
     "6687bfc512c64c25bf42c2dc554da068": {
      "model_module": "@jupyter-widgets/base",
      "model_module_version": "2.0.0",
      "model_name": "LayoutModel",
      "state": {
       "_model_module": "@jupyter-widgets/base",
       "_model_module_version": "2.0.0",
       "_model_name": "LayoutModel",
       "_view_count": null,
       "_view_module": "@jupyter-widgets/base",
       "_view_module_version": "2.0.0",
       "_view_name": "LayoutView",
       "align_content": null,
       "align_items": null,
       "align_self": null,
       "border_bottom": null,
       "border_left": null,
       "border_right": null,
       "border_top": null,
       "bottom": null,
       "display": null,
       "flex": null,
       "flex_flow": null,
       "grid_area": null,
       "grid_auto_columns": null,
       "grid_auto_flow": null,
       "grid_auto_rows": null,
       "grid_column": null,
       "grid_gap": null,
       "grid_row": null,
       "grid_template_areas": null,
       "grid_template_columns": null,
       "grid_template_rows": null,
       "height": null,
       "justify_content": null,
       "justify_items": null,
       "left": null,
       "margin": null,
       "max_height": null,
       "max_width": null,
       "min_height": null,
       "min_width": null,
       "object_fit": null,
       "object_position": null,
       "order": null,
       "overflow": null,
       "padding": null,
       "right": null,
       "top": null,
       "visibility": null,
       "width": null
      }
     },
     "6d3e5939583b485691606d3d218120bf": {
      "model_module": "@jupyter-widgets/base",
      "model_module_version": "2.0.0",
      "model_name": "LayoutModel",
      "state": {
       "_model_module": "@jupyter-widgets/base",
       "_model_module_version": "2.0.0",
       "_model_name": "LayoutModel",
       "_view_count": null,
       "_view_module": "@jupyter-widgets/base",
       "_view_module_version": "2.0.0",
       "_view_name": "LayoutView",
       "align_content": null,
       "align_items": null,
       "align_self": null,
       "border_bottom": null,
       "border_left": null,
       "border_right": null,
       "border_top": null,
       "bottom": null,
       "display": null,
       "flex": null,
       "flex_flow": null,
       "grid_area": null,
       "grid_auto_columns": null,
       "grid_auto_flow": null,
       "grid_auto_rows": null,
       "grid_column": null,
       "grid_gap": null,
       "grid_row": null,
       "grid_template_areas": null,
       "grid_template_columns": null,
       "grid_template_rows": null,
       "height": null,
       "justify_content": null,
       "justify_items": null,
       "left": null,
       "margin": null,
       "max_height": null,
       "max_width": null,
       "min_height": null,
       "min_width": null,
       "object_fit": null,
       "object_position": null,
       "order": null,
       "overflow": null,
       "padding": null,
       "right": null,
       "top": null,
       "visibility": null,
       "width": null
      }
     },
     "7ca776629a28460c827957ffdfcb8f74": {
      "model_module": "@jupyter-widgets/controls",
      "model_module_version": "2.0.0",
      "model_name": "HTMLStyleModel",
      "state": {
       "_model_module": "@jupyter-widgets/controls",
       "_model_module_version": "2.0.0",
       "_model_name": "HTMLStyleModel",
       "_view_count": null,
       "_view_module": "@jupyter-widgets/base",
       "_view_module_version": "2.0.0",
       "_view_name": "StyleView",
       "background": null,
       "description_width": "",
       "font_size": null,
       "text_color": null
      }
     },
     "804ec97a0faa4971b6f81bf1c2f908ea": {
      "model_module": "@jupyter-widgets/controls",
      "model_module_version": "2.0.0",
      "model_name": "HTMLModel",
      "state": {
       "_dom_classes": [],
       "_model_module": "@jupyter-widgets/controls",
       "_model_module_version": "2.0.0",
       "_model_name": "HTMLModel",
       "_view_count": null,
       "_view_module": "@jupyter-widgets/controls",
       "_view_module_version": "2.0.0",
       "_view_name": "HTMLView",
       "description": "",
       "description_allow_html": false,
       "layout": "IPY_MODEL_5b396a18cb96498f8031d91e855e976c",
       "placeholder": "​",
       "style": "IPY_MODEL_fc87b280a0e548fb8e0dfe63323b4586",
       "tabbable": null,
       "tooltip": null,
       "value": "100%"
      }
     },
     "8af5b6b594124ffb909be3826f895eec": {
      "model_module": "@jupyter-widgets/controls",
      "model_module_version": "2.0.0",
      "model_name": "HTMLModel",
      "state": {
       "_dom_classes": [],
       "_model_module": "@jupyter-widgets/controls",
       "_model_module_version": "2.0.0",
       "_model_name": "HTMLModel",
       "_view_count": null,
       "_view_module": "@jupyter-widgets/controls",
       "_view_module_version": "2.0.0",
       "_view_name": "HTMLView",
       "description": "",
       "description_allow_html": false,
       "layout": "IPY_MODEL_1d07404cbd6b466ea1633dee44d35149",
       "placeholder": "​",
       "style": "IPY_MODEL_7ca776629a28460c827957ffdfcb8f74",
       "tabbable": null,
       "tooltip": null,
       "value": " 3/3 [00:00&lt;00:00,  7.05it/s]"
      }
     },
     "919b50ac4b01497e89dd2d275db4b11c": {
      "model_module": "@jupyter-widgets/controls",
      "model_module_version": "2.0.0",
      "model_name": "HBoxModel",
      "state": {
       "_dom_classes": [],
       "_model_module": "@jupyter-widgets/controls",
       "_model_module_version": "2.0.0",
       "_model_name": "HBoxModel",
       "_view_count": null,
       "_view_module": "@jupyter-widgets/controls",
       "_view_module_version": "2.0.0",
       "_view_name": "HBoxView",
       "box_style": "",
       "children": [
        "IPY_MODEL_804ec97a0faa4971b6f81bf1c2f908ea",
        "IPY_MODEL_ce9263a6b43043e6a9f0e827c1dde10e",
        "IPY_MODEL_b3a8cb4257ff49bcaa946c09d44ee04a"
       ],
       "layout": "IPY_MODEL_6d3e5939583b485691606d3d218120bf",
       "tabbable": null,
       "tooltip": null
      }
     },
     "b3a8cb4257ff49bcaa946c09d44ee04a": {
      "model_module": "@jupyter-widgets/controls",
      "model_module_version": "2.0.0",
      "model_name": "HTMLModel",
      "state": {
       "_dom_classes": [],
       "_model_module": "@jupyter-widgets/controls",
       "_model_module_version": "2.0.0",
       "_model_name": "HTMLModel",
       "_view_count": null,
       "_view_module": "@jupyter-widgets/controls",
       "_view_module_version": "2.0.0",
       "_view_name": "HTMLView",
       "description": "",
       "description_allow_html": false,
       "layout": "IPY_MODEL_dfbce4fe0c79435998ae015f78efc812",
       "placeholder": "​",
       "style": "IPY_MODEL_cf40a4e2cf1146e7b16cea30ba2e8341",
       "tabbable": null,
       "tooltip": null,
       "value": " 3/3 [00:00&lt;00:00,  7.34it/s]"
      }
     },
     "b4d29d9f993d41abb8bd7cf5e6c574e4": {
      "model_module": "@jupyter-widgets/base",
      "model_module_version": "2.0.0",
      "model_name": "LayoutModel",
      "state": {
       "_model_module": "@jupyter-widgets/base",
       "_model_module_version": "2.0.0",
       "_model_name": "LayoutModel",
       "_view_count": null,
       "_view_module": "@jupyter-widgets/base",
       "_view_module_version": "2.0.0",
       "_view_name": "LayoutView",
       "align_content": null,
       "align_items": null,
       "align_self": null,
       "border_bottom": null,
       "border_left": null,
       "border_right": null,
       "border_top": null,
       "bottom": null,
       "display": null,
       "flex": null,
       "flex_flow": null,
       "grid_area": null,
       "grid_auto_columns": null,
       "grid_auto_flow": null,
       "grid_auto_rows": null,
       "grid_column": null,
       "grid_gap": null,
       "grid_row": null,
       "grid_template_areas": null,
       "grid_template_columns": null,
       "grid_template_rows": null,
       "height": null,
       "justify_content": null,
       "justify_items": null,
       "left": null,
       "margin": null,
       "max_height": null,
       "max_width": null,
       "min_height": null,
       "min_width": null,
       "object_fit": null,
       "object_position": null,
       "order": null,
       "overflow": null,
       "padding": null,
       "right": null,
       "top": null,
       "visibility": null,
       "width": null
      }
     },
     "ca5e6b54ce6a488f877a14215d6ce215": {
      "model_module": "@jupyter-widgets/controls",
      "model_module_version": "2.0.0",
      "model_name": "FloatProgressModel",
      "state": {
       "_dom_classes": [],
       "_model_module": "@jupyter-widgets/controls",
       "_model_module_version": "2.0.0",
       "_model_name": "FloatProgressModel",
       "_view_count": null,
       "_view_module": "@jupyter-widgets/controls",
       "_view_module_version": "2.0.0",
       "_view_name": "ProgressView",
       "bar_style": "success",
       "description": "",
       "description_allow_html": false,
       "layout": "IPY_MODEL_e11c41e2d7f6429f94c424b9e2e2e683",
       "max": 3.0,
       "min": 0.0,
       "orientation": "horizontal",
       "style": "IPY_MODEL_0788156d537f41d7bca378c23608f841",
       "tabbable": null,
       "tooltip": null,
       "value": 3.0
      }
     },
     "cab95779823347d99b91b56b1351a467": {
      "model_module": "@jupyter-widgets/controls",
      "model_module_version": "2.0.0",
      "model_name": "HTMLStyleModel",
      "state": {
       "_model_module": "@jupyter-widgets/controls",
       "_model_module_version": "2.0.0",
       "_model_name": "HTMLStyleModel",
       "_view_count": null,
       "_view_module": "@jupyter-widgets/base",
       "_view_module_version": "2.0.0",
       "_view_name": "StyleView",
       "background": null,
       "description_width": "",
       "font_size": null,
       "text_color": null
      }
     },
     "ce9263a6b43043e6a9f0e827c1dde10e": {
      "model_module": "@jupyter-widgets/controls",
      "model_module_version": "2.0.0",
      "model_name": "FloatProgressModel",
      "state": {
       "_dom_classes": [],
       "_model_module": "@jupyter-widgets/controls",
       "_model_module_version": "2.0.0",
       "_model_name": "FloatProgressModel",
       "_view_count": null,
       "_view_module": "@jupyter-widgets/controls",
       "_view_module_version": "2.0.0",
       "_view_name": "ProgressView",
       "bar_style": "success",
       "description": "",
       "description_allow_html": false,
       "layout": "IPY_MODEL_07ea3cbc1b834f0aa7ad2992efff45c8",
       "max": 3.0,
       "min": 0.0,
       "orientation": "horizontal",
       "style": "IPY_MODEL_de54f7fbfc574ceb9847072ac11212c5",
       "tabbable": null,
       "tooltip": null,
       "value": 3.0
      }
     },
     "cf40a4e2cf1146e7b16cea30ba2e8341": {
      "model_module": "@jupyter-widgets/controls",
      "model_module_version": "2.0.0",
      "model_name": "HTMLStyleModel",
      "state": {
       "_model_module": "@jupyter-widgets/controls",
       "_model_module_version": "2.0.0",
       "_model_name": "HTMLStyleModel",
       "_view_count": null,
       "_view_module": "@jupyter-widgets/base",
       "_view_module_version": "2.0.0",
       "_view_name": "StyleView",
       "background": null,
       "description_width": "",
       "font_size": null,
       "text_color": null
      }
     },
     "de54f7fbfc574ceb9847072ac11212c5": {
      "model_module": "@jupyter-widgets/controls",
      "model_module_version": "2.0.0",
      "model_name": "ProgressStyleModel",
      "state": {
       "_model_module": "@jupyter-widgets/controls",
       "_model_module_version": "2.0.0",
       "_model_name": "ProgressStyleModel",
       "_view_count": null,
       "_view_module": "@jupyter-widgets/base",
       "_view_module_version": "2.0.0",
       "_view_name": "StyleView",
       "bar_color": null,
       "description_width": ""
      }
     },
     "dfbce4fe0c79435998ae015f78efc812": {
      "model_module": "@jupyter-widgets/base",
      "model_module_version": "2.0.0",
      "model_name": "LayoutModel",
      "state": {
       "_model_module": "@jupyter-widgets/base",
       "_model_module_version": "2.0.0",
       "_model_name": "LayoutModel",
       "_view_count": null,
       "_view_module": "@jupyter-widgets/base",
       "_view_module_version": "2.0.0",
       "_view_name": "LayoutView",
       "align_content": null,
       "align_items": null,
       "align_self": null,
       "border_bottom": null,
       "border_left": null,
       "border_right": null,
       "border_top": null,
       "bottom": null,
       "display": null,
       "flex": null,
       "flex_flow": null,
       "grid_area": null,
       "grid_auto_columns": null,
       "grid_auto_flow": null,
       "grid_auto_rows": null,
       "grid_column": null,
       "grid_gap": null,
       "grid_row": null,
       "grid_template_areas": null,
       "grid_template_columns": null,
       "grid_template_rows": null,
       "height": null,
       "justify_content": null,
       "justify_items": null,
       "left": null,
       "margin": null,
       "max_height": null,
       "max_width": null,
       "min_height": null,
       "min_width": null,
       "object_fit": null,
       "object_position": null,
       "order": null,
       "overflow": null,
       "padding": null,
       "right": null,
       "top": null,
       "visibility": null,
       "width": null
      }
     },
     "e11c41e2d7f6429f94c424b9e2e2e683": {
      "model_module": "@jupyter-widgets/base",
      "model_module_version": "2.0.0",
      "model_name": "LayoutModel",
      "state": {
       "_model_module": "@jupyter-widgets/base",
       "_model_module_version": "2.0.0",
       "_model_name": "LayoutModel",
       "_view_count": null,
       "_view_module": "@jupyter-widgets/base",
       "_view_module_version": "2.0.0",
       "_view_name": "LayoutView",
       "align_content": null,
       "align_items": null,
       "align_self": null,
       "border_bottom": null,
       "border_left": null,
       "border_right": null,
       "border_top": null,
       "bottom": null,
       "display": null,
       "flex": null,
       "flex_flow": null,
       "grid_area": null,
       "grid_auto_columns": null,
       "grid_auto_flow": null,
       "grid_auto_rows": null,
       "grid_column": null,
       "grid_gap": null,
       "grid_row": null,
       "grid_template_areas": null,
       "grid_template_columns": null,
       "grid_template_rows": null,
       "height": null,
       "justify_content": null,
       "justify_items": null,
       "left": null,
       "margin": null,
       "max_height": null,
       "max_width": null,
       "min_height": null,
       "min_width": null,
       "object_fit": null,
       "object_position": null,
       "order": null,
       "overflow": null,
       "padding": null,
       "right": null,
       "top": null,
       "visibility": null,
       "width": null
      }
     },
     "e9491355d20d48e9831704f9bdd8b801": {
      "model_module": "@jupyter-widgets/controls",
      "model_module_version": "2.0.0",
      "model_name": "HBoxModel",
      "state": {
       "_dom_classes": [],
       "_model_module": "@jupyter-widgets/controls",
       "_model_module_version": "2.0.0",
       "_model_name": "HBoxModel",
       "_view_count": null,
       "_view_module": "@jupyter-widgets/controls",
       "_view_module_version": "2.0.0",
       "_view_name": "HBoxView",
       "box_style": "",
       "children": [
        "IPY_MODEL_4975a5b3ca874c3b8dfbb40de60799e8",
        "IPY_MODEL_ca5e6b54ce6a488f877a14215d6ce215",
        "IPY_MODEL_8af5b6b594124ffb909be3826f895eec"
       ],
       "layout": "IPY_MODEL_6687bfc512c64c25bf42c2dc554da068",
       "tabbable": null,
       "tooltip": null
      }
     },
     "fc87b280a0e548fb8e0dfe63323b4586": {
      "model_module": "@jupyter-widgets/controls",
      "model_module_version": "2.0.0",
      "model_name": "HTMLStyleModel",
      "state": {
       "_model_module": "@jupyter-widgets/controls",
       "_model_module_version": "2.0.0",
       "_model_name": "HTMLStyleModel",
       "_view_count": null,
       "_view_module": "@jupyter-widgets/base",
       "_view_module_version": "2.0.0",
       "_view_name": "StyleView",
       "background": null,
       "description_width": "",
       "font_size": null,
       "text_color": null
      }
     }
    },
    "version_major": 2,
    "version_minor": 0
   }
  }
 },
 "nbformat": 4,
 "nbformat_minor": 5
}