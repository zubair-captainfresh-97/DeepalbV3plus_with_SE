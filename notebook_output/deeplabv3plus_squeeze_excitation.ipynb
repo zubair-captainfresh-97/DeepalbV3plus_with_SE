{
 "cells": [
  {
   "cell_type": "code",
   "execution_count": 1,
   "id": "7270e39b",
   "metadata": {
    "execution": {
     "iopub.execute_input": "2023-03-27T05:12:15.844045Z",
     "iopub.status.busy": "2023-03-27T05:12:15.843720Z",
     "iopub.status.idle": "2023-03-27T05:12:21.929467Z",
     "shell.execute_reply": "2023-03-27T05:12:21.928526Z"
    },
    "papermill": {
     "duration": 6.095349,
     "end_time": "2023-03-27T05:12:21.931403",
     "exception": false,
     "start_time": "2023-03-27T05:12:15.836054",
     "status": "completed"
    },
    "tags": []
   },
   "outputs": [],
   "source": [
    "import os\n",
    "import numpy as np\n",
    "import glob\n",
    "from skimage.io import imread,imsave\n",
    "import numpy as np\n",
    "from matplotlib import pyplot as plt\n",
    "import tensorflow as tf\n",
    "import random\n",
    "import tqdm\n",
    "import keras\n",
    "from tqdm.notebook import tqdm_notebook\n",
    "import yaml\n",
    "from functools import partial\n",
    "from dvclive.keras import DVCLiveCallback\n",
    "from loss import tversky_loss, focal_tversky,sdice_loss, dice_loss,log_cosh_dice_loss\n",
    "from keras.callbacks import ModelCheckpoint, EarlyStopping, CSVLogger,LearningRateScheduler,TensorBoard\n",
    "from tensorflow import keras\n",
    "from tensorflow.keras.layers import AveragePooling2D, Conv2DTranspose, Concatenate, Input, GlobalAveragePooling2D, Dense, Multiply\n",
    "from keras.applications.resnet import ResNet50\n",
    "from tensorflow.keras.models import Model\n",
    "from tensorflow.keras.layers import Conv2D, BatchNormalization, Activation, UpSampling2D\n",
    "from clr_callback import *"
   ]
  },
  {
   "cell_type": "code",
   "execution_count": 2,
   "id": "c5aec98f",
   "metadata": {
    "execution": {
     "iopub.execute_input": "2023-03-27T05:12:21.944100Z",
     "iopub.status.busy": "2023-03-27T05:12:21.943824Z",
     "iopub.status.idle": "2023-03-27T05:12:22.214649Z",
     "shell.execute_reply": "2023-03-27T05:12:22.213957Z"
    },
    "papermill": {
     "duration": 0.27868,
     "end_time": "2023-03-27T05:12:22.216129",
     "exception": false,
     "start_time": "2023-03-27T05:12:21.937449",
     "status": "completed"
    },
    "tags": []
   },
   "outputs": [],
   "source": [
    "tf.config.list_physical_devices('GPU')\n",
    "params = yaml.safe_load(open(\"params.yaml\"))['model_params']"
   ]
  },
  {
   "cell_type": "code",
   "execution_count": 3,
   "id": "b5e4fbaa",
   "metadata": {
    "execution": {
     "iopub.execute_input": "2023-03-27T05:12:22.229592Z",
     "iopub.status.busy": "2023-03-27T05:12:22.229318Z",
     "iopub.status.idle": "2023-03-27T05:12:22.232829Z",
     "shell.execute_reply": "2023-03-27T05:12:22.232231Z"
    },
    "id": "71DORHQ1C-sX",
    "papermill": {
     "duration": 0.011145,
     "end_time": "2023-03-27T05:12:22.234316",
     "exception": false,
     "start_time": "2023-03-27T05:12:22.223171",
     "status": "completed"
    },
    "tags": []
   },
   "outputs": [],
   "source": [
    "image_size = params['Image_patch_size']\n",
    "mask_size = params['Mask_patch_size']\n",
    "num_class = params['Number_of_classes']\n",
    "lr = params['Learning_rate']\n",
    "batchsize = params['Batch_size']\n",
    "optimizer = params['Optimizer']\n",
    "epochs = params['Epochs']"
   ]
  },
  {
   "cell_type": "code",
   "execution_count": 4,
   "id": "12d0c334",
   "metadata": {
    "execution": {
     "iopub.execute_input": "2023-03-27T05:12:22.272369Z",
     "iopub.status.busy": "2023-03-27T05:12:22.272076Z",
     "iopub.status.idle": "2023-03-27T05:12:22.275169Z",
     "shell.execute_reply": "2023-03-27T05:12:22.274572Z"
    },
    "id": "f2DlIuBLSI2L",
    "papermill": {
     "duration": 0.010723,
     "end_time": "2023-03-27T05:12:22.276626",
     "exception": false,
     "start_time": "2023-03-27T05:12:22.265903",
     "status": "completed"
    },
    "tags": []
   },
   "outputs": [],
   "source": [
    "AUTOTUNE = tf.data.AUTOTUNE\n",
    "PATH = 'tfrecords/'\n",
    "BATCH_SIZE = batchsize"
   ]
  },
  {
   "cell_type": "code",
   "execution_count": 5,
   "id": "9de0e74b",
   "metadata": {
    "colab": {
     "base_uri": "https://localhost:8080/"
    },
    "execution": {
     "iopub.execute_input": "2023-03-27T05:12:22.288414Z",
     "iopub.status.busy": "2023-03-27T05:12:22.288152Z",
     "iopub.status.idle": "2023-03-27T05:12:22.298567Z",
     "shell.execute_reply": "2023-03-27T05:12:22.297918Z"
    },
    "id": "fKmXnf0TSPD1",
    "outputId": "a3f2429d-899a-4f25-b123-1bd8bea35422",
    "papermill": {
     "duration": 0.017985,
     "end_time": "2023-03-27T05:12:22.300056",
     "exception": false,
     "start_time": "2023-03-27T05:12:22.282071",
     "status": "completed"
    },
    "tags": []
   },
   "outputs": [
    {
     "name": "stdout",
     "output_type": "stream",
     "text": [
      "Train TFRecord Files: 10\n",
      "Validation TFRecord Files: 5\n"
     ]
    }
   ],
   "source": [
    "FILENAMES = tf.io.gfile.glob(PATH +\"*large_images.tfrecords\")\n",
    "split_ind = int(0.7 * len(FILENAMES))\n",
    "TRAINING_FILENAMES, VALID_FILENAMES = FILENAMES[:split_ind], FILENAMES[split_ind:]\n",
    "print(\"Train TFRecord Files:\", len(TRAINING_FILENAMES))\n",
    "print(\"Validation TFRecord Files:\", len(VALID_FILENAMES))"
   ]
  },
  {
   "cell_type": "code",
   "execution_count": 6,
   "id": "2d025b48",
   "metadata": {
    "execution": {
     "iopub.execute_input": "2023-03-27T05:12:22.312232Z",
     "iopub.status.busy": "2023-03-27T05:12:22.311972Z",
     "iopub.status.idle": "2023-03-27T05:12:22.316244Z",
     "shell.execute_reply": "2023-03-27T05:12:22.315591Z"
    },
    "id": "_JTcORzKSups",
    "papermill": {
     "duration": 0.011906,
     "end_time": "2023-03-27T05:12:22.317719",
     "exception": false,
     "start_time": "2023-03-27T05:12:22.305813",
     "status": "completed"
    },
    "tags": []
   },
   "outputs": [],
   "source": [
    "def read_tfrecord(example):\n",
    "    tfrecord_format = (\n",
    "        {\n",
    "         \"image\":tf.io.FixedLenFeature(shape=[*image_size], dtype=tf.float32),\n",
    "         \"mask\":tf.io.FixedLenFeature(shape=[*mask_size], dtype=tf.float32)\n",
    "        }\n",
    "    )\n",
    "    example = tf.io.parse_single_example(example, tfrecord_format)\n",
    "    image = example[\"image\"]\n",
    "    mask = example[\"mask\"]\n",
    "    mask = tf.one_hot(tf.cast(mask, tf.uint8), 2)\n",
    "    return image,mask"
   ]
  },
  {
   "cell_type": "code",
   "execution_count": 7,
   "id": "37bb3c90",
   "metadata": {
    "execution": {
     "iopub.execute_input": "2023-03-27T05:12:22.329996Z",
     "iopub.status.busy": "2023-03-27T05:12:22.329732Z",
     "iopub.status.idle": "2023-03-27T05:12:22.333548Z",
     "shell.execute_reply": "2023-03-27T05:12:22.332882Z"
    },
    "id": "gTmCexY_SymR",
    "papermill": {
     "duration": 0.011541,
     "end_time": "2023-03-27T05:12:22.335028",
     "exception": false,
     "start_time": "2023-03-27T05:12:22.323487",
     "status": "completed"
    },
    "tags": []
   },
   "outputs": [],
   "source": [
    "def load_dataset(filenames):\n",
    "    ignore_order = tf.data.Options()\n",
    "    ignore_order.experimental_deterministic = False  # disable order, increase speed\n",
    "    dataset = tf.data.TFRecordDataset(\n",
    "        filenames\n",
    "    )  # automatically interleaves reads from multiple files\n",
    "    dataset = dataset.with_options(\n",
    "        ignore_order\n",
    "    )  # uses data as soon as it streams in, rather than in its original order\n",
    "    dataset = dataset.map(\n",
    "        partial(read_tfrecord), num_parallel_calls=AUTOTUNE\n",
    "    )\n",
    "    # returns a dataset of (image, label) pairs if labeled=True or just images if labeled=False\n",
    "    return dataset"
   ]
  },
  {
   "cell_type": "code",
   "execution_count": 8,
   "id": "46913ffb",
   "metadata": {
    "execution": {
     "iopub.execute_input": "2023-03-27T05:12:22.347076Z",
     "iopub.status.busy": "2023-03-27T05:12:22.346816Z",
     "iopub.status.idle": "2023-03-27T05:12:22.349685Z",
     "shell.execute_reply": "2023-03-27T05:12:22.348991Z"
    },
    "id": "fazLXuJG52Dh",
    "papermill": {
     "duration": 0.010595,
     "end_time": "2023-03-27T05:12:22.351193",
     "exception": false,
     "start_time": "2023-03-27T05:12:22.340598",
     "status": "completed"
    },
    "tags": []
   },
   "outputs": [],
   "source": [
    "seed=42"
   ]
  },
  {
   "cell_type": "code",
   "execution_count": 9,
   "id": "637a9e0d",
   "metadata": {
    "execution": {
     "iopub.execute_input": "2023-03-27T05:12:22.363384Z",
     "iopub.status.busy": "2023-03-27T05:12:22.363122Z",
     "iopub.status.idle": "2023-03-27T05:12:22.366413Z",
     "shell.execute_reply": "2023-03-27T05:12:22.365806Z"
    },
    "id": "jVfdUWD95PyJ",
    "papermill": {
     "duration": 0.01107,
     "end_time": "2023-03-27T05:12:22.367909",
     "exception": false,
     "start_time": "2023-03-27T05:12:22.356839",
     "status": "completed"
    },
    "tags": []
   },
   "outputs": [],
   "source": [
    "def augmentation(image, mask):\n",
    "    # both use the same seed, so they'll make the same random changes\n",
    "    flip_image = tf.image.random_flip_left_right(image,seed=seed)\n",
    "    flip_mask = tf.image.random_flip_left_right(mask,seed=seed)\n",
    "    # Other transformations...\n",
    "    return flip_image, flip_mask"
   ]
  },
  {
   "cell_type": "code",
   "execution_count": 10,
   "id": "bf3d5af1",
   "metadata": {
    "execution": {
     "iopub.execute_input": "2023-03-27T05:12:22.380059Z",
     "iopub.status.busy": "2023-03-27T05:12:22.379796Z",
     "iopub.status.idle": "2023-03-27T05:12:22.383650Z",
     "shell.execute_reply": "2023-03-27T05:12:22.382973Z"
    },
    "papermill": {
     "duration": 0.011567,
     "end_time": "2023-03-27T05:12:22.385102",
     "exception": false,
     "start_time": "2023-03-27T05:12:22.373535",
     "status": "completed"
    },
    "tags": []
   },
   "outputs": [],
   "source": [
    "def get_dataset(filenames):\n",
    "    dataset = tf.data.Dataset.range(10)\n",
    "    dataset = load_dataset(filenames).cache().repeat()\n",
    "    # to avoid data loss error\n",
    "    dataset = dataset.apply(tf.data.experimental.ignore_errors())\n",
    "    dataset = dataset.shuffle(2048)\n",
    "    dataset = dataset.prefetch(buffer_size=AUTOTUNE)\n",
    "    dataset = dataset.batch(BATCH_SIZE)\n",
    "    return dataset"
   ]
  },
  {
   "cell_type": "code",
   "execution_count": 11,
   "id": "0a2977e2",
   "metadata": {
    "execution": {
     "iopub.execute_input": "2023-03-27T05:12:22.397444Z",
     "iopub.status.busy": "2023-03-27T05:12:22.397181Z",
     "iopub.status.idle": "2023-03-27T05:12:26.727126Z",
     "shell.execute_reply": "2023-03-27T05:12:26.726432Z"
    },
    "id": "v4NbzbiYTAzq",
    "papermill": {
     "duration": 4.338215,
     "end_time": "2023-03-27T05:12:26.729048",
     "exception": false,
     "start_time": "2023-03-27T05:12:22.390833",
     "status": "completed"
    },
    "tags": []
   },
   "outputs": [],
   "source": [
    "train_dataset = get_dataset(TRAINING_FILENAMES)\n",
    "valid_dataset = get_dataset(VALID_FILENAMES)"
   ]
  },
  {
   "cell_type": "code",
   "execution_count": 12,
   "id": "d2474361",
   "metadata": {
    "colab": {
     "base_uri": "https://localhost:8080/",
     "height": 1000
    },
    "execution": {
     "iopub.execute_input": "2023-03-27T05:12:26.742298Z",
     "iopub.status.busy": "2023-03-27T05:12:26.742023Z",
     "iopub.status.idle": "2023-03-27T05:12:36.428304Z",
     "shell.execute_reply": "2023-03-27T05:12:36.427602Z"
    },
    "id": "90jtcWNxUtf5",
    "outputId": "1b8ccdbb-357c-449f-b5d3-864a417caf1d",
    "papermill": {
     "duration": 9.695831,
     "end_time": "2023-03-27T05:12:36.431098",
     "exception": false,
     "start_time": "2023-03-27T05:12:26.735267",
     "status": "completed"
    },
    "tags": []
   },
   "outputs": [
    {
     "data": {
      "application/vnd.jupyter.widget-view+json": {
       "model_id": "bc2270efc5e34716a7616e49aa29e315",
       "version_major": 2,
       "version_minor": 0
      },
      "text/plain": [
       "  0%|          | 0/3 [00:00<?, ?it/s]"
      ]
     },
     "metadata": {},
     "output_type": "display_data"
    },
    {
     "data": {
      "image/png": "[encoded data removed]",
      "text/plain": [
       "<Figure size 360x360 with 2 Axes>"
      ]
     },
     "metadata": {
      "needs_background": "light"
     },
     "output_type": "display_data"
    },
    {
     "data": {
      "image/png": "[encoded data removed]",
      "text/plain": [
       "<Figure size 360x360 with 2 Axes>"
      ]
     },
     "metadata": {
      "needs_background": "light"
     },
     "output_type": "display_data"
    },
    {
     "data": {
      "image/png": "[encoded data removed]",
      "text/plain": [
       "<Figure size 360x360 with 2 Axes>"
      ]
     },
     "metadata": {
      "needs_background": "light"
     },
     "output_type": "display_data"
    }
   ],
   "source": [
    "image_batch, label_batch = next(iter(train_dataset))\n",
    "for i in tqdm_notebook(range(3)):\n",
    "    image = image_batch[i]\n",
    "    mask = label_batch[i]\n",
    "    #Convert categorical to integer for visualization\n",
    "    mask = np.argmax(mask, axis=2)\n",
    "    plt.figure(figsize=(5,5))\n",
    "    plt.subplot(1,2,1)\n",
    "    plt.imshow(image[:,:,0:3])\n",
    "    plt.axis('off')\n",
    "    plt.subplot(1,2,2)\n",
    "    plt.imshow(mask, cmap='gray')\n",
    "    plt.axis('off')\n",
    "    plt.show()"
   ]
  },
  {
   "cell_type": "code",
   "execution_count": 13,
   "id": "78d6bf3b",
   "metadata": {
    "colab": {
     "base_uri": "https://localhost:8080/",
     "height": 1000
    },
    "execution": {
     "iopub.execute_input": "2023-03-27T05:12:36.446067Z",
     "iopub.status.busy": "2023-03-27T05:12:36.445798Z",
     "iopub.status.idle": "2023-03-27T05:12:48.458159Z",
     "shell.execute_reply": "2023-03-27T05:12:48.457516Z"
    },
    "id": "5CD6Z1M224mJ",
    "outputId": "d5cd949a-9b79-44f4-81a1-baba917ee41b",
    "papermill": {
     "duration": 12.022661,
     "end_time": "2023-03-27T05:12:48.460879",
     "exception": false,
     "start_time": "2023-03-27T05:12:36.438218",
     "status": "completed"
    },
    "tags": []
   },
   "outputs": [
    {
     "data": {
      "application/vnd.jupyter.widget-view+json": {
       "model_id": "d7a15c242a8547c2894122700c863b34",
       "version_major": 2,
       "version_minor": 0
      },
      "text/plain": [
       "  0%|          | 0/3 [00:00<?, ?it/s]"
      ]
     },
     "metadata": {},
     "output_type": "display_data"
    },
    {
     "data": {
      "image/png": "[encoded data removed]",
      "text/plain": [
       "<Figure size 360x360 with 2 Axes>"
      ]
     },
     "metadata": {
      "needs_background": "light"
     },
     "output_type": "display_data"
    },
    {
     "data": {
      "image/png": "[encoded data removed]",
      "text/plain": [
       "<Figure size 360x360 with 2 Axes>"
      ]
     },
     "metadata": {
      "needs_background": "light"
     },
     "output_type": "display_data"
    },
    {
     "data": {
      "image/png": "[encoded data removed]",
      "text/plain": [
       "<Figure size 360x360 with 2 Axes>"
      ]
     },
     "metadata": {
      "needs_background": "light"
     },
     "output_type": "display_data"
    }
   ],
   "source": [
    "testimage_batch, label_batch = next(iter(valid_dataset))\n",
    "for i in tqdm_notebook(range(3)):\n",
    "    image = testimage_batch[i]\n",
    "    mask = label_batch[i]\n",
    "    #Convert categorical to integer for visualization\n",
    "    mask = np.argmax(mask, axis=2)\n",
    "    plt.figure(figsize=(5,5))\n",
    "    plt.subplot(1,2,1)\n",
    "    plt.imshow(image[:,:,0:3])\n",
    "    plt.axis('off')\n",
    "    plt.subplot(1,2,2)\n",
    "    plt.imshow(mask, cmap='gray')\n",
    "    plt.axis('off')\n",
    "    plt.show()"
   ]
  },
  {
   "cell_type": "code",
   "execution_count": 14,
   "id": "30bc7548",
   "metadata": {
    "execution": {
     "iopub.execute_input": "2023-03-27T05:12:48.478428Z",
     "iopub.status.busy": "2023-03-27T05:12:48.478161Z",
     "iopub.status.idle": "2023-03-27T05:12:48.480815Z",
     "shell.execute_reply": "2023-03-27T05:12:48.480202Z"
    },
    "papermill": {
     "duration": 0.012667,
     "end_time": "2023-03-27T05:12:48.482302",
     "exception": false,
     "start_time": "2023-03-27T05:12:48.469635",
     "status": "completed"
    },
    "tags": []
   },
   "outputs": [],
   "source": [
    "# GPUS = [\"GPU:0\",\"GPU:1\",\"GPU:2\",\"GPU:3\"]\n",
    "# strategy = tf.distribute.MirroredStrategy( GPUS )\n",
    "# print('Number of devices: %d' % strategy.num_replicas_in_sync)"
   ]
  },
  {
   "cell_type": "code",
   "execution_count": 15,
   "id": "6f7f2866",
   "metadata": {
    "execution": {
     "iopub.execute_input": "2023-03-27T05:12:48.498869Z",
     "iopub.status.busy": "2023-03-27T05:12:48.498614Z",
     "iopub.status.idle": "2023-03-27T05:12:49.443340Z",
     "shell.execute_reply": "2023-03-27T05:12:49.442630Z"
    },
    "papermill": {
     "duration": 0.954668,
     "end_time": "2023-03-27T05:12:49.444865",
     "exception": false,
     "start_time": "2023-03-27T05:12:48.490197",
     "status": "completed"
    },
    "tags": []
   },
   "outputs": [
    {
     "name": "stdout",
     "output_type": "stream",
     "text": [
      "INFO:tensorflow:Using MirroredStrategy with devices ('/job:localhost/replica:0/task:0/device:GPU:0', '/job:localhost/replica:0/task:0/device:GPU:1', '/job:localhost/replica:0/task:0/device:GPU:2', '/job:localhost/replica:0/task:0/device:GPU:3')\n"
     ]
    },
    {
     "name": "stderr",
     "output_type": "stream",
     "text": [
      "INFO:tensorflow:Using MirroredStrategy with devices ('/job:localhost/replica:0/task:0/device:GPU:0', '/job:localhost/replica:0/task:0/device:GPU:1', '/job:localhost/replica:0/task:0/device:GPU:2', '/job:localhost/replica:0/task:0/device:GPU:3')\n"
     ]
    },
    {
     "name": "stdout",
     "output_type": "stream",
     "text": [
      "Number of devices: 4\n"
     ]
    }
   ],
   "source": [
    "strategy = tf.distribute.MirroredStrategy()\n",
    "print('Number of devices: {}'.format(strategy.num_replicas_in_sync))"
   ]
  },
  {
   "cell_type": "code",
   "execution_count": 16,
   "id": "7a36008e",
   "metadata": {
    "execution": {
     "iopub.execute_input": "2023-03-27T05:12:49.462772Z",
     "iopub.status.busy": "2023-03-27T05:12:49.462487Z",
     "iopub.status.idle": "2023-03-27T05:12:49.465843Z",
     "shell.execute_reply": "2023-03-27T05:12:49.465211Z"
    },
    "id": "Z1B8LaT766mK",
    "papermill": {
     "duration": 0.013622,
     "end_time": "2023-03-27T05:12:49.467290",
     "exception": false,
     "start_time": "2023-03-27T05:12:49.453668",
     "status": "completed"
    },
    "tags": []
   },
   "outputs": [],
   "source": [
    "# input dimensions, no. of channels, and no. of classes for the model\n",
    "IMG_HEIGHT = image_batch.shape[1]\n",
    "IMG_WIDTH  = image_batch.shape[2]\n",
    "IMG_CHANNELS = image_batch.shape[3]\n",
    "n_classes=num_class"
   ]
  },
  {
   "cell_type": "code",
   "execution_count": 17,
   "id": "395069a5",
   "metadata": {
    "execution": {
     "iopub.execute_input": "2023-03-27T05:12:49.484376Z",
     "iopub.status.busy": "2023-03-27T05:12:49.484112Z",
     "iopub.status.idle": "2023-03-27T05:12:49.495425Z",
     "shell.execute_reply": "2023-03-27T05:12:49.494765Z"
    },
    "papermill": {
     "duration": 0.021462,
     "end_time": "2023-03-27T05:12:49.496880",
     "exception": false,
     "start_time": "2023-03-27T05:12:49.475418",
     "status": "completed"
    },
    "tags": []
   },
   "outputs": [],
   "source": [
    "def SqueezeAndExcitation(inputs, ratio=8):\n",
    "    \n",
    "    b, h, w, c = inputs.shape\n",
    "    \n",
    "    x = GlobalAveragePooling2D()(inputs)\n",
    "    x = Dense(c//ratio, activation='relu', use_bias=False)(x)\n",
    "    x = Dense(c, activation='sigmoid', use_bias=False)(x)\n",
    "    \n",
    "    x = Multiply()([inputs, x])\n",
    "    \n",
    "    return x\n",
    "\n",
    "\n",
    "def ASPP(image_features):\n",
    "\n",
    "    shape = image_features.shape\n",
    "\n",
    "    y_pool = AveragePooling2D(pool_size=(shape[1], shape[2]))(image_features)\n",
    "    y_pool = Conv2D(filters=128, kernel_size=1, padding='same', use_bias=False)(y_pool)\n",
    "    y_pool = BatchNormalization(name=f'bn_1')(y_pool)\n",
    "    y_pool = Activation('relu', name=f'relu_1')(y_pool)\n",
    "    y_pool = UpSampling2D((shape[1], shape[2]), interpolation=\"bilinear\")(y_pool)\n",
    "\n",
    "    y_1 = Conv2D(filters=128, kernel_size=1, padding='same', use_bias=False)(image_features)\n",
    "    y_1 = BatchNormalization(name=f'bn_2')(y_1)\n",
    "    y_1 = Activation('relu', name=f'relu_2')(y_1)\n",
    "\n",
    "    y_6 = Conv2D(filters=128, kernel_size=3, padding='same', dilation_rate = 6,use_bias=False)(image_features)\n",
    "    y_6 = BatchNormalization(name=f'bn_3')(y_6)\n",
    "    y_6 = Activation('relu', name=f'relu_3')(y_6)\n",
    "\n",
    "    y_12 = Conv2D(filters=128, kernel_size=1, padding='same', dilation_rate = 12,use_bias=False)(image_features)\n",
    "    y_12 = BatchNormalization(name=f'bn_4')(y_12)\n",
    "    y_12 = Activation('relu', name=f'relu_4')(y_12)\n",
    "\n",
    "    y_18 = Conv2D(filters=128, kernel_size=3, padding='same', dilation_rate = 6,use_bias=False)(image_features)\n",
    "    y_18 = BatchNormalization(name=f'bn_5')(y_18)\n",
    "    y_18 = Activation('relu', name=f'relu_5')(y_18)\n",
    "\n",
    "    y_c = Concatenate()([y_pool, y_1, y_6, y_12, y_18])\n",
    "\n",
    "    y = Conv2D(filters=128, kernel_size=1, padding='same', use_bias=False)(y_c)\n",
    "    y = BatchNormalization(name=f'bn_6')(y)\n",
    "    y = Activation('relu', name=f'relu_6')(y)\n",
    "\n",
    "    return y"
   ]
  },
  {
   "cell_type": "code",
   "execution_count": 18,
   "id": "48315c57",
   "metadata": {
    "execution": {
     "iopub.execute_input": "2023-03-27T05:12:49.514051Z",
     "iopub.status.busy": "2023-03-27T05:12:49.513792Z",
     "iopub.status.idle": "2023-03-27T05:12:49.521539Z",
     "shell.execute_reply": "2023-03-27T05:12:49.520868Z"
    },
    "papermill": {
     "duration": 0.017958,
     "end_time": "2023-03-27T05:12:49.522995",
     "exception": false,
     "start_time": "2023-03-27T05:12:49.505037",
     "status": "completed"
    },
    "tags": []
   },
   "outputs": [],
   "source": [
    "def DeepLabV3PlusSE(inputs, classes=1):\n",
    "\n",
    "    inputs = Input(inputs)\n",
    "\n",
    "    base_model = ResNet50(weights='imagenet', include_top=False, input_tensor=inputs)\n",
    "    high_level_image_features = base_model.get_layer('conv4_block6_add').output\n",
    "    high_level_image_features = SqueezeAndExcitation(high_level_image_features, ratio=16)\n",
    "    \n",
    "    x_a = ASPP(high_level_image_features)\n",
    "    x_a = SqueezeAndExcitation(x_a, ratio=16)\n",
    "    x_a = UpSampling2D(size=4, interpolation='bilinear')(x_a)\n",
    "\n",
    "    low_level_image_features = base_model.get_layer('conv2_block3_add').output\n",
    "    low_level_image_features = SqueezeAndExcitation(low_level_image_features, ratio=16)\n",
    "\n",
    "    x_b = Conv2D(filters=256, kernel_size=1, padding='same', use_bias=False)(low_level_image_features)\n",
    "    x_b = BatchNormalization(name=f'bn_7')(x_b)\n",
    "    x_b = Activation('relu', name=f'relu_7')(x_b)\n",
    "\n",
    "    x = Concatenate()([x_a, x_b])\n",
    "\n",
    "    x = Conv2D(filters=256, kernel_size=3, padding='same', use_bias=False)(x)\n",
    "    x = BatchNormalization(name=f'bn_8')(x)\n",
    "    x = Activation('relu', name=f'relu_8')(x)\n",
    "\n",
    "    x = Conv2D(filters=256, kernel_size=3, padding='same', use_bias=False)(x)\n",
    "    x = BatchNormalization(name=f'bn_9')(x)\n",
    "    x = Activation('relu', name=f'relu_9')(x)\n",
    "\n",
    "    x = UpSampling2D(size=4, interpolation='bilinear')(x)\n",
    "\n",
    "    \"\"\" Outputs \"\"\"\n",
    "    x = Conv2D(classes, (1, 1), name='output_layer')(x)\n",
    "    \n",
    "    if classes == 1:\n",
    "      x = Activation('sigmoid')(x)\n",
    "    else:\n",
    "      x = Activation('softmax')(x)\n",
    "\n",
    "    model = Model(inputs=inputs, outputs=x)\n",
    "    \n",
    "    return model"
   ]
  },
  {
   "cell_type": "code",
   "execution_count": 19,
   "id": "2f5845b4",
   "metadata": {
    "execution": {
     "iopub.execute_input": "2023-03-27T05:12:49.540122Z",
     "iopub.status.busy": "2023-03-27T05:12:49.539863Z",
     "iopub.status.idle": "2023-03-27T05:12:49.543639Z",
     "shell.execute_reply": "2023-03-27T05:12:49.543009Z"
    },
    "papermill": {
     "duration": 0.013936,
     "end_time": "2023-03-27T05:12:49.545101",
     "exception": false,
     "start_time": "2023-03-27T05:12:49.531165",
     "status": "completed"
    },
    "tags": []
   },
   "outputs": [],
   "source": [
    "# calculation of steps per epoch for traning and validation\n",
    "filespershard = 500\n",
    "number_of_shards = len(glob.glob(PATH+'*.tfrecords'))\n",
    "steps_per_epoch = (number_of_shards*filespershard*0.7)// BATCH_SIZE\n",
    "val_steps_per_epoch = (number_of_shards*filespershard*0.3)//BATCH_SIZE"
   ]
  },
  {
   "cell_type": "code",
   "execution_count": 20,
   "id": "a02fa604",
   "metadata": {
    "execution": {
     "iopub.execute_input": "2023-03-27T05:12:49.562450Z",
     "iopub.status.busy": "2023-03-27T05:12:49.562175Z",
     "iopub.status.idle": "2023-03-27T05:12:49.567431Z",
     "shell.execute_reply": "2023-03-27T05:12:49.566786Z"
    },
    "papermill": {
     "duration": 0.015587,
     "end_time": "2023-03-27T05:12:49.568912",
     "exception": false,
     "start_time": "2023-03-27T05:12:49.553325",
     "status": "completed"
    },
    "tags": []
   },
   "outputs": [],
   "source": [
    "\n",
    "import math\n",
    "epochs=epochs\n",
    "learning_rate = lr\n",
    "scheduler = params['Scheduler']\n",
    "\n",
    "if scheduler == 'Exponential':\n",
    "    decay_rate = learning_rate / epochs\n",
    "    def exp_decay(epoch):\n",
    "        lrate = learning_rate * np.exp(-decay_rate*epoch)\n",
    "        return lrate\n",
    "    lr_rate = LearningRateScheduler(exp_decay)\n",
    "elif scheduler == 'Step_decay':\n",
    "    def step_decay(epoch):\n",
    "        initial_lrate = learning_rate\n",
    "        drop = 0.5\n",
    "        epochs_drop = 10.0\n",
    "        lrate = initial_lrate * math.pow(drop,  \n",
    "                math.floor((1+epoch)/epochs_drop))\n",
    "        return lrate\n",
    "    lr_rate = LearningRateScheduler(step_decay)\n",
    "elif scheduler == 'Cycliclearning_rate':\n",
    "    clr_triangular = CyclicLR(mode='triangular')\n",
    "    clr_triangular._reset(new_base_lr=0.00005, new_max_lr=0.0001)\n",
    "    lr_rate = clr_triangular"
   ]
  },
  {
   "cell_type": "code",
   "execution_count": 21,
   "id": "3bb4e08c",
   "metadata": {
    "execution": {
     "iopub.execute_input": "2023-03-27T05:12:49.586924Z",
     "iopub.status.busy": "2023-03-27T05:12:49.586634Z",
     "iopub.status.idle": "2023-03-27T05:12:54.814582Z",
     "shell.execute_reply": "2023-03-27T05:12:54.813851Z"
    },
    "papermill": {
     "duration": 5.238915,
     "end_time": "2023-03-27T05:12:54.816486",
     "exception": false,
     "start_time": "2023-03-27T05:12:49.577571",
     "status": "completed"
    },
    "tags": []
   },
   "outputs": [
    {
     "name": "stdout",
     "output_type": "stream",
     "text": [
      "INFO:tensorflow:Reduce to /job:localhost/replica:0/task:0/device:CPU:0 then broadcast to ('/job:localhost/replica:0/task:0/device:CPU:0',).\n"
     ]
    },
    {
     "name": "stderr",
     "output_type": "stream",
     "text": [
      "INFO:tensorflow:Reduce to /job:localhost/replica:0/task:0/device:CPU:0 then broadcast to ('/job:localhost/replica:0/task:0/device:CPU:0',).\n"
     ]
    },
    {
     "name": "stdout",
     "output_type": "stream",
     "text": [
      "INFO:tensorflow:Reduce to /job:localhost/replica:0/task:0/device:CPU:0 then broadcast to ('/job:localhost/replica:0/task:0/device:CPU:0',).\n"
     ]
    },
    {
     "name": "stderr",
     "output_type": "stream",
     "text": [
      "INFO:tensorflow:Reduce to /job:localhost/replica:0/task:0/device:CPU:0 then broadcast to ('/job:localhost/replica:0/task:0/device:CPU:0',).\n"
     ]
    },
    {
     "name": "stdout",
     "output_type": "stream",
     "text": [
      "INFO:tensorflow:Reduce to /job:localhost/replica:0/task:0/device:CPU:0 then broadcast to ('/job:localhost/replica:0/task:0/device:CPU:0',).\n"
     ]
    },
    {
     "name": "stderr",
     "output_type": "stream",
     "text": [
      "INFO:tensorflow:Reduce to /job:localhost/replica:0/task:0/device:CPU:0 then broadcast to ('/job:localhost/replica:0/task:0/device:CPU:0',).\n"
     ]
    },
    {
     "name": "stdout",
     "output_type": "stream",
     "text": [
      "INFO:tensorflow:Reduce to /job:localhost/replica:0/task:0/device:CPU:0 then broadcast to ('/job:localhost/replica:0/task:0/device:CPU:0',).\n"
     ]
    },
    {
     "name": "stderr",
     "output_type": "stream",
     "text": [
      "INFO:tensorflow:Reduce to /job:localhost/replica:0/task:0/device:CPU:0 then broadcast to ('/job:localhost/replica:0/task:0/device:CPU:0',).\n"
     ]
    },
    {
     "name": "stdout",
     "output_type": "stream",
     "text": [
      "INFO:tensorflow:Reduce to /job:localhost/replica:0/task:0/device:CPU:0 then broadcast to ('/job:localhost/replica:0/task:0/device:CPU:0',).\n"
     ]
    },
    {
     "name": "stderr",
     "output_type": "stream",
     "text": [
      "INFO:tensorflow:Reduce to /job:localhost/replica:0/task:0/device:CPU:0 then broadcast to ('/job:localhost/replica:0/task:0/device:CPU:0',).\n"
     ]
    },
    {
     "name": "stdout",
     "output_type": "stream",
     "text": [
      "INFO:tensorflow:Reduce to /job:localhost/replica:0/task:0/device:CPU:0 then broadcast to ('/job:localhost/replica:0/task:0/device:CPU:0',).\n"
     ]
    },
    {
     "name": "stderr",
     "output_type": "stream",
     "text": [
      "INFO:tensorflow:Reduce to /job:localhost/replica:0/task:0/device:CPU:0 then broadcast to ('/job:localhost/replica:0/task:0/device:CPU:0',).\n"
     ]
    },
    {
     "name": "stdout",
     "output_type": "stream",
     "text": [
      "INFO:tensorflow:Reduce to /job:localhost/replica:0/task:0/device:CPU:0 then broadcast to ('/job:localhost/replica:0/task:0/device:CPU:0',).\n"
     ]
    },
    {
     "name": "stderr",
     "output_type": "stream",
     "text": [
      "INFO:tensorflow:Reduce to /job:localhost/replica:0/task:0/device:CPU:0 then broadcast to ('/job:localhost/replica:0/task:0/device:CPU:0',).\n"
     ]
    },
    {
     "name": "stdout",
     "output_type": "stream",
     "text": [
      "INFO:tensorflow:Reduce to /job:localhost/replica:0/task:0/device:CPU:0 then broadcast to ('/job:localhost/replica:0/task:0/device:CPU:0',).\n"
     ]
    },
    {
     "name": "stderr",
     "output_type": "stream",
     "text": [
      "INFO:tensorflow:Reduce to /job:localhost/replica:0/task:0/device:CPU:0 then broadcast to ('/job:localhost/replica:0/task:0/device:CPU:0',).\n"
     ]
    },
    {
     "name": "stdout",
     "output_type": "stream",
     "text": [
      "INFO:tensorflow:Reduce to /job:localhost/replica:0/task:0/device:CPU:0 then broadcast to ('/job:localhost/replica:0/task:0/device:CPU:0',).\n"
     ]
    },
    {
     "name": "stderr",
     "output_type": "stream",
     "text": [
      "INFO:tensorflow:Reduce to /job:localhost/replica:0/task:0/device:CPU:0 then broadcast to ('/job:localhost/replica:0/task:0/device:CPU:0',).\n"
     ]
    },
    {
     "name": "stdout",
     "output_type": "stream",
     "text": [
      "INFO:tensorflow:Reduce to /job:localhost/replica:0/task:0/device:CPU:0 then broadcast to ('/job:localhost/replica:0/task:0/device:CPU:0',).\n"
     ]
    },
    {
     "name": "stderr",
     "output_type": "stream",
     "text": [
      "INFO:tensorflow:Reduce to /job:localhost/replica:0/task:0/device:CPU:0 then broadcast to ('/job:localhost/replica:0/task:0/device:CPU:0',).\n"
     ]
    }
   ],
   "source": [
    "loss = params['Loss']\n",
    "if loss == 'sdice_loss':\n",
    "    with strategy.scope():\n",
    "        model = DeepLabV3PlusSE((IMG_HEIGHT,IMG_WIDTH,IMG_CHANNELS),n_classes)\n",
    "        model.compile(\n",
    "        optimizer=optimizer,\n",
    "        loss=sdice_loss,\n",
    "        metrics=[[tf.keras.metrics.OneHotIoU(num_classes=2,target_class_ids=[0,1]),tf.keras.metrics.Precision()\\\n",
    "            ,tf.keras.metrics.Recall()]]\n",
    "        )\n",
    "elif loss == 'focal_tversky':\n",
    "    with strategy.scope():\n",
    "        model = DeepLabV3PlusSE((IMG_HEIGHT,IMG_WIDTH,IMG_CHANNELS),n_classes)\n",
    "        model.compile(\n",
    "        optimizer=optimizer,\n",
    "        loss=focal_tversky,\n",
    "        metrics=[[tf.keras.metrics.OneHotIoU(num_classes=2,target_class_ids=[0,1]),tf.keras.metrics.Precision()\\\n",
    "            ,tf.keras.metrics.Recall()]]\n",
    "        )\n",
    "elif loss == 'tversky_loss':\n",
    "    with strategy.scope():\n",
    "        model = DeepLabV3PlusSE((IMG_HEIGHT,IMG_WIDTH,IMG_CHANNELS),n_classes)\n",
    "        model.compile(\n",
    "        optimizer=optimizer,\n",
    "        loss=tversky_loss,\n",
    "        metrics=[[tf.keras.metrics.OneHotIoU(num_classes=2,target_class_ids=[0,1]),tf.keras.metrics.Precision()\\\n",
    "            ,tf.keras.metrics.Recall()]]\n",
    "        )\n",
    "elif loss == 'log_cosh_dice_loss':\n",
    "    with strategy.scope():\n",
    "        model = DeepLabV3PlusSE((IMG_HEIGHT,IMG_WIDTH,IMG_CHANNELS),n_classes)\n",
    "        model.compile(\n",
    "        optimizer=optimizer,\n",
    "        loss=log_cosh_dice_loss,\n",
    "        metrics=[[tf.keras.metrics.OneHotIoU(num_classes=2,target_class_ids=[0,1]),tf.keras.metrics.Precision()\\\n",
    "            ,tf.keras.metrics.Recall()]]\n",
    "        )"
   ]
  },
  {
   "cell_type": "code",
   "execution_count": 22,
   "id": "544f1b71",
   "metadata": {
    "execution": {
     "iopub.execute_input": "2023-03-27T05:12:54.836333Z",
     "iopub.status.busy": "2023-03-27T05:12:54.836065Z",
     "iopub.status.idle": "2023-03-27T05:12:54.839738Z",
     "shell.execute_reply": "2023-03-27T05:12:54.839125Z"
    },
    "id": "2v05oGM_xBM_",
    "papermill": {
     "duration": 0.015056,
     "end_time": "2023-03-27T05:12:54.841292",
     "exception": false,
     "start_time": "2023-03-27T05:12:54.826236",
     "status": "completed"
    },
    "tags": []
   },
   "outputs": [],
   "source": [
    "#ModelCheckpoint callback saves a model at some interval. \n",
    "checkpoint_path = 'model_checkpoint/'\n",
    "os.makedirs(checkpoint_path, exist_ok=True)\n",
    "filepath=checkpoint_path+\"resenet50_deeplabv3plus_SE_v5_sdice_loss.hdf5\"\n",
    "checkpoint = ModelCheckpoint(filepath, monitor='val_one_hot_io_u', verbose=1, save_best_only=True, mode='max')"
   ]
  },
  {
   "cell_type": "code",
   "execution_count": 23,
   "id": "69e48e76",
   "metadata": {
    "execution": {
     "iopub.execute_input": "2023-03-27T05:12:54.860616Z",
     "iopub.status.busy": "2023-03-27T05:12:54.860358Z",
     "iopub.status.idle": "2023-03-27T05:12:54.863330Z",
     "shell.execute_reply": "2023-03-27T05:12:54.862736Z"
    },
    "id": "Zq3n9QwIxESq",
    "papermill": {
     "duration": 0.014126,
     "end_time": "2023-03-27T05:12:54.864782",
     "exception": false,
     "start_time": "2023-03-27T05:12:54.850656",
     "status": "completed"
    },
    "tags": []
   },
   "outputs": [],
   "source": [
    "# earlystop for stopping the model when there is no improvement\n",
    "early_stop = EarlyStopping(monitor='val_loss', patience=20, verbose=1)\n",
    "# log_csv = CSVLogger('/home/ubuntu/Notebooks for Unet_training/models for deeplab+SE v5/tversky-logs/sdice_lossv1.csv', separator=',', append=False)"
   ]
  },
  {
   "cell_type": "code",
   "execution_count": 24,
   "id": "b4e44ef0",
   "metadata": {
    "execution": {
     "iopub.execute_input": "2023-03-27T05:12:54.884011Z",
     "iopub.status.busy": "2023-03-27T05:12:54.883755Z",
     "iopub.status.idle": "2023-03-27T05:12:54.891647Z",
     "shell.execute_reply": "2023-03-27T05:12:54.891011Z"
    },
    "papermill": {
     "duration": 0.019168,
     "end_time": "2023-03-27T05:12:54.893173",
     "exception": false,
     "start_time": "2023-03-27T05:12:54.874005",
     "status": "completed"
    },
    "tags": []
   },
   "outputs": [],
   "source": [
    "from IPython.display import clear_output\n",
    "def create_mask(pred_mask):\n",
    "    pred_mask = tf.math.argmax(pred_mask, axis=3)\n",
    "    return pred_mask[0]\n",
    "import matplotlib.pyplot as plt\n",
    "\n",
    "\n",
    "def display(display_list):\n",
    "    plt.figure(figsize=(15, 15))\n",
    "\n",
    "    title = [\"Input Image\", \"True Mask\", \"Predicted Mask\"]\n",
    "\n",
    "    for i in range(len(display_list)):\n",
    "        plt.subplot(1, len(display_list), i + 1)\n",
    "        plt.title(title[i])\n",
    "        plt.imshow(display_list[i])\n",
    "        plt.axis(\"off\")\n",
    "    plt.show()\n",
    "\n",
    "def show_predictions(dataset=None, num=1):\n",
    "    if dataset:\n",
    "        for sample in dataset.take(num):\n",
    "            images, masks = sample\n",
    "            masks = tf.math.argmax(masks[0], axis=2)\n",
    "            pred_masks = model.predict(images)\n",
    "            display([images[0], masks, create_mask(pred_masks)])\n",
    "    else:\n",
    "        display(\n",
    "            [\n",
    "                testimage_batch[0], tf.math.argmax(label_batch[0], axis=2),\n",
    "                create_mask(model.predict(testimage_batch)),\n",
    "            ]\n",
    "        )\n",
    "\n",
    "\n",
    "class DisplayCallback(tf.keras.callbacks.Callback):\n",
    "    def __init__(self, dataset, **kwargs):\n",
    "        super().__init__(**kwargs)\n",
    "        self.dataset = dataset\n",
    "\n",
    "    def on_epoch_end(self, epoch, logs=None):\n",
    "        clear_output(wait=True)\n",
    "        show_predictions(self.dataset)\n",
    "        print(\"\\nSample Prediction after epoch {}\\n\".format(epoch + 1))"
   ]
  },
  {
   "cell_type": "code",
   "execution_count": 25,
   "id": "5684b580",
   "metadata": {
    "execution": {
     "iopub.execute_input": "2023-03-27T05:12:54.912410Z",
     "iopub.status.busy": "2023-03-27T05:12:54.912153Z",
     "iopub.status.idle": "2023-03-27T05:12:55.074852Z",
     "shell.execute_reply": "2023-03-27T05:12:55.074162Z"
    },
    "id": "6B6QNDK3xNH5",
    "papermill": {
     "duration": 0.17398,
     "end_time": "2023-03-27T05:12:55.076397",
     "exception": false,
     "start_time": "2023-03-27T05:12:54.902417",
     "status": "completed"
    },
    "tags": []
   },
   "outputs": [
    {
     "name": "stderr",
     "output_type": "stream",
     "text": [
      "WARNING:dvclive:Ignoring `_save_dvc_exp` because `dvc exp run` is running\n"
     ]
    }
   ],
   "source": [
    "callbacks_list = [checkpoint,early_stop,lr_rate,DVCLiveCallback(dir='evaluation',save_dvc_exp=True),DisplayCallback(valid_dataset)]"
   ]
  },
  {
   "cell_type": "code",
   "execution_count": 26,
   "id": "398c3ad2",
   "metadata": {
    "execution": {
     "iopub.execute_input": "2023-03-27T05:12:55.096704Z",
     "iopub.status.busy": "2023-03-27T05:12:55.096440Z",
     "iopub.status.idle": "2023-03-27T05:57:22.442806Z",
     "shell.execute_reply": "2023-03-27T05:57:22.442088Z"
    },
    "id": "UV7p9-ZU7GYl",
    "papermill": {
     "duration": 2667.357986,
     "end_time": "2023-03-27T05:57:22.444348",
     "exception": false,
     "start_time": "2023-03-27T05:12:55.086362",
     "status": "completed"
    },
    "tags": []
   },
   "outputs": [
    {
     "name": "stdout",
     "output_type": "stream",
     "text": [
      "\r",
      "1/1 [==============================] - ETA: 0s"
     ]
    },
    {
     "name": "stdout",
     "output_type": "stream",
     "text": [
      "\b\b\b\b\b\b\b\b\b\b\b\b\b\b\b\b\b\b\b\b\b\b\b\b\b\b\b\b\b\b\b\b\b\b\b\b\b\b\b\b\b\b\b\b\b\b\r",
      "1/1 [==============================] - 0s 221ms/step\n"
     ]
    },
    {
     "data": {
      "image/png": "[encoded data removed]",
      "text/plain": [
       "<Figure size 1080x1080 with 3 Axes>"
      ]
     },
     "metadata": {
      "needs_background": "light"
     },
     "output_type": "display_data"
    },
    {
     "name": "stdout",
     "output_type": "stream",
     "text": [
      "\n",
      "Sample Prediction after epoch 66\n"
     ]
    },
    {
     "name": "stdout",
     "output_type": "stream",
     "text": [
      "\n"
     ]
    },
    {
     "name": "stdout",
     "output_type": "stream",
     "text": [
      "\b\b\b\b\b\b\b\b\b\b\b\b\b\b\b\b\b\b\b\b\b\b\b\b\b\b\b\b\b\b\b\b\b\b\b\b\b\b\b\b\b\b\b\b\b\b\b\b\b\b\b\b\b\b\b\b\b\b\b\b\b\b\b\b\b\b\b\b\b\b\b\b\b\b\b\b\b\b\b\b\b\b\b\b\b\b\b\b\b\b\b\b\b\b\b\b\b\b\b\b\b\b\b\b\b\b\b\b\b\b\b\b\b\b\b\b\b\b\b\b\b\b\b\b\b\r",
      "328/328 [==============================] - 38s 117ms/step - loss: 0.0103 - one_hot_io_u: 0.9711 - precision: 0.9859 - recall: 0.9859 - val_loss: 0.0800 - val_one_hot_io_u: 0.8169 - val_precision: 0.9069 - val_recall: 0.9069\n"
     ]
    },
    {
     "name": "stdout",
     "output_type": "stream",
     "text": [
      "Epoch 66: early stopping\n"
     ]
    },
    {
     "name": "stdout",
     "output_type": "stream",
     "text": [
      "CPU times: user 2h 43min 30s, sys: 12min 59s, total: 2h 56min 30s"
     ]
    },
    {
     "name": "stdout",
     "output_type": "stream",
     "text": [
      "\n"
     ]
    },
    {
     "name": "stdout",
     "output_type": "stream",
     "text": [
      "Wall time: 44min 27s"
     ]
    },
    {
     "name": "stdout",
     "output_type": "stream",
     "text": [
      "\n"
     ]
    }
   ],
   "source": [
    "%%time\n",
    "history=model.fit(train_dataset,\n",
    "          steps_per_epoch=steps_per_epoch,\n",
    "          epochs=epochs,\n",
    "          verbose=1,\n",
    "          validation_data=valid_dataset,\n",
    "          validation_steps=val_steps_per_epoch,\n",
    "          callbacks=callbacks_list,\n",
    "          )"
   ]
  },
  {
   "cell_type": "code",
   "execution_count": 27,
   "id": "8243af75",
   "metadata": {
    "colab": {
     "base_uri": "https://localhost:8080/",
     "height": 295
    },
    "execution": {
     "iopub.execute_input": "2023-03-27T05:57:22.468420Z",
     "iopub.status.busy": "2023-03-27T05:57:22.468087Z",
     "iopub.status.idle": "2023-03-27T05:57:22.705427Z",
     "shell.execute_reply": "2023-03-27T05:57:22.704683Z"
    },
    "id": "_lPE5Nl-7eGC",
    "outputId": "43efaba9-c517-4676-8f54-f8af49e9d41a",
    "papermill": {
     "duration": 0.250861,
     "end_time": "2023-03-27T05:57:22.706965",
     "exception": false,
     "start_time": "2023-03-27T05:57:22.456104",
     "status": "completed"
    },
    "tags": []
   },
   "outputs": [
    {
     "data": {
      "image/png": "[encoded data removed]",
      "text/plain": [
       "<Figure size 1080x720 with 1 Axes>"
      ]
     },
     "metadata": {
      "needs_background": "light"
     },
     "output_type": "display_data"
    }
   ],
   "source": [
    "loss = history.history['loss']\n",
    "val_loss = history.history['val_loss']\n",
    "epochs = range(1, len(loss) + 1)\n",
    "plt.figure(figsize=(15,10))\n",
    "plt.plot(epochs, loss, 'green', label='Training loss', marker = 'o')\n",
    "plt.plot(epochs, val_loss, 'r', label='Validation loss', marker = 'o')\n",
    "plt.title('Training and validation loss')\n",
    "plt.xlabel('Epochs')\n",
    "plt.ylabel('Loss')\n",
    "plt.legend()\n",
    "# plt.savefig('loss_graph.png')\n",
    "plt.show()"
   ]
  },
  {
   "cell_type": "code",
   "execution_count": 28,
   "id": "bd403b59",
   "metadata": {
    "execution": {
     "iopub.execute_input": "2023-03-27T05:57:22.731691Z",
     "iopub.status.busy": "2023-03-27T05:57:22.731382Z",
     "iopub.status.idle": "2023-03-27T05:57:22.734614Z",
     "shell.execute_reply": "2023-03-27T05:57:22.733961Z"
    },
    "id": "32hBQoO01avw",
    "papermill": {
     "duration": 0.016977,
     "end_time": "2023-03-27T05:57:22.736099",
     "exception": false,
     "start_time": "2023-03-27T05:57:22.719122",
     "status": "completed"
    },
    "tags": []
   },
   "outputs": [],
   "source": [
    "acc = history.history['one_hot_io_u']\n",
    "val_acc = history.history['val_one_hot_io_u']"
   ]
  },
  {
   "cell_type": "code",
   "execution_count": 29,
   "id": "157e3128",
   "metadata": {
    "colab": {
     "base_uri": "https://localhost:8080/",
     "height": 295
    },
    "execution": {
     "iopub.execute_input": "2023-03-27T05:57:22.761300Z",
     "iopub.status.busy": "2023-03-27T05:57:22.760809Z",
     "iopub.status.idle": "2023-03-27T05:57:23.023888Z",
     "shell.execute_reply": "2023-03-27T05:57:23.023185Z"
    },
    "id": "R4PB98zH1eDI",
    "outputId": "c9e5885c-be9e-4100-ed98-b1d0d0117265",
    "papermill": {
     "duration": 0.277663,
     "end_time": "2023-03-27T05:57:23.025479",
     "exception": false,
     "start_time": "2023-03-27T05:57:22.747816",
     "status": "completed"
    },
    "tags": []
   },
   "outputs": [
    {
     "data": {
      "image/png": "[encoded data removed]",
      "text/plain": [
       "<Figure size 1080x720 with 1 Axes>"
      ]
     },
     "metadata": {
      "needs_background": "light"
     },
     "output_type": "display_data"
    }
   ],
   "source": [
    "plt.figure(figsize=(15,10))\n",
    "plt.plot(epochs, acc, 'green', label='Training IoU', marker = 'o')\n",
    "plt.plot(epochs, val_acc, 'r', label='Validation IoU', marker = 'o')\n",
    "plt.title('Training and validation IoU')\n",
    "plt.xlabel('Epochs')\n",
    "plt.ylabel('IoU')\n",
    "plt.legend()\n",
    "# plt.savefig('auccuracy_graph.png')\n",
    "plt.show()"
   ]
  },
  {
   "cell_type": "code",
   "execution_count": 30,
   "id": "86461d60",
   "metadata": {
    "execution": {
     "iopub.execute_input": "2023-03-27T05:57:23.052359Z",
     "iopub.status.busy": "2023-03-27T05:57:23.052016Z",
     "iopub.status.idle": "2023-03-27T05:57:24.645023Z",
     "shell.execute_reply": "2023-03-27T05:57:24.644269Z"
    },
    "id": "Y2F4qSYw1oTf",
    "papermill": {
     "duration": 1.608423,
     "end_time": "2023-03-27T05:57:24.646870",
     "exception": false,
     "start_time": "2023-03-27T05:57:23.038447",
     "status": "completed"
    },
    "tags": []
   },
   "outputs": [],
   "source": [
    "from keras.models import load_model\n",
    "\n",
    "model = load_model(filepath, compile=False)"
   ]
  },
  {
   "cell_type": "code",
   "execution_count": 31,
   "id": "186d6965",
   "metadata": {
    "execution": {
     "iopub.execute_input": "2023-03-27T05:57:24.672844Z",
     "iopub.status.busy": "2023-03-27T05:57:24.672574Z",
     "iopub.status.idle": "2023-03-27T05:57:24.676264Z",
     "shell.execute_reply": "2023-03-27T05:57:24.675639Z"
    },
    "id": "H8skGm-s2HYC",
    "papermill": {
     "duration": 0.017991,
     "end_time": "2023-03-27T05:57:24.677754",
     "exception": false,
     "start_time": "2023-03-27T05:57:24.659763",
     "status": "completed"
    },
    "tags": []
   },
   "outputs": [],
   "source": [
    "from tensorflow.keras.metrics import MeanIoU"
   ]
  },
  {
   "cell_type": "code",
   "execution_count": 32,
   "id": "96942265",
   "metadata": {
    "colab": {
     "base_uri": "https://localhost:8080/"
    },
    "execution": {
     "iopub.execute_input": "2023-03-27T05:57:24.702869Z",
     "iopub.status.busy": "2023-03-27T05:57:24.702604Z",
     "iopub.status.idle": "2023-03-27T05:57:26.449616Z",
     "shell.execute_reply": "2023-03-27T05:57:26.448847Z"
    },
    "id": "V4Nv3Uro1hsA",
    "outputId": "40480f0b-b6ef-420c-99d6-f319c314a252",
    "papermill": {
     "duration": 1.761175,
     "end_time": "2023-03-27T05:57:26.451147",
     "exception": false,
     "start_time": "2023-03-27T05:57:24.689972",
     "status": "completed"
    },
    "tags": []
   },
   "outputs": [
    {
     "name": "stdout",
     "output_type": "stream",
     "text": [
      "\r",
      "1/1 [==============================] - ETA: 0s"
     ]
    },
    {
     "name": "stdout",
     "output_type": "stream",
     "text": [
      "\b\b\b\b\b\b\b\b\b\b\b\b\b\b\b\b\b\b\b\b\b\b\b\b\b\b\b\b\b\b\b\b\b\b\b\b\b\b\b\b\b\b\b\b\b\b\r",
      "1/1 [==============================] - 2s 2s/step\n"
     ]
    },
    {
     "name": "stdout",
     "output_type": "stream",
     "text": [
      "Mean IoU ="
     ]
    },
    {
     "name": "stdout",
     "output_type": "stream",
     "text": [
      " "
     ]
    },
    {
     "name": "stdout",
     "output_type": "stream",
     "text": [
      "0.9059234"
     ]
    },
    {
     "name": "stdout",
     "output_type": "stream",
     "text": [
      "\n"
     ]
    }
   ],
   "source": [
    "test_image_batch, test_mask_batch = next(iter(valid_dataset))\n",
    "\n",
    "#Convert categorical to integer for visualization and IoU calculation\n",
    "test_mask_batch_argmax = np.argmax(test_mask_batch, axis=3) \n",
    "test_pred_batch = model.predict(test_image_batch)\n",
    "test_pred_batch_argmax = np.argmax(test_pred_batch, axis=3)\n",
    "n_classes = 2\n",
    "IOU_keras = MeanIoU(num_classes=n_classes)  \n",
    "IOU_keras.update_state(test_pred_batch_argmax, test_mask_batch_argmax)\n",
    "print(\"Mean IoU =\", IOU_keras.result().numpy())"
   ]
  },
  {
   "cell_type": "code",
   "execution_count": 33,
   "id": "3e4f4235",
   "metadata": {
    "colab": {
     "base_uri": "https://localhost:8080/",
     "height": 392
    },
    "execution": {
     "iopub.execute_input": "2023-03-27T05:57:26.477500Z",
     "iopub.status.busy": "2023-03-27T05:57:26.477197Z",
     "iopub.status.idle": "2023-03-27T05:57:28.045019Z",
     "shell.execute_reply": "2023-03-27T05:57:28.044315Z"
    },
    "id": "9D_aW4b81-vs",
    "outputId": "a0d585dc-8738-4710-9e43-6be4f77d43c8",
    "papermill": {
     "duration": 1.582743,
     "end_time": "2023-03-27T05:57:28.046871",
     "exception": false,
     "start_time": "2023-03-27T05:57:26.464128",
     "status": "completed"
    },
    "tags": []
   },
   "outputs": [
    {
     "data": {
      "image/png": "[encoded data removed]",
      "text/plain": [
       "<Figure size 1440x1440 with 3 Axes>"
      ]
     },
     "metadata": {
      "needs_background": "light"
     },
     "output_type": "display_data"
    }
   ],
   "source": [
    "img_num = random.randint(0, test_image_batch.shape[0]-1)\n",
    "image = test_image_batch[img_num]\n",
    "plt.figure(figsize=(20,20))\n",
    "plt.subplot(231)\n",
    "plt.title('Testing Image')\n",
    "plt.imshow(image[:,:,0:3])\n",
    "plt.subplot(232)\n",
    "plt.title('Testing Label')\n",
    "plt.imshow(test_mask_batch_argmax[img_num], cmap='gray')\n",
    "plt.subplot(233)\n",
    "plt.title('Prediction on test image')\n",
    "plt.imshow(test_pred_batch_argmax[img_num], cmap='gray')\n",
    "plt.show()"
   ]
  },
  {
   "cell_type": "code",
   "execution_count": 34,
   "id": "84440791",
   "metadata": {
    "execution": {
     "iopub.execute_input": "2023-03-27T05:57:28.075523Z",
     "iopub.status.busy": "2023-03-27T05:57:28.075233Z",
     "iopub.status.idle": "2023-03-27T05:57:28.078404Z",
     "shell.execute_reply": "2023-03-27T05:57:28.077740Z"
    },
    "papermill": {
     "duration": 0.018811,
     "end_time": "2023-03-27T05:57:28.079872",
     "exception": false,
     "start_time": "2023-03-27T05:57:28.061061",
     "status": "completed"
    },
    "tags": []
   },
   "outputs": [],
   "source": [
    "No_of_valid_data = int(number_of_shards*filespershard*0.3)"
   ]
  },
  {
   "cell_type": "code",
   "execution_count": 35,
   "id": "1c3f0c9b",
   "metadata": {
    "execution": {
     "iopub.execute_input": "2023-03-27T05:57:28.108587Z",
     "iopub.status.busy": "2023-03-27T05:57:28.108285Z",
     "iopub.status.idle": "2023-03-27T05:57:28.746428Z",
     "shell.execute_reply": "2023-03-27T05:57:28.745663Z"
    },
    "papermill": {
     "duration": 0.655157,
     "end_time": "2023-03-27T05:57:28.748282",
     "exception": false,
     "start_time": "2023-03-27T05:57:28.093125",
     "status": "completed"
    },
    "tags": []
   },
   "outputs": [],
   "source": [
    "from sklearn.metrics import confusion_matrix\n",
    "from sklearn.metrics import ConfusionMatrixDisplay,classification_report"
   ]
  },
  {
   "cell_type": "code",
   "execution_count": 36,
   "id": "911750d3",
   "metadata": {
    "execution": {
     "iopub.execute_input": "2023-03-27T05:57:28.779280Z",
     "iopub.status.busy": "2023-03-27T05:57:28.778990Z",
     "iopub.status.idle": "2023-03-27T05:57:40.202770Z",
     "shell.execute_reply": "2023-03-27T05:57:40.201973Z"
    },
    "papermill": {
     "duration": 11.441459,
     "end_time": "2023-03-27T05:57:40.204714",
     "exception": false,
     "start_time": "2023-03-27T05:57:28.763255",
     "status": "completed"
    },
    "tags": []
   },
   "outputs": [
    {
     "name": "stdout",
     "output_type": "stream",
     "text": [
      "\r",
      " 1/71 [..............................] - ETA: 1:03"
     ]
    },
    {
     "name": "stdout",
     "output_type": "stream",
     "text": [
      "\b\b\b\b\b\b\b\b\b\b\b\b\b\b\b\b\b\b\b\b\b\b\b\b\b\b\b\b\b\b\b\b\b\b\b\b\b\b\b\b\b\b\b\b\b\b\b\b\b\b\r",
      " 3/71 [>.............................] - ETA: 2s  "
     ]
    },
    {
     "name": "stdout",
     "output_type": "stream",
     "text": [
      "\b\b\b\b\b\b\b\b\b\b\b\b\b\b\b\b\b\b\b\b\b\b\b\b\b\b\b\b\b\b\b\b\b\b\b\b\b\b\b\b\b\b\b\b\b\b\b\b\r",
      " 4/71 [>.............................] - ETA: 3s"
     ]
    },
    {
     "name": "stdout",
     "output_type": "stream",
     "text": [
      "\b\b\b\b\b\b\b\b\b\b\b\b\b\b\b\b\b\b\b\b\b\b\b\b\b\b\b\b\b\b\b\b\b\b\b\b\b\b\b\b\b\b\b\b\b\b\b\b\r",
      " 5/71 [=>............................] - ETA: 3s"
     ]
    },
    {
     "name": "stdout",
     "output_type": "stream",
     "text": [
      "\b\b\b\b\b\b\b\b\b\b\b\b\b\b\b\b\b\b\b\b\b\b\b\b\b\b\b\b\b\b\b\b\b\b\b\b\b\b\b\b\b\b\b\b\b\b\b\b\r",
      " 6/71 [=>............................] - ETA: 3s"
     ]
    },
    {
     "name": "stdout",
     "output_type": "stream",
     "text": [
      "\b\b\b\b\b\b\b\b\b\b\b\b\b\b\b\b\b\b\b\b\b\b\b\b\b\b\b\b\b\b\b\b\b\b\b\b\b\b\b\b\b\b\b\b\b\b\b\b\r",
      " 7/71 [=>............................] - ETA: 3s"
     ]
    },
    {
     "name": "stdout",
     "output_type": "stream",
     "text": [
      "\b\b\b\b\b\b\b\b\b\b\b\b\b\b\b\b\b\b\b\b\b\b\b\b\b\b\b\b\b\b\b\b\b\b\b\b\b\b\b\b\b\b\b\b\b\b\b\b\r",
      " 8/71 [==>...........................] - ETA: 3s"
     ]
    },
    {
     "name": "stdout",
     "output_type": "stream",
     "text": [
      "\b\b\b\b\b\b\b\b\b\b\b\b\b\b\b\b\b\b\b\b\b\b\b\b\b\b\b\b\b\b\b\b\b\b\b\b\b\b\b\b\b\b\b\b\b\b\b\b\r",
      " 9/71 [==>...........................] - ETA: 3s"
     ]
    },
    {
     "name": "stdout",
     "output_type": "stream",
     "text": [
      "\b\b\b\b\b\b\b\b\b\b\b\b\b\b\b\b\b\b\b\b\b\b\b\b\b\b\b\b\b\b\b\b\b\b\b\b\b\b\b\b\b\b\b\b\b\b\b\b\r",
      "10/71 [===>..........................] - ETA: 3s"
     ]
    },
    {
     "name": "stdout",
     "output_type": "stream",
     "text": [
      "\b\b\b\b\b\b\b\b\b\b\b\b\b\b\b\b\b\b\b\b\b\b\b\b\b\b\b\b\b\b\b\b\b\b\b\b\b\b\b\b\b\b\b\b\b\b\b\b\r",
      "11/71 [===>..........................] - ETA: 3s"
     ]
    },
    {
     "name": "stdout",
     "output_type": "stream",
     "text": [
      "\b\b\b\b\b\b\b\b\b\b\b\b\b\b\b\b\b\b\b\b\b\b\b\b\b\b\b\b\b\b\b\b\b\b\b\b\b\b\b\b\b\b\b\b\b\b\b\b\r",
      "12/71 [====>.........................] - ETA: 3s"
     ]
    },
    {
     "name": "stdout",
     "output_type": "stream",
     "text": [
      "\b\b\b\b\b\b\b\b\b\b\b\b\b\b\b\b\b\b\b\b\b\b\b\b\b\b\b\b\b\b\b\b\b\b\b\b\b\b\b\b\b\b\b\b\b\b\b\b\r",
      "13/71 [====>.........................] - ETA: 3s"
     ]
    },
    {
     "name": "stdout",
     "output_type": "stream",
     "text": [
      "\b\b\b\b\b\b\b\b\b\b\b\b\b\b\b\b\b\b\b\b\b\b\b\b\b\b\b\b\b\b\b\b\b\b\b\b\b\b\b\b\b\b\b\b\b\b\b\b\r",
      "14/71 [====>.........................] - ETA: 3s"
     ]
    },
    {
     "name": "stdout",
     "output_type": "stream",
     "text": [
      "\b\b\b\b\b\b\b\b\b\b\b\b\b\b\b\b\b\b\b\b\b\b\b\b\b\b\b\b\b\b\b\b\b\b\b\b\b\b\b\b\b\b\b\b\b\b\b\b\r",
      "15/71 [=====>........................] - ETA: 3s"
     ]
    },
    {
     "name": "stdout",
     "output_type": "stream",
     "text": [
      "\b\b\b\b\b\b\b\b\b\b\b\b\b\b\b\b\b\b\b\b\b\b\b\b\b\b\b\b\b\b\b\b\b\b\b\b\b\b\b\b\b\b\b\b\b\b\b\b\r",
      "16/71 [=====>........................] - ETA: 3s"
     ]
    },
    {
     "name": "stdout",
     "output_type": "stream",
     "text": [
      "\b\b\b\b\b\b\b\b\b\b\b\b\b\b\b\b\b\b\b\b\b\b\b\b\b\b\b\b\b\b\b\b\b\b\b\b\b\b\b\b\b\b\b\b\b\b\b\b\r",
      "17/71 [======>.......................] - ETA: 3s"
     ]
    },
    {
     "name": "stdout",
     "output_type": "stream",
     "text": [
      "\b\b\b\b\b\b\b\b\b\b\b\b\b\b\b\b\b\b\b\b\b\b\b\b\b\b\b\b\b\b\b\b\b\b\b\b\b\b\b\b\b\b\b\b\b\b\b\b\r",
      "18/71 [======>.......................] - ETA: 3s"
     ]
    },
    {
     "name": "stdout",
     "output_type": "stream",
     "text": [
      "\b\b\b\b\b\b\b\b\b\b\b\b\b\b\b\b\b\b\b\b\b\b\b\b\b\b\b\b\b\b\b\b\b\b\b\b\b\b\b\b\b\b\b\b\b\b\b\b\r",
      "19/71 [=======>......................] - ETA: 3s"
     ]
    },
    {
     "name": "stdout",
     "output_type": "stream",
     "text": [
      "\b\b\b\b\b\b\b\b\b\b\b\b\b\b\b\b\b\b\b\b\b\b\b\b\b\b\b\b\b\b\b\b\b\b\b\b\b\b\b\b\b\b\b\b\b\b\b\b\r",
      "20/71 [=======>......................] - ETA: 3s"
     ]
    },
    {
     "name": "stdout",
     "output_type": "stream",
     "text": [
      "\b\b\b\b\b\b\b\b\b\b\b\b\b\b\b\b\b\b\b\b\b\b\b\b\b\b\b\b\b\b\b\b\b\b\b\b\b\b\b\b\b\b\b\b\b\b\b\b\r",
      "21/71 [=======>......................] - ETA: 3s"
     ]
    },
    {
     "name": "stdout",
     "output_type": "stream",
     "text": [
      "\b\b\b\b\b\b\b\b\b\b\b\b\b\b\b\b\b\b\b\b\b\b\b\b\b\b\b\b\b\b\b\b\b\b\b\b\b\b\b\b\b\b\b\b\b\b\b\b\r",
      "22/71 [========>.....................] - ETA: 3s"
     ]
    },
    {
     "name": "stdout",
     "output_type": "stream",
     "text": [
      "\b\b\b\b\b\b\b\b\b\b\b\b\b\b\b\b\b\b\b\b\b\b\b\b\b\b\b\b\b\b\b\b\b\b\b\b\b\b\b\b\b\b\b\b\b\b\b\b\r",
      "23/71 [========>.....................] - ETA: 3s"
     ]
    },
    {
     "name": "stdout",
     "output_type": "stream",
     "text": [
      "\b\b\b\b\b\b\b\b\b\b\b\b\b\b\b\b\b\b\b\b\b\b\b\b\b\b\b\b\b\b\b\b\b\b\b\b\b\b\b\b\b\b\b\b\b\b\b\b\r",
      "24/71 [=========>....................] - ETA: 2s"
     ]
    },
    {
     "name": "stdout",
     "output_type": "stream",
     "text": [
      "\b\b\b\b\b\b\b\b\b\b\b\b\b\b\b\b\b\b\b\b\b\b\b\b\b\b\b\b\b\b\b\b\b\b\b\b\b\b\b\b\b\b\b\b\b\b\b\b\r",
      "25/71 [=========>....................] - ETA: 2s"
     ]
    },
    {
     "name": "stdout",
     "output_type": "stream",
     "text": [
      "\b\b\b\b\b\b\b\b\b\b\b\b\b\b\b\b\b\b\b\b\b\b\b\b\b\b\b\b\b\b\b\b\b\b\b\b\b\b\b\b\b\b\b\b\b\b\b\b\r",
      "26/71 [=========>....................] - ETA: 2s"
     ]
    },
    {
     "name": "stdout",
     "output_type": "stream",
     "text": [
      "\b\b\b\b\b\b\b\b\b\b\b\b\b\b\b\b\b\b\b\b\b\b\b\b\b\b\b\b\b\b\b\b\b\b\b\b\b\b\b\b\b\b\b\b\b\b\b\b\r",
      "27/71 [==========>...................] - ETA: 2s"
     ]
    },
    {
     "name": "stdout",
     "output_type": "stream",
     "text": [
      "\b\b\b\b\b\b\b\b\b\b\b\b\b\b\b\b\b\b\b\b\b\b\b\b\b\b\b\b\b\b\b\b\b\b\b\b\b\b\b\b\b\b\b\b\b\b\b\b\r",
      "28/71 [==========>...................] - ETA: 2s"
     ]
    },
    {
     "name": "stdout",
     "output_type": "stream",
     "text": [
      "\b\b\b\b\b\b\b\b\b\b\b\b\b\b\b\b\b\b\b\b\b\b\b\b\b\b\b\b\b\b\b\b\b\b\b\b\b\b\b\b\b\b\b\b\b\b\b\b\r",
      "29/71 [===========>..................] - ETA: 2s"
     ]
    },
    {
     "name": "stdout",
     "output_type": "stream",
     "text": [
      "\b\b\b\b\b\b\b\b\b\b\b\b\b\b\b\b\b\b\b\b\b\b\b\b\b\b\b\b\b\b\b\b\b\b\b\b\b\b\b\b\b\b\b\b\b\b\b\b\r",
      "30/71 [===========>..................] - ETA: 2s"
     ]
    },
    {
     "name": "stdout",
     "output_type": "stream",
     "text": [
      "\b\b\b\b\b\b\b\b\b\b\b\b\b\b\b\b\b\b\b\b\b\b\b\b\b\b\b\b\b\b\b\b\b\b\b\b\b\b\b\b\b\b\b\b\b\b\b\b\r",
      "31/71 [============>.................] - ETA: 2s"
     ]
    },
    {
     "name": "stdout",
     "output_type": "stream",
     "text": [
      "\b\b\b\b\b\b\b\b\b\b\b\b\b\b\b\b\b\b\b\b\b\b\b\b\b\b\b\b\b\b\b\b\b\b\b\b\b\b\b\b\b\b\b\b\b\b\b\b\r",
      "32/71 [============>.................] - ETA: 2s"
     ]
    },
    {
     "name": "stdout",
     "output_type": "stream",
     "text": [
      "\b\b\b\b\b\b\b\b\b\b\b\b\b\b\b\b\b\b\b\b\b\b\b\b\b\b\b\b\b\b\b\b\b\b\b\b\b\b\b\b\b\b\b\b\b\b\b\b\r",
      "33/71 [============>.................] - ETA: 2s"
     ]
    },
    {
     "name": "stdout",
     "output_type": "stream",
     "text": [
      "\b\b\b\b\b\b\b\b\b\b\b\b\b\b\b\b\b\b\b\b\b\b\b\b\b\b\b\b\b\b\b\b\b\b\b\b\b\b\b\b\b\b\b\b\b\b\b\b\r",
      "34/71 [=============>................] - ETA: 2s"
     ]
    },
    {
     "name": "stdout",
     "output_type": "stream",
     "text": [
      "\b\b\b\b\b\b\b\b\b\b\b\b\b\b\b\b\b\b\b\b\b\b\b\b\b\b\b\b\b\b\b\b\b\b\b\b\b\b\b\b\b\b\b\b\b\b\b\b\r",
      "35/71 [=============>................] - ETA: 2s"
     ]
    },
    {
     "name": "stdout",
     "output_type": "stream",
     "text": [
      "\b\b\b\b\b\b\b\b\b\b\b\b\b\b\b\b\b\b\b\b\b\b\b\b\b\b\b\b\b\b\b\b\b\b\b\b\b\b\b\b\b\b\b\b\b\b\b\b\r",
      "36/71 [==============>...............] - ETA: 2s"
     ]
    },
    {
     "name": "stdout",
     "output_type": "stream",
     "text": [
      "\b\b\b\b\b\b\b\b\b\b\b\b\b\b\b\b\b\b\b\b\b\b\b\b\b\b\b\b\b\b\b\b\b\b\b\b\b\b\b\b\b\b\b\b\b\b\b\b\r",
      "37/71 [==============>...............] - ETA: 2s"
     ]
    },
    {
     "name": "stdout",
     "output_type": "stream",
     "text": [
      "\b\b\b\b\b\b\b\b\b\b\b\b\b\b\b\b\b\b\b\b\b\b\b\b\b\b\b\b\b\b\b\b\b\b\b\b\b\b\b\b\b\b\b\b\b\b\b\b\r",
      "38/71 [===============>..............] - ETA: 2s"
     ]
    },
    {
     "name": "stdout",
     "output_type": "stream",
     "text": [
      "\b\b\b\b\b\b\b\b\b\b\b\b\b\b\b\b\b\b\b\b\b\b\b\b\b\b\b\b\b\b\b\b\b\b\b\b\b\b\b\b\b\b\b\b\b\b\b\b\r",
      "39/71 [===============>..............] - ETA: 2s"
     ]
    },
    {
     "name": "stdout",
     "output_type": "stream",
     "text": [
      "\b\b\b\b\b\b\b\b\b\b\b\b\b\b\b\b\b\b\b\b\b\b\b\b\b\b\b\b\b\b\b\b\b\b\b\b\b\b\b\b\b\b\b\b\b\b\b\b\r",
      "40/71 [===============>..............] - ETA: 1s"
     ]
    },
    {
     "name": "stdout",
     "output_type": "stream",
     "text": [
      "\b\b\b\b\b\b\b\b\b\b\b\b\b\b\b\b\b\b\b\b\b\b\b\b\b\b\b\b\b\b\b\b\b\b\b\b\b\b\b\b\b\b\b\b\b\b\b\b\r",
      "41/71 [================>.............] - ETA: 1s"
     ]
    },
    {
     "name": "stdout",
     "output_type": "stream",
     "text": [
      "\b\b\b\b\b\b\b\b\b\b\b\b\b\b\b\b\b\b\b\b\b\b\b\b\b\b\b\b\b\b\b\b\b\b\b\b\b\b\b\b\b\b\b\b\b\b\b\b\r",
      "42/71 [================>.............] - ETA: 1s"
     ]
    },
    {
     "name": "stdout",
     "output_type": "stream",
     "text": [
      "\b\b\b\b\b\b\b\b\b\b\b\b\b\b\b\b\b\b\b\b\b\b\b\b\b\b\b\b\b\b\b\b\b\b\b\b\b\b\b\b\b\b\b\b\b\b\b\b\r",
      "43/71 [=================>............] - ETA: 1s"
     ]
    },
    {
     "name": "stdout",
     "output_type": "stream",
     "text": [
      "\b\b\b\b\b\b\b\b\b\b\b\b\b\b\b\b\b\b\b\b\b\b\b\b\b\b\b\b\b\b\b\b\b\b\b\b\b\b\b\b\b\b\b\b\b\b\b\b\r",
      "44/71 [=================>............] - ETA: 1s"
     ]
    },
    {
     "name": "stdout",
     "output_type": "stream",
     "text": [
      "\b\b\b\b\b\b\b\b\b\b\b\b\b\b\b\b\b\b\b\b\b\b\b\b\b\b\b\b\b\b\b\b\b\b\b\b\b\b\b\b\b\b\b\b\b\b\b\b\r",
      "45/71 [==================>...........] - ETA: 1s"
     ]
    },
    {
     "name": "stdout",
     "output_type": "stream",
     "text": [
      "\b\b\b\b\b\b\b\b\b\b\b\b\b\b\b\b\b\b\b\b\b\b\b\b\b\b\b\b\b\b\b\b\b\b\b\b\b\b\b\b\b\b\b\b\b\b\b\b\r",
      "46/71 [==================>...........] - ETA: 1s"
     ]
    },
    {
     "name": "stdout",
     "output_type": "stream",
     "text": [
      "\b\b\b\b\b\b\b\b\b\b\b\b\b\b\b\b\b\b\b\b\b\b\b\b\b\b\b\b\b\b\b\b\b\b\b\b\b\b\b\b\b\b\b\b\b\b\b\b\r",
      "47/71 [==================>...........] - ETA: 1s"
     ]
    },
    {
     "name": "stdout",
     "output_type": "stream",
     "text": [
      "\b\b\b\b\b\b\b\b\b\b\b\b\b\b\b\b\b\b\b\b\b\b\b\b\b\b\b\b\b\b\b\b\b\b\b\b\b\b\b\b\b\b\b\b\b\b\b\b\r",
      "48/71 [===================>..........] - ETA: 1s"
     ]
    },
    {
     "name": "stdout",
     "output_type": "stream",
     "text": [
      "\b\b\b\b\b\b\b\b\b\b\b\b\b\b\b\b\b\b\b\b\b\b\b\b\b\b\b\b\b\b\b\b\b\b\b\b\b\b\b\b\b\b\b\b\b\b\b\b\r",
      "49/71 [===================>..........] - ETA: 1s"
     ]
    },
    {
     "name": "stdout",
     "output_type": "stream",
     "text": [
      "\b\b\b\b\b\b\b\b\b\b\b\b\b\b\b\b\b\b\b\b\b\b\b\b\b\b\b\b\b\b\b\b\b\b\b\b\b\b\b\b\b\b\b\b\b\b\b\b\r",
      "50/71 [====================>.........] - ETA: 1s"
     ]
    },
    {
     "name": "stdout",
     "output_type": "stream",
     "text": [
      "\b\b\b\b\b\b\b\b\b\b\b\b\b\b\b\b\b\b\b\b\b\b\b\b\b\b\b\b\b\b\b\b\b\b\b\b\b\b\b\b\b\b\b\b\b\b\b\b\r",
      "51/71 [====================>.........] - ETA: 1s"
     ]
    },
    {
     "name": "stdout",
     "output_type": "stream",
     "text": [
      "\b\b\b\b\b\b\b\b\b\b\b\b\b\b\b\b\b\b\b\b\b\b\b\b\b\b\b\b\b\b\b\b\b\b\b\b\b\b\b\b\b\b\b\b\b\b\b\b\r",
      "52/71 [====================>.........] - ETA: 1s"
     ]
    },
    {
     "name": "stdout",
     "output_type": "stream",
     "text": [
      "\b\b\b\b\b\b\b\b\b\b\b\b\b\b\b\b\b\b\b\b\b\b\b\b\b\b\b\b\b\b\b\b\b\b\b\b\b\b\b\b\b\b\b\b\b\b\b\b\r",
      "53/71 [=====================>........] - ETA: 1s"
     ]
    },
    {
     "name": "stdout",
     "output_type": "stream",
     "text": [
      "\b\b\b\b\b\b\b\b\b\b\b\b\b\b\b\b\b\b\b\b\b\b\b\b\b\b\b\b\b\b\b\b\b\b\b\b\b\b\b\b\b\b\b\b\b\b\b\b\r",
      "54/71 [=====================>........] - ETA: 1s"
     ]
    },
    {
     "name": "stdout",
     "output_type": "stream",
     "text": [
      "\b\b\b\b\b\b\b\b\b\b\b\b\b\b\b\b\b\b\b\b\b\b\b\b\b\b\b\b\b\b\b\b\b\b\b\b\b\b\b\b\b\b\b\b\b\b\b\b\r",
      "55/71 [======================>.......] - ETA: 1s"
     ]
    },
    {
     "name": "stdout",
     "output_type": "stream",
     "text": [
      "\b\b\b\b\b\b\b\b\b\b\b\b\b\b\b\b\b\b\b\b\b\b\b\b\b\b\b\b\b\b\b\b\b\b\b\b\b\b\b\b\b\b\b\b\b\b\b\b\r",
      "56/71 [======================>.......] - ETA: 0s"
     ]
    },
    {
     "name": "stdout",
     "output_type": "stream",
     "text": [
      "\b\b\b\b\b\b\b\b\b\b\b\b\b\b\b\b\b\b\b\b\b\b\b\b\b\b\b\b\b\b\b\b\b\b\b\b\b\b\b\b\b\b\b\b\b\b\b\b\r",
      "57/71 [=======================>......] - ETA: 0s"
     ]
    },
    {
     "name": "stdout",
     "output_type": "stream",
     "text": [
      "\b\b\b\b\b\b\b\b\b\b\b\b\b\b\b\b\b\b\b\b\b\b\b\b\b\b\b\b\b\b\b\b\b\b\b\b\b\b\b\b\b\b\b\b\b\b\b\b\r",
      "58/71 [=======================>......] - ETA: 0s"
     ]
    },
    {
     "name": "stdout",
     "output_type": "stream",
     "text": [
      "\b\b\b\b\b\b\b\b\b\b\b\b\b\b\b\b\b\b\b\b\b\b\b\b\b\b\b\b\b\b\b\b\b\b\b\b\b\b\b\b\b\b\b\b\b\b\b\b\r",
      "59/71 [=======================>......] - ETA: 0s"
     ]
    },
    {
     "name": "stdout",
     "output_type": "stream",
     "text": [
      "\b\b\b\b\b\b\b\b\b\b\b\b\b\b\b\b\b\b\b\b\b\b\b\b\b\b\b\b\b\b\b\b\b\b\b\b\b\b\b\b\b\b\b\b\b\b\b\b\r",
      "60/71 [========================>.....] - ETA: 0s"
     ]
    },
    {
     "name": "stdout",
     "output_type": "stream",
     "text": [
      "\b\b\b\b\b\b\b\b\b\b\b\b\b\b\b\b\b\b\b\b\b\b\b\b\b\b\b\b\b\b\b\b\b\b\b\b\b\b\b\b\b\b\b\b\b\b\b\b\r",
      "61/71 [========================>.....] - ETA: 0s"
     ]
    },
    {
     "name": "stdout",
     "output_type": "stream",
     "text": [
      "\b\b\b\b\b\b\b\b\b\b\b\b\b\b\b\b\b\b\b\b\b\b\b\b\b\b\b\b\b\b\b\b\b\b\b\b\b\b\b\b\b\b\b\b\b\b\b\b\r",
      "62/71 [=========================>....] - ETA: 0s"
     ]
    },
    {
     "name": "stdout",
     "output_type": "stream",
     "text": [
      "\b\b\b\b\b\b\b\b\b\b\b\b\b\b\b\b\b\b\b\b\b\b\b\b\b\b\b\b\b\b\b\b\b\b\b\b\b\b\b\b\b\b\b\b\b\b\b\b\r",
      "63/71 [=========================>....] - ETA: 0s"
     ]
    },
    {
     "name": "stdout",
     "output_type": "stream",
     "text": [
      "\b\b\b\b\b\b\b\b\b\b\b\b\b\b\b\b\b\b\b\b\b\b\b\b\b\b\b\b\b\b\b\b\b\b\b\b\b\b\b\b\b\b\b\b\b\b\b\b\r",
      "64/71 [==========================>...] - ETA: 0s"
     ]
    },
    {
     "name": "stdout",
     "output_type": "stream",
     "text": [
      "\b\b\b\b\b\b\b\b\b\b\b\b\b\b\b\b\b\b\b\b\b\b\b\b\b\b\b\b\b\b\b\b\b\b\b\b\b\b\b\b\b\b\b\b\b\b\b\b\r",
      "65/71 [==========================>...] - ETA: 0s"
     ]
    },
    {
     "name": "stdout",
     "output_type": "stream",
     "text": [
      "\b\b\b\b\b\b\b\b\b\b\b\b\b\b\b\b\b\b\b\b\b\b\b\b\b\b\b\b\b\b\b\b\b\b\b\b\b\b\b\b\b\b\b\b\b\b\b\b\r",
      "66/71 [==========================>...] - ETA: 0s"
     ]
    },
    {
     "name": "stdout",
     "output_type": "stream",
     "text": [
      "\b\b\b\b\b\b\b\b\b\b\b\b\b\b\b\b\b\b\b\b\b\b\b\b\b\b\b\b\b\b\b\b\b\b\b\b\b\b\b\b\b\b\b\b\b\b\b\b\r",
      "67/71 [===========================>..] - ETA: 0s"
     ]
    },
    {
     "name": "stdout",
     "output_type": "stream",
     "text": [
      "\b\b\b\b\b\b\b\b\b\b\b\b\b\b\b\b\b\b\b\b\b\b\b\b\b\b\b\b\b\b\b\b\b\b\b\b\b\b\b\b\b\b\b\b\b\b\b\b\r",
      "68/71 [===========================>..] - ETA: 0s"
     ]
    },
    {
     "name": "stdout",
     "output_type": "stream",
     "text": [
      "\b\b\b\b\b\b\b\b\b\b\b\b\b\b\b\b\b\b\b\b\b\b\b\b\b\b\b\b\b\b\b\b\b\b\b\b\b\b\b\b\b\b\b\b\b\b\b\b\r",
      "69/71 [============================>.] - ETA: 0s"
     ]
    },
    {
     "name": "stdout",
     "output_type": "stream",
     "text": [
      "\b\b\b\b\b\b\b\b\b\b\b\b\b\b\b\b\b\b\b\b\b\b\b\b\b\b\b\b\b\b\b\b\b\b\b\b\b\b\b\b\b\b\b\b\b\b\b\b\r",
      "70/71 [============================>.] - ETA: 0s"
     ]
    },
    {
     "name": "stdout",
     "output_type": "stream",
     "text": [
      "\b\b\b\b\b\b\b\b\b\b\b\b\b\b\b\b\b\b\b\b\b\b\b\b\b\b\b\b\b\b\b\b\b\b\b\b\b\b\b\b\b\b\b\b\b\b\b\b\r",
      "71/71 [==============================] - ETA: 0s"
     ]
    },
    {
     "name": "stdout",
     "output_type": "stream",
     "text": [
      "\b\b\b\b\b\b\b\b\b\b\b\b\b\b\b\b\b\b\b\b\b\b\b\b\b\b\b\b\b\b\b\b\b\b\b\b\b\b\b\b\b\b\b\b\b\b\b\b\r",
      "71/71 [==============================] - 6s 71ms/step\n"
     ]
    }
   ],
   "source": [
    "test_image_batch, test_mask_batch = next(iter(valid_dataset.unbatch().batch(No_of_valid_data)))\n",
    "test_mask_batch_argmax = np.argmax(test_mask_batch, axis=3) \n",
    "test_pred_batch = model.predict(test_image_batch)\n",
    "test_pred_batch_argmax = np.argmax(test_pred_batch, axis=3)"
   ]
  },
  {
   "cell_type": "code",
   "execution_count": 37,
   "id": "47e5d8bd",
   "metadata": {
    "execution": {
     "iopub.execute_input": "2023-03-27T05:57:40.239617Z",
     "iopub.status.busy": "2023-03-27T05:57:40.239338Z",
     "iopub.status.idle": "2023-03-27T05:58:11.432831Z",
     "shell.execute_reply": "2023-03-27T05:58:11.432075Z"
    },
    "papermill": {
     "duration": 31.212643,
     "end_time": "2023-03-27T05:58:11.434856",
     "exception": false,
     "start_time": "2023-03-27T05:57:40.222213",
     "status": "completed"
    },
    "tags": []
   },
   "outputs": [],
   "source": [
    "cm = confusion_matrix(test_mask_batch_argmax.flatten(),test_pred_batch_argmax.flatten())\n",
    "disp = ConfusionMatrixDisplay(confusion_matrix=cm, display_labels=['non_ponds','ponds'])"
   ]
  },
  {
   "cell_type": "code",
   "execution_count": 38,
   "id": "c7d7d565",
   "metadata": {
    "execution": {
     "iopub.execute_input": "2023-03-27T05:58:11.469801Z",
     "iopub.status.busy": "2023-03-27T05:58:11.469530Z",
     "iopub.status.idle": "2023-03-27T05:58:11.704050Z",
     "shell.execute_reply": "2023-03-27T05:58:11.703333Z"
    },
    "papermill": {
     "duration": 0.253352,
     "end_time": "2023-03-27T05:58:11.705622",
     "exception": false,
     "start_time": "2023-03-27T05:58:11.452270",
     "status": "completed"
    },
    "tags": []
   },
   "outputs": [
    {
     "data": {
      "image/png": "[encoded data removed]",
      "text/plain": [
       "<Figure size 432x288 with 2 Axes>"
      ]
     },
     "metadata": {
      "needs_background": "light"
     },
     "output_type": "display_data"
    }
   ],
   "source": [
    "disp.plot(cmap=plt.cm.Reds)\n",
    "plt.savefig('confusion_matrix.png')\n",
    "plt.show()"
   ]
  }
 ],
 "metadata": {
  "accelerator": "GPU",
  "colab": {
   "provenance": []
  },
  "gpuClass": "standard",
  "kernelspec": {
   "display_name": "Python 3",
   "language": "python",
   "name": "python3"
  },
  "language_info": {
   "codemirror_mode": {
    "name": "ipython",
    "version": 3
   },
   "file_extension": ".py",
   "mimetype": "text/x-python",
   "name": "python",
   "nbconvert_exporter": "python",
   "pygments_lexer": "ipython3",
   "version": "3.9.15"
  },
  "papermill": {
   "default_parameters": {},
   "duration": 2762.363693,
   "end_time": "2023-03-27T05:58:16.706412",
   "environment_variables": {},
   "exception": null,
   "input_path": "notebooks/deeplabv3plus_squeeze_excitation.ipynb",
   "output_path": "notebook_output/deeplabv3plus_squeeze_excitation.ipynb",
   "parameters": {},
   "start_time": "2023-03-27T05:12:14.342719",
   "version": "2.4.0"
  },
  "vscode": {
   "interpreter": {
    "hash": "a7e3d68acf3053187c5b77579300c0651533903882d6ac7cf345b8b37dbd4fd7"
   }
  },
  "widgets": {
   "application/vnd.jupyter.widget-state+json": {
    "state": {
     "06927bc6e19d4a6287f22ded1e15eaa9": {
      "model_module": "@jupyter-widgets/controls",
      "model_module_version": "2.0.0",
      "model_name": "ProgressStyleModel",
      "state": {
       "_model_module": "@jupyter-widgets/controls",
       "_model_module_version": "2.0.0",
       "_model_name": "ProgressStyleModel",
       "_view_count": null,
       "_view_module": "@jupyter-widgets/base",
       "_view_module_version": "2.0.0",
       "_view_name": "StyleView",
       "bar_color": null,
       "description_width": ""
      }
     },
     "08ab286c6dd943c9abe4d6fb833a69e2": {
      "model_module": "@jupyter-widgets/base",
      "model_module_version": "2.0.0",
      "model_name": "LayoutModel",
      "state": {
       "_model_module": "@jupyter-widgets/base",
       "_model_module_version": "2.0.0",
       "_model_name": "LayoutModel",
       "_view_count": null,
       "_view_module": "@jupyter-widgets/base",
       "_view_module_version": "2.0.0",
       "_view_name": "LayoutView",
       "align_content": null,
       "align_items": null,
       "align_self": null,
       "border_bottom": null,
       "border_left": null,
       "border_right": null,
       "border_top": null,
       "bottom": null,
       "display": null,
       "flex": null,
       "flex_flow": null,
       "grid_area": null,
       "grid_auto_columns": null,
       "grid_auto_flow": null,
       "grid_auto_rows": null,
       "grid_column": null,
       "grid_gap": null,
       "grid_row": null,
       "grid_template_areas": null,
       "grid_template_columns": null,
       "grid_template_rows": null,
       "height": null,
       "justify_content": null,
       "justify_items": null,
       "left": null,
       "margin": null,
       "max_height": null,
       "max_width": null,
       "min_height": null,
       "min_width": null,
       "object_fit": null,
       "object_position": null,
       "order": null,
       "overflow": null,
       "padding": null,
       "right": null,
       "top": null,
       "visibility": null,
       "width": null
      }
     },
     "1319e380a6294680aab6755fa73567fd": {
      "model_module": "@jupyter-widgets/controls",
      "model_module_version": "2.0.0",
      "model_name": "HTMLModel",
      "state": {
       "_dom_classes": [],
       "_model_module": "@jupyter-widgets/controls",
       "_model_module_version": "2.0.0",
       "_model_name": "HTMLModel",
       "_view_count": null,
       "_view_module": "@jupyter-widgets/controls",
       "_view_module_version": "2.0.0",
       "_view_name": "HTMLView",
       "description": "",
       "description_allow_html": false,
       "layout": "IPY_MODEL_42ac88504de94a50b2c35d33119f5041",
       "placeholder": "​",
       "style": "IPY_MODEL_8ec4d9212f71429e8ddb3e779a3eecfb",
       "tabbable": null,
       "tooltip": null,
       "value": "100%"
      }
     },
     "173c2cd8fdcf458a92069133a902922e": {
      "model_module": "@jupyter-widgets/controls",
      "model_module_version": "2.0.0",
      "model_name": "FloatProgressModel",
      "state": {
       "_dom_classes": [],
       "_model_module": "@jupyter-widgets/controls",
       "_model_module_version": "2.0.0",
       "_model_name": "FloatProgressModel",
       "_view_count": null,
       "_view_module": "@jupyter-widgets/controls",
       "_view_module_version": "2.0.0",
       "_view_name": "ProgressView",
       "bar_style": "success",
       "description": "",
       "description_allow_html": false,
       "layout": "IPY_MODEL_8d01ffb4330e4c4fab7eb0dd64063d44",
       "max": 3.0,
       "min": 0.0,
       "orientation": "horizontal",
       "style": "IPY_MODEL_41b353334c304a03a61b55ea6beb6843",
       "tabbable": null,
       "tooltip": null,
       "value": 3.0
      }
     },
     "2d191d36897342cd8594e193465dc7c4": {
      "model_module": "@jupyter-widgets/base",
      "model_module_version": "2.0.0",
      "model_name": "LayoutModel",
      "state": {
       "_model_module": "@jupyter-widgets/base",
       "_model_module_version": "2.0.0",
       "_model_name": "LayoutModel",
       "_view_count": null,
       "_view_module": "@jupyter-widgets/base",
       "_view_module_version": "2.0.0",
       "_view_name": "LayoutView",
       "align_content": null,
       "align_items": null,
       "align_self": null,
       "border_bottom": null,
       "border_left": null,
       "border_right": null,
       "border_top": null,
       "bottom": null,
       "display": null,
       "flex": null,
       "flex_flow": null,
       "grid_area": null,
       "grid_auto_columns": null,
       "grid_auto_flow": null,
       "grid_auto_rows": null,
       "grid_column": null,
       "grid_gap": null,
       "grid_row": null,
       "grid_template_areas": null,
       "grid_template_columns": null,
       "grid_template_rows": null,
       "height": null,
       "justify_content": null,
       "justify_items": null,
       "left": null,
       "margin": null,
       "max_height": null,
       "max_width": null,
       "min_height": null,
       "min_width": null,
       "object_fit": null,
       "object_position": null,
       "order": null,
       "overflow": null,
       "padding": null,
       "right": null,
       "top": null,
       "visibility": null,
       "width": null
      }
     },
     "32552260b04747caa7f0528869e4e799": {
      "model_module": "@jupyter-widgets/base",
      "model_module_version": "2.0.0",
      "model_name": "LayoutModel",
      "state": {
       "_model_module": "@jupyter-widgets/base",
       "_model_module_version": "2.0.0",
       "_model_name": "LayoutModel",
       "_view_count": null,
       "_view_module": "@jupyter-widgets/base",
       "_view_module_version": "2.0.0",
       "_view_name": "LayoutView",
       "align_content": null,
       "align_items": null,
       "align_self": null,
       "border_bottom": null,
       "border_left": null,
       "border_right": null,
       "border_top": null,
       "bottom": null,
       "display": null,
       "flex": null,
       "flex_flow": null,
       "grid_area": null,
       "grid_auto_columns": null,
       "grid_auto_flow": null,
       "grid_auto_rows": null,
       "grid_column": null,
       "grid_gap": null,
       "grid_row": null,
       "grid_template_areas": null,
       "grid_template_columns": null,
       "grid_template_rows": null,
       "height": null,
       "justify_content": null,
       "justify_items": null,
       "left": null,
       "margin": null,
       "max_height": null,
       "max_width": null,
       "min_height": null,
       "min_width": null,
       "object_fit": null,
       "object_position": null,
       "order": null,
       "overflow": null,
       "padding": null,
       "right": null,
       "top": null,
       "visibility": null,
       "width": null
      }
     },
     "35b9e8ca631f4571a72304a55972f39e": {
      "model_module": "@jupyter-widgets/controls",
      "model_module_version": "2.0.0",
      "model_name": "FloatProgressModel",
      "state": {
       "_dom_classes": [],
       "_model_module": "@jupyter-widgets/controls",
       "_model_module_version": "2.0.0",
       "_model_name": "FloatProgressModel",
       "_view_count": null,
       "_view_module": "@jupyter-widgets/controls",
       "_view_module_version": "2.0.0",
       "_view_name": "ProgressView",
       "bar_style": "success",
       "description": "",
       "description_allow_html": false,
       "layout": "IPY_MODEL_ef649777cb9043abb7bd3853c562933d",
       "max": 3.0,
       "min": 0.0,
       "orientation": "horizontal",
       "style": "IPY_MODEL_06927bc6e19d4a6287f22ded1e15eaa9",
       "tabbable": null,
       "tooltip": null,
       "value": 3.0
      }
     },
     "41b353334c304a03a61b55ea6beb6843": {
      "model_module": "@jupyter-widgets/controls",
      "model_module_version": "2.0.0",
      "model_name": "ProgressStyleModel",
      "state": {
       "_model_module": "@jupyter-widgets/controls",
       "_model_module_version": "2.0.0",
       "_model_name": "ProgressStyleModel",
       "_view_count": null,
       "_view_module": "@jupyter-widgets/base",
       "_view_module_version": "2.0.0",
       "_view_name": "StyleView",
       "bar_color": null,
       "description_width": ""
      }
     },
     "42ac88504de94a50b2c35d33119f5041": {
      "model_module": "@jupyter-widgets/base",
      "model_module_version": "2.0.0",
      "model_name": "LayoutModel",
      "state": {
       "_model_module": "@jupyter-widgets/base",
       "_model_module_version": "2.0.0",
       "_model_name": "LayoutModel",
       "_view_count": null,
       "_view_module": "@jupyter-widgets/base",
       "_view_module_version": "2.0.0",
       "_view_name": "LayoutView",
       "align_content": null,
       "align_items": null,
       "align_self": null,
       "border_bottom": null,
       "border_left": null,
       "border_right": null,
       "border_top": null,
       "bottom": null,
       "display": null,
       "flex": null,
       "flex_flow": null,
       "grid_area": null,
       "grid_auto_columns": null,
       "grid_auto_flow": null,
       "grid_auto_rows": null,
       "grid_column": null,
       "grid_gap": null,
       "grid_row": null,
       "grid_template_areas": null,
       "grid_template_columns": null,
       "grid_template_rows": null,
       "height": null,
       "justify_content": null,
       "justify_items": null,
       "left": null,
       "margin": null,
       "max_height": null,
       "max_width": null,
       "min_height": null,
       "min_width": null,
       "object_fit": null,
       "object_position": null,
       "order": null,
       "overflow": null,
       "padding": null,
       "right": null,
       "top": null,
       "visibility": null,
       "width": null
      }
     },
     "655df31a9c4f47d1af9983c44ce1e375": {
      "model_module": "@jupyter-widgets/controls",
      "model_module_version": "2.0.0",
      "model_name": "HTMLModel",
      "state": {
       "_dom_classes": [],
       "_model_module": "@jupyter-widgets/controls",
       "_model_module_version": "2.0.0",
       "_model_name": "HTMLModel",
       "_view_count": null,
       "_view_module": "@jupyter-widgets/controls",
       "_view_module_version": "2.0.0",
       "_view_name": "HTMLView",
       "description": "",
       "description_allow_html": false,
       "layout": "IPY_MODEL_856610370ae0484ca180dd54d6e755ad",
       "placeholder": "​",
       "style": "IPY_MODEL_a1d84a616292459691da5ee423164fbb",
       "tabbable": null,
       "tooltip": null,
       "value": "100%"
      }
     },
     "78dd8720b2d040d4938bb83e2cb5945b": {
      "model_module": "@jupyter-widgets/controls",
      "model_module_version": "2.0.0",
      "model_name": "HTMLModel",
      "state": {
       "_dom_classes": [],
       "_model_module": "@jupyter-widgets/controls",
       "_model_module_version": "2.0.0",
       "_model_name": "HTMLModel",
       "_view_count": null,
       "_view_module": "@jupyter-widgets/controls",
       "_view_module_version": "2.0.0",
       "_view_name": "HTMLView",
       "description": "",
       "description_allow_html": false,
       "layout": "IPY_MODEL_966c9bb1dee04c5eb6f88a97b014b9e3",
       "placeholder": "​",
       "style": "IPY_MODEL_c6f188f9e8954042820da5885e46e88e",
       "tabbable": null,
       "tooltip": null,
       "value": " 3/3 [00:00&lt;00:00,  7.47it/s]"
      }
     },
     "7df3e02447094f399b5bdcee59b500f6": {
      "model_module": "@jupyter-widgets/controls",
      "model_module_version": "2.0.0",
      "model_name": "HTMLModel",
      "state": {
       "_dom_classes": [],
       "_model_module": "@jupyter-widgets/controls",
       "_model_module_version": "2.0.0",
       "_model_name": "HTMLModel",
       "_view_count": null,
       "_view_module": "@jupyter-widgets/controls",
       "_view_module_version": "2.0.0",
       "_view_name": "HTMLView",
       "description": "",
       "description_allow_html": false,
       "layout": "IPY_MODEL_32552260b04747caa7f0528869e4e799",
       "placeholder": "​",
       "style": "IPY_MODEL_9d96243ca64549a4860f6530787e10b9",
       "tabbable": null,
       "tooltip": null,
       "value": " 3/3 [00:00&lt;00:00,  7.21it/s]"
      }
     },
     "856610370ae0484ca180dd54d6e755ad": {
      "model_module": "@jupyter-widgets/base",
      "model_module_version": "2.0.0",
      "model_name": "LayoutModel",
      "state": {
       "_model_module": "@jupyter-widgets/base",
       "_model_module_version": "2.0.0",
       "_model_name": "LayoutModel",
       "_view_count": null,
       "_view_module": "@jupyter-widgets/base",
       "_view_module_version": "2.0.0",
       "_view_name": "LayoutView",
       "align_content": null,
       "align_items": null,
       "align_self": null,
       "border_bottom": null,
       "border_left": null,
       "border_right": null,
       "border_top": null,
       "bottom": null,
       "display": null,
       "flex": null,
       "flex_flow": null,
       "grid_area": null,
       "grid_auto_columns": null,
       "grid_auto_flow": null,
       "grid_auto_rows": null,
       "grid_column": null,
       "grid_gap": null,
       "grid_row": null,
       "grid_template_areas": null,
       "grid_template_columns": null,
       "grid_template_rows": null,
       "height": null,
       "justify_content": null,
       "justify_items": null,
       "left": null,
       "margin": null,
       "max_height": null,
       "max_width": null,
       "min_height": null,
       "min_width": null,
       "object_fit": null,
       "object_position": null,
       "order": null,
       "overflow": null,
       "padding": null,
       "right": null,
       "top": null,
       "visibility": null,
       "width": null
      }
     },
     "8d01ffb4330e4c4fab7eb0dd64063d44": {
      "model_module": "@jupyter-widgets/base",
      "model_module_version": "2.0.0",
      "model_name": "LayoutModel",
      "state": {
       "_model_module": "@jupyter-widgets/base",
       "_model_module_version": "2.0.0",
       "_model_name": "LayoutModel",
       "_view_count": null,
       "_view_module": "@jupyter-widgets/base",
       "_view_module_version": "2.0.0",
       "_view_name": "LayoutView",
       "align_content": null,
       "align_items": null,
       "align_self": null,
       "border_bottom": null,
       "border_left": null,
       "border_right": null,
       "border_top": null,
       "bottom": null,
       "display": null,
       "flex": null,
       "flex_flow": null,
       "grid_area": null,
       "grid_auto_columns": null,
       "grid_auto_flow": null,
       "grid_auto_rows": null,
       "grid_column": null,
       "grid_gap": null,
       "grid_row": null,
       "grid_template_areas": null,
       "grid_template_columns": null,
       "grid_template_rows": null,
       "height": null,
       "justify_content": null,
       "justify_items": null,
       "left": null,
       "margin": null,
       "max_height": null,
       "max_width": null,
       "min_height": null,
       "min_width": null,
       "object_fit": null,
       "object_position": null,
       "order": null,
       "overflow": null,
       "padding": null,
       "right": null,
       "top": null,
       "visibility": null,
       "width": null
      }
     },
     "8ec4d9212f71429e8ddb3e779a3eecfb": {
      "model_module": "@jupyter-widgets/controls",
      "model_module_version": "2.0.0",
      "model_name": "HTMLStyleModel",
      "state": {
       "_model_module": "@jupyter-widgets/controls",
       "_model_module_version": "2.0.0",
       "_model_name": "HTMLStyleModel",
       "_view_count": null,
       "_view_module": "@jupyter-widgets/base",
       "_view_module_version": "2.0.0",
       "_view_name": "StyleView",
       "background": null,
       "description_width": "",
       "font_size": null,
       "text_color": null
      }
     },
     "966c9bb1dee04c5eb6f88a97b014b9e3": {
      "model_module": "@jupyter-widgets/base",
      "model_module_version": "2.0.0",
      "model_name": "LayoutModel",
      "state": {
       "_model_module": "@jupyter-widgets/base",
       "_model_module_version": "2.0.0",
       "_model_name": "LayoutModel",
       "_view_count": null,
       "_view_module": "@jupyter-widgets/base",
       "_view_module_version": "2.0.0",
       "_view_name": "LayoutView",
       "align_content": null,
       "align_items": null,
       "align_self": null,
       "border_bottom": null,
       "border_left": null,
       "border_right": null,
       "border_top": null,
       "bottom": null,
       "display": null,
       "flex": null,
       "flex_flow": null,
       "grid_area": null,
       "grid_auto_columns": null,
       "grid_auto_flow": null,
       "grid_auto_rows": null,
       "grid_column": null,
       "grid_gap": null,
       "grid_row": null,
       "grid_template_areas": null,
       "grid_template_columns": null,
       "grid_template_rows": null,
       "height": null,
       "justify_content": null,
       "justify_items": null,
       "left": null,
       "margin": null,
       "max_height": null,
       "max_width": null,
       "min_height": null,
       "min_width": null,
       "object_fit": null,
       "object_position": null,
       "order": null,
       "overflow": null,
       "padding": null,
       "right": null,
       "top": null,
       "visibility": null,
       "width": null
      }
     },
     "9d96243ca64549a4860f6530787e10b9": {
      "model_module": "@jupyter-widgets/controls",
      "model_module_version": "2.0.0",
      "model_name": "HTMLStyleModel",
      "state": {
       "_model_module": "@jupyter-widgets/controls",
       "_model_module_version": "2.0.0",
       "_model_name": "HTMLStyleModel",
       "_view_count": null,
       "_view_module": "@jupyter-widgets/base",
       "_view_module_version": "2.0.0",
       "_view_name": "StyleView",
       "background": null,
       "description_width": "",
       "font_size": null,
       "text_color": null
      }
     },
     "a1d84a616292459691da5ee423164fbb": {
      "model_module": "@jupyter-widgets/controls",
      "model_module_version": "2.0.0",
      "model_name": "HTMLStyleModel",
      "state": {
       "_model_module": "@jupyter-widgets/controls",
       "_model_module_version": "2.0.0",
       "_model_name": "HTMLStyleModel",
       "_view_count": null,
       "_view_module": "@jupyter-widgets/base",
       "_view_module_version": "2.0.0",
       "_view_name": "StyleView",
       "background": null,
       "description_width": "",
       "font_size": null,
       "text_color": null
      }
     },
     "bc2270efc5e34716a7616e49aa29e315": {
      "model_module": "@jupyter-widgets/controls",
      "model_module_version": "2.0.0",
      "model_name": "HBoxModel",
      "state": {
       "_dom_classes": [],
       "_model_module": "@jupyter-widgets/controls",
       "_model_module_version": "2.0.0",
       "_model_name": "HBoxModel",
       "_view_count": null,
       "_view_module": "@jupyter-widgets/controls",
       "_view_module_version": "2.0.0",
       "_view_name": "HBoxView",
       "box_style": "",
       "children": [
        "IPY_MODEL_655df31a9c4f47d1af9983c44ce1e375",
        "IPY_MODEL_173c2cd8fdcf458a92069133a902922e",
        "IPY_MODEL_7df3e02447094f399b5bdcee59b500f6"
       ],
       "layout": "IPY_MODEL_2d191d36897342cd8594e193465dc7c4",
       "tabbable": null,
       "tooltip": null
      }
     },
     "c6f188f9e8954042820da5885e46e88e": {
      "model_module": "@jupyter-widgets/controls",
      "model_module_version": "2.0.0",
      "model_name": "HTMLStyleModel",
      "state": {
       "_model_module": "@jupyter-widgets/controls",
       "_model_module_version": "2.0.0",
       "_model_name": "HTMLStyleModel",
       "_view_count": null,
       "_view_module": "@jupyter-widgets/base",
       "_view_module_version": "2.0.0",
       "_view_name": "StyleView",
       "background": null,
       "description_width": "",
       "font_size": null,
       "text_color": null
      }
     },
     "d7a15c242a8547c2894122700c863b34": {
      "model_module": "@jupyter-widgets/controls",
      "model_module_version": "2.0.0",
      "model_name": "HBoxModel",
      "state": {
       "_dom_classes": [],
       "_model_module": "@jupyter-widgets/controls",
       "_model_module_version": "2.0.0",
       "_model_name": "HBoxModel",
       "_view_count": null,
       "_view_module": "@jupyter-widgets/controls",
       "_view_module_version": "2.0.0",
       "_view_name": "HBoxView",
       "box_style": "",
       "children": [
        "IPY_MODEL_1319e380a6294680aab6755fa73567fd",
        "IPY_MODEL_35b9e8ca631f4571a72304a55972f39e",
        "IPY_MODEL_78dd8720b2d040d4938bb83e2cb5945b"
       ],
       "layout": "IPY_MODEL_08ab286c6dd943c9abe4d6fb833a69e2",
       "tabbable": null,
       "tooltip": null
      }
     },
     "ef649777cb9043abb7bd3853c562933d": {
      "model_module": "@jupyter-widgets/base",
      "model_module_version": "2.0.0",
      "model_name": "LayoutModel",
      "state": {
       "_model_module": "@jupyter-widgets/base",
       "_model_module_version": "2.0.0",
       "_model_name": "LayoutModel",
       "_view_count": null,
       "_view_module": "@jupyter-widgets/base",
       "_view_module_version": "2.0.0",
       "_view_name": "LayoutView",
       "align_content": null,
       "align_items": null,
       "align_self": null,
       "border_bottom": null,
       "border_left": null,
       "border_right": null,
       "border_top": null,
       "bottom": null,
       "display": null,
       "flex": null,
       "flex_flow": null,
       "grid_area": null,
       "grid_auto_columns": null,
       "grid_auto_flow": null,
       "grid_auto_rows": null,
       "grid_column": null,
       "grid_gap": null,
       "grid_row": null,
       "grid_template_areas": null,
       "grid_template_columns": null,
       "grid_template_rows": null,
       "height": null,
       "justify_content": null,
       "justify_items": null,
       "left": null,
       "margin": null,
       "max_height": null,
       "max_width": null,
       "min_height": null,
       "min_width": null,
       "object_fit": null,
       "object_position": null,
       "order": null,
       "overflow": null,
       "padding": null,
       "right": null,
       "top": null,
       "visibility": null,
       "width": null
      }
     }
    },
    "version_major": 2,
    "version_minor": 0
   }
  }
 },
 "nbformat": 4,
 "nbformat_minor": 5
}