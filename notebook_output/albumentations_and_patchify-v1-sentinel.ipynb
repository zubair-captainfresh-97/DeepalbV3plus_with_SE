{
 "cells": [
  {
   "cell_type": "code",
   "execution_count": 1,
   "id": "9c70fd59",
   "metadata": {
    "execution": {
     "iopub.execute_input": "2023-03-26T15:22:44.604082Z",
     "iopub.status.busy": "2023-03-26T15:22:44.603776Z",
     "iopub.status.idle": "2023-03-26T15:22:50.837943Z",
     "shell.execute_reply": "2023-03-26T15:22:50.837018Z"
    },
    "id": "oP6OQBaOBlmu",
    "papermill": {
     "duration": 6.241012,
     "end_time": "2023-03-26T15:22:50.839922",
     "exception": false,
     "start_time": "2023-03-26T15:22:44.598910",
     "status": "completed"
    },
    "tags": []
   },
   "outputs": [],
   "source": [
    "import os\n",
    "import numpy as np\n",
    "import glob\n",
    "from skimage.io import imread,imsave\n",
    "import numpy as np\n",
    "from matplotlib import pyplot as plt\n",
    "from patchify import patchify\n",
    "import tensorflow as tf\n",
    "import random\n",
    "import tqdm\n",
    "from rasterio.plot import reshape_as_image\n",
    "import rasterio\n",
    "from tqdm.notebook import tqdm_notebook\n",
    "import yaml"
   ]
  },
  {
   "cell_type": "code",
   "execution_count": 2,
   "id": "beb602e7",
   "metadata": {
    "execution": {
     "iopub.execute_input": "2023-03-26T15:22:50.847765Z",
     "iopub.status.busy": "2023-03-26T15:22:50.847283Z",
     "iopub.status.idle": "2023-03-26T15:22:50.853531Z",
     "shell.execute_reply": "2023-03-26T15:22:50.852736Z"
    },
    "id": "71DORHQ1C-sX",
    "papermill": {
     "duration": 0.011686,
     "end_time": "2023-03-26T15:22:50.855153",
     "exception": false,
     "start_time": "2023-03-26T15:22:50.843467",
     "status": "completed"
    },
    "tags": []
   },
   "outputs": [],
   "source": [
    "params = yaml.safe_load(open(\"params.yaml\"))['tfrecords_creation']"
   ]
  },
  {
   "cell_type": "code",
   "execution_count": 3,
   "id": "6785fbed",
   "metadata": {
    "execution": {
     "iopub.execute_input": "2023-03-26T15:22:50.861945Z",
     "iopub.status.busy": "2023-03-26T15:22:50.861589Z",
     "iopub.status.idle": "2023-03-26T15:22:50.864995Z",
     "shell.execute_reply": "2023-03-26T15:22:50.864183Z"
    },
    "papermill": {
     "duration": 0.008452,
     "end_time": "2023-03-26T15:22:50.866586",
     "exception": false,
     "start_time": "2023-03-26T15:22:50.858134",
     "status": "completed"
    },
    "tags": []
   },
   "outputs": [],
   "source": [
    "image_patch = params['Image_patch_size']\n",
    "mask_patch = params['Mask_patch_size']"
   ]
  },
  {
   "cell_type": "code",
   "execution_count": 4,
   "id": "36ba4d34",
   "metadata": {
    "execution": {
     "iopub.execute_input": "2023-03-26T15:22:50.873318Z",
     "iopub.status.busy": "2023-03-26T15:22:50.873037Z",
     "iopub.status.idle": "2023-03-26T15:22:53.155070Z",
     "shell.execute_reply": "2023-03-26T15:22:53.154324Z"
    },
    "id": "bqRgi2w3BnJQ",
    "papermill": {
     "duration": 2.287467,
     "end_time": "2023-03-26T15:22:53.156947",
     "exception": false,
     "start_time": "2023-03-26T15:22:50.869480",
     "status": "completed"
    },
    "tags": []
   },
   "outputs": [
    {
     "data": {
      "application/vnd.jupyter.widget-view+json": {
       "model_id": "2133fba1660f414e9befafde2a20dbd2",
       "version_major": 2,
       "version_minor": 0
      },
      "text/plain": [
       "0it [00:00, ?it/s]"
      ]
     },
     "metadata": {},
     "output_type": "display_data"
    },
    {
     "data": {
      "application/vnd.jupyter.widget-view+json": {
       "model_id": "86dac253db8b4dfda6befdf205b5e92d",
       "version_major": 2,
       "version_minor": 0
      },
      "text/plain": [
       "0it [00:00, ?it/s]"
      ]
     },
     "metadata": {},
     "output_type": "display_data"
    },
    {
     "name": "stdout",
     "output_type": "stream",
     "text": [
      "Now patchifying image: Smaller_pond_sentinel_data_v1/Images//RS_sentinel_2A_long_79.4517_lat_10.3592_2019-02-25T05_26_45.000000000.tif\n",
      "Now patchifying image: Smaller_pond_sentinel_data_v1/Images//RS_sentinel_2A_long_79.7269014_lat_11.4555343_2021-05-30T05_15_45.000000000.tif\n",
      "Now patchifying image: Smaller_pond_sentinel_data_v1/Images//RS_sentinel_2A_long_79.768401_lat_11.427475_2021-05-30T05_15_45.000000000.tif\n",
      "Now patchifying image: Smaller_pond_sentinel_data_v1/Images//RS_sentinel_2A_long_79.7966_lat_11.3297_2021-05-30T05_15_45.000000000.tif\n"
     ]
    },
    {
     "name": "stdout",
     "output_type": "stream",
     "text": [
      "Now patchifying image: Smaller_pond_sentinel_data_v1/Images//RS_sentinel_2A_long_79.842153_lat_10.431728_2019-04-06T05_21_29.000000000.tif\n",
      "Now patchifying image: Smaller_pond_sentinel_data_v1/Images//RS_sentinel_2A_long_80.137293_lat_14.545728_2022-04-20T05_14_39.000000000.tif\n",
      "Now patchifying image: Smaller_pond_sentinel_data_v1/Images//RS_sentinel_2A_long_80.164282_lat_14.551515_2022-04-20T05_14_39.000000000.tif\n",
      "Now patchifying image: Smaller_pond_sentinel_data_v1/Images//RS_sentinel_2A_long_80.166429_lat_14.531751_2022-04-20T05_14_39.000000000.tif\n",
      "Now patchifying image: Smaller_pond_sentinel_data_v1/Images//RS_sentinel_2A_long_80.169128_lat_14.45468_2022-05-05T05_15_03.000000000.tif\n"
     ]
    },
    {
     "name": "stdout",
     "output_type": "stream",
     "text": [
      "Now patchifying image: Smaller_pond_sentinel_data_v1/Images//RS_sentinel_2A_long_80.6288_lat_15.920469_2022-04-30T05_14_22.000000000.tif\n",
      "Now patchifying image: Smaller_pond_sentinel_data_v1/Images//RS_sentinel_2A_long_80.7301948_lat_15.9193089_2022-06-14T05_14_39.000000000.tif\n",
      "Now patchifying image: Smaller_pond_sentinel_data_v1/Images//RS_sentinel_2A_long_80.762241_lat_15.904174_2022-06-14T05_14_39.000000000.tif\n",
      "Now patchifying image: Smaller_pond_sentinel_data_v1/Images//RS_sentinel_2A_long_81.002_lat_15.928_2022-08-23T05_14_41.000000000.tif\n",
      "Now patchifying image: Smaller_pond_sentinel_data_v1/Images//RS_sentinel_2A_long_81.04936_lat_16.48142_2019-11-27T05_14_11.000000000.tif\n"
     ]
    },
    {
     "name": "stdout",
     "output_type": "stream",
     "text": [
      "Now patchifying image: Smaller_pond_sentinel_data_v1/Images//RS_sentinel_2A_long_81.067_lat_15.939_2022-08-23T05_14_41.000000000.tif\n",
      "Now patchifying image: Smaller_pond_sentinel_data_v1/Images//RS_sentinel_2A_long_81.068_lat_16.038_2022-08-23T05_14_41.000000000.tif\n",
      "Now patchifying image: Smaller_pond_sentinel_data_v1/Images//RS_sentinel_2A_long_81.079_lat_15.972_2022-08-23T05_14_41.000000000.tif\n",
      "Now patchifying image: Smaller_pond_sentinel_data_v1/Images//RS_sentinel_2A_long_81.095_lat_16.059_2022-06-14T05_14_36.000000000.tif\n",
      "Now patchifying image: Smaller_pond_sentinel_data_v1/Images//RS_sentinel_2A_long_81.38037_lat_16.62149_2021-12-16T05_14_11.000000000.tif\n"
     ]
    },
    {
     "name": "stdout",
     "output_type": "stream",
     "text": [
      "Now patchifying image: Smaller_pond_sentinel_data_v1/Images//RS_sentinel_2A_long_81.45614_lat_16.46566_2019-11-27T05_14_11.000000000.tif\n",
      "Now patchifying image: Smaller_pond_sentinel_data_v1/Images//RS_sentinel_2A_long_81.73695_lat_16.38071_2021-12-16T05_14_11.000000000.tif\n",
      "Now patchifying image: Smaller_pond_sentinel_data_v1/Images//RS_sentinel_2A_long_81.99119_lat_16.49272_2022-03-01T05_14_04.000000000.tif\n",
      "Now patchifying image: Smaller_pond_sentinel_data_v1/Images//RS_sentinel_2A_long_82.028_lat_16.454_2022-07-29T05_14_12.000000000.tif\n",
      "Now patchifying image: Smaller_pond_sentinel_data_v1/Images//RS_sentinel_2A_long_82.12493_lat_16.53084_2022-03-01T05_14_04.000000000.tif\n"
     ]
    }
   ],
   "source": [
    "image_dataset = []\n",
    "img_dir='Smaller_pond_sentinel_data_v1/Images/'\n",
    "for path, subdirs, files in tqdm_notebook(os.walk(img_dir)):\n",
    "    images = sorted(os.listdir(path)) \n",
    "    for i, image_name in tqdm_notebook(enumerate(images)):  \n",
    "        if image_name.endswith(\".tif\"):\n",
    "            ds = rasterio.open(path+\"/\"+image_name)\n",
    "            image = reshape_as_image(ds.read([1,2,3]))\n",
    "            print(\"Now patchifying image:\", path+\"/\"+image_name)\n",
    "            # creating patches with no overlaps\n",
    "            patches_img = patchify(image, (image_patch), step=image_patch[0])  #Step=256 for 256 patches means no overlap\n",
    "            for i in range(patches_img.shape[0]):\n",
    "                for j in range(patches_img.shape[1]):\n",
    "                    \n",
    "                    single_patch_img = patches_img[i,j,:,:]\n",
    "                    single_patch_img = single_patch_img[0] #Drop the extra unecessary dimension that patchify adds.\n",
    "                    image_dataset.append(single_patch_img)\n",
    "images = np.array(image_dataset)"
   ]
  },
  {
   "cell_type": "code",
   "execution_count": 5,
   "id": "45a5e40e",
   "metadata": {
    "execution": {
     "iopub.execute_input": "2023-03-26T15:22:53.165588Z",
     "iopub.status.busy": "2023-03-26T15:22:53.165324Z",
     "iopub.status.idle": "2023-03-26T15:22:55.050952Z",
     "shell.execute_reply": "2023-03-26T15:22:55.050103Z"
    },
    "papermill": {
     "duration": 1.891452,
     "end_time": "2023-03-26T15:22:55.052544",
     "exception": false,
     "start_time": "2023-03-26T15:22:53.161092",
     "status": "completed"
    },
    "tags": []
   },
   "outputs": [
    {
     "data": {
      "application/vnd.jupyter.widget-view+json": {
       "model_id": "42597ed3dfb940029b2fa4aa87f8bf32",
       "version_major": 2,
       "version_minor": 0
      },
      "text/plain": [
       "0it [00:00, ?it/s]"
      ]
     },
     "metadata": {},
     "output_type": "display_data"
    },
    {
     "data": {
      "application/vnd.jupyter.widget-view+json": {
       "model_id": "41c75434ee3b4e938d75a80d86ac33c2",
       "version_major": 2,
       "version_minor": 0
      },
      "text/plain": [
       "0it [00:00, ?it/s]"
      ]
     },
     "metadata": {},
     "output_type": "display_data"
    },
    {
     "name": "stdout",
     "output_type": "stream",
     "text": [
      "Now patchifying mask: Smaller_pond_sentinel_data_v1/Masks//RS_sentinel_2A_long_79.4517_lat_10.3592_2019-02-25T05_26_45.000000000_gt.tif\n"
     ]
    },
    {
     "name": "stdout",
     "output_type": "stream",
     "text": [
      "Now patchifying mask: Smaller_pond_sentinel_data_v1/Masks//RS_sentinel_2A_long_79.7269014_lat_11.4555343_2021-05-30T05_15_45.000000000_gt.tif\n",
      "Now patchifying mask: Smaller_pond_sentinel_data_v1/Masks//RS_sentinel_2A_long_79.768401_lat_11.427475_2021-05-30T05_15_45.000000000_gt.tif\n"
     ]
    },
    {
     "name": "stdout",
     "output_type": "stream",
     "text": [
      "Now patchifying mask: Smaller_pond_sentinel_data_v1/Masks//RS_sentinel_2A_long_79.7966_lat_11.3297_2021-05-30T05_15_45.000000000_gt.tif\n",
      "Now patchifying mask: Smaller_pond_sentinel_data_v1/Masks//RS_sentinel_2A_long_79.842153_lat_10.431728_2019-04-06T05_21_29.000000000_gt.tif\n",
      "Now patchifying mask: Smaller_pond_sentinel_data_v1/Masks//RS_sentinel_2A_long_80.137293_lat_14.545728_2022-04-20T05_14_39.000000000_gt.tif\n",
      "Now patchifying mask: Smaller_pond_sentinel_data_v1/Masks//RS_sentinel_2A_long_80.164282_lat_14.551515_2022-04-20T05_14_39.000000000_gt.tif\n",
      "Now patchifying mask: Smaller_pond_sentinel_data_v1/Masks//RS_sentinel_2A_long_80.166429_lat_14.531751_2022-04-20T05_14_39.000000000_gt.tif\n",
      "Now patchifying mask: Smaller_pond_sentinel_data_v1/Masks//RS_sentinel_2A_long_80.169128_lat_14.45468_2022-05-05T05_15_03.000000000_gt.tif\n",
      "Now patchifying mask: Smaller_pond_sentinel_data_v1/Masks//RS_sentinel_2A_long_80.6288_lat_15.920469_2022-04-30T05_14_22.000000000_gt.tif\n"
     ]
    },
    {
     "name": "stdout",
     "output_type": "stream",
     "text": [
      "Now patchifying mask: Smaller_pond_sentinel_data_v1/Masks//RS_sentinel_2A_long_80.7301948_lat_15.9193089_2022-06-14T05_14_39.000000000_gt.tif\n",
      "Now patchifying mask: Smaller_pond_sentinel_data_v1/Masks//RS_sentinel_2A_long_80.762241_lat_15.904174_2022-06-14T05_14_39.000000000_gt.tif\n",
      "Now patchifying mask: Smaller_pond_sentinel_data_v1/Masks//RS_sentinel_2A_long_81.002_lat_15.928_2022-08-23T05_14_41.000000000_gt.tif\n"
     ]
    },
    {
     "name": "stdout",
     "output_type": "stream",
     "text": [
      "Now patchifying mask: Smaller_pond_sentinel_data_v1/Masks//RS_sentinel_2A_long_81.04936_lat_16.48142_2019-11-27T05_14_11.000000000_gt.tif\n",
      "Now patchifying mask: Smaller_pond_sentinel_data_v1/Masks//RS_sentinel_2A_long_81.067_lat_15.939_2022-08-23T05_14_41.000000000_gt.tif\n",
      "Now patchifying mask: Smaller_pond_sentinel_data_v1/Masks//RS_sentinel_2A_long_81.068_lat_16.038_2022-08-23T05_14_41.000000000_gt.tif\n",
      "Now patchifying mask: Smaller_pond_sentinel_data_v1/Masks//RS_sentinel_2A_long_81.079_lat_15.972_2022-08-23T05_14_41.000000000_gt.tif\n",
      "Now patchifying mask: Smaller_pond_sentinel_data_v1/Masks//RS_sentinel_2A_long_81.095_lat_16.059_2022-06-14T05_14_36.000000000_gt.tif\n",
      "Now patchifying mask: Smaller_pond_sentinel_data_v1/Masks//RS_sentinel_2A_long_81.38037_lat_16.62149_2021-12-16T05_14_11.000000000_gt.tif\n",
      "Now patchifying mask: Smaller_pond_sentinel_data_v1/Masks//RS_sentinel_2A_long_81.45614_lat_16.46566_2019-11-27T05_14_11.000000000_gt.tif\n",
      "Now patchifying mask: Smaller_pond_sentinel_data_v1/Masks//RS_sentinel_2A_long_81.73695_lat_16.38071_2021-12-16T05_14_11.000000000_gt.tif\n"
     ]
    },
    {
     "name": "stdout",
     "output_type": "stream",
     "text": [
      "Now patchifying mask: Smaller_pond_sentinel_data_v1/Masks//RS_sentinel_2A_long_81.99119_lat_16.49272_2022-03-01T05_14_04.000000000_gt.tif\n",
      "Now patchifying mask: Smaller_pond_sentinel_data_v1/Masks//RS_sentinel_2A_long_82.028_lat_16.454_2022-07-29T05_14_12.000000000_gt.tif\n",
      "Now patchifying mask: Smaller_pond_sentinel_data_v1/Masks//RS_sentinel_2A_long_82.12493_lat_16.53084_2022-03-01T05_14_04.000000000_gt.tif\n"
     ]
    }
   ],
   "source": [
    "mask_dataset = []\n",
    "mask_dir = 'Smaller_pond_sentinel_data_v1/Masks/'\n",
    "for path, subdirs, files in tqdm_notebook(os.walk(mask_dir)):\n",
    "    masks = sorted(os.listdir(path))  #List of all image names in this subdirectory\n",
    "    for i, mask_name in tqdm_notebook(enumerate(masks)):  \n",
    "        if mask_name.endswith(\".tif\"):           \n",
    "            mask = imread(path+\"/\"+mask_name,0)\n",
    "            print(\"Now patchifying mask:\", path+\"/\"+mask_name)\n",
    "            # creating patches with no overlaps\n",
    "            patches_mask = patchify(mask, (mask_patch), step=mask_patch[0])  #Step=256 for 256 patches means no overlap\n",
    "            for i in range(patches_mask.shape[0]):\n",
    "                for j in range(patches_mask.shape[1]):\n",
    "                    \n",
    "                    single_patch_mask = patches_mask[i,j,:,:]\n",
    "                    mask_dataset.append(single_patch_mask)\n",
    "masks = np.array(mask_dataset)"
   ]
  },
  {
   "cell_type": "code",
   "execution_count": 6,
   "id": "dfdc1086",
   "metadata": {
    "execution": {
     "iopub.execute_input": "2023-03-26T15:22:55.063427Z",
     "iopub.status.busy": "2023-03-26T15:22:55.063143Z",
     "iopub.status.idle": "2023-03-26T15:22:55.068063Z",
     "shell.execute_reply": "2023-03-26T15:22:55.067275Z"
    },
    "id": "0RJ1SEc9_KLP",
    "papermill": {
     "duration": 0.012435,
     "end_time": "2023-03-26T15:22:55.069603",
     "exception": false,
     "start_time": "2023-03-26T15:22:55.057168",
     "status": "completed"
    },
    "tags": []
   },
   "outputs": [
    {
     "data": {
      "text/plain": [
       "(1176, 256, 256)"
      ]
     },
     "execution_count": 6,
     "metadata": {},
     "output_type": "execute_result"
    }
   ],
   "source": [
    "masks.shape"
   ]
  },
  {
   "cell_type": "code",
   "execution_count": 7,
   "id": "b4e78d97",
   "metadata": {
    "execution": {
     "iopub.execute_input": "2023-03-26T15:22:55.078782Z",
     "iopub.status.busy": "2023-03-26T15:22:55.078507Z",
     "iopub.status.idle": "2023-03-26T15:22:55.083046Z",
     "shell.execute_reply": "2023-03-26T15:22:55.082251Z"
    },
    "papermill": {
     "duration": 0.010878,
     "end_time": "2023-03-26T15:22:55.084606",
     "exception": false,
     "start_time": "2023-03-26T15:22:55.073728",
     "status": "completed"
    },
    "tags": []
   },
   "outputs": [
    {
     "data": {
      "text/plain": [
       "(1176, 256, 256, 3)"
      ]
     },
     "execution_count": 7,
     "metadata": {},
     "output_type": "execute_result"
    }
   ],
   "source": [
    "images.shape"
   ]
  },
  {
   "cell_type": "code",
   "execution_count": 8,
   "id": "8434b633",
   "metadata": {
    "execution": {
     "iopub.execute_input": "2023-03-26T15:22:55.119229Z",
     "iopub.status.busy": "2023-03-26T15:22:55.118941Z",
     "iopub.status.idle": "2023-03-26T15:22:56.230522Z",
     "shell.execute_reply": "2023-03-26T15:22:56.229593Z"
    },
    "id": "mQFlG-Pk-qy7",
    "papermill": {
     "duration": 1.118514,
     "end_time": "2023-03-26T15:22:56.232451",
     "exception": false,
     "start_time": "2023-03-26T15:22:55.113937",
     "status": "completed"
    },
    "tags": []
   },
   "outputs": [],
   "source": [
    "import albumentations as A"
   ]
  },
  {
   "cell_type": "code",
   "execution_count": 9,
   "id": "e6edf3bb",
   "metadata": {
    "execution": {
     "iopub.execute_input": "2023-03-26T15:22:56.242660Z",
     "iopub.status.busy": "2023-03-26T15:22:56.242374Z",
     "iopub.status.idle": "2023-03-26T15:23:07.183719Z",
     "shell.execute_reply": "2023-03-26T15:23:07.182968Z"
    },
    "papermill": {
     "duration": 10.948468,
     "end_time": "2023-03-26T15:23:07.185667",
     "exception": false,
     "start_time": "2023-03-26T15:22:56.237199",
     "status": "completed"
    },
    "tags": []
   },
   "outputs": [],
   "source": [
    "i=1   # variable to iterate till images_to_generate\n",
    "img = []\n",
    "mask1 = []\n",
    "number_of_transformation = 5\n",
    "while i<=(images.shape[0]): \n",
    "    number = random.randint(0, images.shape[0]-1)  #PIck a number to select an image & mask\n",
    "    image = images[number]\n",
    "    mask = masks[number]\n",
    "    aug = A.Compose([A.RandomCrop(128,128,p=1),A.Resize(256,256)])\n",
    "    augmented = aug(image=image, mask=mask)\n",
    "    x1 = augmented[\"image\"]\n",
    "    y1 = augmented[\"mask\"]\n",
    "\n",
    "    aug = A.RandomRotate90(p=1.0)\n",
    "    augmented = aug(image=image, mask=mask)\n",
    "    x2 = augmented['image']\n",
    "    y2 = augmented['mask']\n",
    "\n",
    "    aug = A.GridDistortion(p=1.0)\n",
    "    augmented = aug(image=image, mask=mask)\n",
    "    x3 = augmented['image']\n",
    "    y3 = augmented['mask']\n",
    "\n",
    "    aug = A.HorizontalFlip(p=1.0)\n",
    "    augmented = aug(image=image, mask=mask)\n",
    "    x4 = augmented['image']\n",
    "    y4 = augmented['mask']\n",
    "\n",
    "    aug = A.VerticalFlip(p=1.0)\n",
    "    augmented = aug(image=image, mask=mask)\n",
    "    x5 = augmented['image']\n",
    "    y5 = augmented['mask']\n",
    "    img.append([x1,x2,x3,x4,x5])\n",
    "    mask1.append([y1,y2,y3,y4,y5])\n",
    "    i =i+1\n",
    "\n",
    "newimages = np.array(img)\n",
    "newmasks = np.array(mask1)"
   ]
  },
  {
   "cell_type": "code",
   "execution_count": 10,
   "id": "8bc6b848",
   "metadata": {
    "execution": {
     "iopub.execute_input": "2023-03-26T15:23:07.196019Z",
     "iopub.status.busy": "2023-03-26T15:23:07.195745Z",
     "iopub.status.idle": "2023-03-26T15:23:07.199558Z",
     "shell.execute_reply": "2023-03-26T15:23:07.198922Z"
    },
    "papermill": {
     "duration": 0.010406,
     "end_time": "2023-03-26T15:23:07.201034",
     "exception": false,
     "start_time": "2023-03-26T15:23:07.190628",
     "status": "completed"
    },
    "tags": []
   },
   "outputs": [],
   "source": [
    "newimages =newimages.reshape((newimages.shape[1]*newimages.shape[0]),newimages.shape[2],newimages.shape[3],newimages.shape[4])\n",
    "newmasks =newmasks.reshape((newmasks.shape[1]*newmasks.shape[0]),newmasks.shape[2],newmasks.shape[3])"
   ]
  },
  {
   "cell_type": "code",
   "execution_count": 11,
   "id": "99205284",
   "metadata": {
    "execution": {
     "iopub.execute_input": "2023-03-26T15:23:07.211134Z",
     "iopub.status.busy": "2023-03-26T15:23:07.210869Z",
     "iopub.status.idle": "2023-03-26T15:23:10.495700Z",
     "shell.execute_reply": "2023-03-26T15:23:10.494929Z"
    },
    "papermill": {
     "duration": 3.292204,
     "end_time": "2023-03-26T15:23:10.497703",
     "exception": false,
     "start_time": "2023-03-26T15:23:07.205499",
     "status": "completed"
    },
    "tags": []
   },
   "outputs": [],
   "source": [
    "finalimages = np.concatenate([newimages,images])\n",
    "finalmasks = np.concatenate([newmasks,masks])"
   ]
  },
  {
   "cell_type": "code",
   "execution_count": 12,
   "id": "93171bf1",
   "metadata": {
    "execution": {
     "iopub.execute_input": "2023-03-26T15:23:10.508221Z",
     "iopub.status.busy": "2023-03-26T15:23:10.507946Z",
     "iopub.status.idle": "2023-03-26T15:23:10.512718Z",
     "shell.execute_reply": "2023-03-26T15:23:10.512045Z"
    },
    "papermill": {
     "duration": 0.011568,
     "end_time": "2023-03-26T15:23:10.514257",
     "exception": false,
     "start_time": "2023-03-26T15:23:10.502689",
     "status": "completed"
    },
    "tags": []
   },
   "outputs": [
    {
     "data": {
      "text/plain": [
       "(7056, 256, 256, 3)"
      ]
     },
     "execution_count": 12,
     "metadata": {},
     "output_type": "execute_result"
    }
   ],
   "source": [
    "finalimages.shape"
   ]
  },
  {
   "cell_type": "code",
   "execution_count": 13,
   "id": "178ca782",
   "metadata": {
    "execution": {
     "iopub.execute_input": "2023-03-26T15:23:10.524326Z",
     "iopub.status.busy": "2023-03-26T15:23:10.524062Z",
     "iopub.status.idle": "2023-03-26T15:23:10.528032Z",
     "shell.execute_reply": "2023-03-26T15:23:10.527404Z"
    },
    "papermill": {
     "duration": 0.010664,
     "end_time": "2023-03-26T15:23:10.529546",
     "exception": false,
     "start_time": "2023-03-26T15:23:10.518882",
     "status": "completed"
    },
    "tags": []
   },
   "outputs": [
    {
     "data": {
      "text/plain": [
       "(7056, 256, 256)"
      ]
     },
     "execution_count": 13,
     "metadata": {},
     "output_type": "execute_result"
    }
   ],
   "source": [
    "finalmasks.shape"
   ]
  },
  {
   "cell_type": "code",
   "execution_count": 14,
   "id": "41c9017b",
   "metadata": {
    "execution": {
     "iopub.execute_input": "2023-03-26T15:23:10.539953Z",
     "iopub.status.busy": "2023-03-26T15:23:10.539689Z",
     "iopub.status.idle": "2023-03-26T15:23:10.885144Z",
     "shell.execute_reply": "2023-03-26T15:23:10.884435Z"
    },
    "papermill": {
     "duration": 0.352435,
     "end_time": "2023-03-26T15:23:10.886776",
     "exception": false,
     "start_time": "2023-03-26T15:23:10.534341",
     "status": "completed"
    },
    "tags": []
   },
   "outputs": [
    {
     "data": {
      "image/png": "[encoded data removed]",
      "text/plain": [
       "<Figure size 720x720 with 2 Axes>"
      ]
     },
     "metadata": {
      "needs_background": "light"
     },
     "output_type": "display_data"
    }
   ],
   "source": [
    "import random\n",
    "img_number = random.randint(0, newimages.shape[0]-1)\n",
    "img = newimages[img_number]\n",
    "mask = newmasks[img_number]\n",
    "plt.figure(figsize=(10, 10))\n",
    "plt.subplot(2,2,1)\n",
    "plt.title('Image',size = 25)\n",
    "plt.imshow(img[:,:,0:3])\n",
    "plt.subplot(2,2,2)\n",
    "plt.title('Mask',size = 25)\n",
    "plt.imshow(mask)\n",
    "plt.show()"
   ]
  },
  {
   "cell_type": "code",
   "execution_count": 15,
   "id": "01c6fce5",
   "metadata": {
    "execution": {
     "iopub.execute_input": "2023-03-26T15:23:10.898725Z",
     "iopub.status.busy": "2023-03-26T15:23:10.898454Z",
     "iopub.status.idle": "2023-03-26T15:23:10.902427Z",
     "shell.execute_reply": "2023-03-26T15:23:10.901779Z"
    },
    "papermill": {
     "duration": 0.011477,
     "end_time": "2023-03-26T15:23:10.903926",
     "exception": false,
     "start_time": "2023-03-26T15:23:10.892449",
     "status": "completed"
    },
    "tags": []
   },
   "outputs": [],
   "source": [
    "def image_example(image_string,mask):\n",
    "  feature = {\n",
    "      \"image\":tf.train.Feature(float_list=tf.train.FloatList(value=image_string.flatten())),\n",
    "      \"mask\":tf.train.Feature(float_list=tf.train.FloatList(value=mask.flatten()))\n",
    "            }\n",
    "\n",
    "  return tf.train.Example(features=tf.train.Features(feature=feature))"
   ]
  },
  {
   "cell_type": "code",
   "execution_count": 16,
   "id": "41ebf6c4",
   "metadata": {
    "execution": {
     "iopub.execute_input": "2023-03-26T15:23:10.915241Z",
     "iopub.status.busy": "2023-03-26T15:23:10.914976Z",
     "iopub.status.idle": "2023-03-26T15:23:10.920947Z",
     "shell.execute_reply": "2023-03-26T15:23:10.920330Z"
    },
    "id": "NIFfYF1CC67K",
    "papermill": {
     "duration": 0.013415,
     "end_time": "2023-03-26T15:23:10.922511",
     "exception": false,
     "start_time": "2023-03-26T15:23:10.909096",
     "status": "completed"
    },
    "tags": []
   },
   "outputs": [],
   "source": [
    "def write_images_to_tfr_long(images,mask, filename:str=\"large_images\", max_files:int=10, out_dir:str=\"/content/\"):\n",
    "\n",
    "  #determine the number of shards (single TFRecord files) we need:\n",
    "  splits = (len(images)//max_files) + 1 #determine how many tfr shards are needed\n",
    "  if len(images)%max_files == 0:\n",
    "    splits-=1\n",
    "  print(f\"\\nUsing {splits} shard(s) for {len(images)} files, with up to {max_files} samples per shard\")\n",
    "\n",
    "  file_count = 0\n",
    "\n",
    "  for i in tqdm_notebook(range(splits)):\n",
    "    current_shard_name = \"{}{}_{}{}.tfrecords\".format(out_dir, i+1, splits, filename)\n",
    "    writer = tf.io.TFRecordWriter(current_shard_name)\n",
    "\n",
    "    current_shard_count = 0\n",
    "    while current_shard_count < max_files: #as long as our shard is not full\n",
    "      #get the index of the file that we want to parse now\n",
    "      index = i*max_files+current_shard_count\n",
    "      if index == len(images): #when we have consumed the whole data, preempt generation\n",
    "        break\n",
    "      \n",
    "      current_image = images[index]\n",
    "      current_mask = mask[index]\n",
    "\n",
    "      #create the required Example representation\n",
    "      tf_example = image_example(image_string=current_image,mask=current_mask)\n",
    "    \n",
    "      writer.write(tf_example.SerializeToString())\n",
    "      current_shard_count+=1\n",
    "      file_count += 1\n",
    "\n",
    "    writer.close()\n",
    "  print(f\"\\nWrote {file_count} elements to TFRecord\")\n",
    "  return file_count"
   ]
  },
  {
   "cell_type": "code",
   "execution_count": 17,
   "id": "d3641b99",
   "metadata": {
    "execution": {
     "iopub.execute_input": "2023-03-26T15:23:10.933892Z",
     "iopub.status.busy": "2023-03-26T15:23:10.933598Z",
     "iopub.status.idle": "2023-03-26T15:23:10.936652Z",
     "shell.execute_reply": "2023-03-26T15:23:10.936013Z"
    },
    "id": "lxb0suqcC-5t",
    "papermill": {
     "duration": 0.010424,
     "end_time": "2023-03-26T15:23:10.938197",
     "exception": false,
     "start_time": "2023-03-26T15:23:10.927773",
     "status": "completed"
    },
    "tags": []
   },
   "outputs": [],
   "source": [
    "filename = 'tfrecords/'\n",
    "os.makedirs(filename, exist_ok=True)"
   ]
  },
  {
   "cell_type": "code",
   "execution_count": 18,
   "id": "27ba292c",
   "metadata": {
    "colab": {
     "base_uri": "https://localhost:8080/"
    },
    "execution": {
     "iopub.execute_input": "2023-03-26T15:23:10.949573Z",
     "iopub.status.busy": "2023-03-26T15:23:10.949307Z",
     "iopub.status.idle": "2023-03-26T15:28:59.671671Z",
     "shell.execute_reply": "2023-03-26T15:28:59.670976Z"
    },
    "id": "hwSK3dBlDCkh",
    "outputId": "849cfbf3-e021-46bc-d8e2-3ce08261ca00",
    "papermill": {
     "duration": 348.729835,
     "end_time": "2023-03-26T15:28:59.673251",
     "exception": false,
     "start_time": "2023-03-26T15:23:10.943416",
     "status": "completed"
    },
    "tags": []
   },
   "outputs": [
    {
     "name": "stdout",
     "output_type": "stream",
     "text": [
      "\n",
      "Using 15 shard(s) for 7056 files, with up to 500 samples per shard\n"
     ]
    },
    {
     "data": {
      "application/vnd.jupyter.widget-view+json": {
       "model_id": "dd084c1a906842fd92a4fdf1ef005b1e",
       "version_major": 2,
       "version_minor": 0
      },
      "text/plain": [
       "  0%|          | 0/15 [00:00<?, ?it/s]"
      ]
     },
     "metadata": {},
     "output_type": "display_data"
    },
    {
     "name": "stdout",
     "output_type": "stream",
     "text": [
      "\n",
      "Wrote 7056 elements to TFRecord\n"
     ]
    },
    {
     "data": {
      "text/plain": [
       "7056"
      ]
     },
     "execution_count": 18,
     "metadata": {},
     "output_type": "execute_result"
    }
   ],
   "source": [
    "write_images_to_tfr_long(images = finalimages,mask =finalmasks, max_files=500,out_dir=filename)"
   ]
  }
 ],
 "metadata": {
  "colab": {
   "provenance": []
  },
  "kernelspec": {
   "display_name": "Python 3.9.15 ('tensor')",
   "language": "python",
   "name": "python3"
  },
  "language_info": {
   "codemirror_mode": {
    "name": "ipython",
    "version": 3
   },
   "file_extension": ".py",
   "mimetype": "text/x-python",
   "name": "python",
   "nbconvert_exporter": "python",
   "pygments_lexer": "ipython3",
   "version": "3.9.15"
  },
  "papermill": {
   "default_parameters": {},
   "duration": 377.863678,
   "end_time": "2023-03-26T15:29:01.190987",
   "environment_variables": {},
   "exception": null,
   "input_path": "notebooks/albumentations_and_patchify-v1-sentinel.ipynb",
   "output_path": "notebook_output/albumentations_and_patchify-v1-sentinel.ipynb",
   "parameters": {},
   "start_time": "2023-03-26T15:22:43.327309",
   "version": "2.4.0"
  },
  "vscode": {
   "interpreter": {
    "hash": "a7e3d68acf3053187c5b77579300c0651533903882d6ac7cf345b8b37dbd4fd7"
   }
  },
  "widgets": {
   "application/vnd.jupyter.widget-state+json": {
    "state": {
     "02a8a931c3b642d3ae32926778dd8843": {
      "model_module": "@jupyter-widgets/base",
      "model_module_version": "2.0.0",
      "model_name": "LayoutModel",
      "state": {
       "_model_module": "@jupyter-widgets/base",
       "_model_module_version": "2.0.0",
       "_model_name": "LayoutModel",
       "_view_count": null,
       "_view_module": "@jupyter-widgets/base",
       "_view_module_version": "2.0.0",
       "_view_name": "LayoutView",
       "align_content": null,
       "align_items": null,
       "align_self": null,
       "border_bottom": null,
       "border_left": null,
       "border_right": null,
       "border_top": null,
       "bottom": null,
       "display": null,
       "flex": null,
       "flex_flow": null,
       "grid_area": null,
       "grid_auto_columns": null,
       "grid_auto_flow": null,
       "grid_auto_rows": null,
       "grid_column": null,
       "grid_gap": null,
       "grid_row": null,
       "grid_template_areas": null,
       "grid_template_columns": null,
       "grid_template_rows": null,
       "height": null,
       "justify_content": null,
       "justify_items": null,
       "left": null,
       "margin": null,
       "max_height": null,
       "max_width": null,
       "min_height": null,
       "min_width": null,
       "object_fit": null,
       "object_position": null,
       "order": null,
       "overflow": null,
       "padding": null,
       "right": null,
       "top": null,
       "visibility": null,
       "width": null
      }
     },
     "02e0f8a6350745cb9974ef8db2dd2d18": {
      "model_module": "@jupyter-widgets/controls",
      "model_module_version": "2.0.0",
      "model_name": "HTMLStyleModel",
      "state": {
       "_model_module": "@jupyter-widgets/controls",
       "_model_module_version": "2.0.0",
       "_model_name": "HTMLStyleModel",
       "_view_count": null,
       "_view_module": "@jupyter-widgets/base",
       "_view_module_version": "2.0.0",
       "_view_name": "StyleView",
       "background": null,
       "description_width": "",
       "font_size": null,
       "text_color": null
      }
     },
     "10cc32f013794fc5a5b243dc984aed52": {
      "model_module": "@jupyter-widgets/controls",
      "model_module_version": "2.0.0",
      "model_name": "HTMLStyleModel",
      "state": {
       "_model_module": "@jupyter-widgets/controls",
       "_model_module_version": "2.0.0",
       "_model_name": "HTMLStyleModel",
       "_view_count": null,
       "_view_module": "@jupyter-widgets/base",
       "_view_module_version": "2.0.0",
       "_view_name": "StyleView",
       "background": null,
       "description_width": "",
       "font_size": null,
       "text_color": null
      }
     },
     "116cd81e4871488f85e28df938a12c89": {
      "model_module": "@jupyter-widgets/controls",
      "model_module_version": "2.0.0",
      "model_name": "HTMLStyleModel",
      "state": {
       "_model_module": "@jupyter-widgets/controls",
       "_model_module_version": "2.0.0",
       "_model_name": "HTMLStyleModel",
       "_view_count": null,
       "_view_module": "@jupyter-widgets/base",
       "_view_module_version": "2.0.0",
       "_view_name": "StyleView",
       "background": null,
       "description_width": "",
       "font_size": null,
       "text_color": null
      }
     },
     "133807e623964f698c620b4b6a28f75f": {
      "model_module": "@jupyter-widgets/base",
      "model_module_version": "2.0.0",
      "model_name": "LayoutModel",
      "state": {
       "_model_module": "@jupyter-widgets/base",
       "_model_module_version": "2.0.0",
       "_model_name": "LayoutModel",
       "_view_count": null,
       "_view_module": "@jupyter-widgets/base",
       "_view_module_version": "2.0.0",
       "_view_name": "LayoutView",
       "align_content": null,
       "align_items": null,
       "align_self": null,
       "border_bottom": null,
       "border_left": null,
       "border_right": null,
       "border_top": null,
       "bottom": null,
       "display": null,
       "flex": null,
       "flex_flow": null,
       "grid_area": null,
       "grid_auto_columns": null,
       "grid_auto_flow": null,
       "grid_auto_rows": null,
       "grid_column": null,
       "grid_gap": null,
       "grid_row": null,
       "grid_template_areas": null,
       "grid_template_columns": null,
       "grid_template_rows": null,
       "height": null,
       "justify_content": null,
       "justify_items": null,
       "left": null,
       "margin": null,
       "max_height": null,
       "max_width": null,
       "min_height": null,
       "min_width": null,
       "object_fit": null,
       "object_position": null,
       "order": null,
       "overflow": null,
       "padding": null,
       "right": null,
       "top": null,
       "visibility": null,
       "width": "20px"
      }
     },
     "1733be570e484c238caefcd32acbf8ed": {
      "model_module": "@jupyter-widgets/controls",
      "model_module_version": "2.0.0",
      "model_name": "HTMLStyleModel",
      "state": {
       "_model_module": "@jupyter-widgets/controls",
       "_model_module_version": "2.0.0",
       "_model_name": "HTMLStyleModel",
       "_view_count": null,
       "_view_module": "@jupyter-widgets/base",
       "_view_module_version": "2.0.0",
       "_view_name": "StyleView",
       "background": null,
       "description_width": "",
       "font_size": null,
       "text_color": null
      }
     },
     "17f13c9f86614ca7a16d3453435332bb": {
      "model_module": "@jupyter-widgets/controls",
      "model_module_version": "2.0.0",
      "model_name": "HTMLModel",
      "state": {
       "_dom_classes": [],
       "_model_module": "@jupyter-widgets/controls",
       "_model_module_version": "2.0.0",
       "_model_name": "HTMLModel",
       "_view_count": null,
       "_view_module": "@jupyter-widgets/controls",
       "_view_module_version": "2.0.0",
       "_view_name": "HTMLView",
       "description": "",
       "description_allow_html": false,
       "layout": "IPY_MODEL_8538e8cdcd6f4b4d936cadf310f4934b",
       "placeholder": "​",
       "style": "IPY_MODEL_dcb2df484ab74c999c3f8e8ed5e965b8",
       "tabbable": null,
       "tooltip": null,
       "value": " 1/? [00:01&lt;00:00,  1.41s/it]"
      }
     },
     "2133fba1660f414e9befafde2a20dbd2": {
      "model_module": "@jupyter-widgets/controls",
      "model_module_version": "2.0.0",
      "model_name": "HBoxModel",
      "state": {
       "_dom_classes": [],
       "_model_module": "@jupyter-widgets/controls",
       "_model_module_version": "2.0.0",
       "_model_name": "HBoxModel",
       "_view_count": null,
       "_view_module": "@jupyter-widgets/controls",
       "_view_module_version": "2.0.0",
       "_view_name": "HBoxView",
       "box_style": "",
       "children": [
        "IPY_MODEL_4fabf73505d443d287fa9f5896ef71e9",
        "IPY_MODEL_d9c590c2f3864923b8b3175c8dbbac38",
        "IPY_MODEL_17f13c9f86614ca7a16d3453435332bb"
       ],
       "layout": "IPY_MODEL_b8d210ddacc544aabf272e06038e3491",
       "tabbable": null,
       "tooltip": null
      }
     },
     "22efbcc627af4e43a81d925c406e0566": {
      "model_module": "@jupyter-widgets/controls",
      "model_module_version": "2.0.0",
      "model_name": "HTMLStyleModel",
      "state": {
       "_model_module": "@jupyter-widgets/controls",
       "_model_module_version": "2.0.0",
       "_model_name": "HTMLStyleModel",
       "_view_count": null,
       "_view_module": "@jupyter-widgets/base",
       "_view_module_version": "2.0.0",
       "_view_name": "StyleView",
       "background": null,
       "description_width": "",
       "font_size": null,
       "text_color": null
      }
     },
     "2354fb0812e44200b5cfbb8817fc9a82": {
      "model_module": "@jupyter-widgets/controls",
      "model_module_version": "2.0.0",
      "model_name": "HTMLModel",
      "state": {
       "_dom_classes": [],
       "_model_module": "@jupyter-widgets/controls",
       "_model_module_version": "2.0.0",
       "_model_name": "HTMLModel",
       "_view_count": null,
       "_view_module": "@jupyter-widgets/controls",
       "_view_module_version": "2.0.0",
       "_view_name": "HTMLView",
       "description": "",
       "description_allow_html": false,
       "layout": "IPY_MODEL_4cc7678d921b4f369bd454e229eaece8",
       "placeholder": "​",
       "style": "IPY_MODEL_284fd348e9c74638bf1adfb74818b1d5",
       "tabbable": null,
       "tooltip": null,
       "value": " 24/? [00:01&lt;00:00, 19.57it/s]"
      }
     },
     "260af809e9364fe3abe207c611704e7e": {
      "model_module": "@jupyter-widgets/controls",
      "model_module_version": "2.0.0",
      "model_name": "HTMLModel",
      "state": {
       "_dom_classes": [],
       "_model_module": "@jupyter-widgets/controls",
       "_model_module_version": "2.0.0",
       "_model_name": "HTMLModel",
       "_view_count": null,
       "_view_module": "@jupyter-widgets/controls",
       "_view_module_version": "2.0.0",
       "_view_name": "HTMLView",
       "description": "",
       "description_allow_html": false,
       "layout": "IPY_MODEL_f2bb65952274429e929cb0f455440f7f",
       "placeholder": "​",
       "style": "IPY_MODEL_116cd81e4871488f85e28df938a12c89",
       "tabbable": null,
       "tooltip": null,
       "value": "100%"
      }
     },
     "284fd348e9c74638bf1adfb74818b1d5": {
      "model_module": "@jupyter-widgets/controls",
      "model_module_version": "2.0.0",
      "model_name": "HTMLStyleModel",
      "state": {
       "_model_module": "@jupyter-widgets/controls",
       "_model_module_version": "2.0.0",
       "_model_name": "HTMLStyleModel",
       "_view_count": null,
       "_view_module": "@jupyter-widgets/base",
       "_view_module_version": "2.0.0",
       "_view_name": "StyleView",
       "background": null,
       "description_width": "",
       "font_size": null,
       "text_color": null
      }
     },
     "2d46b56d62aa4e6f8c714e6af7a6d376": {
      "model_module": "@jupyter-widgets/base",
      "model_module_version": "2.0.0",
      "model_name": "LayoutModel",
      "state": {
       "_model_module": "@jupyter-widgets/base",
       "_model_module_version": "2.0.0",
       "_model_name": "LayoutModel",
       "_view_count": null,
       "_view_module": "@jupyter-widgets/base",
       "_view_module_version": "2.0.0",
       "_view_name": "LayoutView",
       "align_content": null,
       "align_items": null,
       "align_self": null,
       "border_bottom": null,
       "border_left": null,
       "border_right": null,
       "border_top": null,
       "bottom": null,
       "display": null,
       "flex": null,
       "flex_flow": null,
       "grid_area": null,
       "grid_auto_columns": null,
       "grid_auto_flow": null,
       "grid_auto_rows": null,
       "grid_column": null,
       "grid_gap": null,
       "grid_row": null,
       "grid_template_areas": null,
       "grid_template_columns": null,
       "grid_template_rows": null,
       "height": null,
       "justify_content": null,
       "justify_items": null,
       "left": null,
       "margin": null,
       "max_height": null,
       "max_width": null,
       "min_height": null,
       "min_width": null,
       "object_fit": null,
       "object_position": null,
       "order": null,
       "overflow": null,
       "padding": null,
       "right": null,
       "top": null,
       "visibility": null,
       "width": "20px"
      }
     },
     "2e6f68177c884b1fbbcda704caa1043e": {
      "model_module": "@jupyter-widgets/base",
      "model_module_version": "2.0.0",
      "model_name": "LayoutModel",
      "state": {
       "_model_module": "@jupyter-widgets/base",
       "_model_module_version": "2.0.0",
       "_model_name": "LayoutModel",
       "_view_count": null,
       "_view_module": "@jupyter-widgets/base",
       "_view_module_version": "2.0.0",
       "_view_name": "LayoutView",
       "align_content": null,
       "align_items": null,
       "align_self": null,
       "border_bottom": null,
       "border_left": null,
       "border_right": null,
       "border_top": null,
       "bottom": null,
       "display": null,
       "flex": null,
       "flex_flow": null,
       "grid_area": null,
       "grid_auto_columns": null,
       "grid_auto_flow": null,
       "grid_auto_rows": null,
       "grid_column": null,
       "grid_gap": null,
       "grid_row": null,
       "grid_template_areas": null,
       "grid_template_columns": null,
       "grid_template_rows": null,
       "height": null,
       "justify_content": null,
       "justify_items": null,
       "left": null,
       "margin": null,
       "max_height": null,
       "max_width": null,
       "min_height": null,
       "min_width": null,
       "object_fit": null,
       "object_position": null,
       "order": null,
       "overflow": null,
       "padding": null,
       "right": null,
       "top": null,
       "visibility": null,
       "width": null
      }
     },
     "41c75434ee3b4e938d75a80d86ac33c2": {
      "model_module": "@jupyter-widgets/controls",
      "model_module_version": "2.0.0",
      "model_name": "HBoxModel",
      "state": {
       "_dom_classes": [],
       "_model_module": "@jupyter-widgets/controls",
       "_model_module_version": "2.0.0",
       "_model_name": "HBoxModel",
       "_view_count": null,
       "_view_module": "@jupyter-widgets/controls",
       "_view_module_version": "2.0.0",
       "_view_name": "HBoxView",
       "box_style": "",
       "children": [
        "IPY_MODEL_aa35e729e4744e48b3c0299730485323",
        "IPY_MODEL_5a974a71768b43ff948aac64eb4e7f49",
        "IPY_MODEL_a87a3e314ad747168cdc10363b72ce74"
       ],
       "layout": "IPY_MODEL_e4216c17d97644aea0458f585fcf6324",
       "tabbable": null,
       "tooltip": null
      }
     },
     "42597ed3dfb940029b2fa4aa87f8bf32": {
      "model_module": "@jupyter-widgets/controls",
      "model_module_version": "2.0.0",
      "model_name": "HBoxModel",
      "state": {
       "_dom_classes": [],
       "_model_module": "@jupyter-widgets/controls",
       "_model_module_version": "2.0.0",
       "_model_name": "HBoxModel",
       "_view_count": null,
       "_view_module": "@jupyter-widgets/controls",
       "_view_module_version": "2.0.0",
       "_view_name": "HBoxView",
       "box_style": "",
       "children": [
        "IPY_MODEL_76c856095e9143978eb185718e8672c2",
        "IPY_MODEL_5eec2970ce3742be9a4c65f9277b674f",
        "IPY_MODEL_ba7061b377d047c5bc21070dab05d75d"
       ],
       "layout": "IPY_MODEL_db41be1d791946cb805fd907e345f94e",
       "tabbable": null,
       "tooltip": null
      }
     },
     "4980f5682f2942c085a01b6240885cdb": {
      "model_module": "@jupyter-widgets/base",
      "model_module_version": "2.0.0",
      "model_name": "LayoutModel",
      "state": {
       "_model_module": "@jupyter-widgets/base",
       "_model_module_version": "2.0.0",
       "_model_name": "LayoutModel",
       "_view_count": null,
       "_view_module": "@jupyter-widgets/base",
       "_view_module_version": "2.0.0",
       "_view_name": "LayoutView",
       "align_content": null,
       "align_items": null,
       "align_self": null,
       "border_bottom": null,
       "border_left": null,
       "border_right": null,
       "border_top": null,
       "bottom": null,
       "display": null,
       "flex": null,
       "flex_flow": null,
       "grid_area": null,
       "grid_auto_columns": null,
       "grid_auto_flow": null,
       "grid_auto_rows": null,
       "grid_column": null,
       "grid_gap": null,
       "grid_row": null,
       "grid_template_areas": null,
       "grid_template_columns": null,
       "grid_template_rows": null,
       "height": null,
       "justify_content": null,
       "justify_items": null,
       "left": null,
       "margin": null,
       "max_height": null,
       "max_width": null,
       "min_height": null,
       "min_width": null,
       "object_fit": null,
       "object_position": null,
       "order": null,
       "overflow": null,
       "padding": null,
       "right": null,
       "top": null,
       "visibility": null,
       "width": null
      }
     },
     "4bc220c8615a456ea8d4d20eea87e19f": {
      "model_module": "@jupyter-widgets/controls",
      "model_module_version": "2.0.0",
      "model_name": "HTMLStyleModel",
      "state": {
       "_model_module": "@jupyter-widgets/controls",
       "_model_module_version": "2.0.0",
       "_model_name": "HTMLStyleModel",
       "_view_count": null,
       "_view_module": "@jupyter-widgets/base",
       "_view_module_version": "2.0.0",
       "_view_name": "StyleView",
       "background": null,
       "description_width": "",
       "font_size": null,
       "text_color": null
      }
     },
     "4cc7678d921b4f369bd454e229eaece8": {
      "model_module": "@jupyter-widgets/base",
      "model_module_version": "2.0.0",
      "model_name": "LayoutModel",
      "state": {
       "_model_module": "@jupyter-widgets/base",
       "_model_module_version": "2.0.0",
       "_model_name": "LayoutModel",
       "_view_count": null,
       "_view_module": "@jupyter-widgets/base",
       "_view_module_version": "2.0.0",
       "_view_name": "LayoutView",
       "align_content": null,
       "align_items": null,
       "align_self": null,
       "border_bottom": null,
       "border_left": null,
       "border_right": null,
       "border_top": null,
       "bottom": null,
       "display": null,
       "flex": null,
       "flex_flow": null,
       "grid_area": null,
       "grid_auto_columns": null,
       "grid_auto_flow": null,
       "grid_auto_rows": null,
       "grid_column": null,
       "grid_gap": null,
       "grid_row": null,
       "grid_template_areas": null,
       "grid_template_columns": null,
       "grid_template_rows": null,
       "height": null,
       "justify_content": null,
       "justify_items": null,
       "left": null,
       "margin": null,
       "max_height": null,
       "max_width": null,
       "min_height": null,
       "min_width": null,
       "object_fit": null,
       "object_position": null,
       "order": null,
       "overflow": null,
       "padding": null,
       "right": null,
       "top": null,
       "visibility": null,
       "width": null
      }
     },
     "4fabf73505d443d287fa9f5896ef71e9": {
      "model_module": "@jupyter-widgets/controls",
      "model_module_version": "2.0.0",
      "model_name": "HTMLModel",
      "state": {
       "_dom_classes": [],
       "_model_module": "@jupyter-widgets/controls",
       "_model_module_version": "2.0.0",
       "_model_name": "HTMLModel",
       "_view_count": null,
       "_view_module": "@jupyter-widgets/controls",
       "_view_module_version": "2.0.0",
       "_view_name": "HTMLView",
       "description": "",
       "description_allow_html": false,
       "layout": "IPY_MODEL_2e6f68177c884b1fbbcda704caa1043e",
       "placeholder": "​",
       "style": "IPY_MODEL_f33a5710a5b644d3b727319c0414faae",
       "tabbable": null,
       "tooltip": null,
       "value": ""
      }
     },
     "5388ea7ae8b143d2bcd524f04d70618e": {
      "model_module": "@jupyter-widgets/base",
      "model_module_version": "2.0.0",
      "model_name": "LayoutModel",
      "state": {
       "_model_module": "@jupyter-widgets/base",
       "_model_module_version": "2.0.0",
       "_model_name": "LayoutModel",
       "_view_count": null,
       "_view_module": "@jupyter-widgets/base",
       "_view_module_version": "2.0.0",
       "_view_name": "LayoutView",
       "align_content": null,
       "align_items": null,
       "align_self": null,
       "border_bottom": null,
       "border_left": null,
       "border_right": null,
       "border_top": null,
       "bottom": null,
       "display": null,
       "flex": null,
       "flex_flow": null,
       "grid_area": null,
       "grid_auto_columns": null,
       "grid_auto_flow": null,
       "grid_auto_rows": null,
       "grid_column": null,
       "grid_gap": null,
       "grid_row": null,
       "grid_template_areas": null,
       "grid_template_columns": null,
       "grid_template_rows": null,
       "height": null,
       "justify_content": null,
       "justify_items": null,
       "left": null,
       "margin": null,
       "max_height": null,
       "max_width": null,
       "min_height": null,
       "min_width": null,
       "object_fit": null,
       "object_position": null,
       "order": null,
       "overflow": null,
       "padding": null,
       "right": null,
       "top": null,
       "visibility": null,
       "width": null
      }
     },
     "5a974a71768b43ff948aac64eb4e7f49": {
      "model_module": "@jupyter-widgets/controls",
      "model_module_version": "2.0.0",
      "model_name": "FloatProgressModel",
      "state": {
       "_dom_classes": [],
       "_model_module": "@jupyter-widgets/controls",
       "_model_module_version": "2.0.0",
       "_model_name": "FloatProgressModel",
       "_view_count": null,
       "_view_module": "@jupyter-widgets/controls",
       "_view_module_version": "2.0.0",
       "_view_name": "ProgressView",
       "bar_style": "success",
       "description": "",
       "description_allow_html": false,
       "layout": "IPY_MODEL_2d46b56d62aa4e6f8c714e6af7a6d376",
       "max": 1.0,
       "min": 0.0,
       "orientation": "horizontal",
       "style": "IPY_MODEL_f0a2566b815b4cae8e48bfd5590cab38",
       "tabbable": null,
       "tooltip": null,
       "value": 1.0
      }
     },
     "5e82ec1a897546bfb50e9e3883f2a87e": {
      "model_module": "@jupyter-widgets/controls",
      "model_module_version": "2.0.0",
      "model_name": "ProgressStyleModel",
      "state": {
       "_model_module": "@jupyter-widgets/controls",
       "_model_module_version": "2.0.0",
       "_model_name": "ProgressStyleModel",
       "_view_count": null,
       "_view_module": "@jupyter-widgets/base",
       "_view_module_version": "2.0.0",
       "_view_name": "StyleView",
       "bar_color": null,
       "description_width": ""
      }
     },
     "5eec2970ce3742be9a4c65f9277b674f": {
      "model_module": "@jupyter-widgets/controls",
      "model_module_version": "2.0.0",
      "model_name": "FloatProgressModel",
      "state": {
       "_dom_classes": [],
       "_model_module": "@jupyter-widgets/controls",
       "_model_module_version": "2.0.0",
       "_model_name": "FloatProgressModel",
       "_view_count": null,
       "_view_module": "@jupyter-widgets/controls",
       "_view_module_version": "2.0.0",
       "_view_name": "ProgressView",
       "bar_style": "success",
       "description": "",
       "description_allow_html": false,
       "layout": "IPY_MODEL_c243e7e2f9f640cba10a1e74f17f7495",
       "max": 1.0,
       "min": 0.0,
       "orientation": "horizontal",
       "style": "IPY_MODEL_5e82ec1a897546bfb50e9e3883f2a87e",
       "tabbable": null,
       "tooltip": null,
       "value": 1.0
      }
     },
     "61ec3e897b4d48e1a57571e74ba9252b": {
      "model_module": "@jupyter-widgets/controls",
      "model_module_version": "2.0.0",
      "model_name": "HTMLModel",
      "state": {
       "_dom_classes": [],
       "_model_module": "@jupyter-widgets/controls",
       "_model_module_version": "2.0.0",
       "_model_name": "HTMLModel",
       "_view_count": null,
       "_view_module": "@jupyter-widgets/controls",
       "_view_module_version": "2.0.0",
       "_view_name": "HTMLView",
       "description": "",
       "description_allow_html": false,
       "layout": "IPY_MODEL_e9d33b1c48314a29942d08219d0f176f",
       "placeholder": "​",
       "style": "IPY_MODEL_10cc32f013794fc5a5b243dc984aed52",
       "tabbable": null,
       "tooltip": null,
       "value": ""
      }
     },
     "67ceec2dfcc8427b97bcfb56f0e5148b": {
      "model_module": "@jupyter-widgets/base",
      "model_module_version": "2.0.0",
      "model_name": "LayoutModel",
      "state": {
       "_model_module": "@jupyter-widgets/base",
       "_model_module_version": "2.0.0",
       "_model_name": "LayoutModel",
       "_view_count": null,
       "_view_module": "@jupyter-widgets/base",
       "_view_module_version": "2.0.0",
       "_view_name": "LayoutView",
       "align_content": null,
       "align_items": null,
       "align_self": null,
       "border_bottom": null,
       "border_left": null,
       "border_right": null,
       "border_top": null,
       "bottom": null,
       "display": null,
       "flex": null,
       "flex_flow": null,
       "grid_area": null,
       "grid_auto_columns": null,
       "grid_auto_flow": null,
       "grid_auto_rows": null,
       "grid_column": null,
       "grid_gap": null,
       "grid_row": null,
       "grid_template_areas": null,
       "grid_template_columns": null,
       "grid_template_rows": null,
       "height": null,
       "justify_content": null,
       "justify_items": null,
       "left": null,
       "margin": null,
       "max_height": null,
       "max_width": null,
       "min_height": null,
       "min_width": null,
       "object_fit": null,
       "object_position": null,
       "order": null,
       "overflow": null,
       "padding": null,
       "right": null,
       "top": null,
       "visibility": null,
       "width": null
      }
     },
     "6811167b598845089afa1de4f1376d41": {
      "model_module": "@jupyter-widgets/controls",
      "model_module_version": "2.0.0",
      "model_name": "HTMLModel",
      "state": {
       "_dom_classes": [],
       "_model_module": "@jupyter-widgets/controls",
       "_model_module_version": "2.0.0",
       "_model_name": "HTMLModel",
       "_view_count": null,
       "_view_module": "@jupyter-widgets/controls",
       "_view_module_version": "2.0.0",
       "_view_name": "HTMLView",
       "description": "",
       "description_allow_html": false,
       "layout": "IPY_MODEL_72176c4ca11541729c480ea149577af4",
       "placeholder": "​",
       "style": "IPY_MODEL_02e0f8a6350745cb9974ef8db2dd2d18",
       "tabbable": null,
       "tooltip": null,
       "value": " 15/15 [05:48&lt;00:00, 18.16s/it]"
      }
     },
     "683c7ea770fe4716a48008cc52e49d36": {
      "model_module": "@jupyter-widgets/controls",
      "model_module_version": "2.0.0",
      "model_name": "FloatProgressModel",
      "state": {
       "_dom_classes": [],
       "_model_module": "@jupyter-widgets/controls",
       "_model_module_version": "2.0.0",
       "_model_name": "FloatProgressModel",
       "_view_count": null,
       "_view_module": "@jupyter-widgets/controls",
       "_view_module_version": "2.0.0",
       "_view_name": "ProgressView",
       "bar_style": "success",
       "description": "",
       "description_allow_html": false,
       "layout": "IPY_MODEL_133807e623964f698c620b4b6a28f75f",
       "max": 1.0,
       "min": 0.0,
       "orientation": "horizontal",
       "style": "IPY_MODEL_f2666697e2f5406ca9d57bc21394bb48",
       "tabbable": null,
       "tooltip": null,
       "value": 1.0
      }
     },
     "698bd90b5f0b483b9f4f91b6c75d94b0": {
      "model_module": "@jupyter-widgets/controls",
      "model_module_version": "2.0.0",
      "model_name": "HTMLStyleModel",
      "state": {
       "_model_module": "@jupyter-widgets/controls",
       "_model_module_version": "2.0.0",
       "_model_name": "HTMLStyleModel",
       "_view_count": null,
       "_view_module": "@jupyter-widgets/base",
       "_view_module_version": "2.0.0",
       "_view_name": "StyleView",
       "background": null,
       "description_width": "",
       "font_size": null,
       "text_color": null
      }
     },
     "69917f8f73f844fb8fd324e0f758f965": {
      "model_module": "@jupyter-widgets/controls",
      "model_module_version": "2.0.0",
      "model_name": "ProgressStyleModel",
      "state": {
       "_model_module": "@jupyter-widgets/controls",
       "_model_module_version": "2.0.0",
       "_model_name": "ProgressStyleModel",
       "_view_count": null,
       "_view_module": "@jupyter-widgets/base",
       "_view_module_version": "2.0.0",
       "_view_name": "StyleView",
       "bar_color": null,
       "description_width": ""
      }
     },
     "72176c4ca11541729c480ea149577af4": {
      "model_module": "@jupyter-widgets/base",
      "model_module_version": "2.0.0",
      "model_name": "LayoutModel",
      "state": {
       "_model_module": "@jupyter-widgets/base",
       "_model_module_version": "2.0.0",
       "_model_name": "LayoutModel",
       "_view_count": null,
       "_view_module": "@jupyter-widgets/base",
       "_view_module_version": "2.0.0",
       "_view_name": "LayoutView",
       "align_content": null,
       "align_items": null,
       "align_self": null,
       "border_bottom": null,
       "border_left": null,
       "border_right": null,
       "border_top": null,
       "bottom": null,
       "display": null,
       "flex": null,
       "flex_flow": null,
       "grid_area": null,
       "grid_auto_columns": null,
       "grid_auto_flow": null,
       "grid_auto_rows": null,
       "grid_column": null,
       "grid_gap": null,
       "grid_row": null,
       "grid_template_areas": null,
       "grid_template_columns": null,
       "grid_template_rows": null,
       "height": null,
       "justify_content": null,
       "justify_items": null,
       "left": null,
       "margin": null,
       "max_height": null,
       "max_width": null,
       "min_height": null,
       "min_width": null,
       "object_fit": null,
       "object_position": null,
       "order": null,
       "overflow": null,
       "padding": null,
       "right": null,
       "top": null,
       "visibility": null,
       "width": null
      }
     },
     "7690ad3391a04d5fabb7bbaf26030faf": {
      "model_module": "@jupyter-widgets/base",
      "model_module_version": "2.0.0",
      "model_name": "LayoutModel",
      "state": {
       "_model_module": "@jupyter-widgets/base",
       "_model_module_version": "2.0.0",
       "_model_name": "LayoutModel",
       "_view_count": null,
       "_view_module": "@jupyter-widgets/base",
       "_view_module_version": "2.0.0",
       "_view_name": "LayoutView",
       "align_content": null,
       "align_items": null,
       "align_self": null,
       "border_bottom": null,
       "border_left": null,
       "border_right": null,
       "border_top": null,
       "bottom": null,
       "display": null,
       "flex": null,
       "flex_flow": null,
       "grid_area": null,
       "grid_auto_columns": null,
       "grid_auto_flow": null,
       "grid_auto_rows": null,
       "grid_column": null,
       "grid_gap": null,
       "grid_row": null,
       "grid_template_areas": null,
       "grid_template_columns": null,
       "grid_template_rows": null,
       "height": null,
       "justify_content": null,
       "justify_items": null,
       "left": null,
       "margin": null,
       "max_height": null,
       "max_width": null,
       "min_height": null,
       "min_width": null,
       "object_fit": null,
       "object_position": null,
       "order": null,
       "overflow": null,
       "padding": null,
       "right": null,
       "top": null,
       "visibility": null,
       "width": "20px"
      }
     },
     "76c856095e9143978eb185718e8672c2": {
      "model_module": "@jupyter-widgets/controls",
      "model_module_version": "2.0.0",
      "model_name": "HTMLModel",
      "state": {
       "_dom_classes": [],
       "_model_module": "@jupyter-widgets/controls",
       "_model_module_version": "2.0.0",
       "_model_name": "HTMLModel",
       "_view_count": null,
       "_view_module": "@jupyter-widgets/controls",
       "_view_module_version": "2.0.0",
       "_view_name": "HTMLView",
       "description": "",
       "description_allow_html": false,
       "layout": "IPY_MODEL_5388ea7ae8b143d2bcd524f04d70618e",
       "placeholder": "​",
       "style": "IPY_MODEL_1733be570e484c238caefcd32acbf8ed",
       "tabbable": null,
       "tooltip": null,
       "value": ""
      }
     },
     "8217d23b61a44d2c951a9ac3da13e844": {
      "model_module": "@jupyter-widgets/controls",
      "model_module_version": "2.0.0",
      "model_name": "FloatProgressModel",
      "state": {
       "_dom_classes": [],
       "_model_module": "@jupyter-widgets/controls",
       "_model_module_version": "2.0.0",
       "_model_name": "FloatProgressModel",
       "_view_count": null,
       "_view_module": "@jupyter-widgets/controls",
       "_view_module_version": "2.0.0",
       "_view_name": "ProgressView",
       "bar_style": "success",
       "description": "",
       "description_allow_html": false,
       "layout": "IPY_MODEL_4980f5682f2942c085a01b6240885cdb",
       "max": 15.0,
       "min": 0.0,
       "orientation": "horizontal",
       "style": "IPY_MODEL_ca072d6df3a34450bc060c24a275ff33",
       "tabbable": null,
       "tooltip": null,
       "value": 15.0
      }
     },
     "8538e8cdcd6f4b4d936cadf310f4934b": {
      "model_module": "@jupyter-widgets/base",
      "model_module_version": "2.0.0",
      "model_name": "LayoutModel",
      "state": {
       "_model_module": "@jupyter-widgets/base",
       "_model_module_version": "2.0.0",
       "_model_name": "LayoutModel",
       "_view_count": null,
       "_view_module": "@jupyter-widgets/base",
       "_view_module_version": "2.0.0",
       "_view_name": "LayoutView",
       "align_content": null,
       "align_items": null,
       "align_self": null,
       "border_bottom": null,
       "border_left": null,
       "border_right": null,
       "border_top": null,
       "bottom": null,
       "display": null,
       "flex": null,
       "flex_flow": null,
       "grid_area": null,
       "grid_auto_columns": null,
       "grid_auto_flow": null,
       "grid_auto_rows": null,
       "grid_column": null,
       "grid_gap": null,
       "grid_row": null,
       "grid_template_areas": null,
       "grid_template_columns": null,
       "grid_template_rows": null,
       "height": null,
       "justify_content": null,
       "justify_items": null,
       "left": null,
       "margin": null,
       "max_height": null,
       "max_width": null,
       "min_height": null,
       "min_width": null,
       "object_fit": null,
       "object_position": null,
       "order": null,
       "overflow": null,
       "padding": null,
       "right": null,
       "top": null,
       "visibility": null,
       "width": null
      }
     },
     "86dac253db8b4dfda6befdf205b5e92d": {
      "model_module": "@jupyter-widgets/controls",
      "model_module_version": "2.0.0",
      "model_name": "HBoxModel",
      "state": {
       "_dom_classes": [],
       "_model_module": "@jupyter-widgets/controls",
       "_model_module_version": "2.0.0",
       "_model_name": "HBoxModel",
       "_view_count": null,
       "_view_module": "@jupyter-widgets/controls",
       "_view_module_version": "2.0.0",
       "_view_name": "HBoxView",
       "box_style": "",
       "children": [
        "IPY_MODEL_61ec3e897b4d48e1a57571e74ba9252b",
        "IPY_MODEL_683c7ea770fe4716a48008cc52e49d36",
        "IPY_MODEL_2354fb0812e44200b5cfbb8817fc9a82"
       ],
       "layout": "IPY_MODEL_02a8a931c3b642d3ae32926778dd8843",
       "tabbable": null,
       "tooltip": null
      }
     },
     "a87a3e314ad747168cdc10363b72ce74": {
      "model_module": "@jupyter-widgets/controls",
      "model_module_version": "2.0.0",
      "model_name": "HTMLModel",
      "state": {
       "_dom_classes": [],
       "_model_module": "@jupyter-widgets/controls",
       "_model_module_version": "2.0.0",
       "_model_name": "HTMLModel",
       "_view_count": null,
       "_view_module": "@jupyter-widgets/controls",
       "_view_module_version": "2.0.0",
       "_view_name": "HTMLView",
       "description": "",
       "description_allow_html": false,
       "layout": "IPY_MODEL_67ceec2dfcc8427b97bcfb56f0e5148b",
       "placeholder": "​",
       "style": "IPY_MODEL_4bc220c8615a456ea8d4d20eea87e19f",
       "tabbable": null,
       "tooltip": null,
       "value": " 24/? [00:01&lt;00:00, 19.86it/s]"
      }
     },
     "aa11a5c6e7e0417b90b948fdebf71d1c": {
      "model_module": "@jupyter-widgets/base",
      "model_module_version": "2.0.0",
      "model_name": "LayoutModel",
      "state": {
       "_model_module": "@jupyter-widgets/base",
       "_model_module_version": "2.0.0",
       "_model_name": "LayoutModel",
       "_view_count": null,
       "_view_module": "@jupyter-widgets/base",
       "_view_module_version": "2.0.0",
       "_view_name": "LayoutView",
       "align_content": null,
       "align_items": null,
       "align_self": null,
       "border_bottom": null,
       "border_left": null,
       "border_right": null,
       "border_top": null,
       "bottom": null,
       "display": null,
       "flex": null,
       "flex_flow": null,
       "grid_area": null,
       "grid_auto_columns": null,
       "grid_auto_flow": null,
       "grid_auto_rows": null,
       "grid_column": null,
       "grid_gap": null,
       "grid_row": null,
       "grid_template_areas": null,
       "grid_template_columns": null,
       "grid_template_rows": null,
       "height": null,
       "justify_content": null,
       "justify_items": null,
       "left": null,
       "margin": null,
       "max_height": null,
       "max_width": null,
       "min_height": null,
       "min_width": null,
       "object_fit": null,
       "object_position": null,
       "order": null,
       "overflow": null,
       "padding": null,
       "right": null,
       "top": null,
       "visibility": null,
       "width": null
      }
     },
     "aa35e729e4744e48b3c0299730485323": {
      "model_module": "@jupyter-widgets/controls",
      "model_module_version": "2.0.0",
      "model_name": "HTMLModel",
      "state": {
       "_dom_classes": [],
       "_model_module": "@jupyter-widgets/controls",
       "_model_module_version": "2.0.0",
       "_model_name": "HTMLModel",
       "_view_count": null,
       "_view_module": "@jupyter-widgets/controls",
       "_view_module_version": "2.0.0",
       "_view_name": "HTMLView",
       "description": "",
       "description_allow_html": false,
       "layout": "IPY_MODEL_e16e0cf2cde443fca6bea2a246b07b39",
       "placeholder": "​",
       "style": "IPY_MODEL_698bd90b5f0b483b9f4f91b6c75d94b0",
       "tabbable": null,
       "tooltip": null,
       "value": ""
      }
     },
     "b8d210ddacc544aabf272e06038e3491": {
      "model_module": "@jupyter-widgets/base",
      "model_module_version": "2.0.0",
      "model_name": "LayoutModel",
      "state": {
       "_model_module": "@jupyter-widgets/base",
       "_model_module_version": "2.0.0",
       "_model_name": "LayoutModel",
       "_view_count": null,
       "_view_module": "@jupyter-widgets/base",
       "_view_module_version": "2.0.0",
       "_view_name": "LayoutView",
       "align_content": null,
       "align_items": null,
       "align_self": null,
       "border_bottom": null,
       "border_left": null,
       "border_right": null,
       "border_top": null,
       "bottom": null,
       "display": null,
       "flex": null,
       "flex_flow": null,
       "grid_area": null,
       "grid_auto_columns": null,
       "grid_auto_flow": null,
       "grid_auto_rows": null,
       "grid_column": null,
       "grid_gap": null,
       "grid_row": null,
       "grid_template_areas": null,
       "grid_template_columns": null,
       "grid_template_rows": null,
       "height": null,
       "justify_content": null,
       "justify_items": null,
       "left": null,
       "margin": null,
       "max_height": null,
       "max_width": null,
       "min_height": null,
       "min_width": null,
       "object_fit": null,
       "object_position": null,
       "order": null,
       "overflow": null,
       "padding": null,
       "right": null,
       "top": null,
       "visibility": null,
       "width": null
      }
     },
     "ba7061b377d047c5bc21070dab05d75d": {
      "model_module": "@jupyter-widgets/controls",
      "model_module_version": "2.0.0",
      "model_name": "HTMLModel",
      "state": {
       "_dom_classes": [],
       "_model_module": "@jupyter-widgets/controls",
       "_model_module_version": "2.0.0",
       "_model_name": "HTMLModel",
       "_view_count": null,
       "_view_module": "@jupyter-widgets/controls",
       "_view_module_version": "2.0.0",
       "_view_name": "HTMLView",
       "description": "",
       "description_allow_html": false,
       "layout": "IPY_MODEL_aa11a5c6e7e0417b90b948fdebf71d1c",
       "placeholder": "​",
       "style": "IPY_MODEL_22efbcc627af4e43a81d925c406e0566",
       "tabbable": null,
       "tooltip": null,
       "value": " 1/? [00:01&lt;00:00,  1.74s/it]"
      }
     },
     "c243e7e2f9f640cba10a1e74f17f7495": {
      "model_module": "@jupyter-widgets/base",
      "model_module_version": "2.0.0",
      "model_name": "LayoutModel",
      "state": {
       "_model_module": "@jupyter-widgets/base",
       "_model_module_version": "2.0.0",
       "_model_name": "LayoutModel",
       "_view_count": null,
       "_view_module": "@jupyter-widgets/base",
       "_view_module_version": "2.0.0",
       "_view_name": "LayoutView",
       "align_content": null,
       "align_items": null,
       "align_self": null,
       "border_bottom": null,
       "border_left": null,
       "border_right": null,
       "border_top": null,
       "bottom": null,
       "display": null,
       "flex": null,
       "flex_flow": null,
       "grid_area": null,
       "grid_auto_columns": null,
       "grid_auto_flow": null,
       "grid_auto_rows": null,
       "grid_column": null,
       "grid_gap": null,
       "grid_row": null,
       "grid_template_areas": null,
       "grid_template_columns": null,
       "grid_template_rows": null,
       "height": null,
       "justify_content": null,
       "justify_items": null,
       "left": null,
       "margin": null,
       "max_height": null,
       "max_width": null,
       "min_height": null,
       "min_width": null,
       "object_fit": null,
       "object_position": null,
       "order": null,
       "overflow": null,
       "padding": null,
       "right": null,
       "top": null,
       "visibility": null,
       "width": "20px"
      }
     },
     "ca072d6df3a34450bc060c24a275ff33": {
      "model_module": "@jupyter-widgets/controls",
      "model_module_version": "2.0.0",
      "model_name": "ProgressStyleModel",
      "state": {
       "_model_module": "@jupyter-widgets/controls",
       "_model_module_version": "2.0.0",
       "_model_name": "ProgressStyleModel",
       "_view_count": null,
       "_view_module": "@jupyter-widgets/base",
       "_view_module_version": "2.0.0",
       "_view_name": "StyleView",
       "bar_color": null,
       "description_width": ""
      }
     },
     "d9c590c2f3864923b8b3175c8dbbac38": {
      "model_module": "@jupyter-widgets/controls",
      "model_module_version": "2.0.0",
      "model_name": "FloatProgressModel",
      "state": {
       "_dom_classes": [],
       "_model_module": "@jupyter-widgets/controls",
       "_model_module_version": "2.0.0",
       "_model_name": "FloatProgressModel",
       "_view_count": null,
       "_view_module": "@jupyter-widgets/controls",
       "_view_module_version": "2.0.0",
       "_view_name": "ProgressView",
       "bar_style": "success",
       "description": "",
       "description_allow_html": false,
       "layout": "IPY_MODEL_7690ad3391a04d5fabb7bbaf26030faf",
       "max": 1.0,
       "min": 0.0,
       "orientation": "horizontal",
       "style": "IPY_MODEL_69917f8f73f844fb8fd324e0f758f965",
       "tabbable": null,
       "tooltip": null,
       "value": 1.0
      }
     },
     "db41be1d791946cb805fd907e345f94e": {
      "model_module": "@jupyter-widgets/base",
      "model_module_version": "2.0.0",
      "model_name": "LayoutModel",
      "state": {
       "_model_module": "@jupyter-widgets/base",
       "_model_module_version": "2.0.0",
       "_model_name": "LayoutModel",
       "_view_count": null,
       "_view_module": "@jupyter-widgets/base",
       "_view_module_version": "2.0.0",
       "_view_name": "LayoutView",
       "align_content": null,
       "align_items": null,
       "align_self": null,
       "border_bottom": null,
       "border_left": null,
       "border_right": null,
       "border_top": null,
       "bottom": null,
       "display": null,
       "flex": null,
       "flex_flow": null,
       "grid_area": null,
       "grid_auto_columns": null,
       "grid_auto_flow": null,
       "grid_auto_rows": null,
       "grid_column": null,
       "grid_gap": null,
       "grid_row": null,
       "grid_template_areas": null,
       "grid_template_columns": null,
       "grid_template_rows": null,
       "height": null,
       "justify_content": null,
       "justify_items": null,
       "left": null,
       "margin": null,
       "max_height": null,
       "max_width": null,
       "min_height": null,
       "min_width": null,
       "object_fit": null,
       "object_position": null,
       "order": null,
       "overflow": null,
       "padding": null,
       "right": null,
       "top": null,
       "visibility": null,
       "width": null
      }
     },
     "dcb2df484ab74c999c3f8e8ed5e965b8": {
      "model_module": "@jupyter-widgets/controls",
      "model_module_version": "2.0.0",
      "model_name": "HTMLStyleModel",
      "state": {
       "_model_module": "@jupyter-widgets/controls",
       "_model_module_version": "2.0.0",
       "_model_name": "HTMLStyleModel",
       "_view_count": null,
       "_view_module": "@jupyter-widgets/base",
       "_view_module_version": "2.0.0",
       "_view_name": "StyleView",
       "background": null,
       "description_width": "",
       "font_size": null,
       "text_color": null
      }
     },
     "dd084c1a906842fd92a4fdf1ef005b1e": {
      "model_module": "@jupyter-widgets/controls",
      "model_module_version": "2.0.0",
      "model_name": "HBoxModel",
      "state": {
       "_dom_classes": [],
       "_model_module": "@jupyter-widgets/controls",
       "_model_module_version": "2.0.0",
       "_model_name": "HBoxModel",
       "_view_count": null,
       "_view_module": "@jupyter-widgets/controls",
       "_view_module_version": "2.0.0",
       "_view_name": "HBoxView",
       "box_style": "",
       "children": [
        "IPY_MODEL_260af809e9364fe3abe207c611704e7e",
        "IPY_MODEL_8217d23b61a44d2c951a9ac3da13e844",
        "IPY_MODEL_6811167b598845089afa1de4f1376d41"
       ],
       "layout": "IPY_MODEL_e9be3840557b4851a2af8761d48f8053",
       "tabbable": null,
       "tooltip": null
      }
     },
     "e16e0cf2cde443fca6bea2a246b07b39": {
      "model_module": "@jupyter-widgets/base",
      "model_module_version": "2.0.0",
      "model_name": "LayoutModel",
      "state": {
       "_model_module": "@jupyter-widgets/base",
       "_model_module_version": "2.0.0",
       "_model_name": "LayoutModel",
       "_view_count": null,
       "_view_module": "@jupyter-widgets/base",
       "_view_module_version": "2.0.0",
       "_view_name": "LayoutView",
       "align_content": null,
       "align_items": null,
       "align_self": null,
       "border_bottom": null,
       "border_left": null,
       "border_right": null,
       "border_top": null,
       "bottom": null,
       "display": null,
       "flex": null,
       "flex_flow": null,
       "grid_area": null,
       "grid_auto_columns": null,
       "grid_auto_flow": null,
       "grid_auto_rows": null,
       "grid_column": null,
       "grid_gap": null,
       "grid_row": null,
       "grid_template_areas": null,
       "grid_template_columns": null,
       "grid_template_rows": null,
       "height": null,
       "justify_content": null,
       "justify_items": null,
       "left": null,
       "margin": null,
       "max_height": null,
       "max_width": null,
       "min_height": null,
       "min_width": null,
       "object_fit": null,
       "object_position": null,
       "order": null,
       "overflow": null,
       "padding": null,
       "right": null,
       "top": null,
       "visibility": null,
       "width": null
      }
     },
     "e4216c17d97644aea0458f585fcf6324": {
      "model_module": "@jupyter-widgets/base",
      "model_module_version": "2.0.0",
      "model_name": "LayoutModel",
      "state": {
       "_model_module": "@jupyter-widgets/base",
       "_model_module_version": "2.0.0",
       "_model_name": "LayoutModel",
       "_view_count": null,
       "_view_module": "@jupyter-widgets/base",
       "_view_module_version": "2.0.0",
       "_view_name": "LayoutView",
       "align_content": null,
       "align_items": null,
       "align_self": null,
       "border_bottom": null,
       "border_left": null,
       "border_right": null,
       "border_top": null,
       "bottom": null,
       "display": null,
       "flex": null,
       "flex_flow": null,
       "grid_area": null,
       "grid_auto_columns": null,
       "grid_auto_flow": null,
       "grid_auto_rows": null,
       "grid_column": null,
       "grid_gap": null,
       "grid_row": null,
       "grid_template_areas": null,
       "grid_template_columns": null,
       "grid_template_rows": null,
       "height": null,
       "justify_content": null,
       "justify_items": null,
       "left": null,
       "margin": null,
       "max_height": null,
       "max_width": null,
       "min_height": null,
       "min_width": null,
       "object_fit": null,
       "object_position": null,
       "order": null,
       "overflow": null,
       "padding": null,
       "right": null,
       "top": null,
       "visibility": null,
       "width": null
      }
     },
     "e9be3840557b4851a2af8761d48f8053": {
      "model_module": "@jupyter-widgets/base",
      "model_module_version": "2.0.0",
      "model_name": "LayoutModel",
      "state": {
       "_model_module": "@jupyter-widgets/base",
       "_model_module_version": "2.0.0",
       "_model_name": "LayoutModel",
       "_view_count": null,
       "_view_module": "@jupyter-widgets/base",
       "_view_module_version": "2.0.0",
       "_view_name": "LayoutView",
       "align_content": null,
       "align_items": null,
       "align_self": null,
       "border_bottom": null,
       "border_left": null,
       "border_right": null,
       "border_top": null,
       "bottom": null,
       "display": null,
       "flex": null,
       "flex_flow": null,
       "grid_area": null,
       "grid_auto_columns": null,
       "grid_auto_flow": null,
       "grid_auto_rows": null,
       "grid_column": null,
       "grid_gap": null,
       "grid_row": null,
       "grid_template_areas": null,
       "grid_template_columns": null,
       "grid_template_rows": null,
       "height": null,
       "justify_content": null,
       "justify_items": null,
       "left": null,
       "margin": null,
       "max_height": null,
       "max_width": null,
       "min_height": null,
       "min_width": null,
       "object_fit": null,
       "object_position": null,
       "order": null,
       "overflow": null,
       "padding": null,
       "right": null,
       "top": null,
       "visibility": null,
       "width": null
      }
     },
     "e9d33b1c48314a29942d08219d0f176f": {
      "model_module": "@jupyter-widgets/base",
      "model_module_version": "2.0.0",
      "model_name": "LayoutModel",
      "state": {
       "_model_module": "@jupyter-widgets/base",
       "_model_module_version": "2.0.0",
       "_model_name": "LayoutModel",
       "_view_count": null,
       "_view_module": "@jupyter-widgets/base",
       "_view_module_version": "2.0.0",
       "_view_name": "LayoutView",
       "align_content": null,
       "align_items": null,
       "align_self": null,
       "border_bottom": null,
       "border_left": null,
       "border_right": null,
       "border_top": null,
       "bottom": null,
       "display": null,
       "flex": null,
       "flex_flow": null,
       "grid_area": null,
       "grid_auto_columns": null,
       "grid_auto_flow": null,
       "grid_auto_rows": null,
       "grid_column": null,
       "grid_gap": null,
       "grid_row": null,
       "grid_template_areas": null,
       "grid_template_columns": null,
       "grid_template_rows": null,
       "height": null,
       "justify_content": null,
       "justify_items": null,
       "left": null,
       "margin": null,
       "max_height": null,
       "max_width": null,
       "min_height": null,
       "min_width": null,
       "object_fit": null,
       "object_position": null,
       "order": null,
       "overflow": null,
       "padding": null,
       "right": null,
       "top": null,
       "visibility": null,
       "width": null
      }
     },
     "f0a2566b815b4cae8e48bfd5590cab38": {
      "model_module": "@jupyter-widgets/controls",
      "model_module_version": "2.0.0",
      "model_name": "ProgressStyleModel",
      "state": {
       "_model_module": "@jupyter-widgets/controls",
       "_model_module_version": "2.0.0",
       "_model_name": "ProgressStyleModel",
       "_view_count": null,
       "_view_module": "@jupyter-widgets/base",
       "_view_module_version": "2.0.0",
       "_view_name": "StyleView",
       "bar_color": null,
       "description_width": ""
      }
     },
     "f2666697e2f5406ca9d57bc21394bb48": {
      "model_module": "@jupyter-widgets/controls",
      "model_module_version": "2.0.0",
      "model_name": "ProgressStyleModel",
      "state": {
       "_model_module": "@jupyter-widgets/controls",
       "_model_module_version": "2.0.0",
       "_model_name": "ProgressStyleModel",
       "_view_count": null,
       "_view_module": "@jupyter-widgets/base",
       "_view_module_version": "2.0.0",
       "_view_name": "StyleView",
       "bar_color": null,
       "description_width": ""
      }
     },
     "f2bb65952274429e929cb0f455440f7f": {
      "model_module": "@jupyter-widgets/base",
      "model_module_version": "2.0.0",
      "model_name": "LayoutModel",
      "state": {
       "_model_module": "@jupyter-widgets/base",
       "_model_module_version": "2.0.0",
       "_model_name": "LayoutModel",
       "_view_count": null,
       "_view_module": "@jupyter-widgets/base",
       "_view_module_version": "2.0.0",
       "_view_name": "LayoutView",
       "align_content": null,
       "align_items": null,
       "align_self": null,
       "border_bottom": null,
       "border_left": null,
       "border_right": null,
       "border_top": null,
       "bottom": null,
       "display": null,
       "flex": null,
       "flex_flow": null,
       "grid_area": null,
       "grid_auto_columns": null,
       "grid_auto_flow": null,
       "grid_auto_rows": null,
       "grid_column": null,
       "grid_gap": null,
       "grid_row": null,
       "grid_template_areas": null,
       "grid_template_columns": null,
       "grid_template_rows": null,
       "height": null,
       "justify_content": null,
       "justify_items": null,
       "left": null,
       "margin": null,
       "max_height": null,
       "max_width": null,
       "min_height": null,
       "min_width": null,
       "object_fit": null,
       "object_position": null,
       "order": null,
       "overflow": null,
       "padding": null,
       "right": null,
       "top": null,
       "visibility": null,
       "width": null
      }
     },
     "f33a5710a5b644d3b727319c0414faae": {
      "model_module": "@jupyter-widgets/controls",
      "model_module_version": "2.0.0",
      "model_name": "HTMLStyleModel",
      "state": {
       "_model_module": "@jupyter-widgets/controls",
       "_model_module_version": "2.0.0",
       "_model_name": "HTMLStyleModel",
       "_view_count": null,
       "_view_module": "@jupyter-widgets/base",
       "_view_module_version": "2.0.0",
       "_view_name": "StyleView",
       "background": null,
       "description_width": "",
       "font_size": null,
       "text_color": null
      }
     }
    },
    "version_major": 2,
    "version_minor": 0
   }
  }
 },
 "nbformat": 4,
 "nbformat_minor": 5
}