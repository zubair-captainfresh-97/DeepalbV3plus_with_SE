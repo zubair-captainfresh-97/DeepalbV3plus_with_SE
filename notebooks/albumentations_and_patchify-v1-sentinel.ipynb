{
 "cells": [
  {
   "cell_type": "code",
   "execution_count": 1,
   "metadata": {
    "id": "oP6OQBaOBlmu"
   },
   "outputs": [],
   "source": [
    "import os\n",
    "import numpy as np\n",
    "import glob\n",
    "from skimage.io import imread,imsave\n",
    "import numpy as np\n",
    "from matplotlib import pyplot as plt\n",
    "from patchify import patchify\n",
    "import tensorflow as tf\n",
    "import random\n",
    "import tqdm\n",
    "from rasterio.plot import reshape_as_image\n",
    "import rasterio\n",
    "from tqdm.notebook import tqdm_notebook\n",
    "import yaml"
   ]
  },
  {
   "cell_type": "code",
   "execution_count": 2,
   "metadata": {
    "id": "71DORHQ1C-sX"
   },
   "outputs": [],
   "source": [
    "params = yaml.safe_load(open(\"params.yaml\"))['tfrecords_creation']"
   ]
  },
  {
   "cell_type": "code",
   "execution_count": null,
   "metadata": {},
   "outputs": [],
   "source": [
    "image_patch = params['Image_patch_size']\n",
    "mask_patch = params['Mask_patch_size']"
   ]
  },
  {
   "cell_type": "code",
   "execution_count": null,
   "metadata": {
    "id": "bqRgi2w3BnJQ"
   },
   "outputs": [],
   "source": [
    "image_dataset = []\n",
    "img_dir='Smaller_pond_sentinel_data_v1/Images/'\n",
    "for path, subdirs, files in tqdm_notebook(os.walk(img_dir)):\n",
    "    images = sorted(os.listdir(path)) \n",
    "    for i, image_name in tqdm_notebook(enumerate(images)):  \n",
    "        if image_name.endswith(\".tif\"):\n",
    "            ds = rasterio.open(path+\"/\"+image_name)\n",
    "            image = reshape_as_image(ds.read([1,2,3]))\n",
    "            print(\"Now patchifying image:\", path+\"/\"+image_name)\n",
    "            # creating patches with no overlaps\n",
    "            patches_img = patchify(image, (image_patch), step=image_patch[0])  #Step=256 for 256 patches means no overlap\n",
    "            for i in range(patches_img.shape[0]):\n",
    "                for j in range(patches_img.shape[1]):\n",
    "                    \n",
    "                    single_patch_img = patches_img[i,j,:,:]\n",
    "                    single_patch_img = single_patch_img[0] #Drop the extra unecessary dimension that patchify adds.\n",
    "                    image_dataset.append(single_patch_img)\n",
    "images = np.array(image_dataset)"
   ]
  },
  {
   "cell_type": "code",
   "execution_count": 4,
   "metadata": {},
   "outputs": [
    {
     "data": {
      "application/vnd.jupyter.widget-view+json": {
       "model_id": "882732a1d3164da9b3619cbe060b4db3",
       "version_major": 2,
       "version_minor": 0
      },
      "text/plain": [
       "0it [00:00, ?it/s]"
      ]
     },
     "metadata": {},
     "output_type": "display_data"
    },
    {
     "data": {
      "application/vnd.jupyter.widget-view+json": {
       "model_id": "9e44bb9c6580417397b423f8f74a988d",
       "version_major": 2,
       "version_minor": 0
      },
      "text/plain": [
       "0it [00:00, ?it/s]"
      ]
     },
     "metadata": {},
     "output_type": "display_data"
    },
    {
     "name": "stdout",
     "output_type": "stream",
     "text": [
      "Now patchifying mask: /home/ubuntu/Data/Smaller pond sentinel data v1/Masks//RS_sentinel_2A_long_79.4517_lat_10.3592_2019-02-25T05_26_45.000000000_gt.tif\n",
      "Now patchifying mask: /home/ubuntu/Data/Smaller pond sentinel data v1/Masks//RS_sentinel_2A_long_79.7269014_lat_11.4555343_2021-05-30T05_15_45.000000000_gt.tif\n",
      "Now patchifying mask: /home/ubuntu/Data/Smaller pond sentinel data v1/Masks//RS_sentinel_2A_long_79.768401_lat_11.427475_2021-05-30T05_15_45.000000000_gt.tif\n",
      "Now patchifying mask: /home/ubuntu/Data/Smaller pond sentinel data v1/Masks//RS_sentinel_2A_long_79.7966_lat_11.3297_2021-05-30T05_15_45.000000000_gt.tif\n",
      "Now patchifying mask: /home/ubuntu/Data/Smaller pond sentinel data v1/Masks//RS_sentinel_2A_long_79.842153_lat_10.431728_2019-04-06T05_21_29.000000000_gt.tif\n",
      "Now patchifying mask: /home/ubuntu/Data/Smaller pond sentinel data v1/Masks//RS_sentinel_2A_long_80.137293_lat_14.545728_2022-04-20T05_14_39.000000000_gt.tif\n",
      "Now patchifying mask: /home/ubuntu/Data/Smaller pond sentinel data v1/Masks//RS_sentinel_2A_long_80.164282_lat_14.551515_2022-04-20T05_14_39.000000000_gt.tif\n",
      "Now patchifying mask: /home/ubuntu/Data/Smaller pond sentinel data v1/Masks//RS_sentinel_2A_long_80.166429_lat_14.531751_2022-04-20T05_14_39.000000000_gt.tif\n",
      "Now patchifying mask: /home/ubuntu/Data/Smaller pond sentinel data v1/Masks//RS_sentinel_2A_long_80.169128_lat_14.45468_2022-05-05T05_15_03.000000000_gt.tif\n",
      "Now patchifying mask: /home/ubuntu/Data/Smaller pond sentinel data v1/Masks//RS_sentinel_2A_long_80.6288_lat_15.920469_2022-04-30T05_14_22.000000000_gt.tif\n",
      "Now patchifying mask: /home/ubuntu/Data/Smaller pond sentinel data v1/Masks//RS_sentinel_2A_long_80.7301948_lat_15.9193089_2022-06-14T05_14_39.000000000_gt.tif\n",
      "Now patchifying mask: /home/ubuntu/Data/Smaller pond sentinel data v1/Masks//RS_sentinel_2A_long_80.762241_lat_15.904174_2022-06-14T05_14_39.000000000_gt.tif\n",
      "Now patchifying mask: /home/ubuntu/Data/Smaller pond sentinel data v1/Masks//RS_sentinel_2A_long_81.002_lat_15.928_2022-08-23T05_14_41.000000000_gt.tif\n",
      "Now patchifying mask: /home/ubuntu/Data/Smaller pond sentinel data v1/Masks//RS_sentinel_2A_long_81.04936_lat_16.48142_2019-11-27T05_14_11.000000000_gt.tif\n",
      "Now patchifying mask: /home/ubuntu/Data/Smaller pond sentinel data v1/Masks//RS_sentinel_2A_long_81.067_lat_15.939_2022-08-23T05_14_41.000000000_gt.tif\n",
      "Now patchifying mask: /home/ubuntu/Data/Smaller pond sentinel data v1/Masks//RS_sentinel_2A_long_81.068_lat_16.038_2022-08-23T05_14_41.000000000_gt.tif\n",
      "Now patchifying mask: /home/ubuntu/Data/Smaller pond sentinel data v1/Masks//RS_sentinel_2A_long_81.079_lat_15.972_2022-08-23T05_14_41.000000000_gt.tif\n",
      "Now patchifying mask: /home/ubuntu/Data/Smaller pond sentinel data v1/Masks//RS_sentinel_2A_long_81.095_lat_16.059_2022-06-14T05_14_36.000000000_gt.tif\n",
      "Now patchifying mask: /home/ubuntu/Data/Smaller pond sentinel data v1/Masks//RS_sentinel_2A_long_81.38037_lat_16.62149_2021-12-16T05_14_11.000000000_gt.tif\n",
      "Now patchifying mask: /home/ubuntu/Data/Smaller pond sentinel data v1/Masks//RS_sentinel_2A_long_81.45614_lat_16.46566_2019-11-27T05_14_11.000000000_gt.tif\n",
      "Now patchifying mask: /home/ubuntu/Data/Smaller pond sentinel data v1/Masks//RS_sentinel_2A_long_81.73695_lat_16.38071_2021-12-16T05_14_11.000000000_gt.tif\n",
      "Now patchifying mask: /home/ubuntu/Data/Smaller pond sentinel data v1/Masks//RS_sentinel_2A_long_81.99119_lat_16.49272_2022-03-01T05_14_04.000000000_gt.tif\n",
      "Now patchifying mask: /home/ubuntu/Data/Smaller pond sentinel data v1/Masks//RS_sentinel_2A_long_82.028_lat_16.454_2022-07-29T05_14_12.000000000_gt.tif\n",
      "Now patchifying mask: /home/ubuntu/Data/Smaller pond sentinel data v1/Masks//RS_sentinel_2A_long_82.12493_lat_16.53084_2022-03-01T05_14_04.000000000_gt.tif\n"
     ]
    }
   ],
   "source": [
    "mask_dataset = []\n",
    "mask_dir = 'Smaller_pond_sentinel_data_v1/Masks/'\n",
    "for path, subdirs, files in tqdm_notebook(os.walk(mask_dir)):\n",
    "    masks = sorted(os.listdir(path))  #List of all image names in this subdirectory\n",
    "    for i, mask_name in tqdm_notebook(enumerate(masks)):  \n",
    "        if mask_name.endswith(\".tif\"):           \n",
    "            mask = imread(path+\"/\"+mask_name,0)\n",
    "            print(\"Now patchifying mask:\", path+\"/\"+mask_name)\n",
    "            # creating patches with no overlaps\n",
    "            patches_mask = patchify(mask, (mask_patch), step=mask_patch[0])  #Step=256 for 256 patches means no overlap\n",
    "            for i in range(patches_mask.shape[0]):\n",
    "                for j in range(patches_mask.shape[1]):\n",
    "                    \n",
    "                    single_patch_mask = patches_mask[i,j,:,:]\n",
    "                    mask_dataset.append(single_patch_mask)\n",
    "masks = np.array(mask_dataset)"
   ]
  },
  {
   "cell_type": "code",
   "execution_count": 5,
   "metadata": {
    "id": "0RJ1SEc9_KLP"
   },
   "outputs": [
    {
     "data": {
      "text/plain": [
       "(1176, 256, 256)"
      ]
     },
     "execution_count": 5,
     "metadata": {},
     "output_type": "execute_result"
    }
   ],
   "source": [
    "masks.shape"
   ]
  },
  {
   "cell_type": "code",
   "execution_count": 6,
   "metadata": {},
   "outputs": [
    {
     "data": {
      "text/plain": [
       "(1176, 256, 256, 3)"
      ]
     },
     "execution_count": 6,
     "metadata": {},
     "output_type": "execute_result"
    }
   ],
   "source": [
    "images.shape"
   ]
  },
  {
   "cell_type": "code",
   "execution_count": 7,
   "metadata": {
    "id": "mQFlG-Pk-qy7"
   },
   "outputs": [],
   "source": [
    "import albumentations as A"
   ]
  },
  {
   "cell_type": "code",
   "execution_count": 8,
   "metadata": {},
   "outputs": [],
   "source": [
    "i=1   # variable to iterate till images_to_generate\n",
    "img = []\n",
    "mask1 = []\n",
    "number_of_transformation = 5\n",
    "while i<=(images.shape[0]): \n",
    "    number = random.randint(0, images.shape[0]-1)  #PIck a number to select an image & mask\n",
    "    image = images[number]\n",
    "    mask = masks[number]\n",
    "    aug = A.Compose([A.RandomCrop(128,128,p=1),A.Resize(256,256)])\n",
    "    augmented = aug(image=image, mask=mask)\n",
    "    x1 = augmented[\"image\"]\n",
    "    y1 = augmented[\"mask\"]\n",
    "\n",
    "    aug = A.RandomRotate90(p=1.0)\n",
    "    augmented = aug(image=image, mask=mask)\n",
    "    x2 = augmented['image']\n",
    "    y2 = augmented['mask']\n",
    "\n",
    "    aug = A.GridDistortion(p=1.0)\n",
    "    augmented = aug(image=image, mask=mask)\n",
    "    x3 = augmented['image']\n",
    "    y3 = augmented['mask']\n",
    "\n",
    "    aug = A.HorizontalFlip(p=1.0)\n",
    "    augmented = aug(image=image, mask=mask)\n",
    "    x4 = augmented['image']\n",
    "    y4 = augmented['mask']\n",
    "\n",
    "    aug = A.VerticalFlip(p=1.0)\n",
    "    augmented = aug(image=image, mask=mask)\n",
    "    x5 = augmented['image']\n",
    "    y5 = augmented['mask']\n",
    "    img.append([x1,x2,x3,x4,x5])\n",
    "    mask1.append([y1,y2,y3,y4,y5])\n",
    "    i =i+1\n",
    "\n",
    "newimages = np.array(img)\n",
    "newmasks = np.array(mask1)"
   ]
  },
  {
   "cell_type": "code",
   "execution_count": 10,
   "metadata": {},
   "outputs": [],
   "source": [
    "newimages =newimages.reshape((newimages.shape[1]*newimages.shape[0]),newimages.shape[2],newimages.shape[3],newimages.shape[4])\n",
    "newmasks =newmasks.reshape((newmasks.shape[1]*newmasks.shape[0]),newmasks.shape[2],newmasks.shape[3])"
   ]
  },
  {
   "cell_type": "code",
   "execution_count": 13,
   "metadata": {},
   "outputs": [],
   "source": [
    "finalimages = np.concatenate([newimages,images])\n",
    "finalmasks = np.concatenate([newmasks,masks])"
   ]
  },
  {
   "cell_type": "code",
   "execution_count": 14,
   "metadata": {},
   "outputs": [
    {
     "data": {
      "text/plain": [
       "(7056, 256, 256, 3)"
      ]
     },
     "execution_count": 14,
     "metadata": {},
     "output_type": "execute_result"
    }
   ],
   "source": [
    "finalimages.shape"
   ]
  },
  {
   "cell_type": "code",
   "execution_count": 15,
   "metadata": {},
   "outputs": [
    {
     "data": {
      "text/plain": [
       "(7056, 256, 256)"
      ]
     },
     "execution_count": 15,
     "metadata": {},
     "output_type": "execute_result"
    }
   ],
   "source": [
    "finalmasks.shape"
   ]
  },
  {
   "cell_type": "code",
   "execution_count": 16,
   "metadata": {},
   "outputs": [
    {
     "data": {
      "image/png": "[encoded data removed]",
      "text/plain": [
       "<Figure size 720x720 with 2 Axes>"
      ]
     },
     "metadata": {
      "needs_background": "light"
     },
     "output_type": "display_data"
    }
   ],
   "source": [
    "import random\n",
    "img_number = random.randint(0, newimages.shape[0]-1)\n",
    "img = newimages[img_number]\n",
    "mask = newmasks[img_number]\n",
    "plt.figure(figsize=(10, 10))\n",
    "plt.subplot(2,2,1)\n",
    "plt.title('Image',size = 25)\n",
    "plt.imshow(img[:,:,0:3])\n",
    "plt.subplot(2,2,2)\n",
    "plt.title('Mask',size = 25)\n",
    "plt.imshow(mask)\n",
    "plt.show()"
   ]
  },
  {
   "cell_type": "code",
   "execution_count": 17,
   "metadata": {},
   "outputs": [],
   "source": [
    "def image_example(image_string,mask):\n",
    "  feature = {\n",
    "      \"image\":tf.train.Feature(float_list=tf.train.FloatList(value=image_string.flatten())),\n",
    "      \"mask\":tf.train.Feature(float_list=tf.train.FloatList(value=mask.flatten()))\n",
    "            }\n",
    "\n",
    "  return tf.train.Example(features=tf.train.Features(feature=feature))"
   ]
  },
  {
   "cell_type": "code",
   "execution_count": 18,
   "metadata": {
    "id": "NIFfYF1CC67K"
   },
   "outputs": [],
   "source": [
    "def write_images_to_tfr_long(images,mask, filename:str=\"large_images\", max_files:int=10, out_dir:str=\"/content/\"):\n",
    "\n",
    "  #determine the number of shards (single TFRecord files) we need:\n",
    "  splits = (len(images)//max_files) + 1 #determine how many tfr shards are needed\n",
    "  if len(images)%max_files == 0:\n",
    "    splits-=1\n",
    "  print(f\"\\nUsing {splits} shard(s) for {len(images)} files, with up to {max_files} samples per shard\")\n",
    "\n",
    "  file_count = 0\n",
    "\n",
    "  for i in tqdm_notebook(range(splits)):\n",
    "    current_shard_name = \"{}{}_{}{}.tfrecords\".format(out_dir, i+1, splits, filename)\n",
    "    writer = tf.io.TFRecordWriter(current_shard_name)\n",
    "\n",
    "    current_shard_count = 0\n",
    "    while current_shard_count < max_files: #as long as our shard is not full\n",
    "      #get the index of the file that we want to parse now\n",
    "      index = i*max_files+current_shard_count\n",
    "      if index == len(images): #when we have consumed the whole data, preempt generation\n",
    "        break\n",
    "      \n",
    "      current_image = images[index]\n",
    "      current_mask = mask[index]\n",
    "\n",
    "      #create the required Example representation\n",
    "      tf_example = image_example(image_string=current_image,mask=current_mask)\n",
    "    \n",
    "      writer.write(tf_example.SerializeToString())\n",
    "      current_shard_count+=1\n",
    "      file_count += 1\n",
    "\n",
    "    writer.close()\n",
    "  print(f\"\\nWrote {file_count} elements to TFRecord\")\n",
    "  return file_count"
   ]
  },
  {
   "cell_type": "code",
   "execution_count": 19,
   "metadata": {
    "id": "lxb0suqcC-5t"
   },
   "outputs": [],
   "source": [
    "filename = 'tfrecords/'\n",
    "os.makedirs(filename, exist_ok=True)"
   ]
  },
  {
   "cell_type": "code",
   "execution_count": 20,
   "metadata": {
    "colab": {
     "base_uri": "https://localhost:8080/"
    },
    "id": "hwSK3dBlDCkh",
    "outputId": "849cfbf3-e021-46bc-d8e2-3ce08261ca00",
    "tags": []
   },
   "outputs": [
    {
     "name": "stdout",
     "output_type": "stream",
     "text": [
      "\n",
      "Using 15 shard(s) for 7056 files, with up to 500 samples per shard\n"
     ]
    },
    {
     "data": {
      "application/vnd.jupyter.widget-view+json": {
       "model_id": "1d49dfc8ceb54f9291d1694ce031132e",
       "version_major": 2,
       "version_minor": 0
      },
      "text/plain": [
       "  0%|          | 0/15 [00:00<?, ?it/s]"
      ]
     },
     "metadata": {},
     "output_type": "display_data"
    },
    {
     "name": "stdout",
     "output_type": "stream",
     "text": [
      "\n",
      "Wrote 7056 elements to TFRecord\n"
     ]
    },
    {
     "data": {
      "text/plain": [
       "7056"
      ]
     },
     "execution_count": 20,
     "metadata": {},
     "output_type": "execute_result"
    }
   ],
   "source": [
    "write_images_to_tfr_long(images = finalimages,mask =finalmasks, max_files=500,out_dir=filename)"
   ]
  }
 ],
 "metadata": {
  "colab": {
   "provenance": []
  },
  "kernelspec": {
   "display_name": "Python 3.9.15 ('tensor')",
   "language": "python",
   "name": "python3"
  },
  "language_info": {
   "codemirror_mode": {
    "name": "ipython",
    "version": 3
   },
   "file_extension": ".py",
   "mimetype": "text/x-python",
   "name": "python",
   "nbconvert_exporter": "python",
   "pygments_lexer": "ipython3",
   "version": "3.9.15"
  },
  "vscode": {
   "interpreter": {
    "hash": "a7e3d68acf3053187c5b77579300c0651533903882d6ac7cf345b8b37dbd4fd7"
   }
  }
 },
 "nbformat": 4,
 "nbformat_minor": 4
}
