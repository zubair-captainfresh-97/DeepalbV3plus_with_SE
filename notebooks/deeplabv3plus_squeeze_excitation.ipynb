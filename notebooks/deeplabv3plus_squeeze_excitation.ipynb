{
 "cells": [
  {
   "cell_type": "code",
   "execution_count": null,
   "metadata": {},
   "outputs": [],
   "source": [
    "import os\n",
    "import numpy as np\n",
    "import glob\n",
    "from skimage.io import imread,imsave\n",
    "import numpy as np\n",
    "from matplotlib import pyplot as plt\n",
    "import tensorflow as tf\n",
    "import random\n",
    "import tqdm\n",
    "import keras\n",
    "from tqdm.notebook import tqdm_notebook\n",
    "import yaml\n",
    "from functools import partial\n",
    "from dvclive.keras import DVCLiveCallback\n",
    "from loss import tversky_loss, focal_tversky,sdice_loss, dice_loss,log_cosh_dice_loss\n",
    "from keras.callbacks import ModelCheckpoint, EarlyStopping, CSVLogger,LearningRateScheduler,TensorBoard\n",
    "from tensorflow import keras\n",
    "from tensorflow.keras.layers import AveragePooling2D, Conv2DTranspose, Concatenate, Input, GlobalAveragePooling2D, Dense, Multiply\n",
    "from keras.applications.resnet import ResNet50\n",
    "from tensorflow.keras.models import Model\n",
    "from tensorflow.keras.layers import Conv2D, BatchNormalization, Activation, UpSampling2D\n",
    "from clr_callback import *"
   ]
  },
  {
   "cell_type": "code",
   "execution_count": null,
   "metadata": {
    "tags": []
   },
   "outputs": [],
   "source": [
    "tf.config.list_physical_devices('GPU')\n",
    "params = yaml.safe_load(open(\"params.yaml\"))['model_params']"
   ]
  },
  {
   "cell_type": "code",
   "execution_count": null,
   "metadata": {
    "id": "71DORHQ1C-sX"
   },
   "outputs": [],
   "source": [
    "image_size = params['Image_patch_size']\n",
    "mask_size = params['Mask_patch_size']\n",
    "num_class = params['Number_of_classes']\n",
    "lr = params['Learning_rate']\n",
    "batchsize = params['Batch_size']\n",
    "optimizer = params['Optimizer']\n",
    "epochs = params['Epochs']"
   ]
  },
  {
   "cell_type": "code",
   "execution_count": null,
   "metadata": {
    "id": "f2DlIuBLSI2L"
   },
   "outputs": [],
   "source": [
    "AUTOTUNE = tf.data.AUTOTUNE\n",
    "PATH = 'tfrecords/'\n",
    "BATCH_SIZE = batchsize"
   ]
  },
  {
   "cell_type": "code",
   "execution_count": null,
   "metadata": {
    "colab": {
     "base_uri": "https://localhost:8080/"
    },
    "id": "fKmXnf0TSPD1",
    "outputId": "a3f2429d-899a-4f25-b123-1bd8bea35422"
   },
   "outputs": [],
   "source": [
    "FILENAMES = tf.io.gfile.glob(PATH +\"*large_images.tfrecords\")\n",
    "split_ind = int(0.7 * len(FILENAMES))\n",
    "TRAINING_FILENAMES, VALID_FILENAMES = FILENAMES[:split_ind], FILENAMES[split_ind:]\n",
    "print(\"Train TFRecord Files:\", len(TRAINING_FILENAMES))\n",
    "print(\"Validation TFRecord Files:\", len(VALID_FILENAMES))"
   ]
  },
  {
   "cell_type": "code",
   "execution_count": null,
   "metadata": {
    "id": "_JTcORzKSups"
   },
   "outputs": [],
   "source": [
    "def read_tfrecord(example):\n",
    "    tfrecord_format = (\n",
    "        {\n",
    "         \"image\":tf.io.FixedLenFeature(shape=[*image_size], dtype=tf.float32),\n",
    "         \"mask\":tf.io.FixedLenFeature(shape=[*mask_size], dtype=tf.float32)\n",
    "        }\n",
    "    )\n",
    "    example = tf.io.parse_single_example(example, tfrecord_format)\n",
    "    image = example[\"image\"]\n",
    "    mask = example[\"mask\"]\n",
    "    mask = tf.one_hot(tf.cast(mask, tf.uint8), 2)\n",
    "    return image,mask"
   ]
  },
  {
   "cell_type": "code",
   "execution_count": null,
   "metadata": {
    "id": "gTmCexY_SymR"
   },
   "outputs": [],
   "source": [
    "def load_dataset(filenames):\n",
    "    ignore_order = tf.data.Options()\n",
    "    ignore_order.experimental_deterministic = False  # disable order, increase speed\n",
    "    dataset = tf.data.TFRecordDataset(\n",
    "        filenames\n",
    "    )  # automatically interleaves reads from multiple files\n",
    "    dataset = dataset.with_options(\n",
    "        ignore_order\n",
    "    )  # uses data as soon as it streams in, rather than in its original order\n",
    "    dataset = dataset.map(\n",
    "        partial(read_tfrecord), num_parallel_calls=AUTOTUNE\n",
    "    )\n",
    "    # returns a dataset of (image, label) pairs if labeled=True or just images if labeled=False\n",
    "    return dataset"
   ]
  },
  {
   "cell_type": "code",
   "execution_count": null,
   "metadata": {
    "id": "fazLXuJG52Dh"
   },
   "outputs": [],
   "source": [
    "seed=42"
   ]
  },
  {
   "cell_type": "code",
   "execution_count": null,
   "metadata": {
    "id": "jVfdUWD95PyJ"
   },
   "outputs": [],
   "source": [
    "def augmentation(image, mask):\n",
    "    # both use the same seed, so they'll make the same random changes\n",
    "    flip_image = tf.image.random_flip_left_right(image,seed=seed)\n",
    "    flip_mask = tf.image.random_flip_left_right(mask,seed=seed)\n",
    "    # Other transformations...\n",
    "    return flip_image, flip_mask"
   ]
  },
  {
   "cell_type": "code",
   "execution_count": null,
   "metadata": {},
   "outputs": [],
   "source": [
    "def get_dataset(filenames):\n",
    "    dataset = tf.data.Dataset.range(10)\n",
    "    dataset = load_dataset(filenames).cache().repeat()\n",
    "    # to avoid data loss error\n",
    "    dataset = dataset.apply(tf.data.experimental.ignore_errors())\n",
    "    dataset = dataset.shuffle(2048)\n",
    "    dataset = dataset.prefetch(buffer_size=AUTOTUNE)\n",
    "    dataset = dataset.batch(BATCH_SIZE)\n",
    "    return dataset"
   ]
  },
  {
   "cell_type": "code",
   "execution_count": null,
   "metadata": {
    "id": "v4NbzbiYTAzq",
    "tags": []
   },
   "outputs": [],
   "source": [
    "train_dataset = get_dataset(TRAINING_FILENAMES)\n",
    "valid_dataset = get_dataset(VALID_FILENAMES)"
   ]
  },
  {
   "cell_type": "code",
   "execution_count": null,
   "metadata": {
    "colab": {
     "base_uri": "https://localhost:8080/",
     "height": 1000
    },
    "id": "90jtcWNxUtf5",
    "outputId": "1b8ccdbb-357c-449f-b5d3-864a417caf1d"
   },
   "outputs": [],
   "source": [
    "image_batch, label_batch = next(iter(train_dataset))\n",
    "for i in tqdm_notebook(range(3)):\n",
    "    image = image_batch[i]\n",
    "    mask = label_batch[i]\n",
    "    #Convert categorical to integer for visualization\n",
    "    mask = np.argmax(mask, axis=2)\n",
    "    plt.figure(figsize=(5,5))\n",
    "    plt.subplot(1,2,1)\n",
    "    plt.imshow(image[:,:,0:3])\n",
    "    plt.axis('off')\n",
    "    plt.subplot(1,2,2)\n",
    "    plt.imshow(mask, cmap='gray')\n",
    "    plt.axis('off')\n",
    "    plt.show()"
   ]
  },
  {
   "cell_type": "code",
   "execution_count": null,
   "metadata": {
    "colab": {
     "base_uri": "https://localhost:8080/",
     "height": 1000
    },
    "id": "5CD6Z1M224mJ",
    "outputId": "d5cd949a-9b79-44f4-81a1-baba917ee41b"
   },
   "outputs": [],
   "source": [
    "testimage_batch, label_batch = next(iter(valid_dataset))\n",
    "for i in tqdm_notebook(range(3)):\n",
    "    image = testimage_batch[i]\n",
    "    mask = label_batch[i]\n",
    "    #Convert categorical to integer for visualization\n",
    "    mask = np.argmax(mask, axis=2)\n",
    "    plt.figure(figsize=(5,5))\n",
    "    plt.subplot(1,2,1)\n",
    "    plt.imshow(image[:,:,0:3])\n",
    "    plt.axis('off')\n",
    "    plt.subplot(1,2,2)\n",
    "    plt.imshow(mask, cmap='gray')\n",
    "    plt.axis('off')\n",
    "    plt.show()"
   ]
  },
  {
   "cell_type": "code",
   "execution_count": null,
   "metadata": {},
   "outputs": [],
   "source": [
    "# GPUS = [\"GPU:0\",\"GPU:1\",\"GPU:2\",\"GPU:3\"]\n",
    "# strategy = tf.distribute.MirroredStrategy( GPUS )\n",
    "# print('Number of devices: %d' % strategy.num_replicas_in_sync)"
   ]
  },
  {
   "cell_type": "code",
   "execution_count": null,
   "metadata": {},
   "outputs": [],
   "source": [
    "strategy = tf.distribute.MirroredStrategy()\n",
    "print('Number of devices: {}'.format(strategy.num_replicas_in_sync))"
   ]
  },
  {
   "cell_type": "code",
   "execution_count": null,
   "metadata": {
    "id": "Z1B8LaT766mK"
   },
   "outputs": [],
   "source": [
    "# input dimensions, no. of channels, and no. of classes for the model\n",
    "IMG_HEIGHT = image_batch.shape[1]\n",
    "IMG_WIDTH  = image_batch.shape[2]\n",
    "IMG_CHANNELS = image_batch.shape[3]\n",
    "n_classes=num_class"
   ]
  },
  {
   "cell_type": "code",
   "execution_count": null,
   "metadata": {},
   "outputs": [],
   "source": [
    "def SqueezeAndExcitation(inputs, ratio=8):\n",
    "    \n",
    "    b, h, w, c = inputs.shape\n",
    "    \n",
    "    x = GlobalAveragePooling2D()(inputs)\n",
    "    x = Dense(c//ratio, activation='relu', use_bias=False)(x)\n",
    "    x = Dense(c, activation='sigmoid', use_bias=False)(x)\n",
    "    \n",
    "    x = Multiply()([inputs, x])\n",
    "    \n",
    "    return x\n",
    "\n",
    "\n",
    "def ASPP(image_features):\n",
    "\n",
    "    shape = image_features.shape\n",
    "\n",
    "    y_pool = AveragePooling2D(pool_size=(shape[1], shape[2]))(image_features)\n",
    "    y_pool = Conv2D(filters=128, kernel_size=1, padding='same', use_bias=False)(y_pool)\n",
    "    y_pool = BatchNormalization(name=f'bn_1')(y_pool)\n",
    "    y_pool = Activation('relu', name=f'relu_1')(y_pool)\n",
    "    y_pool = UpSampling2D((shape[1], shape[2]), interpolation=\"bilinear\")(y_pool)\n",
    "\n",
    "    y_1 = Conv2D(filters=128, kernel_size=1, padding='same', use_bias=False)(image_features)\n",
    "    y_1 = BatchNormalization(name=f'bn_2')(y_1)\n",
    "    y_1 = Activation('relu', name=f'relu_2')(y_1)\n",
    "\n",
    "    y_6 = Conv2D(filters=128, kernel_size=3, padding='same', dilation_rate = 6,use_bias=False)(image_features)\n",
    "    y_6 = BatchNormalization(name=f'bn_3')(y_6)\n",
    "    y_6 = Activation('relu', name=f'relu_3')(y_6)\n",
    "\n",
    "    y_12 = Conv2D(filters=128, kernel_size=1, padding='same', dilation_rate = 12,use_bias=False)(image_features)\n",
    "    y_12 = BatchNormalization(name=f'bn_4')(y_12)\n",
    "    y_12 = Activation('relu', name=f'relu_4')(y_12)\n",
    "\n",
    "    y_18 = Conv2D(filters=128, kernel_size=3, padding='same', dilation_rate = 6,use_bias=False)(image_features)\n",
    "    y_18 = BatchNormalization(name=f'bn_5')(y_18)\n",
    "    y_18 = Activation('relu', name=f'relu_5')(y_18)\n",
    "\n",
    "    y_c = Concatenate()([y_pool, y_1, y_6, y_12, y_18])\n",
    "\n",
    "    y = Conv2D(filters=128, kernel_size=1, padding='same', use_bias=False)(y_c)\n",
    "    y = BatchNormalization(name=f'bn_6')(y)\n",
    "    y = Activation('relu', name=f'relu_6')(y)\n",
    "\n",
    "    return y"
   ]
  },
  {
   "cell_type": "code",
   "execution_count": null,
   "metadata": {},
   "outputs": [],
   "source": [
    "def DeepLabV3PlusSE(inputs, classes=1):\n",
    "\n",
    "    inputs = Input(inputs)\n",
    "\n",
    "    base_model = ResNet50(weights='imagenet', include_top=False, input_tensor=inputs)\n",
    "    high_level_image_features = base_model.get_layer('conv4_block6_add').output\n",
    "    high_level_image_features = SqueezeAndExcitation(high_level_image_features, ratio=16)\n",
    "    \n",
    "    x_a = ASPP(high_level_image_features)\n",
    "    x_a = SqueezeAndExcitation(x_a, ratio=16)\n",
    "    x_a = UpSampling2D(size=4, interpolation='bilinear')(x_a)\n",
    "\n",
    "    low_level_image_features = base_model.get_layer('conv2_block3_add').output\n",
    "    low_level_image_features = SqueezeAndExcitation(low_level_image_features, ratio=16)\n",
    "\n",
    "    x_b = Conv2D(filters=256, kernel_size=1, padding='same', use_bias=False)(low_level_image_features)\n",
    "    x_b = BatchNormalization(name=f'bn_7')(x_b)\n",
    "    x_b = Activation('relu', name=f'relu_7')(x_b)\n",
    "\n",
    "    x = Concatenate()([x_a, x_b])\n",
    "\n",
    "    x = Conv2D(filters=256, kernel_size=3, padding='same', use_bias=False)(x)\n",
    "    x = BatchNormalization(name=f'bn_8')(x)\n",
    "    x = Activation('relu', name=f'relu_8')(x)\n",
    "\n",
    "    x = Conv2D(filters=256, kernel_size=3, padding='same', use_bias=False)(x)\n",
    "    x = BatchNormalization(name=f'bn_9')(x)\n",
    "    x = Activation('relu', name=f'relu_9')(x)\n",
    "\n",
    "    x = UpSampling2D(size=4, interpolation='bilinear')(x)\n",
    "\n",
    "    \"\"\" Outputs \"\"\"\n",
    "    x = Conv2D(classes, (1, 1), name='output_layer')(x)\n",
    "    \n",
    "    if classes == 1:\n",
    "      x = Activation('sigmoid')(x)\n",
    "    else:\n",
    "      x = Activation('softmax')(x)\n",
    "\n",
    "    model = Model(inputs=inputs, outputs=x)\n",
    "    \n",
    "    return model"
   ]
  },
  {
   "cell_type": "code",
   "execution_count": null,
   "metadata": {},
   "outputs": [],
   "source": [
    "# calculation of steps per epoch for traning and validation\n",
    "filespershard = 500\n",
    "number_of_shards = len(glob.glob(PATH+'*.tfrecords'))\n",
    "steps_per_epoch = (number_of_shards*filespershard*0.7)// BATCH_SIZE\n",
    "val_steps_per_epoch = (number_of_shards*filespershard*0.3)//BATCH_SIZE"
   ]
  },
  {
   "cell_type": "code",
   "execution_count": null,
   "metadata": {},
   "outputs": [],
   "source": [
    "\n",
    "import math\n",
    "epochs=epochs\n",
    "learning_rate = lr\n",
    "scheduler = params['Scheduler']\n",
    "\n",
    "if scheduler == 'Exponential':\n",
    "    decay_rate = learning_rate / epochs\n",
    "    def exp_decay(epoch):\n",
    "        lrate = learning_rate * np.exp(-decay_rate*epoch)\n",
    "        return lrate\n",
    "    lr_rate = LearningRateScheduler(exp_decay)\n",
    "elif scheduler == 'Step_decay':\n",
    "    def step_decay(epoch):\n",
    "        initial_lrate = learning_rate\n",
    "        drop = 0.5\n",
    "        epochs_drop = 10.0\n",
    "        lrate = initial_lrate * math.pow(drop,  \n",
    "                math.floor((1+epoch)/epochs_drop))\n",
    "        return lrate\n",
    "    lr_rate = LearningRateScheduler(step_decay)\n",
    "elif scheduler == 'Cycliclearning_rate':\n",
    "    clr_triangular = CyclicLR(mode='triangular')\n",
    "    clr_triangular._reset(new_base_lr=0.00009, new_max_lr=0.0001)\n",
    "    lr_rate = clr_triangular"
   ]
  },
  {
   "cell_type": "code",
   "execution_count": null,
   "metadata": {
    "tags": []
   },
   "outputs": [],
   "source": [
    "loss = params['Loss']\n",
    "if loss == 'sdice_loss':\n",
    "    with strategy.scope():\n",
    "        model = DeepLabV3PlusSE((IMG_HEIGHT,IMG_WIDTH,IMG_CHANNELS),n_classes)\n",
    "        model.compile(\n",
    "        optimizer=optimizer,\n",
    "        loss=sdice_loss,\n",
    "        metrics=[[tf.keras.metrics.OneHotIoU(num_classes=2,target_class_ids=[0,1]),tf.keras.metrics.Precision()\\\n",
    "            ,tf.keras.metrics.Recall()]]\n",
    "        )\n",
    "elif loss == 'focal_tversky':\n",
    "    with strategy.scope():\n",
    "        model = DeepLabV3PlusSE((IMG_HEIGHT,IMG_WIDTH,IMG_CHANNELS),n_classes)\n",
    "        model.compile(\n",
    "        optimizer=optimizer,\n",
    "        loss=focal_tversky,\n",
    "        metrics=[[tf.keras.metrics.OneHotIoU(num_classes=2,target_class_ids=[0,1]),tf.keras.metrics.Precision()\\\n",
    "            ,tf.keras.metrics.Recall()]]\n",
    "        )\n",
    "elif loss == 'tversky_loss':\n",
    "    with strategy.scope():\n",
    "        model = DeepLabV3PlusSE((IMG_HEIGHT,IMG_WIDTH,IMG_CHANNELS),n_classes)\n",
    "        model.compile(\n",
    "        optimizer=optimizer,\n",
    "        loss=tversky_loss,\n",
    "        metrics=[[tf.keras.metrics.OneHotIoU(num_classes=2,target_class_ids=[0,1]),tf.keras.metrics.Precision()\\\n",
    "            ,tf.keras.metrics.Recall()]]\n",
    "        )\n",
    "elif loss == 'log_cosh_dice_loss':\n",
    "    with strategy.scope():\n",
    "        model = DeepLabV3PlusSE((IMG_HEIGHT,IMG_WIDTH,IMG_CHANNELS),n_classes)\n",
    "        model.compile(\n",
    "        optimizer=optimizer,\n",
    "        loss=log_cosh_dice_loss,\n",
    "        metrics=[[tf.keras.metrics.OneHotIoU(num_classes=2,target_class_ids=[0,1]),tf.keras.metrics.Precision()\\\n",
    "            ,tf.keras.metrics.Recall()]]\n",
    "        )"
   ]
  },
  {
   "cell_type": "code",
   "execution_count": null,
   "metadata": {
    "id": "2v05oGM_xBM_"
   },
   "outputs": [],
   "source": [
    "#ModelCheckpoint callback saves a model at some interval. \n",
    "checkpoint_path = 'model_checkpoint/'\n",
    "os.makedirs(checkpoint_path, exist_ok=True)\n",
    "filepath=checkpoint_path+\"resenet50_deeplabv3plus_SE_v5_sdice_loss.hdf5\"\n",
    "checkpoint = ModelCheckpoint(filepath, monitor='val_one_hot_io_u', verbose=1, save_best_only=True, mode='max')"
   ]
  },
  {
   "cell_type": "code",
   "execution_count": null,
   "metadata": {
    "id": "Zq3n9QwIxESq"
   },
   "outputs": [],
   "source": [
    "# earlystop for stopping the model when there is no improvement\n",
    "early_stop = EarlyStopping(monitor='val_loss', patience=20, verbose=1)\n",
    "# log_csv = CSVLogger('/home/ubuntu/Notebooks for Unet_training/models for deeplab+SE v5/tversky-logs/sdice_lossv1.csv', separator=',', append=False)"
   ]
  },
  {
   "cell_type": "code",
   "execution_count": null,
   "metadata": {},
   "outputs": [],
   "source": [
    "from IPython.display import clear_output\n",
    "def create_mask(pred_mask):\n",
    "    pred_mask = tf.math.argmax(pred_mask, axis=3)\n",
    "    return pred_mask[0]\n",
    "import matplotlib.pyplot as plt\n",
    "\n",
    "\n",
    "def display(display_list):\n",
    "    plt.figure(figsize=(15, 15))\n",
    "\n",
    "    title = [\"Input Image\", \"True Mask\", \"Predicted Mask\"]\n",
    "\n",
    "    for i in range(len(display_list)):\n",
    "        plt.subplot(1, len(display_list), i + 1)\n",
    "        plt.title(title[i])\n",
    "        plt.imshow(display_list[i])\n",
    "        plt.axis(\"off\")\n",
    "    plt.show()\n",
    "\n",
    "def show_predictions(dataset=None, num=1):\n",
    "    if dataset:\n",
    "        for sample in dataset.take(num):\n",
    "            images, masks = sample\n",
    "            masks = tf.math.argmax(masks[0], axis=2)\n",
    "            pred_masks = model.predict(images)\n",
    "            display([images[0], masks, create_mask(pred_masks)])\n",
    "    else:\n",
    "        display(\n",
    "            [\n",
    "                testimage_batch[0], tf.math.argmax(label_batch[0], axis=2),\n",
    "                create_mask(model.predict(testimage_batch)),\n",
    "            ]\n",
    "        )\n",
    "\n",
    "\n",
    "class DisplayCallback(tf.keras.callbacks.Callback):\n",
    "    def __init__(self, dataset, **kwargs):\n",
    "        super().__init__(**kwargs)\n",
    "        self.dataset = dataset\n",
    "\n",
    "    def on_epoch_end(self, epoch, logs=None):\n",
    "        clear_output(wait=True)\n",
    "        show_predictions(self.dataset)\n",
    "        print(\"\\nSample Prediction after epoch {}\\n\".format(epoch + 1))"
   ]
  },
  {
   "cell_type": "code",
   "execution_count": null,
   "metadata": {
    "id": "6B6QNDK3xNH5"
   },
   "outputs": [],
   "source": [
    "callbacks_list = [checkpoint,early_stop,lr_rate,DVCLiveCallback(dir='evaluation',save_dvc_exp=True),DisplayCallback(valid_dataset)]"
   ]
  },
  {
   "cell_type": "code",
   "execution_count": null,
   "metadata": {
    "id": "UV7p9-ZU7GYl",
    "tags": []
   },
   "outputs": [],
   "source": [
    "%%time\n",
    "history=model.fit(train_dataset,\n",
    "          steps_per_epoch=steps_per_epoch,\n",
    "          epochs=epochs,\n",
    "          verbose=1,\n",
    "          validation_data=valid_dataset,\n",
    "          validation_steps=val_steps_per_epoch,\n",
    "          callbacks=callbacks_list,\n",
    "          )"
   ]
  },
  {
   "cell_type": "code",
   "execution_count": null,
   "metadata": {
    "colab": {
     "base_uri": "https://localhost:8080/",
     "height": 295
    },
    "id": "_lPE5Nl-7eGC",
    "outputId": "43efaba9-c517-4676-8f54-f8af49e9d41a",
    "tags": []
   },
   "outputs": [],
   "source": [
    "loss = history.history['loss']\n",
    "val_loss = history.history['val_loss']\n",
    "epochs = range(1, len(loss) + 1)\n",
    "plt.figure(figsize=(15,10))\n",
    "plt.plot(epochs, loss, 'green', label='Training loss', marker = 'o')\n",
    "plt.plot(epochs, val_loss, 'r', label='Validation loss', marker = 'o')\n",
    "plt.title('Training and validation loss')\n",
    "plt.xlabel('Epochs')\n",
    "plt.ylabel('Loss')\n",
    "plt.legend()\n",
    "# plt.savefig('loss_graph.png')\n",
    "plt.show()"
   ]
  },
  {
   "cell_type": "code",
   "execution_count": null,
   "metadata": {
    "id": "32hBQoO01avw"
   },
   "outputs": [],
   "source": [
    "acc = history.history['one_hot_io_u']\n",
    "val_acc = history.history['val_one_hot_io_u']"
   ]
  },
  {
   "cell_type": "code",
   "execution_count": null,
   "metadata": {
    "colab": {
     "base_uri": "https://localhost:8080/",
     "height": 295
    },
    "id": "R4PB98zH1eDI",
    "outputId": "c9e5885c-be9e-4100-ed98-b1d0d0117265"
   },
   "outputs": [],
   "source": [
    "plt.figure(figsize=(15,10))\n",
    "plt.plot(epochs, acc, 'green', label='Training IoU', marker = 'o')\n",
    "plt.plot(epochs, val_acc, 'r', label='Validation IoU', marker = 'o')\n",
    "plt.title('Training and validation IoU')\n",
    "plt.xlabel('Epochs')\n",
    "plt.ylabel('IoU')\n",
    "plt.legend()\n",
    "# plt.savefig('auccuracy_graph.png')\n",
    "plt.show()"
   ]
  },
  {
   "cell_type": "code",
   "execution_count": null,
   "metadata": {
    "id": "Y2F4qSYw1oTf",
    "tags": []
   },
   "outputs": [],
   "source": [
    "from keras.models import load_model\n",
    "\n",
    "model = load_model(filepath, compile=False)"
   ]
  },
  {
   "cell_type": "code",
   "execution_count": null,
   "metadata": {
    "id": "H8skGm-s2HYC"
   },
   "outputs": [],
   "source": [
    "from tensorflow.keras.metrics import MeanIoU"
   ]
  },
  {
   "cell_type": "code",
   "execution_count": null,
   "metadata": {
    "colab": {
     "base_uri": "https://localhost:8080/"
    },
    "id": "V4Nv3Uro1hsA",
    "outputId": "40480f0b-b6ef-420c-99d6-f319c314a252"
   },
   "outputs": [],
   "source": [
    "test_image_batch, test_mask_batch = next(iter(valid_dataset))\n",
    "\n",
    "#Convert categorical to integer for visualization and IoU calculation\n",
    "test_mask_batch_argmax = np.argmax(test_mask_batch, axis=3) \n",
    "test_pred_batch = model.predict(test_image_batch)\n",
    "test_pred_batch_argmax = np.argmax(test_pred_batch, axis=3)\n",
    "n_classes = 2\n",
    "IOU_keras = MeanIoU(num_classes=n_classes)  \n",
    "IOU_keras.update_state(test_pred_batch_argmax, test_mask_batch_argmax)\n",
    "print(\"Mean IoU =\", IOU_keras.result().numpy())"
   ]
  },
  {
   "cell_type": "code",
   "execution_count": null,
   "metadata": {
    "colab": {
     "base_uri": "https://localhost:8080/",
     "height": 392
    },
    "id": "9D_aW4b81-vs",
    "outputId": "a0d585dc-8738-4710-9e43-6be4f77d43c8"
   },
   "outputs": [],
   "source": [
    "img_num = random.randint(0, test_image_batch.shape[0]-1)\n",
    "image = test_image_batch[img_num]\n",
    "plt.figure(figsize=(20,20))\n",
    "plt.subplot(231)\n",
    "plt.title('Testing Image')\n",
    "plt.imshow(image[:,:,0:3])\n",
    "plt.subplot(232)\n",
    "plt.title('Testing Label')\n",
    "plt.imshow(test_mask_batch_argmax[img_num], cmap='gray')\n",
    "plt.subplot(233)\n",
    "plt.title('Prediction on test image')\n",
    "plt.imshow(test_pred_batch_argmax[img_num], cmap='gray')\n",
    "plt.show()"
   ]
  },
  {
   "cell_type": "code",
   "execution_count": null,
   "metadata": {},
   "outputs": [],
   "source": [
    "No_of_valid_data = int(number_of_shards*filespershard*0.3)"
   ]
  },
  {
   "cell_type": "code",
   "execution_count": null,
   "metadata": {},
   "outputs": [],
   "source": [
    "from sklearn.metrics import confusion_matrix\n",
    "from sklearn.metrics import ConfusionMatrixDisplay,classification_report"
   ]
  },
  {
   "cell_type": "code",
   "execution_count": null,
   "metadata": {},
   "outputs": [],
   "source": [
    "test_image_batch, test_mask_batch = next(iter(valid_dataset.unbatch().batch(No_of_valid_data)))\n",
    "test_mask_batch_argmax = np.argmax(test_mask_batch, axis=3) \n",
    "test_pred_batch = model.predict(test_image_batch)\n",
    "test_pred_batch_argmax = np.argmax(test_pred_batch, axis=3)"
   ]
  },
  {
   "cell_type": "code",
   "execution_count": null,
   "metadata": {},
   "outputs": [],
   "source": [
    "cm = confusion_matrix(test_mask_batch_argmax.flatten(),test_pred_batch_argmax.flatten())\n",
    "disp = ConfusionMatrixDisplay(confusion_matrix=cm, display_labels=['non_ponds','ponds'])"
   ]
  },
  {
   "cell_type": "code",
   "execution_count": null,
   "metadata": {},
   "outputs": [],
   "source": [
    "disp.plot(cmap=plt.cm.Reds)\n",
    "plt.savefig('confusion_matrix.png')\n",
    "plt.show()"
   ]
  }
 ],
 "metadata": {
  "accelerator": "GPU",
  "colab": {
   "provenance": []
  },
  "gpuClass": "standard",
  "kernelspec": {
   "display_name": "Python 3",
   "language": "python",
   "name": "python3"
  },
  "language_info": {
   "codemirror_mode": {
    "name": "ipython",
    "version": 3
   },
   "file_extension": ".py",
   "mimetype": "text/x-python",
   "name": "python",
   "nbconvert_exporter": "python",
   "pygments_lexer": "ipython3",
   "version": "3.9.15"
  },
  "vscode": {
   "interpreter": {
    "hash": "a7e3d68acf3053187c5b77579300c0651533903882d6ac7cf345b8b37dbd4fd7"
   }
  }
 },
 "nbformat": 4,
 "nbformat_minor": 4
}
